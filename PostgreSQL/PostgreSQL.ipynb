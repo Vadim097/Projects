{
 "cells": [
  {
   "cell_type": "markdown",
   "metadata": {
    "id": "sRW85nPMDWKb"
   },
   "source": [
    "This project will run 10 SQL queries on a Jupyter Notebook. To make it easier to present the expected result, a small fragment of the final table is attached to each task.\n",
    "\n",
    "In this project, we will work with the StackOverflow database - a service for questions and answers about programming. StackOverflow is like a social network - users of the service ask questions, reply to posts, leave comments, and rate other answers. The required data is in the `stackoverflow` schema tables."
   ]
  },
  {
   "cell_type": "code",
   "execution_count": 1,
   "metadata": {
    "id": "nlZBlglMDWKe"
   },
   "outputs": [],
   "source": [
    "import pandas as pd\n",
    "import matplotlib.pyplot as plt\n",
    "import seaborn as sns\n",
    "from sqlalchemy import create_engine \n",
    "\n",
    "sns.set(color_codes=True)"
   ]
  },
  {
   "cell_type": "markdown",
   "metadata": {
    "id": "XnOE3n28DWKg"
   },
   "source": [
    "## Configuration for connecting to the `data-analyst-advanced-sql` database"
   ]
  },
  {
   "cell_type": "code",
   "execution_count": 2,
   "metadata": {
    "id": "6p-yGp7qDWKg"
   },
   "outputs": [],
   "source": [
    "db_config = {\n",
    "    'user': 'praktikum_student', # username\n",
    "    'pwd': 'Sdf4$2;d-d30pp', # password\n",
    "    'host': 'rc1b-wcoijxj3yxfsf3fs.mdb.yandexcloud.net', # host\n",
    "    'port': 6432, # connection port\n",
    "    'db': 'data-analyst-advanced-sql' # database name\n",
    "}  \n",
    "\n",
    "connection_string = 'postgresql://{}:{}@{}:{}/{}'.format(\n",
    "    db_config['user'],\n",
    "    db_config['pwd'],\n",
    "    db_config['host'],\n",
    "    db_config['port'],\n",
    "    db_config['db'],\n",
    ")"
   ]
  },
  {
   "cell_type": "markdown",
   "metadata": {
    "id": "2Rg8ZpS0DWKh"
   },
   "source": [
    "Creating a connection:"
   ]
  },
  {
   "cell_type": "code",
   "execution_count": 3,
   "metadata": {
    "id": "DamCUTR6DWKi"
   },
   "outputs": [],
   "source": [
    "engine = create_engine(connection_string) "
   ]
  },
  {
   "cell_type": "code",
   "execution_count": 4,
   "metadata": {
    "id": "6Z_fw0yLDWKk"
   },
   "outputs": [],
   "source": [
    "query = '''\n",
    "SELECT *\n",
    "FROM stackoverflow.users\n",
    "LIMIT 10;\n",
    "'''\n",
    "\n",
    "sample_df = pd.read_sql_query(query, con=engine) "
   ]
  },
  {
   "cell_type": "code",
   "execution_count": 5,
   "metadata": {
    "id": "ZpuZ290oDWKk",
    "outputId": "22785a0a-e2bc-4559-ec3c-4879c4b377eb",
    "scrolled": true
   },
   "outputs": [
    {
     "data": {
      "text/html": [
       "<div>\n",
       "<style scoped>\n",
       "    .dataframe tbody tr th:only-of-type {\n",
       "        vertical-align: middle;\n",
       "    }\n",
       "\n",
       "    .dataframe tbody tr th {\n",
       "        vertical-align: top;\n",
       "    }\n",
       "\n",
       "    .dataframe thead th {\n",
       "        text-align: right;\n",
       "    }\n",
       "</style>\n",
       "<table border=\"1\" class=\"dataframe\">\n",
       "  <thead>\n",
       "    <tr style=\"text-align: right;\">\n",
       "      <th></th>\n",
       "      <th>id</th>\n",
       "      <th>creation_date</th>\n",
       "      <th>display_name</th>\n",
       "      <th>last_access_date</th>\n",
       "      <th>location</th>\n",
       "      <th>reputation</th>\n",
       "      <th>views</th>\n",
       "    </tr>\n",
       "  </thead>\n",
       "  <tbody>\n",
       "    <tr>\n",
       "      <th>0</th>\n",
       "      <td>1</td>\n",
       "      <td>2008-07-31 14:22:31</td>\n",
       "      <td>Jeff Atwood</td>\n",
       "      <td>2018-08-29 02:34:23</td>\n",
       "      <td>El Cerrito, CA</td>\n",
       "      <td>44300</td>\n",
       "      <td>408587</td>\n",
       "    </tr>\n",
       "    <tr>\n",
       "      <th>1</th>\n",
       "      <td>2</td>\n",
       "      <td>2008-07-31 14:22:31</td>\n",
       "      <td>Geoff Dalgas</td>\n",
       "      <td>2018-08-23 17:31:56</td>\n",
       "      <td>Corvallis, OR</td>\n",
       "      <td>3491</td>\n",
       "      <td>23966</td>\n",
       "    </tr>\n",
       "    <tr>\n",
       "      <th>2</th>\n",
       "      <td>3</td>\n",
       "      <td>2008-07-31 14:22:31</td>\n",
       "      <td>Jarrod Dixon</td>\n",
       "      <td>2018-08-30 20:56:24</td>\n",
       "      <td>Raleigh, NC, United States</td>\n",
       "      <td>13418</td>\n",
       "      <td>24396</td>\n",
       "    </tr>\n",
       "    <tr>\n",
       "      <th>3</th>\n",
       "      <td>4</td>\n",
       "      <td>2008-07-31 14:22:31</td>\n",
       "      <td>Joel Spolsky</td>\n",
       "      <td>2018-08-14 22:18:15</td>\n",
       "      <td>New York, NY</td>\n",
       "      <td>28768</td>\n",
       "      <td>73755</td>\n",
       "    </tr>\n",
       "    <tr>\n",
       "      <th>4</th>\n",
       "      <td>5</td>\n",
       "      <td>2008-07-31 14:22:31</td>\n",
       "      <td>Jon Galloway</td>\n",
       "      <td>2018-08-29 16:48:36</td>\n",
       "      <td>San Diego, CA</td>\n",
       "      <td>39172</td>\n",
       "      <td>11700</td>\n",
       "    </tr>\n",
       "  </tbody>\n",
       "</table>\n",
       "</div>"
      ],
      "text/plain": [
       "   id       creation_date  display_name    last_access_date  \\\n",
       "0   1 2008-07-31 14:22:31   Jeff Atwood 2018-08-29 02:34:23   \n",
       "1   2 2008-07-31 14:22:31  Geoff Dalgas 2018-08-23 17:31:56   \n",
       "2   3 2008-07-31 14:22:31  Jarrod Dixon 2018-08-30 20:56:24   \n",
       "3   4 2008-07-31 14:22:31  Joel Spolsky 2018-08-14 22:18:15   \n",
       "4   5 2008-07-31 14:22:31  Jon Galloway 2018-08-29 16:48:36   \n",
       "\n",
       "                     location  reputation   views  \n",
       "0              El Cerrito, CA       44300  408587  \n",
       "1               Corvallis, OR        3491   23966  \n",
       "2  Raleigh, NC, United States       13418   24396  \n",
       "3                New York, NY       28768   73755  \n",
       "4               San Diego, CA       39172   11700  "
      ]
     },
     "execution_count": 5,
     "metadata": {},
     "output_type": "execute_result"
    }
   ],
   "source": [
    "sample_df.head()"
   ]
  },
  {
   "cell_type": "markdown",
   "metadata": {},
   "source": [
    "Connected to the base. Let's get to the requests."
   ]
  },
  {
   "cell_type": "markdown",
   "metadata": {
    "id": "gnBMXkDBDWKm"
   },
   "source": [
    "# Task 1"
   ]
  },
  {
   "cell_type": "markdown",
   "metadata": {
    "id": "vHsfOrrNDWKn"
   },
   "source": [
    "Print the total sum of post views for each month of 2008. If there is no data for any month in the database, this month can be skipped. Sort the result in descending order of the total number of views."
   ]
  },
  {
   "cell_type": "markdown",
   "metadata": {
    "id": "N5rTgGNmDWKn"
   },
   "source": [
    "| month_date  | total_views |\n",
    "| ------------- | ------------- |\n",
    "| 2008-09-01  | 452928568  |\n",
    "| 2008-10-01  | 365400138  |\n",
    "| ...         | ... |"
   ]
  },
  {
   "cell_type": "code",
   "execution_count": 6,
   "metadata": {
    "id": "eWvykcXTDWKo",
    "scrolled": false
   },
   "outputs": [
    {
     "data": {
      "text/html": [
       "<div>\n",
       "<style scoped>\n",
       "    .dataframe tbody tr th:only-of-type {\n",
       "        vertical-align: middle;\n",
       "    }\n",
       "\n",
       "    .dataframe tbody tr th {\n",
       "        vertical-align: top;\n",
       "    }\n",
       "\n",
       "    .dataframe thead th {\n",
       "        text-align: right;\n",
       "    }\n",
       "</style>\n",
       "<table border=\"1\" class=\"dataframe\">\n",
       "  <thead>\n",
       "    <tr style=\"text-align: right;\">\n",
       "      <th></th>\n",
       "      <th>month_date</th>\n",
       "      <th>total_views</th>\n",
       "    </tr>\n",
       "  </thead>\n",
       "  <tbody>\n",
       "    <tr>\n",
       "      <th>0</th>\n",
       "      <td>2008-09-01</td>\n",
       "      <td>452928568</td>\n",
       "    </tr>\n",
       "    <tr>\n",
       "      <th>1</th>\n",
       "      <td>2008-10-01</td>\n",
       "      <td>365400138</td>\n",
       "    </tr>\n",
       "    <tr>\n",
       "      <th>2</th>\n",
       "      <td>2008-11-01</td>\n",
       "      <td>221759651</td>\n",
       "    </tr>\n",
       "    <tr>\n",
       "      <th>3</th>\n",
       "      <td>2008-12-01</td>\n",
       "      <td>197792841</td>\n",
       "    </tr>\n",
       "    <tr>\n",
       "      <th>4</th>\n",
       "      <td>2008-08-01</td>\n",
       "      <td>131367083</td>\n",
       "    </tr>\n",
       "    <tr>\n",
       "      <th>5</th>\n",
       "      <td>2008-07-01</td>\n",
       "      <td>669895</td>\n",
       "    </tr>\n",
       "  </tbody>\n",
       "</table>\n",
       "</div>"
      ],
      "text/plain": [
       "   month_date  total_views\n",
       "0  2008-09-01    452928568\n",
       "1  2008-10-01    365400138\n",
       "2  2008-11-01    221759651\n",
       "3  2008-12-01    197792841\n",
       "4  2008-08-01    131367083\n",
       "5  2008-07-01       669895"
      ]
     },
     "execution_count": 6,
     "metadata": {},
     "output_type": "execute_result"
    }
   ],
   "source": [
    "query = '''\n",
    "\n",
    "SELECT DISTINCT DATE_TRUNC('month', creation_date)::date AS month_date,\n",
    "       SUM(views_count) AS total_views\n",
    "FROM stackoverflow.posts\n",
    "WHERE DATE_TRUNC('month', creation_date)::date BETWEEN '2008-01-01' AND '2008-12-01'\n",
    "GROUP BY DATE_TRUNC('month', creation_date)::date \n",
    "ORDER BY total_views DESC\n",
    "\n",
    "'''\n",
    "result_df = pd.read_sql_query(query, con=engine) \n",
    "result_df"
   ]
  },
  {
   "cell_type": "markdown",
   "metadata": {
    "id": "luxSj17oDWKq"
   },
   "source": [
    "**Between 7 and 8 months there is a big difference in the number of views, which is quite difficult to explain from a logical point of view. There may be anomalies in the data. From 9 to 12, a gradual decrease in the number of views is noticeable.**"
   ]
  },
  {
   "cell_type": "markdown",
   "metadata": {
    "id": "FziIXkn5DWKr"
   },
   "source": [
    "# Task 2"
   ]
  },
  {
   "cell_type": "markdown",
   "metadata": {
    "id": "fTGESZvYDWKr"
   },
   "source": [
    "Print the names of the most active users who gave more than 100 responses in the first month after registration (including the day of registration). Questions asked by users, do not count. For each username, print the number of unique `user_id` values. Sort the result by the field with the names in lexicographic order."
   ]
  },
  {
   "cell_type": "markdown",
   "metadata": {
    "id": "W5-tv6Y3DWKs"
   },
   "source": [
    "| display_name | count |\n",
    "| ------------ | ----- |\n",
    "| 1800 INFORMATION | 1 |\n",
    "| Adam Bellaire | 1 |\n",
    "| Adam Davis | 1 |\n",
    "| ... | ... |"
   ]
  },
  {
   "cell_type": "code",
   "execution_count": 7,
   "metadata": {
    "id": "fIO-y-YjDWKt"
   },
   "outputs": [
    {
     "data": {
      "text/html": [
       "<div>\n",
       "<style scoped>\n",
       "    .dataframe tbody tr th:only-of-type {\n",
       "        vertical-align: middle;\n",
       "    }\n",
       "\n",
       "    .dataframe tbody tr th {\n",
       "        vertical-align: top;\n",
       "    }\n",
       "\n",
       "    .dataframe thead th {\n",
       "        text-align: right;\n",
       "    }\n",
       "</style>\n",
       "<table border=\"1\" class=\"dataframe\">\n",
       "  <thead>\n",
       "    <tr style=\"text-align: right;\">\n",
       "      <th></th>\n",
       "      <th>display_name</th>\n",
       "      <th>count</th>\n",
       "    </tr>\n",
       "  </thead>\n",
       "  <tbody>\n",
       "    <tr>\n",
       "      <th>0</th>\n",
       "      <td>1800 INFORMATION</td>\n",
       "      <td>1</td>\n",
       "    </tr>\n",
       "    <tr>\n",
       "      <th>1</th>\n",
       "      <td>Adam Bellaire</td>\n",
       "      <td>1</td>\n",
       "    </tr>\n",
       "    <tr>\n",
       "      <th>2</th>\n",
       "      <td>Adam Davis</td>\n",
       "      <td>1</td>\n",
       "    </tr>\n",
       "    <tr>\n",
       "      <th>3</th>\n",
       "      <td>Adam Liss</td>\n",
       "      <td>1</td>\n",
       "    </tr>\n",
       "    <tr>\n",
       "      <th>4</th>\n",
       "      <td>Amy B</td>\n",
       "      <td>1</td>\n",
       "    </tr>\n",
       "    <tr>\n",
       "      <th>5</th>\n",
       "      <td>Ben Hoffstein</td>\n",
       "      <td>1</td>\n",
       "    </tr>\n",
       "    <tr>\n",
       "      <th>6</th>\n",
       "      <td>Cade Roux</td>\n",
       "      <td>1</td>\n",
       "    </tr>\n",
       "    <tr>\n",
       "      <th>7</th>\n",
       "      <td>CesarB</td>\n",
       "      <td>1</td>\n",
       "    </tr>\n",
       "    <tr>\n",
       "      <th>8</th>\n",
       "      <td>ConcernedOfTunbridgeWells</td>\n",
       "      <td>1</td>\n",
       "    </tr>\n",
       "    <tr>\n",
       "      <th>9</th>\n",
       "      <td>Dale Ragan</td>\n",
       "      <td>1</td>\n",
       "    </tr>\n",
       "    <tr>\n",
       "      <th>10</th>\n",
       "      <td>Dan</td>\n",
       "      <td>1</td>\n",
       "    </tr>\n",
       "    <tr>\n",
       "      <th>11</th>\n",
       "      <td>Eric Z Beard</td>\n",
       "      <td>1</td>\n",
       "    </tr>\n",
       "    <tr>\n",
       "      <th>12</th>\n",
       "      <td>Espo</td>\n",
       "      <td>1</td>\n",
       "    </tr>\n",
       "    <tr>\n",
       "      <th>13</th>\n",
       "      <td>FlySwat</td>\n",
       "      <td>1</td>\n",
       "    </tr>\n",
       "    <tr>\n",
       "      <th>14</th>\n",
       "      <td>Franci Penov</td>\n",
       "      <td>1</td>\n",
       "    </tr>\n",
       "    <tr>\n",
       "      <th>15</th>\n",
       "      <td>GEOCHET</td>\n",
       "      <td>1</td>\n",
       "    </tr>\n",
       "    <tr>\n",
       "      <th>16</th>\n",
       "      <td>GateKiller</td>\n",
       "      <td>1</td>\n",
       "    </tr>\n",
       "    <tr>\n",
       "      <th>17</th>\n",
       "      <td>Greg</td>\n",
       "      <td>1</td>\n",
       "    </tr>\n",
       "    <tr>\n",
       "      <th>18</th>\n",
       "      <td>Gulzar Nazim</td>\n",
       "      <td>1</td>\n",
       "    </tr>\n",
       "    <tr>\n",
       "      <th>19</th>\n",
       "      <td>Ilya Kochetov</td>\n",
       "      <td>1</td>\n",
       "    </tr>\n",
       "  </tbody>\n",
       "</table>\n",
       "</div>"
      ],
      "text/plain": [
       "                 display_name  count\n",
       "0            1800 INFORMATION      1\n",
       "1               Adam Bellaire      1\n",
       "2                  Adam Davis      1\n",
       "3                   Adam Liss      1\n",
       "4                       Amy B      1\n",
       "5               Ben Hoffstein      1\n",
       "6                   Cade Roux      1\n",
       "7                      CesarB      1\n",
       "8   ConcernedOfTunbridgeWells      1\n",
       "9                  Dale Ragan      1\n",
       "10                        Dan      1\n",
       "11               Eric Z Beard      1\n",
       "12                       Espo      1\n",
       "13                    FlySwat      1\n",
       "14               Franci Penov      1\n",
       "15                    GEOCHET      1\n",
       "16                 GateKiller      1\n",
       "17                       Greg      1\n",
       "18               Gulzar Nazim      1\n",
       "19              Ilya Kochetov      1"
      ]
     },
     "execution_count": 7,
     "metadata": {},
     "output_type": "execute_result"
    }
   ],
   "source": [
    "query = '''\n",
    "\n",
    "WITH tab AS\n",
    "(SELECT p.user_id,\n",
    "        u.display_name,\n",
    "        u.creation_date + INTERVAL '1 month' AS users_registration_date,\n",
    "        p.last_activity_date,\n",
    "        p.creation_date AS post_creation_date,\n",
    "        p.post_type_id,\n",
    "        COUNT(*) OVER(PARTITION BY p.user_id) AS count_answers\n",
    "FROM stackoverflow.posts AS p \n",
    "INNER JOIN stackoverflow.users AS u ON p.user_id = u.id\n",
    "WHERE p.post_type_id IN (SELECT id\n",
    "                         FROM stackoverflow.post_types\n",
    "                         WHERE type = 'Answer')\n",
    "      AND (p.creation_date <= (u.creation_date + INTERVAL '1 month')) \n",
    "      AND (p.creation_date >= u.creation_date)\n",
    ")\n",
    "\n",
    "SELECT display_name,\n",
    "       COUNT(DISTINCT user_id)\n",
    "FROM tab\n",
    "WHERE count_answers > 100\n",
    "GROUP BY display_name\n",
    "ORDER BY display_name\n",
    "\n",
    "'''\n",
    "\n",
    "result_df = pd.read_sql_query(query, con=engine) \n",
    "result_df.head(20)"
   ]
  },
  {
   "cell_type": "markdown",
   "metadata": {
    "id": "CEIGGQ6ODWKy"
   },
   "source": [
    "**Some of the names look very strange. If the `display_name` column implies the user's real name, then something is wrong with the data.**"
   ]
  },
  {
   "cell_type": "markdown",
   "metadata": {
    "id": "JhM2xXj5DWKu"
   },
   "source": [
    "# Task 3"
   ]
  },
  {
   "cell_type": "markdown",
   "metadata": {
    "id": "IS6xPqyyDWKu"
   },
   "source": [
    "Print the number of posts for 2008 by month. Select posts from users who signed up in September 2008 and made at least one post in December of that year. Sort the table by month value in descending order."
   ]
  },
  {
   "cell_type": "markdown",
   "metadata": {
    "id": "WmjhjV2xDWKv"
   },
   "source": [
    "| month | count |\n",
    "| ------|------ |\n",
    "| 2008-12-01 | 17641 |\n",
    "| 2008-11-01 | 18294 |\n",
    "| ... | ... |"
   ]
  },
  {
   "cell_type": "code",
   "execution_count": 8,
   "metadata": {
    "id": "kVu0FB8WDWKv"
   },
   "outputs": [
    {
     "data": {
      "text/html": [
       "<div>\n",
       "<style scoped>\n",
       "    .dataframe tbody tr th:only-of-type {\n",
       "        vertical-align: middle;\n",
       "    }\n",
       "\n",
       "    .dataframe tbody tr th {\n",
       "        vertical-align: top;\n",
       "    }\n",
       "\n",
       "    .dataframe thead th {\n",
       "        text-align: right;\n",
       "    }\n",
       "</style>\n",
       "<table border=\"1\" class=\"dataframe\">\n",
       "  <thead>\n",
       "    <tr style=\"text-align: right;\">\n",
       "      <th></th>\n",
       "      <th>post_count</th>\n",
       "      <th>month_data</th>\n",
       "    </tr>\n",
       "  </thead>\n",
       "  <tbody>\n",
       "    <tr>\n",
       "      <th>0</th>\n",
       "      <td>17641</td>\n",
       "      <td>2008-12-01</td>\n",
       "    </tr>\n",
       "    <tr>\n",
       "      <th>1</th>\n",
       "      <td>18294</td>\n",
       "      <td>2008-11-01</td>\n",
       "    </tr>\n",
       "    <tr>\n",
       "      <th>2</th>\n",
       "      <td>27171</td>\n",
       "      <td>2008-10-01</td>\n",
       "    </tr>\n",
       "    <tr>\n",
       "      <th>3</th>\n",
       "      <td>24870</td>\n",
       "      <td>2008-09-01</td>\n",
       "    </tr>\n",
       "    <tr>\n",
       "      <th>4</th>\n",
       "      <td>32</td>\n",
       "      <td>2008-08-01</td>\n",
       "    </tr>\n",
       "  </tbody>\n",
       "</table>\n",
       "</div>"
      ],
      "text/plain": [
       "   post_count  month_data\n",
       "0       17641  2008-12-01\n",
       "1       18294  2008-11-01\n",
       "2       27171  2008-10-01\n",
       "3       24870  2008-09-01\n",
       "4          32  2008-08-01"
      ]
     },
     "execution_count": 8,
     "metadata": {},
     "output_type": "execute_result"
    }
   ],
   "source": [
    "query = '''\n",
    "\n",
    "SELECT DISTINCT COUNT(*) OVER(PARTITION BY DATE_TRUNC('month', creation_date)::date) AS post_count,\n",
    "      DATE_TRUNC('month', creation_date)::date AS month_data\n",
    "FROM stackoverflow.posts\n",
    "WHERE user_id IN (\n",
    "      SELECT id\n",
    "      FROM stackoverflow.users\n",
    "      WHERE DATE_TRUNC('month', creation_date)::date = '2008-09-01') AND user_id IN (\n",
    "                           SELECT user_id\n",
    "                           FROM stackoverflow.posts\n",
    "                           WHERE DATE_TRUNC('month', creation_date)::date = '2008-12-01')      \n",
    "ORDER BY DATE_TRUNC('month', creation_date)::date DESC\n",
    "\n",
    "'''\n",
    "\n",
    "result_df = pd.read_sql_query(query, con=engine) \n",
    "result_df"
   ]
  },
  {
   "cell_type": "markdown",
   "metadata": {
    "id": "MMVIz4yMlKpN"
   },
   "source": [
    "**The number of posts for August is very small. The difference with other months is hundreds of times! Despite the fact that the number of views of posts, calculated earlier, differs from the rest of the months by 2, 3 times. The conclusion suggests itself that something is wrong with the data.**"
   ]
  },
  {
   "cell_type": "markdown",
   "metadata": {
    "id": "5Pcizm0DDWKz"
   },
   "source": [
    "# Task 4"
   ]
  },
  {
   "cell_type": "markdown",
   "metadata": {
    "id": "KUZPF6vHDWKz"
   },
   "source": [
    "Using the post data, output a few fields:\n",
    "\n",
    "- ID of the user who wrote the post;\n",
    "- date of creation of the post;\n",
    "- the number of views of the current post;\n",
    "- the amount of views of the author's posts with accumulation.\n",
    "\n",
    "The data in the table should be sorted in ascending order of user IDs, and the data for the same user should be sorted in ascending order of the date the post was created."
   ]
  },
  {
   "cell_type": "markdown",
   "metadata": {
    "id": "ZpsTUVDYDWK0"
   },
   "source": [
    "| user_id | creation_date | views_count | cumulative_count |\n",
    "| ------ | -------------- | ----------- | ---------------- |\n",
    "| 1 | 2008-07-31 23:41:00  | 480476   | 480476  |\n",
    "| 1 | 2008-07-31 23:55:38  | 136033 | 616509  | \n",
    "| 1 | 2008-07-31 23:56:41  | 0 |  616509  |\n",
    "| ... | ... | ... | ... |\n",
    "| 2 | 2008-07-31 23:56:41 | 79087  | 79087 |\n",
    "| 2 | 2008-08-01 05:09:56 | 65443 | 144530 |\n",
    "| ... | ...  | ...  | ...  |"
   ]
  },
  {
   "cell_type": "code",
   "execution_count": 9,
   "metadata": {
    "id": "hDoJhMzfDWK0",
    "scrolled": false
   },
   "outputs": [
    {
     "data": {
      "text/html": [
       "<div>\n",
       "<style scoped>\n",
       "    .dataframe tbody tr th:only-of-type {\n",
       "        vertical-align: middle;\n",
       "    }\n",
       "\n",
       "    .dataframe tbody tr th {\n",
       "        vertical-align: top;\n",
       "    }\n",
       "\n",
       "    .dataframe thead th {\n",
       "        text-align: right;\n",
       "    }\n",
       "</style>\n",
       "<table border=\"1\" class=\"dataframe\">\n",
       "  <thead>\n",
       "    <tr style=\"text-align: right;\">\n",
       "      <th></th>\n",
       "      <th>user_id</th>\n",
       "      <th>creation_date</th>\n",
       "      <th>views_count</th>\n",
       "      <th>cumulative_count</th>\n",
       "    </tr>\n",
       "  </thead>\n",
       "  <tbody>\n",
       "    <tr>\n",
       "      <th>0</th>\n",
       "      <td>1</td>\n",
       "      <td>2008-07-31 23:41:00</td>\n",
       "      <td>480476</td>\n",
       "      <td>480476</td>\n",
       "    </tr>\n",
       "    <tr>\n",
       "      <th>1</th>\n",
       "      <td>1</td>\n",
       "      <td>2008-07-31 23:55:38</td>\n",
       "      <td>136033</td>\n",
       "      <td>616509</td>\n",
       "    </tr>\n",
       "    <tr>\n",
       "      <th>2</th>\n",
       "      <td>1</td>\n",
       "      <td>2008-07-31 23:56:41</td>\n",
       "      <td>0</td>\n",
       "      <td>616509</td>\n",
       "    </tr>\n",
       "    <tr>\n",
       "      <th>3</th>\n",
       "      <td>1</td>\n",
       "      <td>2008-08-04 02:45:08</td>\n",
       "      <td>0</td>\n",
       "      <td>616509</td>\n",
       "    </tr>\n",
       "    <tr>\n",
       "      <th>4</th>\n",
       "      <td>1</td>\n",
       "      <td>2008-08-04 04:31:03</td>\n",
       "      <td>0</td>\n",
       "      <td>616509</td>\n",
       "    </tr>\n",
       "  </tbody>\n",
       "</table>\n",
       "</div>"
      ],
      "text/plain": [
       "   user_id       creation_date  views_count  cumulative_count\n",
       "0        1 2008-07-31 23:41:00       480476            480476\n",
       "1        1 2008-07-31 23:55:38       136033            616509\n",
       "2        1 2008-07-31 23:56:41            0            616509\n",
       "3        1 2008-08-04 02:45:08            0            616509\n",
       "4        1 2008-08-04 04:31:03            0            616509"
      ]
     },
     "execution_count": 9,
     "metadata": {},
     "output_type": "execute_result"
    }
   ],
   "source": [
    "query = '''\n",
    "\n",
    "SELECT user_id,\n",
    "       creation_date,\n",
    "       views_count,\n",
    "       SUM(views_count) OVER(PARTITION BY user_id ORDER BY user_id, creation_date) AS cumulative_count\n",
    "FROM stackoverflow.posts\n",
    "\n",
    "'''\n",
    "\n",
    "result_df = pd.read_sql_query(query, con=engine) \n",
    "result_df.head()"
   ]
  },
  {
   "cell_type": "markdown",
   "metadata": {
    "id": "N0kHRHvIDWK2"
   },
   "source": [
    "# Task 5"
   ]
  },
  {
   "cell_type": "markdown",
   "metadata": {
    "id": "gBgvmPtODWK2"
   },
   "source": [
    "Find the average number of user posts per day for August 2008. Select data about users who published more than 120 posts in August. Do not count days without posting.\n",
    "\n",
    "Sort the result in ascending order of the average number of posts. Values may not be rounded."
   ]
  },
  {
   "cell_type": "markdown",
   "metadata": {
    "id": "nfzR08BODWK3"
   },
   "source": [
    "| user_id | avg_daily |\n",
    "| ------- | --------- |\n",
    "| 116     | 4.777778  |\n",
    "| 234     | 5.208333  |\n",
    "| ...     | ... |"
   ]
  },
  {
   "cell_type": "code",
   "execution_count": 10,
   "metadata": {},
   "outputs": [
    {
     "data": {
      "text/html": [
       "<div>\n",
       "<style scoped>\n",
       "    .dataframe tbody tr th:only-of-type {\n",
       "        vertical-align: middle;\n",
       "    }\n",
       "\n",
       "    .dataframe tbody tr th {\n",
       "        vertical-align: top;\n",
       "    }\n",
       "\n",
       "    .dataframe thead th {\n",
       "        text-align: right;\n",
       "    }\n",
       "</style>\n",
       "<table border=\"1\" class=\"dataframe\">\n",
       "  <thead>\n",
       "    <tr style=\"text-align: right;\">\n",
       "      <th></th>\n",
       "      <th>user_id</th>\n",
       "      <th>avg_daily</th>\n",
       "    </tr>\n",
       "  </thead>\n",
       "  <tbody>\n",
       "    <tr>\n",
       "      <th>0</th>\n",
       "      <td>116</td>\n",
       "      <td>4.777778</td>\n",
       "    </tr>\n",
       "    <tr>\n",
       "      <th>1</th>\n",
       "      <td>234</td>\n",
       "      <td>5.208333</td>\n",
       "    </tr>\n",
       "    <tr>\n",
       "      <th>2</th>\n",
       "      <td>91</td>\n",
       "      <td>5.681818</td>\n",
       "    </tr>\n",
       "    <tr>\n",
       "      <th>3</th>\n",
       "      <td>905</td>\n",
       "      <td>7.000000</td>\n",
       "    </tr>\n",
       "    <tr>\n",
       "      <th>4</th>\n",
       "      <td>383</td>\n",
       "      <td>7.277778</td>\n",
       "    </tr>\n",
       "  </tbody>\n",
       "</table>\n",
       "</div>"
      ],
      "text/plain": [
       "   user_id  avg_daily\n",
       "0      116   4.777778\n",
       "1      234   5.208333\n",
       "2       91   5.681818\n",
       "3      905   7.000000\n",
       "4      383   7.277778"
      ]
     },
     "execution_count": 10,
     "metadata": {},
     "output_type": "execute_result"
    }
   ],
   "source": [
    "query = '''\n",
    "\n",
    "WITH tab AS\n",
    "(SELECT DISTINCT user_id,\n",
    "       AVG(count_daily) OVER (PARTITION BY user_id) AS avg_daily,\n",
    "       SUM(count_daily) OVER (PARTITION BY user_id) AS count_month\n",
    "FROM  \n",
    "    (SELECT DISTINCT user_id,\n",
    "           creation_date::date,\n",
    "           COUNT(*) as count_daily\n",
    "    FROM stackoverflow.posts \n",
    "    WHERE DATE_TRUNC('month', creation_date::date) = '2008-08-01'\n",
    "    GROUP BY user_id, creation_date::date ) AS tab\n",
    "WHERE count_daily > 0)\n",
    "\n",
    "SELECT user_id,\n",
    "       avg_daily\n",
    "FROM tab \n",
    "WHERE count_month > 120\n",
    "ORDER BY avg_daily\n",
    "\n",
    "'''\n",
    "\n",
    "result_df = pd.read_sql_query(query, con=engine) \n",
    "result_df"
   ]
  },
  {
   "cell_type": "markdown",
   "metadata": {
    "id": "EQ0dcFH4DWK5"
   },
   "source": [
    "# Task 6"
   ]
  },
  {
   "cell_type": "markdown",
   "metadata": {
    "id": "c7flfg_hDWK5"
   },
   "source": [
    "On average, how many days between 1 December 2008 and 7 December 2008 did users interact with the platform? For each user, select the days on which he or she posted at least one post. You need to get a single integer - do not forget to round the result."
   ]
  },
  {
   "cell_type": "markdown",
   "metadata": {
    "id": "RC1Ibzm9DWK6"
   },
   "source": [
    "| result |\n",
    "| -----  |\n",
    "| <целое число> |"
   ]
  },
  {
   "cell_type": "code",
   "execution_count": 11,
   "metadata": {
    "id": "kZ7LXTr6DWK6"
   },
   "outputs": [
    {
     "data": {
      "text/html": [
       "<div>\n",
       "<style scoped>\n",
       "    .dataframe tbody tr th:only-of-type {\n",
       "        vertical-align: middle;\n",
       "    }\n",
       "\n",
       "    .dataframe tbody tr th {\n",
       "        vertical-align: top;\n",
       "    }\n",
       "\n",
       "    .dataframe thead th {\n",
       "        text-align: right;\n",
       "    }\n",
       "</style>\n",
       "<table border=\"1\" class=\"dataframe\">\n",
       "  <thead>\n",
       "    <tr style=\"text-align: right;\">\n",
       "      <th></th>\n",
       "      <th>result</th>\n",
       "    </tr>\n",
       "  </thead>\n",
       "  <tbody>\n",
       "    <tr>\n",
       "      <th>0</th>\n",
       "      <td>2.0</td>\n",
       "    </tr>\n",
       "  </tbody>\n",
       "</table>\n",
       "</div>"
      ],
      "text/plain": [
       "   result\n",
       "0     2.0"
      ]
     },
     "execution_count": 11,
     "metadata": {},
     "output_type": "execute_result"
    }
   ],
   "source": [
    "query = '''\n",
    "\n",
    "SELECT ROUND(AVG(days_count)) AS result\n",
    "FROM \n",
    "    (SELECT DISTINCT user_id,\n",
    "         COUNT(*) OVER (PARTITION BY user_id) AS days_count \n",
    "     FROM\n",
    "         (SELECT DISTINCT user_id,\n",
    "                 creation_date::date,\n",
    "                 COUNT(*) OVER (PARTITION BY user_id ORDER BY creation_date::date) AS posts_per_day\n",
    "          FROM stackoverflow.posts\n",
    "          WHERE creation_date::date BETWEEN '2008-12-01' AND '2008-12-07') AS tab) AS tab\n",
    "\n",
    "'''\n",
    "\n",
    "\n",
    "result_df = pd.read_sql_query(query, con=engine) \n",
    "result_df"
   ]
  },
  {
   "cell_type": "markdown",
   "metadata": {
    "id": "LfUuYz-1DWK8"
   },
   "source": [
    "**It can be concluded that in the period from December 1 to December 7, 2008, users interacted with the platform for an average of 2 days.**"
   ]
  },
  {
   "cell_type": "markdown",
   "metadata": {
    "id": "wfOmqmfLDWK8"
   },
   "source": [
    "# Task 7"
   ]
  },
  {
   "cell_type": "markdown",
   "metadata": {
    "id": "X4ARQimADWK9"
   },
   "source": [
    "Display the activity history of each user in this form: user ID, post publication date. Sort the output by ascending user ID, and for each user by ascending publication date.\n",
    "\n",
    "Add a new field to the table: for each post, it will contain the name of the month of the user's penultimate publication relative to the current one. If there is no such publication, specify `NULL`. Python will automatically change `NULL` to `None`, but you don't need to convert `None` values additionally."
   ]
  },
  {
   "cell_type": "markdown",
   "metadata": {
    "id": "IGPjRP01DWK9"
   },
   "source": [
    "| user_id | creation_date | second_last_month |\n",
    "| ------- | ------------- | ----------------- |\n",
    "| 1       | 2008-07-31 23:41:00 | None |\n",
    "| 1       | 2008-07-31 23:55:38 | None |\n",
    "| 1       | 2008-07-31 23:56:41 | July |\n",
    "| 1       | 2008-08-04 02:45:08 | July |\n",
    "| 1       | 2008-08-04 04:31:03 | July |\n",
    "| 1       | 2008-08-04 08:04:42 | August |\n",
    "| ... | ... | ... |"
   ]
  },
  {
   "cell_type": "code",
   "execution_count": 12,
   "metadata": {
    "id": "HzI1vhaMDWK-"
   },
   "outputs": [
    {
     "data": {
      "text/html": [
       "<div>\n",
       "<style scoped>\n",
       "    .dataframe tbody tr th:only-of-type {\n",
       "        vertical-align: middle;\n",
       "    }\n",
       "\n",
       "    .dataframe tbody tr th {\n",
       "        vertical-align: top;\n",
       "    }\n",
       "\n",
       "    .dataframe thead th {\n",
       "        text-align: right;\n",
       "    }\n",
       "</style>\n",
       "<table border=\"1\" class=\"dataframe\">\n",
       "  <thead>\n",
       "    <tr style=\"text-align: right;\">\n",
       "      <th></th>\n",
       "      <th>user_id</th>\n",
       "      <th>creation_date</th>\n",
       "      <th>second_last_month</th>\n",
       "    </tr>\n",
       "  </thead>\n",
       "  <tbody>\n",
       "    <tr>\n",
       "      <th>0</th>\n",
       "      <td>1</td>\n",
       "      <td>2008-07-31 23:41:00</td>\n",
       "      <td>None</td>\n",
       "    </tr>\n",
       "    <tr>\n",
       "      <th>1</th>\n",
       "      <td>1</td>\n",
       "      <td>2008-07-31 23:55:38</td>\n",
       "      <td>None</td>\n",
       "    </tr>\n",
       "    <tr>\n",
       "      <th>2</th>\n",
       "      <td>1</td>\n",
       "      <td>2008-07-31 23:56:41</td>\n",
       "      <td>July</td>\n",
       "    </tr>\n",
       "    <tr>\n",
       "      <th>3</th>\n",
       "      <td>1</td>\n",
       "      <td>2008-08-04 02:45:08</td>\n",
       "      <td>July</td>\n",
       "    </tr>\n",
       "    <tr>\n",
       "      <th>4</th>\n",
       "      <td>1</td>\n",
       "      <td>2008-08-04 04:31:03</td>\n",
       "      <td>July</td>\n",
       "    </tr>\n",
       "  </tbody>\n",
       "</table>\n",
       "</div>"
      ],
      "text/plain": [
       "   user_id       creation_date second_last_month\n",
       "0        1 2008-07-31 23:41:00              None\n",
       "1        1 2008-07-31 23:55:38              None\n",
       "2        1 2008-07-31 23:56:41         July     \n",
       "3        1 2008-08-04 02:45:08         July     \n",
       "4        1 2008-08-04 04:31:03         July     "
      ]
     },
     "execution_count": 12,
     "metadata": {},
     "output_type": "execute_result"
    }
   ],
   "source": [
    "\n",
    "query = '''\n",
    "\n",
    "SELECT user_id,\n",
    "       creation_date,\n",
    "       LAG(to_char(creation_date,'Month'), 2, NULL) OVER (PARTITION BY user_id ORDER BY creation_date) AS second_last_month\n",
    "FROM stackoverflow.posts\n",
    "ORDER BY user_id, creation_date\n",
    "\n",
    "'''\n",
    "\n",
    "\n",
    "result_df = pd.read_sql_query(query, con=engine) \n",
    "result_df.head()"
   ]
  },
  {
   "cell_type": "markdown",
   "metadata": {
    "id": "tf9qq2yzDWK_"
   },
   "source": [
    "# Задание 8"
   ]
  },
  {
   "cell_type": "markdown",
   "metadata": {
    "id": "gfwLVXBYDWLA"
   },
   "source": [
    "Calculate the Retention Rate analog by month for StackOverflow users. Organize users into cohorts based on the month of their first post. Return is determined by the presence of a post in the current month. Build a Retention Rate heatmap."
   ]
  },
  {
   "cell_type": "markdown",
   "metadata": {
    "id": "kN2ic39WlKpl"
   },
   "source": [
    "| cohort_dt | session_date | users_cnt | cohort_users_cnt | retention_rate |\n",
    "| --- | --- | --- | --- | --- |\n",
    "| 2008-07-01 00:00:00 | 2008-07-01 00:00:00 | 3 | 3 | 100 |\n",
    "| 2008-07-01 00:00:00 | 2008-08-01 00:00:00 | 2 | 3 | 66,67 |\n",
    "| 2008-07-01 00:00:00 | 2008-09-01 00:00:00 | 1 | 3 | 33,33 |\n",
    "| 2008-07-01 00:00:00 | 2008-10-01 00:00:00 | 2 | 3 | 66,67 |\n",
    "| 2008-07-01 00:00:00 | 2008-11-01 00:00:00 | 1 | 3 | 33,33 |\n",
    "| 2008-07-01 00:00:00 | 2008-12-01 00:00:00 | 2 | 3 | 66,67 |\n",
    "| 2008-08-01 00:00:00 | 2008-08-01 00:00:00 | 2151 | 2151 | 100 |\n",
    "| ... | ... | ... | ... | ... |"
   ]
  },
  {
   "cell_type": "code",
   "execution_count": 13,
   "metadata": {
    "id": "LUgFmwmTDWLB",
    "scrolled": true
   },
   "outputs": [
    {
     "data": {
      "text/html": [
       "<div>\n",
       "<style scoped>\n",
       "    .dataframe tbody tr th:only-of-type {\n",
       "        vertical-align: middle;\n",
       "    }\n",
       "\n",
       "    .dataframe tbody tr th {\n",
       "        vertical-align: top;\n",
       "    }\n",
       "\n",
       "    .dataframe thead th {\n",
       "        text-align: right;\n",
       "    }\n",
       "</style>\n",
       "<table border=\"1\" class=\"dataframe\">\n",
       "  <thead>\n",
       "    <tr style=\"text-align: right;\">\n",
       "      <th></th>\n",
       "      <th>cohort_dt</th>\n",
       "      <th>session_date</th>\n",
       "      <th>users_cnt</th>\n",
       "      <th>cohort_users_cnt</th>\n",
       "      <th>retention_rate</th>\n",
       "    </tr>\n",
       "  </thead>\n",
       "  <tbody>\n",
       "    <tr>\n",
       "      <th>0</th>\n",
       "      <td>2008-07-01</td>\n",
       "      <td>2008-07-01</td>\n",
       "      <td>3</td>\n",
       "      <td>3</td>\n",
       "      <td>100.00</td>\n",
       "    </tr>\n",
       "    <tr>\n",
       "      <th>1</th>\n",
       "      <td>2008-07-01</td>\n",
       "      <td>2008-08-01</td>\n",
       "      <td>2</td>\n",
       "      <td>3</td>\n",
       "      <td>66.67</td>\n",
       "    </tr>\n",
       "    <tr>\n",
       "      <th>2</th>\n",
       "      <td>2008-07-01</td>\n",
       "      <td>2008-09-01</td>\n",
       "      <td>1</td>\n",
       "      <td>3</td>\n",
       "      <td>33.33</td>\n",
       "    </tr>\n",
       "    <tr>\n",
       "      <th>3</th>\n",
       "      <td>2008-07-01</td>\n",
       "      <td>2008-10-01</td>\n",
       "      <td>2</td>\n",
       "      <td>3</td>\n",
       "      <td>66.67</td>\n",
       "    </tr>\n",
       "    <tr>\n",
       "      <th>4</th>\n",
       "      <td>2008-07-01</td>\n",
       "      <td>2008-11-01</td>\n",
       "      <td>1</td>\n",
       "      <td>3</td>\n",
       "      <td>33.33</td>\n",
       "    </tr>\n",
       "    <tr>\n",
       "      <th>5</th>\n",
       "      <td>2008-07-01</td>\n",
       "      <td>2008-12-01</td>\n",
       "      <td>2</td>\n",
       "      <td>3</td>\n",
       "      <td>66.67</td>\n",
       "    </tr>\n",
       "    <tr>\n",
       "      <th>6</th>\n",
       "      <td>2008-08-01</td>\n",
       "      <td>2008-08-01</td>\n",
       "      <td>2151</td>\n",
       "      <td>2151</td>\n",
       "      <td>100.00</td>\n",
       "    </tr>\n",
       "    <tr>\n",
       "      <th>7</th>\n",
       "      <td>2008-08-01</td>\n",
       "      <td>2008-09-01</td>\n",
       "      <td>1571</td>\n",
       "      <td>2151</td>\n",
       "      <td>73.04</td>\n",
       "    </tr>\n",
       "    <tr>\n",
       "      <th>8</th>\n",
       "      <td>2008-08-01</td>\n",
       "      <td>2008-10-01</td>\n",
       "      <td>1275</td>\n",
       "      <td>2151</td>\n",
       "      <td>59.27</td>\n",
       "    </tr>\n",
       "    <tr>\n",
       "      <th>9</th>\n",
       "      <td>2008-08-01</td>\n",
       "      <td>2008-11-01</td>\n",
       "      <td>1050</td>\n",
       "      <td>2151</td>\n",
       "      <td>48.81</td>\n",
       "    </tr>\n",
       "  </tbody>\n",
       "</table>\n",
       "</div>"
      ],
      "text/plain": [
       "   cohort_dt session_date  users_cnt  cohort_users_cnt  retention_rate\n",
       "0 2008-07-01   2008-07-01          3                 3          100.00\n",
       "1 2008-07-01   2008-08-01          2                 3           66.67\n",
       "2 2008-07-01   2008-09-01          1                 3           33.33\n",
       "3 2008-07-01   2008-10-01          2                 3           66.67\n",
       "4 2008-07-01   2008-11-01          1                 3           33.33\n",
       "5 2008-07-01   2008-12-01          2                 3           66.67\n",
       "6 2008-08-01   2008-08-01       2151              2151          100.00\n",
       "7 2008-08-01   2008-09-01       1571              2151           73.04\n",
       "8 2008-08-01   2008-10-01       1275              2151           59.27\n",
       "9 2008-08-01   2008-11-01       1050              2151           48.81"
      ]
     },
     "execution_count": 13,
     "metadata": {},
     "output_type": "execute_result"
    }
   ],
   "source": [
    "query = '''\n",
    "\n",
    "SELECT cohort_dt,\n",
    "       session_date,\n",
    "       users_cnt,\n",
    "       FIRST_VALUE(users_cnt) OVER (PARTITION BY cohort_dt) AS cohort_users_cnt,\n",
    "       ROUND(((users_cnt::numeric / FIRST_VALUE(users_cnt) OVER (PARTITION BY cohort_dt))) * 100, 2) AS retention_rate\n",
    "FROM \n",
    "     (SELECT cohort_dt,\n",
    "             DATE_TRUNC('month', creation_date) AS session_date,\n",
    "             COUNT(DISTINCT p.user_id) AS users_cnt\n",
    "      FROM \n",
    "           (SELECT user_id,\n",
    "                   DATE_TRUNC('month', MIN(creation_date)) AS cohort_dt\n",
    "            FROM stackoverflow.posts\n",
    "            GROUP BY 1) AS tab\n",
    "      INNER JOIN stackoverflow.posts AS p ON tab.user_id = p.user_id\n",
    "      GROUP BY 1, 2) AS tab1\n",
    "\n",
    "'''\n",
    "\n",
    "result_df = pd.read_sql_query(query, con=engine) \n",
    "result_df.head(10)"
   ]
  },
  {
   "cell_type": "code",
   "execution_count": 14,
   "metadata": {
    "id": "qAEJc8H1DWLC"
   },
   "outputs": [],
   "source": [
    "retention = result_df.pivot('cohort_dt', 'session_date', 'retention_rate')\n",
    "retention.index = [str(x)[0:10] for x in retention.index]\n",
    "retention.columns = [str(x)[0:10] for x in retention.columns]"
   ]
  },
  {
   "cell_type": "code",
   "execution_count": 15,
   "metadata": {
    "scrolled": true
   },
   "outputs": [
    {
     "data": {
      "image/png": "[encoded data removed]",
      "text/plain": [
       "<Figure size 576x576 with 2 Axes>"
      ]
     },
     "metadata": {},
     "output_type": "display_data"
    }
   ],
   "source": [
    "plt.figure(figsize=(8, 8)) \n",
    "sns.heatmap(retention, \n",
    "            annot=True, \n",
    "            fmt='') \n",
    "plt.xlabel('Cohort_dt', fontsize=12)\n",
    "plt.ylabel('Session_date', fontsize=12)\n",
    "plt.title('Heat map', fontsize=16)\n",
    "plt.show();   "
   ]
  },
  {
   "cell_type": "markdown",
   "metadata": {
    "id": "EgOfIsI4DWLC"
   },
   "source": [
    "**In the cohort from July, there is an uneven change in the retention rate. The retention factor itself alternates with the same values, which looks unrealistic. Also, the number of users in this cohort ranges from 1 to 3, suggesting anomalies in the data. Perhaps anomalies appeared as a result of a technical failure.**\n",
    "\n",
    "**Without looking at July, the August cohort had the highest retention rates of all months.** "
   ]
  },
  {
   "cell_type": "markdown",
   "metadata": {
    "id": "1k7oPWt5DWLK"
   },
   "source": [
    "# Task 9\n"
   ]
  },
  {
   "cell_type": "markdown",
   "metadata": {
    "id": "ALsYVSyRDWLM"
   },
   "source": [
    "By what percent did the number of posts change monthly from September 1 to December 31, 2008? Display a table with the following fields:\n",
    "\n",
    "- month number;\n",
    "- the number of posts per month;\n",
    "- a percentage that shows how much the number of posts in the current month has changed compared to the previous one.\n",
    "\n",
    "If there are fewer posts, the percentage value should be negative, if there are more, positive. Round the percentage value to two decimal places. Build a pie chart with the number of posts by month."
   ]
  },
  {
   "cell_type": "markdown",
   "metadata": {
    "id": "u4E2zF8DDWLM"
   },
   "source": [
    "| creation_month | posts_count | percentage |\n",
    "| -------------- | ----------- | ---------- |\n",
    "| 9 | 70731 | Nan |\n",
    "| 10 | 63102 | -10.33 |\n",
    "| ... | ... | ... |"
   ]
  },
  {
   "cell_type": "code",
   "execution_count": 16,
   "metadata": {
    "id": "Mb5pShStDWLN",
    "scrolled": true
   },
   "outputs": [
    {
     "data": {
      "text/html": [
       "<div>\n",
       "<style scoped>\n",
       "    .dataframe tbody tr th:only-of-type {\n",
       "        vertical-align: middle;\n",
       "    }\n",
       "\n",
       "    .dataframe tbody tr th {\n",
       "        vertical-align: top;\n",
       "    }\n",
       "\n",
       "    .dataframe thead th {\n",
       "        text-align: right;\n",
       "    }\n",
       "</style>\n",
       "<table border=\"1\" class=\"dataframe\">\n",
       "  <thead>\n",
       "    <tr style=\"text-align: right;\">\n",
       "      <th></th>\n",
       "      <th>creation_month</th>\n",
       "      <th>posts_count</th>\n",
       "      <th>percentage</th>\n",
       "    </tr>\n",
       "  </thead>\n",
       "  <tbody>\n",
       "    <tr>\n",
       "      <th>0</th>\n",
       "      <td>9</td>\n",
       "      <td>70371</td>\n",
       "      <td>NaN</td>\n",
       "    </tr>\n",
       "    <tr>\n",
       "      <th>1</th>\n",
       "      <td>10</td>\n",
       "      <td>63102</td>\n",
       "      <td>-10.33</td>\n",
       "    </tr>\n",
       "    <tr>\n",
       "      <th>2</th>\n",
       "      <td>11</td>\n",
       "      <td>46975</td>\n",
       "      <td>-25.56</td>\n",
       "    </tr>\n",
       "    <tr>\n",
       "      <th>3</th>\n",
       "      <td>12</td>\n",
       "      <td>44592</td>\n",
       "      <td>-5.07</td>\n",
       "    </tr>\n",
       "  </tbody>\n",
       "</table>\n",
       "</div>"
      ],
      "text/plain": [
       "   creation_month  posts_count  percentage\n",
       "0               9        70371         NaN\n",
       "1              10        63102      -10.33\n",
       "2              11        46975      -25.56\n",
       "3              12        44592       -5.07"
      ]
     },
     "execution_count": 16,
     "metadata": {},
     "output_type": "execute_result"
    }
   ],
   "source": [
    "query = '''\n",
    "\n",
    "SELECT creation_month,\n",
    "       posts_count,\n",
    "       ROUND((CAST(posts_count AS numeric) / LAG(posts_count) OVER (ORDER BY creation_month) - 1) * 100, 2)  AS percentage\n",
    "FROM \n",
    "     (SELECT DISTINCT CAST (EXTRACT(MONTH FROM creation_date) AS integer) AS creation_month,\n",
    "             COUNT(*) OVER (PARTITION BY EXTRACT(MONTH FROM creation_date)) AS posts_count\n",
    "      FROM stackoverflow.posts\n",
    "      WHERE creation_date::DATE BETWEEN '2008-09-01' AND '2008-12-31') AS tab\n",
    "\n",
    "'''\n",
    "\n",
    "result_df = pd.read_sql_query(query, con=engine) \n",
    "result_df"
   ]
  },
  {
   "cell_type": "code",
   "execution_count": 39,
   "metadata": {
    "scrolled": true
   },
   "outputs": [
    {
     "data": {
      "image/png": "[encoded data removed]",
      "text/plain": [
       "<Figure size 432x432 with 1 Axes>"
      ]
     },
     "metadata": {},
     "output_type": "display_data"
    }
   ],
   "source": [
    "arr = abs(result_df.percentage.array)\n",
    "plt.figure(figsize=(6, 6))\n",
    "plt.title('Pie chart with \\n the number of posts by month.', fontsize=14)\n",
    "plt.rcParams['text.color'] = '#000000'\n",
    "plt.rcParams['axes.labelcolor'] = '#909090'\n",
    "plt.rcParams['xtick.color'] = '#909090'\n",
    "plt.rcParams['ytick.color'] = '#909090'\n",
    "plt.rcParams['font.size']=11\n",
    "color_palette_list = ['#009ACD', '#ADD8E6', '#63D1F4', '#0EBFE9']\n",
    "plt.pie(result_df.posts_count.array, \n",
    "        labels=['September', 'October', 'November', 'December'],\n",
    "        startangle=90, \n",
    "        colors=color_palette_list, \n",
    "        autopct='%1.0f%%', \n",
    "        shadow=True,\n",
    "        wedgeprops = {'linewidth': 3},\n",
    "        rotatelabels=False,\n",
    "        explode=(0.01,0.01,0.01,0.1));"
   ]
  },
  {
   "cell_type": "markdown",
   "metadata": {},
   "source": [
    "С каждым месяцем заметно снижение количества постов. "
   ]
  },
  {
   "cell_type": "markdown",
   "metadata": {
    "id": "uw7qMtafDWLP"
   },
   "source": [
    "# Task 10"
   ]
  },
  {
   "cell_type": "markdown",
   "metadata": {
    "id": "oRBpWKx3DWLQ"
   },
   "source": [
    "Download the activity data of the user who posted the most posts of all time. Output the data for October 2008 like this:\n",
    "\n",
    "- week number;\n",
    "- date and time of the last post published this week."
   ]
  },
  {
   "cell_type": "markdown",
   "metadata": {
    "id": "XjAWSn_3DWLQ"
   },
   "source": [
    "| week_creation | creation_date |\n",
    "| ------------- | ------------- |\n",
    "| 40 | 2008-10-05 09:00:58 |\n",
    "| 41 | 2008-10-12 21:22:23 |\n",
    "| ... | ... |"
   ]
  },
  {
   "cell_type": "code",
   "execution_count": 17,
   "metadata": {},
   "outputs": [
    {
     "data": {
      "text/html": [
       "<div>\n",
       "<style scoped>\n",
       "    .dataframe tbody tr th:only-of-type {\n",
       "        vertical-align: middle;\n",
       "    }\n",
       "\n",
       "    .dataframe tbody tr th {\n",
       "        vertical-align: top;\n",
       "    }\n",
       "\n",
       "    .dataframe thead th {\n",
       "        text-align: right;\n",
       "    }\n",
       "</style>\n",
       "<table border=\"1\" class=\"dataframe\">\n",
       "  <thead>\n",
       "    <tr style=\"text-align: right;\">\n",
       "      <th></th>\n",
       "      <th>week_creation</th>\n",
       "      <th>max</th>\n",
       "    </tr>\n",
       "  </thead>\n",
       "  <tbody>\n",
       "    <tr>\n",
       "      <th>0</th>\n",
       "      <td>40</td>\n",
       "      <td>2008-10-05 09:00:58</td>\n",
       "    </tr>\n",
       "    <tr>\n",
       "      <th>1</th>\n",
       "      <td>41</td>\n",
       "      <td>2008-10-12 21:22:23</td>\n",
       "    </tr>\n",
       "    <tr>\n",
       "      <th>2</th>\n",
       "      <td>42</td>\n",
       "      <td>2008-10-19 06:49:30</td>\n",
       "    </tr>\n",
       "    <tr>\n",
       "      <th>3</th>\n",
       "      <td>43</td>\n",
       "      <td>2008-10-26 21:44:36</td>\n",
       "    </tr>\n",
       "    <tr>\n",
       "      <th>4</th>\n",
       "      <td>44</td>\n",
       "      <td>2008-10-31 22:16:01</td>\n",
       "    </tr>\n",
       "  </tbody>\n",
       "</table>\n",
       "</div>"
      ],
      "text/plain": [
       "  week_creation                 max\n",
       "0            40 2008-10-05 09:00:58\n",
       "1            41 2008-10-12 21:22:23\n",
       "2            42 2008-10-19 06:49:30\n",
       "3            43 2008-10-26 21:44:36\n",
       "4            44 2008-10-31 22:16:01"
      ]
     },
     "execution_count": 17,
     "metadata": {},
     "output_type": "execute_result"
    }
   ],
   "source": [
    "query = '''\n",
    "\n",
    "SELECT DISTINCT week_creation,\n",
    "       MAX(creation_date) OVER (PARTITION BY week_creation)\n",
    "FROM \n",
    "     (SELECT to_char(creation_date, 'IW') AS week_creation,\n",
    "             creation_date    \n",
    "      FROM stackoverflow.posts\n",
    "      WHERE user_id IN (SELECT user_id\n",
    "                        FROM \n",
    "                             (SELECT DISTINCT user_id,\n",
    "                                     COUNT(*) OVER (PARTITION BY user_id)\n",
    "                              FROM stackoverflow.posts) AS tab\n",
    "                              ORDER BY count DESC\n",
    "                              LIMIT 1) AND \n",
    "            DATE_TRUNC('month', creation_date::DATE) = '2008-10-01'\n",
    "      ORDER BY creation_date) AS tab\n",
    "\n",
    "'''\n",
    "\n",
    "result_df = pd.read_sql_query(query, con=engine) \n",
    "result_df"
   ]
  },
  {
   "cell_type": "code",
   "execution_count": null,
   "metadata": {},
   "outputs": [],
   "source": []
  }
 ],
 "metadata": {
  "ExecuteTimeLog": [
   {
    "duration": 952,
    "start_time": "2022-07-12T19:40:31.907Z"
   },
   {
    "duration": 4,
    "start_time": "2022-07-12T19:40:33.100Z"
   },
   {
    "duration": 6277,
    "start_time": "2022-07-12T19:40:34.188Z"
   },
   {
    "duration": 208,
    "start_time": "2022-07-12T19:40:40.471Z"
   },
   {
    "duration": 27,
    "start_time": "2022-07-12T19:40:40.682Z"
   },
   {
    "duration": 7,
    "start_time": "2022-07-13T16:01:56.888Z"
   },
   {
    "duration": 900,
    "start_time": "2022-07-13T16:02:05.761Z"
   },
   {
    "duration": 3,
    "start_time": "2022-07-13T16:02:07.260Z"
   },
   {
    "duration": 8749,
    "start_time": "2022-07-13T16:02:08.508Z"
   },
   {
    "duration": 56,
    "start_time": "2022-07-13T16:02:17.259Z"
   },
   {
    "duration": 13,
    "start_time": "2022-07-13T16:02:19.444Z"
   },
   {
    "duration": 2,
    "start_time": "2022-07-13T16:02:21.010Z"
   },
   {
    "duration": 33,
    "start_time": "2022-07-13T16:02:46.615Z"
   },
   {
    "duration": 152,
    "start_time": "2022-07-13T16:05:57.546Z"
   },
   {
    "duration": 157,
    "start_time": "2022-07-13T17:35:58.369Z"
   },
   {
    "duration": 888,
    "start_time": "2022-07-13T17:36:06.281Z"
   },
   {
    "duration": 388,
    "start_time": "2022-07-13T17:37:30.025Z"
   },
   {
    "duration": 90,
    "start_time": "2022-07-13T17:38:05.431Z"
   },
   {
    "duration": 125,
    "start_time": "2022-07-13T18:23:39.469Z"
   },
   {
    "duration": 105,
    "start_time": "2022-07-13T18:24:25.376Z"
   },
   {
    "duration": 109,
    "start_time": "2022-07-13T18:25:06.110Z"
   },
   {
    "duration": 117,
    "start_time": "2022-07-13T18:25:08.920Z"
   },
   {
    "duration": 94,
    "start_time": "2022-07-13T18:25:11.796Z"
   },
   {
    "duration": 710,
    "start_time": "2022-07-13T18:25:21.191Z"
   },
   {
    "duration": 3,
    "start_time": "2022-07-13T18:25:21.902Z"
   },
   {
    "duration": 9019,
    "start_time": "2022-07-13T18:25:21.907Z"
   },
   {
    "duration": 56,
    "start_time": "2022-07-13T18:25:30.928Z"
   },
   {
    "duration": 14,
    "start_time": "2022-07-13T18:25:30.986Z"
   },
   {
    "duration": 156,
    "start_time": "2022-07-13T18:25:32.466Z"
   },
   {
    "duration": 296,
    "start_time": "2022-07-13T18:28:01.664Z"
   },
   {
    "duration": 359,
    "start_time": "2022-07-13T18:28:10.961Z"
   },
   {
    "duration": 305,
    "start_time": "2022-07-13T18:28:14.850Z"
   },
   {
    "duration": 95,
    "start_time": "2022-07-13T18:32:03.443Z"
   },
   {
    "duration": 294,
    "start_time": "2022-07-13T18:34:06.146Z"
   },
   {
    "duration": 454,
    "start_time": "2022-07-13T18:35:13.420Z"
   },
   {
    "duration": 301,
    "start_time": "2022-07-13T18:35:44.652Z"
   },
   {
    "duration": 302,
    "start_time": "2022-07-13T19:25:39.959Z"
   },
   {
    "duration": 305,
    "start_time": "2022-07-13T19:28:39.065Z"
   },
   {
    "duration": 882,
    "start_time": "2022-07-14T11:27:05.196Z"
   },
   {
    "duration": 3,
    "start_time": "2022-07-14T11:27:06.080Z"
   },
   {
    "duration": 6309,
    "start_time": "2022-07-14T11:27:06.085Z"
   },
   {
    "duration": 199,
    "start_time": "2022-07-14T11:27:12.395Z"
   },
   {
    "duration": 18,
    "start_time": "2022-07-14T11:27:12.597Z"
   },
   {
    "duration": 385,
    "start_time": "2022-07-14T11:27:12.617Z"
   },
   {
    "duration": 224,
    "start_time": "2022-07-14T11:27:16.427Z"
   },
   {
    "duration": 359,
    "start_time": "2022-07-14T12:43:19.065Z"
   },
   {
    "duration": 219,
    "start_time": "2022-07-14T12:44:25.100Z"
   },
   {
    "duration": 216,
    "start_time": "2022-07-14T12:44:39.522Z"
   },
   {
    "duration": 52,
    "start_time": "2022-07-14T17:07:29.225Z"
   },
   {
    "duration": 1000,
    "start_time": "2022-07-14T17:07:35.338Z"
   },
   {
    "duration": 4,
    "start_time": "2022-07-14T17:07:36.340Z"
   },
   {
    "duration": 9255,
    "start_time": "2022-07-14T17:07:36.346Z"
   },
   {
    "duration": 65,
    "start_time": "2022-07-14T17:07:45.603Z"
   },
   {
    "duration": 14,
    "start_time": "2022-07-14T17:07:45.670Z"
   },
   {
    "duration": 283,
    "start_time": "2022-07-14T17:07:45.686Z"
   },
   {
    "duration": 163,
    "start_time": "2022-07-14T17:07:45.971Z"
   },
   {
    "duration": 3,
    "start_time": "2022-07-14T17:07:46.137Z"
   },
   {
    "duration": 995,
    "start_time": "2022-07-14T17:07:49.927Z"
   },
   {
    "duration": 147,
    "start_time": "2022-07-14T17:08:06.835Z"
   },
   {
    "duration": 900,
    "start_time": "2022-07-14T17:08:25.737Z"
   },
   {
    "duration": 908,
    "start_time": "2022-07-14T17:09:01.815Z"
   },
   {
    "duration": 106,
    "start_time": "2022-07-14T17:09:08.637Z"
   },
   {
    "duration": 827,
    "start_time": "2022-07-14T17:09:16.914Z"
   },
   {
    "duration": 221,
    "start_time": "2022-07-14T17:09:28.974Z"
   },
   {
    "duration": 761,
    "start_time": "2022-07-14T17:09:59.656Z"
   },
   {
    "duration": 3,
    "start_time": "2022-07-14T17:10:00.420Z"
   },
   {
    "duration": 9997,
    "start_time": "2022-07-14T17:10:00.425Z"
   },
   {
    "duration": 50,
    "start_time": "2022-07-14T17:10:10.424Z"
   },
   {
    "duration": 15,
    "start_time": "2022-07-14T17:10:10.476Z"
   },
   {
    "duration": 298,
    "start_time": "2022-07-14T17:10:10.493Z"
   },
   {
    "duration": 175,
    "start_time": "2022-07-14T17:10:10.793Z"
   },
   {
    "duration": 2,
    "start_time": "2022-07-14T17:10:10.970Z"
   },
   {
    "duration": 196,
    "start_time": "2022-07-14T17:10:21.645Z"
   },
   {
    "duration": 202,
    "start_time": "2022-07-14T17:15:44.470Z"
   },
   {
    "duration": 114,
    "start_time": "2022-07-14T17:15:50.364Z"
   },
   {
    "duration": 109,
    "start_time": "2022-07-14T17:15:54.355Z"
   },
   {
    "duration": 133,
    "start_time": "2022-07-14T17:16:20.994Z"
   },
   {
    "duration": 115,
    "start_time": "2022-07-14T17:16:25.615Z"
   },
   {
    "duration": 48,
    "start_time": "2022-07-14T17:18:09.853Z"
   },
   {
    "duration": 132,
    "start_time": "2022-07-14T17:21:31.363Z"
   },
   {
    "duration": 148,
    "start_time": "2022-07-14T17:21:50.981Z"
   },
   {
    "duration": 111,
    "start_time": "2022-07-14T17:21:53.435Z"
   },
   {
    "duration": 50,
    "start_time": "2022-07-14T17:22:51.281Z"
   },
   {
    "duration": 119,
    "start_time": "2022-07-14T17:28:47.651Z"
   },
   {
    "duration": 96,
    "start_time": "2022-07-14T17:29:39.496Z"
   },
   {
    "duration": 111,
    "start_time": "2022-07-14T17:29:48.786Z"
   },
   {
    "duration": 122,
    "start_time": "2022-07-14T17:33:37.001Z"
   },
   {
    "duration": 127,
    "start_time": "2022-07-14T19:10:23.532Z"
   },
   {
    "duration": 128,
    "start_time": "2022-07-14T19:13:13.159Z"
   },
   {
    "duration": 131,
    "start_time": "2022-07-14T19:37:29.403Z"
   },
   {
    "duration": 880,
    "start_time": "2022-07-14T19:43:38.728Z"
   },
   {
    "duration": 914,
    "start_time": "2022-07-14T19:44:16.255Z"
   },
   {
    "duration": 1167,
    "start_time": "2022-07-14T19:47:07.378Z"
   },
   {
    "duration": 1152,
    "start_time": "2022-07-14T19:48:26.907Z"
   },
   {
    "duration": 127,
    "start_time": "2022-07-14T19:49:15.192Z"
   },
   {
    "duration": 127,
    "start_time": "2022-07-14T19:49:34.168Z"
   },
   {
    "duration": 122,
    "start_time": "2022-07-14T19:49:42.878Z"
   },
   {
    "duration": 124,
    "start_time": "2022-07-14T19:49:49.105Z"
   },
   {
    "duration": 898,
    "start_time": "2022-07-15T10:26:22.849Z"
   },
   {
    "duration": 4,
    "start_time": "2022-07-15T10:26:23.749Z"
   },
   {
    "duration": 9942,
    "start_time": "2022-07-15T10:26:23.755Z"
   },
   {
    "duration": 59,
    "start_time": "2022-07-15T10:26:33.699Z"
   },
   {
    "duration": 18,
    "start_time": "2022-07-15T10:26:33.761Z"
   },
   {
    "duration": 310,
    "start_time": "2022-07-15T10:26:33.781Z"
   },
   {
    "duration": 174,
    "start_time": "2022-07-15T10:26:34.093Z"
   },
   {
    "duration": 2,
    "start_time": "2022-07-15T10:26:34.268Z"
   },
   {
    "duration": 128,
    "start_time": "2022-07-15T10:26:36.912Z"
   },
   {
    "duration": 131,
    "start_time": "2022-07-15T10:26:58.337Z"
   },
   {
    "duration": 1175,
    "start_time": "2022-07-15T10:29:33.717Z"
   },
   {
    "duration": 1348,
    "start_time": "2022-07-15T10:33:27.729Z"
   },
   {
    "duration": 1403,
    "start_time": "2022-07-15T11:44:06.254Z"
   },
   {
    "duration": 1267,
    "start_time": "2022-07-15T11:46:11.141Z"
   },
   {
    "duration": 1327,
    "start_time": "2022-07-15T11:46:34.069Z"
   },
   {
    "duration": 1143,
    "start_time": "2022-07-15T11:47:29.660Z"
   },
   {
    "duration": 1147,
    "start_time": "2022-07-15T11:47:43.516Z"
   },
   {
    "duration": 1293,
    "start_time": "2022-07-15T11:47:54.064Z"
   },
   {
    "duration": 1170,
    "start_time": "2022-07-15T11:48:20.382Z"
   },
   {
    "duration": 1193,
    "start_time": "2022-07-15T11:48:26.758Z"
   },
   {
    "duration": 1216,
    "start_time": "2022-07-15T11:48:56.011Z"
   },
   {
    "duration": 1229,
    "start_time": "2022-07-15T11:49:07.800Z"
   },
   {
    "duration": 1230,
    "start_time": "2022-07-15T11:49:11.955Z"
   },
   {
    "duration": 1549,
    "start_time": "2022-07-15T11:49:22.520Z"
   },
   {
    "duration": 1395,
    "start_time": "2022-07-15T11:49:27.280Z"
   },
   {
    "duration": 1223,
    "start_time": "2022-07-15T11:52:37.229Z"
   },
   {
    "duration": 1318,
    "start_time": "2022-07-15T11:53:07.420Z"
   },
   {
    "duration": 86,
    "start_time": "2022-07-15T11:53:21.704Z"
   },
   {
    "duration": 1273,
    "start_time": "2022-07-15T11:53:25.560Z"
   },
   {
    "duration": 1236,
    "start_time": "2022-07-15T11:53:30.953Z"
   },
   {
    "duration": 1264,
    "start_time": "2022-07-15T11:54:04.764Z"
   },
   {
    "duration": 745,
    "start_time": "2022-07-15T11:56:21.161Z"
   },
   {
    "duration": 4,
    "start_time": "2022-07-15T11:56:21.909Z"
   },
   {
    "duration": 9793,
    "start_time": "2022-07-15T11:56:21.914Z"
   },
   {
    "duration": 70,
    "start_time": "2022-07-15T11:56:31.709Z"
   },
   {
    "duration": 15,
    "start_time": "2022-07-15T11:56:31.781Z"
   },
   {
    "duration": 304,
    "start_time": "2022-07-15T11:56:31.797Z"
   },
   {
    "duration": 169,
    "start_time": "2022-07-15T11:56:32.103Z"
   },
   {
    "duration": 2,
    "start_time": "2022-07-15T11:56:32.273Z"
   },
   {
    "duration": 128,
    "start_time": "2022-07-15T11:56:32.277Z"
   },
   {
    "duration": 3,
    "start_time": "2022-07-15T11:56:32.407Z"
   },
   {
    "duration": 67,
    "start_time": "2022-07-15T12:13:22.396Z"
   },
   {
    "duration": 722,
    "start_time": "2022-07-15T12:13:25.195Z"
   },
   {
    "duration": 3,
    "start_time": "2022-07-15T12:13:25.919Z"
   },
   {
    "duration": 9347,
    "start_time": "2022-07-15T12:13:25.924Z"
   },
   {
    "duration": 90,
    "start_time": "2022-07-15T12:13:35.273Z"
   },
   {
    "duration": 16,
    "start_time": "2022-07-15T12:13:35.366Z"
   },
   {
    "duration": 305,
    "start_time": "2022-07-15T12:13:35.384Z"
   },
   {
    "duration": 184,
    "start_time": "2022-07-15T12:13:35.691Z"
   },
   {
    "duration": 2,
    "start_time": "2022-07-15T12:13:35.877Z"
   },
   {
    "duration": 134,
    "start_time": "2022-07-15T12:13:35.881Z"
   },
   {
    "duration": 3,
    "start_time": "2022-07-15T12:13:36.017Z"
   },
   {
    "duration": 1261,
    "start_time": "2022-07-15T12:13:36.022Z"
   },
   {
    "duration": 1270,
    "start_time": "2022-07-15T12:14:58.999Z"
   },
   {
    "duration": 1318,
    "start_time": "2022-07-15T12:15:46.901Z"
   },
   {
    "duration": 1297,
    "start_time": "2022-07-15T12:16:02.140Z"
   },
   {
    "duration": 1347,
    "start_time": "2022-07-15T12:16:05.234Z"
   },
   {
    "duration": 1286,
    "start_time": "2022-07-15T12:17:15.871Z"
   },
   {
    "duration": 1281,
    "start_time": "2022-07-15T12:17:32.270Z"
   },
   {
    "duration": 1236,
    "start_time": "2022-07-15T12:17:49.129Z"
   },
   {
    "duration": 1266,
    "start_time": "2022-07-15T12:17:55.071Z"
   },
   {
    "duration": 1148,
    "start_time": "2022-07-15T12:18:02.228Z"
   },
   {
    "duration": 1178,
    "start_time": "2022-07-15T12:19:46.827Z"
   },
   {
    "duration": 164,
    "start_time": "2022-07-15T12:20:50.598Z"
   },
   {
    "duration": 1148,
    "start_time": "2022-07-15T12:21:02.132Z"
   },
   {
    "duration": 103,
    "start_time": "2022-07-15T12:21:45.198Z"
   },
   {
    "duration": 1097,
    "start_time": "2022-07-15T12:21:49.259Z"
   },
   {
    "duration": 1123,
    "start_time": "2022-07-15T12:21:55.232Z"
   },
   {
    "duration": 1215,
    "start_time": "2022-07-15T12:22:02.483Z"
   },
   {
    "duration": 1215,
    "start_time": "2022-07-15T12:23:14.202Z"
   },
   {
    "duration": 1165,
    "start_time": "2022-07-15T12:23:55.285Z"
   },
   {
    "duration": 1168,
    "start_time": "2022-07-15T12:23:59.616Z"
   },
   {
    "duration": 1193,
    "start_time": "2022-07-15T12:24:18.123Z"
   },
   {
    "duration": 1227,
    "start_time": "2022-07-15T12:24:56.826Z"
   },
   {
    "duration": 137,
    "start_time": "2022-07-15T12:27:18.923Z"
   },
   {
    "duration": 113,
    "start_time": "2022-07-15T12:27:38.088Z"
   },
   {
    "duration": 125,
    "start_time": "2022-07-15T12:27:44.113Z"
   },
   {
    "duration": 258,
    "start_time": "2022-07-15T12:30:16.327Z"
   },
   {
    "duration": 315,
    "start_time": "2022-07-15T12:30:27.095Z"
   },
   {
    "duration": 289,
    "start_time": "2022-07-15T12:30:31.146Z"
   },
   {
    "duration": 220,
    "start_time": "2022-07-15T12:30:34.455Z"
   },
   {
    "duration": 3,
    "start_time": "2022-07-15T12:42:37.970Z"
   },
   {
    "duration": 838,
    "start_time": "2022-07-15T12:42:49.419Z"
   },
   {
    "duration": 850,
    "start_time": "2022-07-15T12:43:12.954Z"
   },
   {
    "duration": 998,
    "start_time": "2022-07-15T12:43:53.225Z"
   },
   {
    "duration": 107,
    "start_time": "2022-07-15T12:50:25.076Z"
   },
   {
    "duration": 99,
    "start_time": "2022-07-15T12:50:35.110Z"
   },
   {
    "duration": 118,
    "start_time": "2022-07-15T12:50:56.371Z"
   },
   {
    "duration": 997,
    "start_time": "2022-07-15T12:51:43.183Z"
   },
   {
    "duration": 97,
    "start_time": "2022-07-15T12:51:51.991Z"
   },
   {
    "duration": 99,
    "start_time": "2022-07-15T12:53:32.482Z"
   },
   {
    "duration": 90,
    "start_time": "2022-07-15T12:54:47.181Z"
   },
   {
    "duration": 98,
    "start_time": "2022-07-15T12:55:01.197Z"
   },
   {
    "duration": 101,
    "start_time": "2022-07-15T12:55:08.680Z"
   },
   {
    "duration": 78,
    "start_time": "2022-07-15T12:55:15.747Z"
   },
   {
    "duration": 101,
    "start_time": "2022-07-15T12:57:24.939Z"
   },
   {
    "duration": 157,
    "start_time": "2022-07-15T12:57:35.082Z"
   },
   {
    "duration": 93,
    "start_time": "2022-07-15T12:57:52.995Z"
   },
   {
    "duration": 120,
    "start_time": "2022-07-15T12:57:58.628Z"
   },
   {
    "duration": 88,
    "start_time": "2022-07-15T12:58:17.380Z"
   },
   {
    "duration": 87,
    "start_time": "2022-07-15T12:58:31.580Z"
   },
   {
    "duration": 116,
    "start_time": "2022-07-15T13:02:20.479Z"
   },
   {
    "duration": 88,
    "start_time": "2022-07-15T13:03:00.072Z"
   },
   {
    "duration": 4,
    "start_time": "2022-07-15T13:03:10.553Z"
   },
   {
    "duration": 73,
    "start_time": "2022-07-15T13:03:59.453Z"
   },
   {
    "duration": 73,
    "start_time": "2022-07-15T13:04:06.501Z"
   },
   {
    "duration": 100,
    "start_time": "2022-07-15T13:04:16.036Z"
   },
   {
    "duration": 129,
    "start_time": "2022-07-15T13:05:02.242Z"
   },
   {
    "duration": 107,
    "start_time": "2022-07-15T13:06:12.984Z"
   },
   {
    "duration": 74,
    "start_time": "2022-07-15T13:06:57.452Z"
   },
   {
    "duration": 100,
    "start_time": "2022-07-15T13:07:28.900Z"
   },
   {
    "duration": 109,
    "start_time": "2022-07-15T13:07:50.234Z"
   },
   {
    "duration": 129,
    "start_time": "2022-07-15T13:07:57.731Z"
   },
   {
    "duration": 94,
    "start_time": "2022-07-15T13:08:01.558Z"
   },
   {
    "duration": 85,
    "start_time": "2022-07-15T13:09:59.482Z"
   },
   {
    "duration": 93,
    "start_time": "2022-07-15T13:10:11.652Z"
   },
   {
    "duration": 86,
    "start_time": "2022-07-15T13:10:21.476Z"
   },
   {
    "duration": 125,
    "start_time": "2022-07-15T13:11:00.972Z"
   },
   {
    "duration": 112,
    "start_time": "2022-07-15T13:11:53.652Z"
   },
   {
    "duration": 110,
    "start_time": "2022-07-15T13:12:30.152Z"
   },
   {
    "duration": 95,
    "start_time": "2022-07-15T13:12:43.338Z"
   },
   {
    "duration": 95,
    "start_time": "2022-07-15T13:12:46.886Z"
   },
   {
    "duration": 131,
    "start_time": "2022-07-15T13:14:15.323Z"
   },
   {
    "duration": 81,
    "start_time": "2022-07-15T13:14:42.802Z"
   },
   {
    "duration": 80,
    "start_time": "2022-07-15T13:15:44.142Z"
   },
   {
    "duration": 76,
    "start_time": "2022-07-15T13:15:59.313Z"
   },
   {
    "duration": 78,
    "start_time": "2022-07-15T13:18:19.858Z"
   },
   {
    "duration": 126,
    "start_time": "2022-07-15T13:18:37.745Z"
   },
   {
    "duration": 104,
    "start_time": "2022-07-15T13:19:20.606Z"
   },
   {
    "duration": 96,
    "start_time": "2022-07-15T13:19:50.520Z"
   },
   {
    "duration": 123,
    "start_time": "2022-07-15T13:20:31.599Z"
   },
   {
    "duration": 108,
    "start_time": "2022-07-15T13:20:36.128Z"
   },
   {
    "duration": 115,
    "start_time": "2022-07-15T13:20:50.485Z"
   },
   {
    "duration": 80,
    "start_time": "2022-07-15T13:22:32.536Z"
   },
   {
    "duration": 80,
    "start_time": "2022-07-15T13:28:20.606Z"
   },
   {
    "duration": 91,
    "start_time": "2022-07-15T13:31:59.997Z"
   },
   {
    "duration": 139,
    "start_time": "2022-07-15T13:32:17.513Z"
   },
   {
    "duration": 106,
    "start_time": "2022-07-15T13:32:27.654Z"
   },
   {
    "duration": 96,
    "start_time": "2022-07-15T13:32:33.752Z"
   },
   {
    "duration": 83,
    "start_time": "2022-07-15T13:32:40.687Z"
   },
   {
    "duration": 81,
    "start_time": "2022-07-15T13:32:48.158Z"
   },
   {
    "duration": 144,
    "start_time": "2022-07-15T13:32:52.360Z"
   },
   {
    "duration": 71,
    "start_time": "2022-07-15T13:34:27.915Z"
   },
   {
    "duration": 71,
    "start_time": "2022-07-15T13:35:40.340Z"
   },
   {
    "duration": 106,
    "start_time": "2022-07-15T13:37:00.848Z"
   },
   {
    "duration": 75,
    "start_time": "2022-07-15T13:37:07.899Z"
   },
   {
    "duration": 101,
    "start_time": "2022-07-15T13:38:02.526Z"
   },
   {
    "duration": 87,
    "start_time": "2022-07-15T13:38:46.968Z"
   },
   {
    "duration": 101,
    "start_time": "2022-07-15T13:39:00.511Z"
   },
   {
    "duration": 109,
    "start_time": "2022-07-15T13:39:06.095Z"
   },
   {
    "duration": 72,
    "start_time": "2022-07-15T13:39:22.020Z"
   },
   {
    "duration": 68,
    "start_time": "2022-07-15T13:39:41.572Z"
   },
   {
    "duration": 82,
    "start_time": "2022-07-15T13:39:54.041Z"
   },
   {
    "duration": 70,
    "start_time": "2022-07-15T13:40:17.228Z"
   },
   {
    "duration": 68,
    "start_time": "2022-07-15T13:40:20.807Z"
   },
   {
    "duration": 70,
    "start_time": "2022-07-15T13:46:32.758Z"
   },
   {
    "duration": 543,
    "start_time": "2022-07-15T13:46:53.752Z"
   },
   {
    "duration": 67,
    "start_time": "2022-07-15T13:46:56.616Z"
   },
   {
    "duration": 101,
    "start_time": "2022-07-15T13:47:14.469Z"
   },
   {
    "duration": 91,
    "start_time": "2022-07-15T13:47:43.767Z"
   },
   {
    "duration": 75,
    "start_time": "2022-07-15T13:48:04.350Z"
   },
   {
    "duration": 821,
    "start_time": "2022-07-15T18:10:42.682Z"
   },
   {
    "duration": 4,
    "start_time": "2022-07-15T18:10:43.506Z"
   },
   {
    "duration": 6125,
    "start_time": "2022-07-15T18:10:43.512Z"
   },
   {
    "duration": 216,
    "start_time": "2022-07-15T18:10:49.639Z"
   },
   {
    "duration": 20,
    "start_time": "2022-07-15T18:10:49.857Z"
   },
   {
    "duration": 437,
    "start_time": "2022-07-15T18:10:49.879Z"
   },
   {
    "duration": 202,
    "start_time": "2022-07-15T18:10:50.318Z"
   },
   {
    "duration": 2,
    "start_time": "2022-07-15T18:10:50.522Z"
   },
   {
    "duration": 167,
    "start_time": "2022-07-15T18:10:50.526Z"
   },
   {
    "duration": 3,
    "start_time": "2022-07-15T18:10:50.695Z"
   },
   {
    "duration": 1164,
    "start_time": "2022-07-15T18:10:50.700Z"
   },
   {
    "duration": 110,
    "start_time": "2022-07-15T18:10:51.866Z"
   },
   {
    "duration": 108,
    "start_time": "2022-07-15T18:10:51.978Z"
   },
   {
    "duration": 105,
    "start_time": "2022-07-15T18:10:52.089Z"
   },
   {
    "duration": 705,
    "start_time": "2022-07-15T18:10:52.196Z"
   },
   {
    "duration": 2,
    "start_time": "2022-07-15T18:10:52.902Z"
   },
   {
    "duration": 8,
    "start_time": "2022-07-15T18:10:52.906Z"
   },
   {
    "duration": 5,
    "start_time": "2022-07-15T18:10:52.915Z"
   },
   {
    "duration": 5,
    "start_time": "2022-07-15T18:10:52.922Z"
   },
   {
    "duration": 7,
    "start_time": "2022-07-15T18:10:52.928Z"
   },
   {
    "duration": 7,
    "start_time": "2022-07-15T18:10:52.936Z"
   },
   {
    "duration": 5,
    "start_time": "2022-07-15T18:10:52.944Z"
   },
   {
    "duration": 30,
    "start_time": "2022-07-15T18:10:52.950Z"
   },
   {
    "duration": 166,
    "start_time": "2022-07-15T18:13:37.578Z"
   },
   {
    "duration": 121,
    "start_time": "2022-07-15T19:03:46.317Z"
   },
   {
    "duration": 99,
    "start_time": "2022-07-15T19:03:56.152Z"
   },
   {
    "duration": 123,
    "start_time": "2022-07-15T19:07:32.339Z"
   },
   {
    "duration": 147,
    "start_time": "2022-07-15T19:08:38.350Z"
   },
   {
    "duration": 189,
    "start_time": "2022-07-15T19:09:05.730Z"
   },
   {
    "duration": 122,
    "start_time": "2022-07-15T19:09:17.350Z"
   },
   {
    "duration": 98,
    "start_time": "2022-07-15T19:10:02.246Z"
   },
   {
    "duration": 97,
    "start_time": "2022-07-15T19:10:34.071Z"
   },
   {
    "duration": 100,
    "start_time": "2022-07-15T19:10:52.147Z"
   },
   {
    "duration": 76,
    "start_time": "2022-07-15T19:11:16.266Z"
   },
   {
    "duration": 70,
    "start_time": "2022-07-15T19:11:40.232Z"
   },
   {
    "duration": 73,
    "start_time": "2022-07-15T19:11:57.879Z"
   },
   {
    "duration": 3,
    "start_time": "2022-07-15T19:13:44.713Z"
   },
   {
    "duration": 929,
    "start_time": "2022-07-15T19:13:52.920Z"
   },
   {
    "duration": 931,
    "start_time": "2022-07-15T19:14:26.187Z"
   },
   {
    "duration": 1031,
    "start_time": "2022-07-15T19:14:49.209Z"
   },
   {
    "duration": 837,
    "start_time": "2022-07-16T12:30:32.352Z"
   },
   {
    "duration": 3,
    "start_time": "2022-07-16T12:30:33.191Z"
   },
   {
    "duration": 5007,
    "start_time": "2022-07-16T12:30:33.195Z"
   },
   {
    "duration": 206,
    "start_time": "2022-07-16T12:30:38.204Z"
   },
   {
    "duration": 13,
    "start_time": "2022-07-16T12:30:38.412Z"
   },
   {
    "duration": 271,
    "start_time": "2022-07-16T12:30:38.426Z"
   },
   {
    "duration": 209,
    "start_time": "2022-07-16T12:30:38.699Z"
   },
   {
    "duration": 3,
    "start_time": "2022-07-16T12:30:38.910Z"
   },
   {
    "duration": 172,
    "start_time": "2022-07-16T12:30:38.915Z"
   },
   {
    "duration": 2,
    "start_time": "2022-07-16T12:30:39.089Z"
   },
   {
    "duration": 1197,
    "start_time": "2022-07-16T12:30:39.092Z"
   },
   {
    "duration": 105,
    "start_time": "2022-07-16T12:30:40.291Z"
   },
   {
    "duration": 104,
    "start_time": "2022-07-16T12:30:40.398Z"
   },
   {
    "duration": 101,
    "start_time": "2022-07-16T12:31:06.566Z"
   },
   {
    "duration": 96,
    "start_time": "2022-07-16T12:31:12.291Z"
   },
   {
    "duration": 100,
    "start_time": "2022-07-16T12:31:31.049Z"
   },
   {
    "duration": 144,
    "start_time": "2022-07-16T12:31:42.357Z"
   },
   {
    "duration": 76,
    "start_time": "2022-07-16T12:31:58.960Z"
   },
   {
    "duration": 155,
    "start_time": "2022-07-16T12:35:00.511Z"
   },
   {
    "duration": 164,
    "start_time": "2022-07-16T12:36:30.353Z"
   },
   {
    "duration": 97,
    "start_time": "2022-07-16T12:37:05.464Z"
   },
   {
    "duration": 135,
    "start_time": "2022-07-16T12:37:10.272Z"
   },
   {
    "duration": 80,
    "start_time": "2022-07-16T12:37:14.610Z"
   },
   {
    "duration": 132,
    "start_time": "2022-07-16T12:37:55.369Z"
   },
   {
    "duration": 196,
    "start_time": "2022-07-16T12:39:58.338Z"
   },
   {
    "duration": 131,
    "start_time": "2022-07-16T12:40:33.656Z"
   },
   {
    "duration": 135,
    "start_time": "2022-07-16T12:41:54.615Z"
   },
   {
    "duration": 180,
    "start_time": "2022-07-16T12:42:41.957Z"
   },
   {
    "duration": 100,
    "start_time": "2022-07-16T12:42:45.474Z"
   },
   {
    "duration": 100,
    "start_time": "2022-07-16T12:42:51.008Z"
   },
   {
    "duration": 120,
    "start_time": "2022-07-16T12:43:01.620Z"
   },
   {
    "duration": 131,
    "start_time": "2022-07-16T12:43:19.187Z"
   },
   {
    "duration": 96,
    "start_time": "2022-07-16T12:57:29.695Z"
   },
   {
    "duration": 100,
    "start_time": "2022-07-16T13:00:07.548Z"
   },
   {
    "duration": 1303,
    "start_time": "2022-07-16T13:13:16.579Z"
   },
   {
    "duration": 1177,
    "start_time": "2022-07-16T13:13:33.653Z"
   },
   {
    "duration": 108,
    "start_time": "2022-07-16T13:13:46.471Z"
   },
   {
    "duration": 1211,
    "start_time": "2022-07-16T13:13:49.225Z"
   },
   {
    "duration": 1247,
    "start_time": "2022-07-16T13:14:11.864Z"
   },
   {
    "duration": 1096,
    "start_time": "2022-07-16T13:14:16.620Z"
   },
   {
    "duration": 110,
    "start_time": "2022-07-16T13:15:44.854Z"
   },
   {
    "duration": 133,
    "start_time": "2022-07-16T13:16:24.371Z"
   },
   {
    "duration": 1114,
    "start_time": "2022-07-16T13:16:28.701Z"
   },
   {
    "duration": 96,
    "start_time": "2022-07-16T13:24:51.437Z"
   },
   {
    "duration": 114,
    "start_time": "2022-07-16T13:24:55.673Z"
   },
   {
    "duration": 1193,
    "start_time": "2022-07-16T13:25:05.469Z"
   },
   {
    "duration": 100,
    "start_time": "2022-07-16T13:25:19.958Z"
   },
   {
    "duration": 1012,
    "start_time": "2022-07-16T13:25:23.562Z"
   },
   {
    "duration": 99,
    "start_time": "2022-07-16T13:26:18.798Z"
   },
   {
    "duration": 109,
    "start_time": "2022-07-16T13:37:17.852Z"
   },
   {
    "duration": 1225,
    "start_time": "2022-07-16T13:37:41.725Z"
   },
   {
    "duration": 1151,
    "start_time": "2022-07-16T13:37:54.376Z"
   },
   {
    "duration": 103,
    "start_time": "2022-07-16T13:39:45.480Z"
   },
   {
    "duration": 94,
    "start_time": "2022-07-16T13:39:56.786Z"
   },
   {
    "duration": 1172,
    "start_time": "2022-07-16T13:40:01.221Z"
   },
   {
    "duration": 1058,
    "start_time": "2022-07-16T13:44:38.408Z"
   },
   {
    "duration": 1170,
    "start_time": "2022-07-16T13:45:23.827Z"
   },
   {
    "duration": 1199,
    "start_time": "2022-07-16T13:45:39.559Z"
   },
   {
    "duration": 1163,
    "start_time": "2022-07-16T13:48:02.347Z"
   },
   {
    "duration": 1231,
    "start_time": "2022-07-16T13:49:49.653Z"
   },
   {
    "duration": 3,
    "start_time": "2022-07-16T13:55:08.458Z"
   },
   {
    "duration": 353,
    "start_time": "2022-07-16T13:55:20.880Z"
   },
   {
    "duration": 603,
    "start_time": "2022-07-16T13:56:45.618Z"
   },
   {
    "duration": 926,
    "start_time": "2022-07-16T13:57:07.847Z"
   },
   {
    "duration": 745,
    "start_time": "2022-07-16T14:00:26.989Z"
   },
   {
    "duration": 283,
    "start_time": "2022-07-16T14:02:30.595Z"
   },
   {
    "duration": 330,
    "start_time": "2022-07-16T14:03:17.386Z"
   },
   {
    "duration": 100,
    "start_time": "2022-07-16T14:04:31.216Z"
   },
   {
    "duration": 113,
    "start_time": "2022-07-16T14:04:35.952Z"
   },
   {
    "duration": 297,
    "start_time": "2022-07-16T14:04:42.467Z"
   },
   {
    "duration": 220,
    "start_time": "2022-07-16T14:05:40.620Z"
   },
   {
    "duration": 105,
    "start_time": "2022-07-16T14:06:08.893Z"
   },
   {
    "duration": 157,
    "start_time": "2022-07-16T14:06:25.763Z"
   },
   {
    "duration": 223,
    "start_time": "2022-07-16T14:06:31.328Z"
   },
   {
    "duration": 107,
    "start_time": "2022-07-16T14:06:41.383Z"
   },
   {
    "duration": 351,
    "start_time": "2022-07-16T14:06:59.588Z"
   },
   {
    "duration": 98,
    "start_time": "2022-07-16T14:07:07.923Z"
   },
   {
    "duration": 217,
    "start_time": "2022-07-16T14:07:23.463Z"
   },
   {
    "duration": 278,
    "start_time": "2022-07-16T14:07:54.451Z"
   },
   {
    "duration": 112,
    "start_time": "2022-07-16T14:08:33.877Z"
   },
   {
    "duration": 105,
    "start_time": "2022-07-16T14:09:09.782Z"
   },
   {
    "duration": 131,
    "start_time": "2022-07-16T14:09:32.924Z"
   },
   {
    "duration": 349,
    "start_time": "2022-07-16T14:10:13.305Z"
   },
   {
    "duration": 287,
    "start_time": "2022-07-16T14:11:02.146Z"
   },
   {
    "duration": 372,
    "start_time": "2022-07-16T14:11:06.591Z"
   },
   {
    "duration": 100,
    "start_time": "2022-07-16T14:13:11.487Z"
   },
   {
    "duration": 294,
    "start_time": "2022-07-16T14:13:24.455Z"
   },
   {
    "duration": 226,
    "start_time": "2022-07-16T14:13:44.726Z"
   },
   {
    "duration": 272,
    "start_time": "2022-07-16T14:15:09.453Z"
   },
   {
    "duration": 286,
    "start_time": "2022-07-16T14:19:04.500Z"
   },
   {
    "duration": 285,
    "start_time": "2022-07-16T14:22:46.914Z"
   },
   {
    "duration": 101,
    "start_time": "2022-07-16T14:23:28.244Z"
   },
   {
    "duration": 290,
    "start_time": "2022-07-16T14:23:30.174Z"
   },
   {
    "duration": 286,
    "start_time": "2022-07-16T14:23:34.603Z"
   },
   {
    "duration": 289,
    "start_time": "2022-07-16T14:30:06.664Z"
   },
   {
    "duration": 2,
    "start_time": "2022-07-16T14:37:16.912Z"
   },
   {
    "duration": 554,
    "start_time": "2022-07-16T14:37:28.059Z"
   },
   {
    "duration": 561,
    "start_time": "2022-07-16T14:38:11.919Z"
   },
   {
    "duration": 603,
    "start_time": "2022-07-16T14:38:18.787Z"
   },
   {
    "duration": 532,
    "start_time": "2022-07-16T14:38:28.694Z"
   },
   {
    "duration": 543,
    "start_time": "2022-07-16T14:38:30.469Z"
   },
   {
    "duration": 699,
    "start_time": "2022-07-16T14:41:05.107Z"
   },
   {
    "duration": 557,
    "start_time": "2022-07-16T14:41:19.441Z"
   },
   {
    "duration": 557,
    "start_time": "2022-07-16T14:41:27.465Z"
   },
   {
    "duration": 96,
    "start_time": "2022-07-16T14:41:50.859Z"
   },
   {
    "duration": 120,
    "start_time": "2022-07-16T14:41:53.612Z"
   },
   {
    "duration": 94,
    "start_time": "2022-07-16T14:41:55.752Z"
   },
   {
    "duration": 136,
    "start_time": "2022-07-16T14:42:03.306Z"
   },
   {
    "duration": 110,
    "start_time": "2022-07-16T14:42:36.260Z"
   },
   {
    "duration": 95,
    "start_time": "2022-07-16T14:42:49.552Z"
   },
   {
    "duration": 668,
    "start_time": "2022-07-16T14:42:54.827Z"
   },
   {
    "duration": 97,
    "start_time": "2022-07-16T14:42:58.058Z"
   },
   {
    "duration": 100,
    "start_time": "2022-07-16T14:43:03.752Z"
   },
   {
    "duration": 626,
    "start_time": "2022-07-16T14:43:06.102Z"
   },
   {
    "duration": 581,
    "start_time": "2022-07-16T14:43:11.917Z"
   },
   {
    "duration": 138,
    "start_time": "2022-07-16T14:43:20.908Z"
   },
   {
    "duration": 614,
    "start_time": "2022-07-16T14:43:26.060Z"
   },
   {
    "duration": 622,
    "start_time": "2022-07-16T14:45:02.270Z"
   },
   {
    "duration": 100,
    "start_time": "2022-07-16T14:45:08.382Z"
   },
   {
    "duration": 98,
    "start_time": "2022-07-16T14:45:20.194Z"
   },
   {
    "duration": 125,
    "start_time": "2022-07-16T14:46:05.814Z"
   },
   {
    "duration": 119,
    "start_time": "2022-07-16T14:46:08.597Z"
   },
   {
    "duration": 96,
    "start_time": "2022-07-16T14:46:11.559Z"
   },
   {
    "duration": 656,
    "start_time": "2022-07-16T14:46:14.711Z"
   },
   {
    "duration": 101,
    "start_time": "2022-07-16T14:48:41.095Z"
   },
   {
    "duration": 98,
    "start_time": "2022-07-16T14:50:30.614Z"
   },
   {
    "duration": 804,
    "start_time": "2022-07-16T14:51:21.743Z"
   },
   {
    "duration": 771,
    "start_time": "2022-07-16T14:51:27.559Z"
   },
   {
    "duration": 794,
    "start_time": "2022-07-16T14:51:30.888Z"
   },
   {
    "duration": 769,
    "start_time": "2022-07-16T14:51:35.070Z"
   },
   {
    "duration": 850,
    "start_time": "2022-07-16T14:51:56.261Z"
   },
   {
    "duration": 98,
    "start_time": "2022-07-16T14:52:01.275Z"
   },
   {
    "duration": 103,
    "start_time": "2022-07-16T14:52:11.361Z"
   },
   {
    "duration": 762,
    "start_time": "2022-07-16T14:52:16.514Z"
   },
   {
    "duration": 125,
    "start_time": "2022-07-16T14:52:39.355Z"
   },
   {
    "duration": 569,
    "start_time": "2022-07-16T14:52:44.778Z"
   },
   {
    "duration": 707,
    "start_time": "2022-07-16T14:52:51.434Z"
   },
   {
    "duration": 558,
    "start_time": "2022-07-16T14:54:43.398Z"
   },
   {
    "duration": 122,
    "start_time": "2022-07-16T14:56:27.258Z"
   },
   {
    "duration": 527,
    "start_time": "2022-07-16T14:56:30.294Z"
   },
   {
    "duration": 100,
    "start_time": "2022-07-16T14:56:52.300Z"
   },
   {
    "duration": 102,
    "start_time": "2022-07-16T14:57:11.161Z"
   },
   {
    "duration": 650,
    "start_time": "2022-07-16T14:58:08.970Z"
   },
   {
    "duration": 921,
    "start_time": "2022-07-16T15:00:31.910Z"
   },
   {
    "duration": 1000,
    "start_time": "2022-07-16T15:00:46.989Z"
   },
   {
    "duration": 903,
    "start_time": "2022-07-16T15:01:14.777Z"
   },
   {
    "duration": 1002,
    "start_time": "2022-07-16T15:01:19.604Z"
   },
   {
    "duration": 995,
    "start_time": "2022-07-16T15:01:26.274Z"
   },
   {
    "duration": 965,
    "start_time": "2022-07-16T15:01:30.248Z"
   },
   {
    "duration": 1033,
    "start_time": "2022-07-16T15:01:37.903Z"
   },
   {
    "duration": 968,
    "start_time": "2022-07-16T15:01:41.829Z"
   },
   {
    "duration": 884,
    "start_time": "2022-07-16T15:01:46.553Z"
   },
   {
    "duration": 962,
    "start_time": "2022-07-16T15:01:51.367Z"
   },
   {
    "duration": 1093,
    "start_time": "2022-07-16T15:01:55.511Z"
   },
   {
    "duration": 881,
    "start_time": "2022-07-16T15:02:04.793Z"
   },
   {
    "duration": 969,
    "start_time": "2022-07-16T15:02:12.798Z"
   },
   {
    "duration": 1013,
    "start_time": "2022-07-16T15:02:35.287Z"
   },
   {
    "duration": 880,
    "start_time": "2022-07-16T15:03:26.998Z"
   },
   {
    "duration": 858,
    "start_time": "2022-07-16T15:08:48.696Z"
   },
   {
    "duration": 218,
    "start_time": "2022-07-16T15:09:41.085Z"
   },
   {
    "duration": 107,
    "start_time": "2022-07-16T15:12:50.964Z"
   },
   {
    "duration": 207,
    "start_time": "2022-07-16T15:13:05.561Z"
   },
   {
    "duration": 94,
    "start_time": "2022-07-16T15:13:34.717Z"
   },
   {
    "duration": 207,
    "start_time": "2022-07-16T15:13:46.961Z"
   },
   {
    "duration": 233,
    "start_time": "2022-07-16T15:14:26.849Z"
   },
   {
    "duration": 95,
    "start_time": "2022-07-16T15:14:45.761Z"
   },
   {
    "duration": 97,
    "start_time": "2022-07-16T15:15:32.562Z"
   },
   {
    "duration": 96,
    "start_time": "2022-07-16T15:15:39.558Z"
   },
   {
    "duration": 227,
    "start_time": "2022-07-16T15:15:46.651Z"
   },
   {
    "duration": 218,
    "start_time": "2022-07-16T15:15:56.473Z"
   },
   {
    "duration": 211,
    "start_time": "2022-07-16T15:16:13.797Z"
   },
   {
    "duration": 221,
    "start_time": "2022-07-16T15:17:12.754Z"
   },
   {
    "duration": 217,
    "start_time": "2022-07-16T15:17:32.600Z"
   },
   {
    "duration": 216,
    "start_time": "2022-07-16T15:18:15.351Z"
   },
   {
    "duration": 208,
    "start_time": "2022-07-16T15:18:28.352Z"
   },
   {
    "duration": 215,
    "start_time": "2022-07-16T15:18:33.814Z"
   },
   {
    "duration": 213,
    "start_time": "2022-07-16T15:18:45.580Z"
   },
   {
    "duration": 212,
    "start_time": "2022-07-16T15:18:55.794Z"
   },
   {
    "duration": 215,
    "start_time": "2022-07-16T15:19:08.270Z"
   },
   {
    "duration": 210,
    "start_time": "2022-07-16T15:19:19.571Z"
   },
   {
    "duration": 92,
    "start_time": "2022-07-16T15:19:34.450Z"
   },
   {
    "duration": 212,
    "start_time": "2022-07-16T15:19:48.921Z"
   },
   {
    "duration": 210,
    "start_time": "2022-07-16T15:19:55.261Z"
   },
   {
    "duration": 94,
    "start_time": "2022-07-16T15:22:46.057Z"
   },
   {
    "duration": 209,
    "start_time": "2022-07-16T15:23:35.669Z"
   },
   {
    "duration": 221,
    "start_time": "2022-07-16T15:24:19.253Z"
   },
   {
    "duration": 96,
    "start_time": "2022-07-16T15:25:53.650Z"
   },
   {
    "duration": 223,
    "start_time": "2022-07-16T15:25:57.346Z"
   },
   {
    "duration": 213,
    "start_time": "2022-07-16T15:27:31.683Z"
   },
   {
    "duration": 215,
    "start_time": "2022-07-16T15:27:48.662Z"
   },
   {
    "duration": 214,
    "start_time": "2022-07-16T15:28:17.963Z"
   },
   {
    "duration": 222,
    "start_time": "2022-07-16T15:28:22.303Z"
   },
   {
    "duration": 211,
    "start_time": "2022-07-16T15:29:03.662Z"
   },
   {
    "duration": 218,
    "start_time": "2022-07-16T15:29:14.498Z"
   },
   {
    "duration": 211,
    "start_time": "2022-07-16T15:30:50.866Z"
   },
   {
    "duration": 219,
    "start_time": "2022-07-16T15:31:01.266Z"
   },
   {
    "duration": 232,
    "start_time": "2022-07-16T15:33:11.967Z"
   },
   {
    "duration": 229,
    "start_time": "2022-07-16T15:45:29.761Z"
   },
   {
    "duration": 216,
    "start_time": "2022-07-16T15:46:01.708Z"
   },
   {
    "duration": 221,
    "start_time": "2022-07-16T15:46:05.729Z"
   },
   {
    "duration": 223,
    "start_time": "2022-07-16T15:46:19.189Z"
   },
   {
    "duration": 137,
    "start_time": "2022-07-16T15:48:05.351Z"
   },
   {
    "duration": 264,
    "start_time": "2022-07-16T15:48:08.559Z"
   },
   {
    "duration": 133,
    "start_time": "2022-07-16T15:49:19.286Z"
   },
   {
    "duration": 149,
    "start_time": "2022-07-16T15:49:25.394Z"
   },
   {
    "duration": 243,
    "start_time": "2022-07-16T15:49:38.273Z"
   },
   {
    "duration": 77,
    "start_time": "2022-07-16T15:57:58.718Z"
   },
   {
    "duration": 223,
    "start_time": "2022-07-16T18:17:06.226Z"
   },
   {
    "duration": 252,
    "start_time": "2022-07-16T18:17:48.250Z"
   },
   {
    "duration": 988,
    "start_time": "2022-07-16T18:17:58.980Z"
   },
   {
    "duration": 222,
    "start_time": "2022-07-16T18:20:28.345Z"
   },
   {
    "duration": 250,
    "start_time": "2022-07-16T18:21:38.252Z"
   },
   {
    "duration": 25,
    "start_time": "2022-07-16T18:27:37.553Z"
   },
   {
    "duration": 10,
    "start_time": "2022-07-16T18:28:04.019Z"
   },
   {
    "duration": 50,
    "start_time": "2022-07-16T18:28:48.304Z"
   },
   {
    "duration": 12,
    "start_time": "2022-07-16T18:28:51.956Z"
   },
   {
    "duration": 80,
    "start_time": "2022-07-16T18:29:27.554Z"
   },
   {
    "duration": 20,
    "start_time": "2022-07-16T18:30:34.976Z"
   },
   {
    "duration": 137,
    "start_time": "2022-07-16T18:30:49.062Z"
   },
   {
    "duration": 185,
    "start_time": "2022-07-16T18:31:19.015Z"
   },
   {
    "duration": 79,
    "start_time": "2022-07-16T18:31:39.623Z"
   },
   {
    "duration": 69,
    "start_time": "2022-07-16T18:31:46.754Z"
   },
   {
    "duration": 226,
    "start_time": "2022-07-16T18:33:29.602Z"
   },
   {
    "duration": 221,
    "start_time": "2022-07-16T18:33:36.259Z"
   },
   {
    "duration": 231,
    "start_time": "2022-07-16T18:33:41.058Z"
   },
   {
    "duration": 3,
    "start_time": "2022-07-16T18:33:50.055Z"
   },
   {
    "duration": 8,
    "start_time": "2022-07-16T18:34:02.648Z"
   },
   {
    "duration": 4,
    "start_time": "2022-07-16T18:34:09.116Z"
   },
   {
    "duration": 8,
    "start_time": "2022-07-16T18:34:10.801Z"
   },
   {
    "duration": 8,
    "start_time": "2022-07-16T18:34:14.545Z"
   },
   {
    "duration": 11,
    "start_time": "2022-07-16T18:34:34.434Z"
   },
   {
    "duration": 12,
    "start_time": "2022-07-16T18:35:19.517Z"
   },
   {
    "duration": 3,
    "start_time": "2022-07-16T18:35:24.782Z"
   },
   {
    "duration": 17,
    "start_time": "2022-07-16T18:35:24.787Z"
   },
   {
    "duration": 10,
    "start_time": "2022-07-16T18:35:24.805Z"
   },
   {
    "duration": 206,
    "start_time": "2022-07-16T18:35:24.817Z"
   },
   {
    "duration": 17,
    "start_time": "2022-07-16T18:35:25.026Z"
   },
   {
    "duration": 250,
    "start_time": "2022-07-16T18:35:25.045Z"
   },
   {
    "duration": 199,
    "start_time": "2022-07-16T18:35:25.297Z"
   },
   {
    "duration": 3,
    "start_time": "2022-07-16T18:35:25.497Z"
   },
   {
    "duration": 164,
    "start_time": "2022-07-16T18:35:25.502Z"
   },
   {
    "duration": 3,
    "start_time": "2022-07-16T18:35:25.668Z"
   },
   {
    "duration": 1321,
    "start_time": "2022-07-16T18:35:25.673Z"
   },
   {
    "duration": 89,
    "start_time": "2022-07-16T18:35:26.996Z"
   },
   {
    "duration": 69,
    "start_time": "2022-07-16T18:35:27.088Z"
   },
   {
    "duration": 3,
    "start_time": "2022-07-16T18:35:27.161Z"
   },
   {
    "duration": 1280,
    "start_time": "2022-07-16T18:35:27.166Z"
   },
   {
    "duration": 2,
    "start_time": "2022-07-16T18:35:28.448Z"
   },
   {
    "duration": 9,
    "start_time": "2022-07-16T18:35:28.452Z"
   },
   {
    "duration": 9,
    "start_time": "2022-07-16T18:35:28.463Z"
   },
   {
    "duration": 235,
    "start_time": "2022-07-16T18:35:28.475Z"
   },
   {
    "duration": 10,
    "start_time": "2022-07-16T18:35:28.712Z"
   },
   {
    "duration": 97,
    "start_time": "2022-07-16T18:35:28.724Z"
   },
   {
    "duration": 268,
    "start_time": "2022-07-16T18:35:28.822Z"
   },
   {
    "duration": 221,
    "start_time": "2022-07-16T18:36:09.790Z"
   },
   {
    "duration": 4,
    "start_time": "2022-07-16T18:36:11.252Z"
   },
   {
    "duration": 72,
    "start_time": "2022-07-16T18:36:12.995Z"
   },
   {
    "duration": 148,
    "start_time": "2022-07-16T18:37:01.356Z"
   },
   {
    "duration": 10,
    "start_time": "2022-07-16T18:37:38.950Z"
   },
   {
    "duration": 700,
    "start_time": "2022-07-16T18:37:47.660Z"
   },
   {
    "duration": 3,
    "start_time": "2022-07-16T18:37:48.362Z"
   },
   {
    "duration": 5037,
    "start_time": "2022-07-16T18:37:48.366Z"
   },
   {
    "duration": 196,
    "start_time": "2022-07-16T18:37:53.406Z"
   },
   {
    "duration": 20,
    "start_time": "2022-07-16T18:37:53.604Z"
   },
   {
    "duration": 250,
    "start_time": "2022-07-16T18:37:53.626Z"
   },
   {
    "duration": 195,
    "start_time": "2022-07-16T18:37:53.877Z"
   },
   {
    "duration": 3,
    "start_time": "2022-07-16T18:37:54.073Z"
   },
   {
    "duration": 162,
    "start_time": "2022-07-16T18:37:54.078Z"
   },
   {
    "duration": 3,
    "start_time": "2022-07-16T18:37:54.242Z"
   },
   {
    "duration": 1236,
    "start_time": "2022-07-16T18:37:54.246Z"
   },
   {
    "duration": 84,
    "start_time": "2022-07-16T18:37:55.483Z"
   },
   {
    "duration": 66,
    "start_time": "2022-07-16T18:37:55.568Z"
   },
   {
    "duration": 2,
    "start_time": "2022-07-16T18:37:55.635Z"
   },
   {
    "duration": 1261,
    "start_time": "2022-07-16T18:37:55.639Z"
   },
   {
    "duration": 3,
    "start_time": "2022-07-16T18:37:56.902Z"
   },
   {
    "duration": 9,
    "start_time": "2022-07-16T18:37:56.906Z"
   },
   {
    "duration": 6,
    "start_time": "2022-07-16T18:37:56.917Z"
   },
   {
    "duration": 231,
    "start_time": "2022-07-16T18:37:56.925Z"
   },
   {
    "duration": 147,
    "start_time": "2022-07-16T18:37:57.158Z"
   },
   {
    "duration": 268,
    "start_time": "2022-07-16T18:37:57.307Z"
   },
   {
    "duration": 44,
    "start_time": "2022-07-17T11:20:55.644Z"
   },
   {
    "duration": 820,
    "start_time": "2022-07-17T11:21:00.690Z"
   },
   {
    "duration": 4,
    "start_time": "2022-07-17T11:21:01.513Z"
   },
   {
    "duration": 5688,
    "start_time": "2022-07-17T11:21:01.519Z"
   },
   {
    "duration": 190,
    "start_time": "2022-07-17T11:21:07.209Z"
   },
   {
    "duration": 14,
    "start_time": "2022-07-17T11:21:07.401Z"
   },
   {
    "duration": 244,
    "start_time": "2022-07-17T11:21:07.416Z"
   },
   {
    "duration": 204,
    "start_time": "2022-07-17T11:21:07.661Z"
   },
   {
    "duration": 3,
    "start_time": "2022-07-17T11:21:07.866Z"
   },
   {
    "duration": 163,
    "start_time": "2022-07-17T11:21:07.871Z"
   },
   {
    "duration": 2,
    "start_time": "2022-07-17T11:21:08.036Z"
   },
   {
    "duration": 1226,
    "start_time": "2022-07-17T11:21:08.040Z"
   },
   {
    "duration": 85,
    "start_time": "2022-07-17T11:21:09.268Z"
   },
   {
    "duration": 67,
    "start_time": "2022-07-17T11:21:09.355Z"
   },
   {
    "duration": 2,
    "start_time": "2022-07-17T11:21:09.424Z"
   },
   {
    "duration": 1099,
    "start_time": "2022-07-17T11:21:09.427Z"
   },
   {
    "duration": 364,
    "start_time": "2022-07-17T11:21:10.527Z"
   },
   {
    "duration": 12348,
    "start_time": "2022-07-17T12:04:26.943Z"
   },
   {
    "duration": 1502,
    "start_time": "2022-07-17T12:04:43.477Z"
   },
   {
    "duration": 43,
    "start_time": "2022-07-17T12:13:45.104Z"
   },
   {
    "duration": 493,
    "start_time": "2022-07-17T12:14:05.689Z"
   },
   {
    "duration": 42,
    "start_time": "2022-07-17T12:14:15.367Z"
   },
   {
    "duration": 362,
    "start_time": "2022-07-17T12:15:30.209Z"
   },
   {
    "duration": 17,
    "start_time": "2022-07-17T12:15:32.685Z"
   },
   {
    "duration": 11,
    "start_time": "2022-07-17T12:16:12.657Z"
   },
   {
    "duration": 60,
    "start_time": "2022-07-17T12:16:49.844Z"
   },
   {
    "duration": 10,
    "start_time": "2022-07-17T12:16:54.340Z"
   },
   {
    "duration": 846,
    "start_time": "2022-07-17T12:17:10.063Z"
   },
   {
    "duration": 473,
    "start_time": "2022-07-17T12:20:27.325Z"
   },
   {
    "duration": 358,
    "start_time": "2022-07-17T12:20:43.878Z"
   },
   {
    "duration": 103,
    "start_time": "2022-07-17T12:24:37.481Z"
   },
   {
    "duration": 110,
    "start_time": "2022-07-17T12:24:50.790Z"
   },
   {
    "duration": 105,
    "start_time": "2022-07-17T12:25:06.876Z"
   },
   {
    "duration": 120,
    "start_time": "2022-07-17T12:25:35.809Z"
   },
   {
    "duration": 349,
    "start_time": "2022-07-17T12:25:40.643Z"
   },
   {
    "duration": 46,
    "start_time": "2022-07-17T12:26:57.385Z"
   },
   {
    "duration": 369,
    "start_time": "2022-07-17T12:28:34.552Z"
   },
   {
    "duration": 343,
    "start_time": "2022-07-17T12:28:42.048Z"
   },
   {
    "duration": 349,
    "start_time": "2022-07-17T12:30:29.344Z"
   },
   {
    "duration": 363,
    "start_time": "2022-07-17T12:31:04.182Z"
   },
   {
    "duration": 347,
    "start_time": "2022-07-17T12:31:32.601Z"
   },
   {
    "duration": 345,
    "start_time": "2022-07-17T12:31:36.885Z"
   },
   {
    "duration": 367,
    "start_time": "2022-07-17T12:32:10.989Z"
   },
   {
    "duration": 345,
    "start_time": "2022-07-17T12:34:54.398Z"
   },
   {
    "duration": 353,
    "start_time": "2022-07-17T12:34:57.619Z"
   },
   {
    "duration": 259,
    "start_time": "2022-07-17T12:35:20.297Z"
   },
   {
    "duration": 99,
    "start_time": "2022-07-17T12:35:48.767Z"
   },
   {
    "duration": 172,
    "start_time": "2022-07-17T12:35:59.801Z"
   },
   {
    "duration": 367,
    "start_time": "2022-07-17T12:37:59.509Z"
   },
   {
    "duration": 362,
    "start_time": "2022-07-17T12:38:12.834Z"
   },
   {
    "duration": 96,
    "start_time": "2022-07-17T12:39:26.201Z"
   },
   {
    "duration": 357,
    "start_time": "2022-07-17T12:39:41.542Z"
   },
   {
    "duration": 125,
    "start_time": "2022-07-17T12:40:00.179Z"
   },
   {
    "duration": 109,
    "start_time": "2022-07-17T12:40:26.428Z"
   },
   {
    "duration": 353,
    "start_time": "2022-07-17T12:40:33.459Z"
   },
   {
    "duration": 1034,
    "start_time": "2022-07-17T12:40:42.943Z"
   },
   {
    "duration": 98,
    "start_time": "2022-07-17T12:41:28.661Z"
   },
   {
    "duration": 97,
    "start_time": "2022-07-17T12:41:35.001Z"
   },
   {
    "duration": 97,
    "start_time": "2022-07-17T12:41:43.844Z"
   },
   {
    "duration": 100,
    "start_time": "2022-07-17T12:42:10.725Z"
   },
   {
    "duration": 292,
    "start_time": "2022-07-17T12:44:04.255Z"
   },
   {
    "duration": 122,
    "start_time": "2022-07-17T12:46:22.373Z"
   },
   {
    "duration": 947,
    "start_time": "2022-07-17T12:46:31.255Z"
   },
   {
    "duration": 102,
    "start_time": "2022-07-17T12:46:40.569Z"
   },
   {
    "duration": 175,
    "start_time": "2022-07-17T12:46:44.735Z"
   },
   {
    "duration": 901,
    "start_time": "2022-07-17T12:47:00.371Z"
   },
   {
    "duration": 896,
    "start_time": "2022-07-17T12:47:24.350Z"
   },
   {
    "duration": 283,
    "start_time": "2022-07-17T12:49:59.475Z"
   },
   {
    "duration": 292,
    "start_time": "2022-07-17T12:50:48.581Z"
   },
   {
    "duration": 8230,
    "start_time": "2022-07-17T13:10:27.129Z"
   },
   {
    "duration": 102,
    "start_time": "2022-07-17T14:09:19.564Z"
   },
   {
    "duration": 104,
    "start_time": "2022-07-17T14:09:54.389Z"
   },
   {
    "duration": 103,
    "start_time": "2022-07-17T14:10:13.463Z"
   },
   {
    "duration": 116,
    "start_time": "2022-07-17T14:10:55.186Z"
   },
   {
    "duration": 93,
    "start_time": "2022-07-17T14:11:07.359Z"
   },
   {
    "duration": 199,
    "start_time": "2022-07-17T14:11:12.068Z"
   },
   {
    "duration": 92,
    "start_time": "2022-07-17T14:11:57.687Z"
   },
   {
    "duration": 192,
    "start_time": "2022-07-17T14:12:10.576Z"
   },
   {
    "duration": 118,
    "start_time": "2022-07-17T14:24:28.408Z"
   },
   {
    "duration": 112,
    "start_time": "2022-07-17T14:25:08.878Z"
   },
   {
    "duration": 105,
    "start_time": "2022-07-17T14:28:57.869Z"
   },
   {
    "duration": 414,
    "start_time": "2022-07-17T14:29:17.968Z"
   },
   {
    "duration": 93,
    "start_time": "2022-07-17T14:32:09.112Z"
   },
   {
    "duration": 448,
    "start_time": "2022-07-17T14:32:18.469Z"
   },
   {
    "duration": 99,
    "start_time": "2022-07-17T14:32:34.352Z"
   },
   {
    "duration": 94,
    "start_time": "2022-07-17T14:32:44.277Z"
   },
   {
    "duration": 94,
    "start_time": "2022-07-17T14:32:57.820Z"
   },
   {
    "duration": 438,
    "start_time": "2022-07-17T14:33:04.021Z"
   },
   {
    "duration": 103,
    "start_time": "2022-07-17T14:33:29.777Z"
   },
   {
    "duration": 405,
    "start_time": "2022-07-17T14:54:15.986Z"
   },
   {
    "duration": 132,
    "start_time": "2022-07-17T14:56:36.660Z"
   },
   {
    "duration": 396,
    "start_time": "2022-07-17T14:57:05.844Z"
   },
   {
    "duration": 402,
    "start_time": "2022-07-17T14:57:49.201Z"
   },
   {
    "duration": 110,
    "start_time": "2022-07-17T14:58:24.133Z"
   },
   {
    "duration": 518,
    "start_time": "2022-07-17T14:58:34.988Z"
   },
   {
    "duration": 639,
    "start_time": "2022-07-17T14:58:51.986Z"
   },
   {
    "duration": 96,
    "start_time": "2022-07-17T14:59:42.393Z"
   },
   {
    "duration": 97,
    "start_time": "2022-07-17T15:00:33.700Z"
   },
   {
    "duration": 544,
    "start_time": "2022-07-17T15:00:48.581Z"
   },
   {
    "duration": 118,
    "start_time": "2022-07-17T15:01:07.958Z"
   },
   {
    "duration": 145,
    "start_time": "2022-07-17T15:01:10.465Z"
   },
   {
    "duration": 415,
    "start_time": "2022-07-17T15:02:04.150Z"
   },
   {
    "duration": 112,
    "start_time": "2022-07-17T15:06:18.581Z"
   },
   {
    "duration": 103,
    "start_time": "2022-07-17T15:06:27.222Z"
   },
   {
    "duration": 100,
    "start_time": "2022-07-17T15:06:38.323Z"
   },
   {
    "duration": 155,
    "start_time": "2022-07-17T15:07:04.133Z"
   },
   {
    "duration": 676,
    "start_time": "2022-07-17T15:07:18.940Z"
   },
   {
    "duration": 495,
    "start_time": "2022-07-17T15:07:45.861Z"
   },
   {
    "duration": 412,
    "start_time": "2022-07-17T15:07:54.919Z"
   },
   {
    "duration": 421,
    "start_time": "2022-07-17T15:09:18.104Z"
   },
   {
    "duration": 699,
    "start_time": "2022-07-17T15:09:58.759Z"
   },
   {
    "duration": 440,
    "start_time": "2022-07-17T15:10:09.080Z"
   },
   {
    "duration": 114,
    "start_time": "2022-07-17T15:11:36.802Z"
   },
   {
    "duration": 114,
    "start_time": "2022-07-17T15:11:56.080Z"
   },
   {
    "duration": 398,
    "start_time": "2022-07-17T15:12:06.725Z"
   },
   {
    "duration": 106,
    "start_time": "2022-07-17T15:16:19.179Z"
   },
   {
    "duration": 411,
    "start_time": "2022-07-17T15:16:30.907Z"
   },
   {
    "duration": 106,
    "start_time": "2022-07-17T15:16:49.890Z"
   },
   {
    "duration": 386,
    "start_time": "2022-07-17T15:16:54.915Z"
   },
   {
    "duration": 406,
    "start_time": "2022-07-17T15:23:43.216Z"
   },
   {
    "duration": 47,
    "start_time": "2022-07-17T18:39:29.610Z"
   },
   {
    "duration": 1412,
    "start_time": "2022-07-17T18:39:32.830Z"
   },
   {
    "duration": 3,
    "start_time": "2022-07-17T18:39:34.244Z"
   },
   {
    "duration": 6058,
    "start_time": "2022-07-17T18:39:34.249Z"
   },
   {
    "duration": 189,
    "start_time": "2022-07-17T18:39:40.309Z"
   },
   {
    "duration": 13,
    "start_time": "2022-07-17T18:39:40.500Z"
   },
   {
    "duration": 252,
    "start_time": "2022-07-17T18:39:40.514Z"
   },
   {
    "duration": 165,
    "start_time": "2022-07-17T18:39:40.769Z"
   },
   {
    "duration": 201,
    "start_time": "2022-07-17T18:41:23.144Z"
   },
   {
    "duration": 186,
    "start_time": "2022-07-17T18:42:55.110Z"
   },
   {
    "duration": 186,
    "start_time": "2022-07-17T18:43:17.543Z"
   },
   {
    "duration": 186,
    "start_time": "2022-07-17T18:43:33.545Z"
   },
   {
    "duration": 195,
    "start_time": "2022-07-17T18:43:40.674Z"
   },
   {
    "duration": 189,
    "start_time": "2022-07-17T18:44:34.559Z"
   },
   {
    "duration": 519,
    "start_time": "2022-07-17T18:52:00.174Z"
   },
   {
    "duration": 1635,
    "start_time": "2022-07-17T18:52:43.680Z"
   },
   {
    "duration": 5991,
    "start_time": "2022-07-17T18:52:55.952Z"
   },
   {
    "duration": 3821,
    "start_time": "2022-07-17T18:53:14.391Z"
   },
   {
    "duration": 2669,
    "start_time": "2022-07-17T18:53:28.807Z"
   },
   {
    "duration": 1502,
    "start_time": "2022-07-17T18:54:16.609Z"
   },
   {
    "duration": 884,
    "start_time": "2022-07-17T19:11:44.463Z"
   },
   {
    "duration": 3,
    "start_time": "2022-07-17T19:11:55.921Z"
   },
   {
    "duration": 9,
    "start_time": "2022-07-17T19:11:55.926Z"
   },
   {
    "duration": 8,
    "start_time": "2022-07-17T19:11:55.936Z"
   },
   {
    "duration": 207,
    "start_time": "2022-07-17T19:11:55.945Z"
   },
   {
    "duration": 10,
    "start_time": "2022-07-17T19:11:56.154Z"
   },
   {
    "duration": 265,
    "start_time": "2022-07-17T19:11:56.165Z"
   },
   {
    "duration": 216,
    "start_time": "2022-07-17T19:11:56.431Z"
   },
   {
    "duration": 150,
    "start_time": "2022-07-17T19:11:56.648Z"
   },
   {
    "duration": 1201,
    "start_time": "2022-07-17T19:11:56.800Z"
   },
   {
    "duration": 91,
    "start_time": "2022-07-17T19:11:58.002Z"
   },
   {
    "duration": 78,
    "start_time": "2022-07-17T19:11:58.094Z"
   },
   {
    "duration": 1252,
    "start_time": "2022-07-17T19:11:58.173Z"
   },
   {
    "duration": 660,
    "start_time": "2022-07-17T19:11:59.427Z"
   },
   {
    "duration": 432,
    "start_time": "2022-07-17T19:12:00.089Z"
   },
   {
    "duration": 363,
    "start_time": "2022-07-17T19:12:16.317Z"
   },
   {
    "duration": 245,
    "start_time": "2022-07-17T19:18:36.703Z"
   },
   {
    "duration": 97,
    "start_time": "2022-07-17T19:18:56.694Z"
   },
   {
    "duration": 178,
    "start_time": "2022-07-17T19:19:01.770Z"
   },
   {
    "duration": 108,
    "start_time": "2022-07-17T19:31:58.963Z"
   },
   {
    "duration": 169,
    "start_time": "2022-07-17T19:32:11.240Z"
   },
   {
    "duration": 95,
    "start_time": "2022-07-17T19:32:32.565Z"
   },
   {
    "duration": 850,
    "start_time": "2022-07-17T19:32:36.190Z"
   },
   {
    "duration": 864,
    "start_time": "2022-07-17T19:34:04.757Z"
   },
   {
    "duration": 1410,
    "start_time": "2022-07-18T09:54:00.641Z"
   },
   {
    "duration": 4,
    "start_time": "2022-07-18T09:54:02.053Z"
   },
   {
    "duration": 9072,
    "start_time": "2022-07-18T09:54:02.059Z"
   },
   {
    "duration": 64,
    "start_time": "2022-07-18T09:54:11.133Z"
   },
   {
    "duration": 15,
    "start_time": "2022-07-18T09:54:11.199Z"
   },
   {
    "duration": 240,
    "start_time": "2022-07-18T09:54:11.216Z"
   },
   {
    "duration": 188,
    "start_time": "2022-07-18T09:54:11.457Z"
   },
   {
    "duration": 126,
    "start_time": "2022-07-18T09:54:11.647Z"
   },
   {
    "duration": 1148,
    "start_time": "2022-07-18T09:54:11.775Z"
   },
   {
    "duration": 61,
    "start_time": "2022-07-18T09:54:12.925Z"
   },
   {
    "duration": 40,
    "start_time": "2022-07-18T09:54:12.987Z"
   },
   {
    "duration": 1090,
    "start_time": "2022-07-18T09:54:13.028Z"
   },
   {
    "duration": 254,
    "start_time": "2022-07-18T09:54:14.120Z"
   },
   {
    "duration": 485,
    "start_time": "2022-07-18T09:57:15.481Z"
   },
   {
    "duration": 404,
    "start_time": "2022-07-18T09:57:36.555Z"
   },
   {
    "duration": 389,
    "start_time": "2022-07-18T09:57:55.690Z"
   },
   {
    "duration": 495,
    "start_time": "2022-07-18T09:59:16.793Z"
   },
   {
    "duration": 395,
    "start_time": "2022-07-18T10:00:13.027Z"
   },
   {
    "duration": 450,
    "start_time": "2022-07-18T10:01:12.633Z"
   },
   {
    "duration": 398,
    "start_time": "2022-07-18T10:01:29.879Z"
   },
   {
    "duration": 359,
    "start_time": "2022-07-18T10:01:47.946Z"
   },
   {
    "duration": 443,
    "start_time": "2022-07-18T10:02:04.257Z"
   },
   {
    "duration": 383,
    "start_time": "2022-07-18T10:02:20.438Z"
   },
   {
    "duration": 441,
    "start_time": "2022-07-18T10:02:32.686Z"
   },
   {
    "duration": 316,
    "start_time": "2022-07-18T10:18:18.809Z"
   },
   {
    "duration": 215,
    "start_time": "2022-07-18T10:18:31.926Z"
   },
   {
    "duration": 128,
    "start_time": "2022-07-18T10:21:06.370Z"
   },
   {
    "duration": 1228,
    "start_time": "2022-07-18T10:21:28.590Z"
   },
   {
    "duration": 1170,
    "start_time": "2022-07-18T10:21:40.634Z"
   },
   {
    "duration": 100,
    "start_time": "2022-07-18T10:22:15.088Z"
   },
   {
    "duration": 99,
    "start_time": "2022-07-18T10:22:20.107Z"
   },
   {
    "duration": 98,
    "start_time": "2022-07-18T10:22:23.286Z"
   },
   {
    "duration": 991,
    "start_time": "2022-07-18T10:22:26.206Z"
   },
   {
    "duration": 35,
    "start_time": "2022-07-18T10:22:50.735Z"
   },
   {
    "duration": 992,
    "start_time": "2022-07-18T10:23:33.437Z"
   },
   {
    "duration": 35,
    "start_time": "2022-07-18T10:26:21.568Z"
   },
   {
    "duration": 35,
    "start_time": "2022-07-18T10:27:47.330Z"
   },
   {
    "duration": 33,
    "start_time": "2022-07-18T10:29:21.224Z"
   },
   {
    "duration": 32,
    "start_time": "2022-07-18T10:29:36.409Z"
   },
   {
    "duration": 34,
    "start_time": "2022-07-18T10:30:26.087Z"
   },
   {
    "duration": 1187,
    "start_time": "2022-07-18T10:30:49.012Z"
   },
   {
    "duration": 1026,
    "start_time": "2022-07-18T10:30:56.139Z"
   },
   {
    "duration": 34,
    "start_time": "2022-07-18T10:31:30.224Z"
   },
   {
    "duration": 51,
    "start_time": "2022-07-18T10:32:01.679Z"
   },
   {
    "duration": 33,
    "start_time": "2022-07-18T10:33:10.854Z"
   },
   {
    "duration": 35,
    "start_time": "2022-07-18T10:33:38.499Z"
   },
   {
    "duration": 34,
    "start_time": "2022-07-18T10:35:08.455Z"
   },
   {
    "duration": 33,
    "start_time": "2022-07-18T10:35:18.645Z"
   },
   {
    "duration": 35,
    "start_time": "2022-07-18T10:35:23.785Z"
   },
   {
    "duration": 33,
    "start_time": "2022-07-18T10:35:29.584Z"
   },
   {
    "duration": 41,
    "start_time": "2022-07-18T10:35:34.391Z"
   },
   {
    "duration": 37,
    "start_time": "2022-07-18T10:36:23.252Z"
   },
   {
    "duration": 35,
    "start_time": "2022-07-18T10:39:15.188Z"
   },
   {
    "duration": 32,
    "start_time": "2022-07-18T10:40:05.756Z"
   },
   {
    "duration": 32,
    "start_time": "2022-07-18T10:40:18.892Z"
   },
   {
    "duration": 32,
    "start_time": "2022-07-18T10:40:58.407Z"
   },
   {
    "duration": 12,
    "start_time": "2022-07-18T10:43:58.027Z"
   },
   {
    "duration": 3,
    "start_time": "2022-07-18T10:44:03.672Z"
   },
   {
    "duration": 9,
    "start_time": "2022-07-18T10:44:03.677Z"
   },
   {
    "duration": 6,
    "start_time": "2022-07-18T10:44:03.687Z"
   },
   {
    "duration": 56,
    "start_time": "2022-07-18T10:44:03.695Z"
   },
   {
    "duration": 11,
    "start_time": "2022-07-18T10:44:03.753Z"
   },
   {
    "duration": 228,
    "start_time": "2022-07-18T10:44:03.766Z"
   },
   {
    "duration": 195,
    "start_time": "2022-07-18T10:44:03.996Z"
   },
   {
    "duration": 135,
    "start_time": "2022-07-18T10:44:04.193Z"
   },
   {
    "duration": 1289,
    "start_time": "2022-07-18T10:44:04.329Z"
   },
   {
    "duration": 60,
    "start_time": "2022-07-18T10:44:05.620Z"
   },
   {
    "duration": 40,
    "start_time": "2022-07-18T10:44:05.682Z"
   },
   {
    "duration": 1192,
    "start_time": "2022-07-18T10:44:05.724Z"
   },
   {
    "duration": 256,
    "start_time": "2022-07-18T10:44:06.918Z"
   },
   {
    "duration": 419,
    "start_time": "2022-07-18T10:44:07.177Z"
   },
   {
    "duration": 205,
    "start_time": "2022-07-18T10:44:07.597Z"
   },
   {
    "duration": 167,
    "start_time": "2022-07-18T10:44:09.122Z"
   },
   {
    "duration": 13,
    "start_time": "2022-07-18T10:44:19.219Z"
   },
   {
    "duration": 15,
    "start_time": "2022-07-18T10:44:24.155Z"
   },
   {
    "duration": 3,
    "start_time": "2022-07-18T10:44:31.288Z"
   },
   {
    "duration": 21,
    "start_time": "2022-07-18T10:44:31.294Z"
   },
   {
    "duration": 22,
    "start_time": "2022-07-18T10:44:31.317Z"
   },
   {
    "duration": 97,
    "start_time": "2022-07-18T10:44:31.342Z"
   },
   {
    "duration": 12,
    "start_time": "2022-07-18T10:44:31.442Z"
   },
   {
    "duration": 227,
    "start_time": "2022-07-18T10:44:31.456Z"
   },
   {
    "duration": 185,
    "start_time": "2022-07-18T10:44:31.686Z"
   },
   {
    "duration": 130,
    "start_time": "2022-07-18T10:44:31.873Z"
   },
   {
    "duration": 1376,
    "start_time": "2022-07-18T10:44:32.005Z"
   },
   {
    "duration": 63,
    "start_time": "2022-07-18T10:44:33.383Z"
   },
   {
    "duration": 41,
    "start_time": "2022-07-18T10:44:33.448Z"
   },
   {
    "duration": 1192,
    "start_time": "2022-07-18T10:44:33.491Z"
   },
   {
    "duration": 255,
    "start_time": "2022-07-18T10:44:34.685Z"
   },
   {
    "duration": 413,
    "start_time": "2022-07-18T10:44:34.943Z"
   },
   {
    "duration": 194,
    "start_time": "2022-07-18T10:44:35.358Z"
   },
   {
    "duration": 192,
    "start_time": "2022-07-18T10:44:35.554Z"
   },
   {
    "duration": 133,
    "start_time": "2022-07-18T11:06:32.299Z"
   },
   {
    "duration": 124,
    "start_time": "2022-07-18T11:25:24.257Z"
   },
   {
    "duration": 116,
    "start_time": "2022-07-18T11:25:26.785Z"
   },
   {
    "duration": 97,
    "start_time": "2022-07-18T11:25:34.910Z"
   },
   {
    "duration": 131,
    "start_time": "2022-07-18T11:25:39.185Z"
   },
   {
    "duration": 105,
    "start_time": "2022-07-18T11:27:04.929Z"
   },
   {
    "duration": 97,
    "start_time": "2022-07-18T11:28:04.670Z"
   },
   {
    "duration": 281,
    "start_time": "2022-07-18T11:29:01.097Z"
   },
   {
    "duration": 103,
    "start_time": "2022-07-18T11:49:57.548Z"
   },
   {
    "duration": 135,
    "start_time": "2022-07-18T11:50:05.925Z"
   },
   {
    "duration": 3,
    "start_time": "2022-07-18T11:50:13.716Z"
   },
   {
    "duration": 13,
    "start_time": "2022-07-18T11:50:13.721Z"
   },
   {
    "duration": 6,
    "start_time": "2022-07-18T11:50:13.736Z"
   },
   {
    "duration": 87,
    "start_time": "2022-07-18T11:50:13.745Z"
   },
   {
    "duration": 11,
    "start_time": "2022-07-18T11:50:13.834Z"
   },
   {
    "duration": 236,
    "start_time": "2022-07-18T11:50:13.846Z"
   },
   {
    "duration": 206,
    "start_time": "2022-07-18T11:50:14.083Z"
   },
   {
    "duration": 140,
    "start_time": "2022-07-18T11:50:14.290Z"
   },
   {
    "duration": 1369,
    "start_time": "2022-07-18T11:50:14.431Z"
   },
   {
    "duration": 61,
    "start_time": "2022-07-18T11:50:15.803Z"
   },
   {
    "duration": 47,
    "start_time": "2022-07-18T11:50:15.866Z"
   },
   {
    "duration": 1243,
    "start_time": "2022-07-18T11:50:15.914Z"
   },
   {
    "duration": 260,
    "start_time": "2022-07-18T11:50:17.158Z"
   },
   {
    "duration": 103,
    "start_time": "2022-07-18T11:50:19.247Z"
   },
   {
    "duration": 255,
    "start_time": "2022-07-18T11:50:43.538Z"
   },
   {
    "duration": 127,
    "start_time": "2022-07-18T11:56:06.629Z"
   },
   {
    "duration": 251,
    "start_time": "2022-07-18T12:05:24.347Z"
   },
   {
    "duration": 1480,
    "start_time": "2022-07-18T15:14:01.337Z"
   },
   {
    "duration": 4,
    "start_time": "2022-07-18T15:14:02.818Z"
   },
   {
    "duration": 10322,
    "start_time": "2022-07-18T15:14:02.824Z"
   },
   {
    "duration": 226,
    "start_time": "2022-07-18T15:14:13.148Z"
   },
   {
    "duration": 15,
    "start_time": "2022-07-18T15:14:13.376Z"
   },
   {
    "duration": 257,
    "start_time": "2022-07-18T15:14:13.392Z"
   },
   {
    "duration": 220,
    "start_time": "2022-07-18T15:14:13.650Z"
   },
   {
    "duration": 156,
    "start_time": "2022-07-18T15:14:13.872Z"
   },
   {
    "duration": 1107,
    "start_time": "2022-07-18T15:14:14.030Z"
   },
   {
    "duration": 86,
    "start_time": "2022-07-18T15:14:15.140Z"
   },
   {
    "duration": 75,
    "start_time": "2022-07-18T15:14:15.228Z"
   },
   {
    "duration": 1077,
    "start_time": "2022-07-18T15:14:15.304Z"
   },
   {
    "duration": 306,
    "start_time": "2022-07-18T15:14:16.383Z"
   },
   {
    "duration": 424,
    "start_time": "2022-07-18T15:14:16.691Z"
   },
   {
    "duration": 230,
    "start_time": "2022-07-18T15:14:17.117Z"
   },
   {
    "duration": 151,
    "start_time": "2022-07-18T15:14:17.349Z"
   },
   {
    "duration": 62,
    "start_time": "2022-07-18T15:14:17.502Z"
   },
   {
    "duration": 207,
    "start_time": "2022-07-18T15:15:20.885Z"
   },
   {
    "duration": 212,
    "start_time": "2022-07-18T15:15:43.708Z"
   },
   {
    "duration": 1199,
    "start_time": "2022-07-18T15:16:15.484Z"
   },
   {
    "duration": 1172,
    "start_time": "2022-07-18T15:16:21.792Z"
   },
   {
    "duration": 281,
    "start_time": "2022-07-18T15:17:09.578Z"
   },
   {
    "duration": 286,
    "start_time": "2022-07-18T15:17:14.663Z"
   },
   {
    "duration": 212,
    "start_time": "2022-07-18T15:19:24.233Z"
   },
   {
    "duration": 240,
    "start_time": "2022-07-18T15:19:28.547Z"
   },
   {
    "duration": 231,
    "start_time": "2022-07-18T15:20:13.374Z"
   },
   {
    "duration": 227,
    "start_time": "2022-07-18T15:20:19.641Z"
   },
   {
    "duration": 55,
    "start_time": "2022-07-18T15:20:40.486Z"
   },
   {
    "duration": 55,
    "start_time": "2022-07-18T15:20:46.669Z"
   },
   {
    "duration": 55,
    "start_time": "2022-07-18T15:20:49.141Z"
   },
   {
    "duration": 55,
    "start_time": "2022-07-18T15:20:51.588Z"
   },
   {
    "duration": 55,
    "start_time": "2022-07-18T15:20:53.189Z"
   },
   {
    "duration": 56,
    "start_time": "2022-07-18T15:20:54.858Z"
   },
   {
    "duration": 1338,
    "start_time": "2022-07-19T15:35:56.035Z"
   },
   {
    "duration": 3,
    "start_time": "2022-07-19T15:35:57.375Z"
   },
   {
    "duration": 6041,
    "start_time": "2022-07-19T15:35:57.380Z"
   },
   {
    "duration": 247,
    "start_time": "2022-07-19T15:36:03.424Z"
   },
   {
    "duration": 14,
    "start_time": "2022-07-19T15:36:03.673Z"
   },
   {
    "duration": 253,
    "start_time": "2022-07-19T15:36:03.689Z"
   },
   {
    "duration": 225,
    "start_time": "2022-07-19T15:36:03.944Z"
   },
   {
    "duration": 159,
    "start_time": "2022-07-19T15:36:04.170Z"
   },
   {
    "duration": 1258,
    "start_time": "2022-07-19T15:36:09.092Z"
   },
   {
    "duration": 1146,
    "start_time": "2022-07-19T15:36:51.107Z"
   },
   {
    "duration": 1161,
    "start_time": "2022-07-19T15:37:16.840Z"
   },
   {
    "duration": 1090,
    "start_time": "2022-07-19T15:37:43.589Z"
   },
   {
    "duration": 1114,
    "start_time": "2022-07-19T15:37:51.318Z"
   },
   {
    "duration": 1163,
    "start_time": "2022-07-19T15:37:56.012Z"
   },
   {
    "duration": 1066,
    "start_time": "2022-07-19T15:38:00.057Z"
   },
   {
    "duration": 58,
    "start_time": "2022-07-19T17:03:58.329Z"
   },
   {
    "duration": 196,
    "start_time": "2022-07-19T17:04:07.705Z"
   },
   {
    "duration": 65,
    "start_time": "2022-07-19T17:04:24.733Z"
   },
   {
    "duration": 75,
    "start_time": "2022-07-19T17:05:34.072Z"
   },
   {
    "duration": 1079,
    "start_time": "2022-07-19T17:06:18.125Z"
   },
   {
    "duration": 1132,
    "start_time": "2022-07-19T17:07:35.061Z"
   },
   {
    "duration": 1111,
    "start_time": "2022-07-19T17:07:40.907Z"
   },
   {
    "duration": 55,
    "start_time": "2022-07-19T17:12:07.562Z"
   },
   {
    "duration": 269,
    "start_time": "2022-07-19T17:17:09.640Z"
   },
   {
    "duration": 110,
    "start_time": "2022-07-19T17:19:41.587Z"
   },
   {
    "duration": 113,
    "start_time": "2022-07-19T17:19:53.919Z"
   },
   {
    "duration": 109,
    "start_time": "2022-07-19T17:24:08.206Z"
   },
   {
    "duration": 55,
    "start_time": "2022-07-19T17:24:15.864Z"
   },
   {
    "duration": 94,
    "start_time": "2022-07-19T17:24:46.513Z"
   },
   {
    "duration": 178,
    "start_time": "2022-07-19T17:25:22.659Z"
   },
   {
    "duration": 56,
    "start_time": "2022-07-19T17:25:41.422Z"
   },
   {
    "duration": 113,
    "start_time": "2022-07-19T17:31:57.676Z"
   },
   {
    "duration": 57,
    "start_time": "2022-07-19T17:40:31.767Z"
   },
   {
    "duration": 149,
    "start_time": "2022-07-19T17:41:31.220Z"
   },
   {
    "duration": 93,
    "start_time": "2022-07-19T17:41:41.413Z"
   },
   {
    "duration": 61,
    "start_time": "2022-07-19T17:41:46.176Z"
   },
   {
    "duration": 269,
    "start_time": "2022-07-19T17:41:51.312Z"
   },
   {
    "duration": 104,
    "start_time": "2022-07-19T17:42:26.587Z"
   },
   {
    "duration": 108,
    "start_time": "2022-07-19T17:42:41.838Z"
   },
   {
    "duration": 254,
    "start_time": "2022-07-19T17:42:45.988Z"
   },
   {
    "duration": 277,
    "start_time": "2022-07-19T17:43:12.021Z"
   },
   {
    "duration": 280,
    "start_time": "2022-07-19T17:47:54.882Z"
   },
   {
    "duration": 246,
    "start_time": "2022-07-19T17:54:07.870Z"
   },
   {
    "duration": 245,
    "start_time": "2022-07-19T17:57:02.759Z"
   },
   {
    "duration": 267,
    "start_time": "2022-07-19T17:59:04.522Z"
   },
   {
    "duration": 258,
    "start_time": "2022-07-19T17:59:41.166Z"
   },
   {
    "duration": 106,
    "start_time": "2022-07-19T18:00:33.089Z"
   },
   {
    "duration": 253,
    "start_time": "2022-07-19T18:00:37.256Z"
   },
   {
    "duration": 117,
    "start_time": "2022-07-19T18:01:14.100Z"
   },
   {
    "duration": 256,
    "start_time": "2022-07-19T18:01:16.209Z"
   },
   {
    "duration": 98,
    "start_time": "2022-07-19T18:03:29.908Z"
   },
   {
    "duration": 255,
    "start_time": "2022-07-19T18:03:32.115Z"
   },
   {
    "duration": 148,
    "start_time": "2022-07-19T18:03:48.107Z"
   },
   {
    "duration": 130,
    "start_time": "2022-07-19T18:03:52.590Z"
   },
   {
    "duration": 263,
    "start_time": "2022-07-19T18:03:59.812Z"
   },
   {
    "duration": 251,
    "start_time": "2022-07-19T18:04:58.445Z"
   },
   {
    "duration": 103,
    "start_time": "2022-07-19T18:05:55.089Z"
   },
   {
    "duration": 267,
    "start_time": "2022-07-19T18:06:09.666Z"
   },
   {
    "duration": 263,
    "start_time": "2022-07-19T18:06:37.204Z"
   },
   {
    "duration": 260,
    "start_time": "2022-07-19T18:08:55.775Z"
   },
   {
    "duration": 275,
    "start_time": "2022-07-19T18:09:07.965Z"
   },
   {
    "duration": 58,
    "start_time": "2022-07-19T18:14:13.595Z"
   },
   {
    "duration": 89,
    "start_time": "2022-07-19T18:15:19.840Z"
   },
   {
    "duration": 226,
    "start_time": "2022-07-19T18:17:45.026Z"
   },
   {
    "duration": 95,
    "start_time": "2022-07-19T18:18:20.538Z"
   },
   {
    "duration": 217,
    "start_time": "2022-07-19T18:19:23.047Z"
   },
   {
    "duration": 313,
    "start_time": "2022-07-19T18:35:23.387Z"
   },
   {
    "duration": 37,
    "start_time": "2022-07-19T18:35:30.819Z"
   },
   {
    "duration": 307,
    "start_time": "2022-07-19T18:35:34.104Z"
   },
   {
    "duration": 116,
    "start_time": "2022-07-19T18:36:55.113Z"
   },
   {
    "duration": 106,
    "start_time": "2022-07-19T18:37:13.368Z"
   },
   {
    "duration": 250,
    "start_time": "2022-07-19T18:52:59.103Z"
   },
   {
    "duration": 307,
    "start_time": "2022-07-19T18:53:08.947Z"
   },
   {
    "duration": 113,
    "start_time": "2022-07-19T18:53:12.914Z"
   },
   {
    "duration": 103,
    "start_time": "2022-07-19T18:54:35.896Z"
   },
   {
    "duration": 105,
    "start_time": "2022-07-19T18:56:04.567Z"
   },
   {
    "duration": 229,
    "start_time": "2022-07-19T18:56:21.430Z"
   },
   {
    "duration": 234,
    "start_time": "2022-07-19T18:56:34.110Z"
   },
   {
    "duration": 219,
    "start_time": "2022-07-19T18:58:13.708Z"
   },
   {
    "duration": 1504,
    "start_time": "2022-07-20T07:16:57.931Z"
   },
   {
    "duration": 3,
    "start_time": "2022-07-20T07:16:59.439Z"
   },
   {
    "duration": 10792,
    "start_time": "2022-07-20T07:16:59.446Z"
   },
   {
    "duration": 223,
    "start_time": "2022-07-20T07:17:10.240Z"
   },
   {
    "duration": 13,
    "start_time": "2022-07-20T07:17:10.465Z"
   },
   {
    "duration": 112,
    "start_time": "2022-07-20T07:17:10.480Z"
   },
   {
    "duration": 219,
    "start_time": "2022-07-20T07:17:10.594Z"
   },
   {
    "duration": 163,
    "start_time": "2022-07-20T07:17:10.815Z"
   },
   {
    "duration": 1319,
    "start_time": "2022-07-20T07:17:10.981Z"
   },
   {
    "duration": 95,
    "start_time": "2022-07-20T07:17:12.302Z"
   },
   {
    "duration": 71,
    "start_time": "2022-07-20T07:17:12.399Z"
   },
   {
    "duration": 1195,
    "start_time": "2022-07-20T07:17:12.472Z"
   },
   {
    "duration": 292,
    "start_time": "2022-07-20T07:17:13.668Z"
   },
   {
    "duration": 476,
    "start_time": "2022-07-20T07:17:13.962Z"
   },
   {
    "duration": 223,
    "start_time": "2022-07-20T07:17:14.440Z"
   },
   {
    "duration": 158,
    "start_time": "2022-07-20T07:17:14.665Z"
   },
   {
    "duration": 263,
    "start_time": "2022-07-20T07:17:14.836Z"
   }
  ],
  "colab": {
   "name": "AdvansedSQLProjectTemplate.ipynb",
   "provenance": []
  },
  "kernelspec": {
   "display_name": "Python 3 (ipykernel)",
   "language": "python",
   "name": "python3"
  },
  "language_info": {
   "codemirror_mode": {
    "name": "ipython",
    "version": 3
   },
   "file_extension": ".py",
   "mimetype": "text/x-python",
   "name": "python",
   "nbconvert_exporter": "python",
   "pygments_lexer": "ipython3",
   "version": "3.9.7"
  },
  "toc": {
   "base_numbering": 1,
   "nav_menu": {},
   "number_sections": false,
   "sideBar": true,
   "skip_h1_title": false,
   "title_cell": "Table of Contents",
   "title_sidebar": "Contents",
   "toc_cell": false,
   "toc_position": {
    "height": "calc(100% - 180px)",
    "left": "10px",
    "top": "150px",
    "width": "348.352px"
   },
   "toc_section_display": true,
   "toc_window_display": true
  }
 },
 "nbformat": 4,
 "nbformat_minor": 1
}
