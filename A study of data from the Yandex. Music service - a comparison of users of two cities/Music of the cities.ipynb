{
 "cells": [
  {
   "cell_type": "markdown",
   "metadata": {},
   "source": [
    "**Survey of musical preferences between two cities: Moscov and Sain-Petersberg**"
   ]
  },
  {
   "cell_type": "markdown",
   "metadata": {},
   "source": [
    "Comparison Moscow and St. Petersburg is surrounded in myths. For example:\n",
    " * Moscow — megapolis with hard rithm workweek;\n",
    " * Sain-Petersberg — cultural capital, with own style.\n",
    "\n",
    "In accordance data of Yandex.music has been done comparison both capitals.\n",
    "\n",
    "**Survey target** — check 3 gypothesis:\n",
    "1. Users activity depends of day of the week. Moreover in Moscow and St. Petersburg this looks different.\n",
    "2. On Monday morning, certain genres dominate in Moscow, while others dominate in St. Petersburg. Also, Friday evenings are dominated by different genres, depending on the city. \n",
    "3. Moscow and St. Petersburg prefer different genres of music. In Moscow, they listen to pop music more often, in St. Petersburg - Russian rap.\n",
    "\n",
    "**Research progress**\n",
    "\n",
    " 1. Data review.\n",
    " 2. Data preprocessing.\n",
    " 3. Hypothesis testing.\n",
    "\n"
   ]
  },
  {
   "cell_type": "code",
   "execution_count": 1,
   "metadata": {
    "scrolled": true
   },
   "outputs": [
    {
     "name": "stdout",
     "output_type": "stream",
     "text": [
      "Requirement already satisfied: jupyterthemes in c:\\users\\vadim\\anaconda3\\lib\\site-packages (0.20.0)\n",
      "Requirement already satisfied: lesscpy>=0.11.2 in c:\\users\\vadim\\anaconda3\\lib\\site-packages (from jupyterthemes) (0.15.0)\n",
      "Requirement already satisfied: ipython>=5.4.1 in c:\\users\\vadim\\anaconda3\\lib\\site-packages (from jupyterthemes) (7.29.0)\n",
      "Requirement already satisfied: notebook>=5.6.0 in c:\\users\\vadim\\anaconda3\\lib\\site-packages (from jupyterthemes) (6.4.5)\n",
      "Requirement already satisfied: matplotlib>=1.4.3 in c:\\users\\vadim\\anaconda3\\lib\\site-packages (from jupyterthemes) (3.4.3)\n",
      "Requirement already satisfied: jupyter-core in c:\\users\\vadim\\anaconda3\\lib\\site-packages (from jupyterthemes) (4.8.1)\n",
      "Requirement already satisfied: jedi>=0.16 in c:\\users\\vadim\\anaconda3\\lib\\site-packages (from ipython>=5.4.1->jupyterthemes) (0.18.0)\n",
      "Requirement already satisfied: backcall in c:\\users\\vadim\\anaconda3\\lib\\site-packages (from ipython>=5.4.1->jupyterthemes) (0.2.0)\n",
      "Requirement already satisfied: pickleshare in c:\\users\\vadim\\anaconda3\\lib\\site-packages (from ipython>=5.4.1->jupyterthemes) (0.7.5)\n",
      "Requirement already satisfied: setuptools>=18.5 in c:\\users\\vadim\\anaconda3\\lib\\site-packages (from ipython>=5.4.1->jupyterthemes) (58.0.4)Note: you may need to restart the kernel to use updated packages.\n",
      "\n",
      "Requirement already satisfied: colorama in c:\\users\\vadim\\anaconda3\\lib\\site-packages (from ipython>=5.4.1->jupyterthemes) (0.4.4)\n",
      "Requirement already satisfied: traitlets>=4.2 in c:\\users\\vadim\\anaconda3\\lib\\site-packages (from ipython>=5.4.1->jupyterthemes) (5.1.0)\n",
      "Requirement already satisfied: matplotlib-inline in c:\\users\\vadim\\anaconda3\\lib\\site-packages (from ipython>=5.4.1->jupyterthemes) (0.1.2)\n",
      "Requirement already satisfied: decorator in c:\\users\\vadim\\anaconda3\\lib\\site-packages (from ipython>=5.4.1->jupyterthemes) (5.1.0)\n",
      "Requirement already satisfied: pygments in c:\\users\\vadim\\anaconda3\\lib\\site-packages (from ipython>=5.4.1->jupyterthemes) (2.10.0)\n",
      "Requirement already satisfied: prompt-toolkit!=3.0.0,!=3.0.1,<3.1.0,>=2.0.0 in c:\\users\\vadim\\anaconda3\\lib\\site-packages (from ipython>=5.4.1->jupyterthemes) (3.0.20)\n",
      "Requirement already satisfied: parso<0.9.0,>=0.8.0 in c:\\users\\vadim\\anaconda3\\lib\\site-packages (from jedi>=0.16->ipython>=5.4.1->jupyterthemes) (0.8.2)\n",
      "Requirement already satisfied: ply in c:\\users\\vadim\\anaconda3\\lib\\site-packages (from lesscpy>=0.11.2->jupyterthemes) (3.11)\n",
      "Requirement already satisfied: six in c:\\users\\vadim\\anaconda3\\lib\\site-packages (from lesscpy>=0.11.2->jupyterthemes) (1.16.0)\n",
      "Requirement already satisfied: pyparsing>=2.2.1 in c:\\users\\vadim\\anaconda3\\lib\\site-packages (from matplotlib>=1.4.3->jupyterthemes) (3.0.4)\n",
      "Requirement already satisfied: pillow>=6.2.0 in c:\\users\\vadim\\anaconda3\\lib\\site-packages (from matplotlib>=1.4.3->jupyterthemes) (8.4.0)\n",
      "Requirement already satisfied: cycler>=0.10 in c:\\users\\vadim\\anaconda3\\lib\\site-packages (from matplotlib>=1.4.3->jupyterthemes) (0.10.0)\n",
      "Requirement already satisfied: numpy>=1.16 in c:\\users\\vadim\\anaconda3\\lib\\site-packages (from matplotlib>=1.4.3->jupyterthemes) (1.20.3)\n",
      "Requirement already satisfied: python-dateutil>=2.7 in c:\\users\\vadim\\anaconda3\\lib\\site-packages (from matplotlib>=1.4.3->jupyterthemes) (2.8.2)\n",
      "Requirement already satisfied: kiwisolver>=1.0.1 in c:\\users\\vadim\\anaconda3\\lib\\site-packages (from matplotlib>=1.4.3->jupyterthemes) (1.3.1)\n",
      "Requirement already satisfied: nbformat in c:\\users\\vadim\\anaconda3\\lib\\site-packages (from notebook>=5.6.0->jupyterthemes) (5.1.3)\n",
      "Requirement already satisfied: nbconvert in c:\\users\\vadim\\anaconda3\\lib\\site-packages (from notebook>=5.6.0->jupyterthemes) (6.1.0)\n",
      "Requirement already satisfied: jupyter-client>=5.3.4 in c:\\users\\vadim\\anaconda3\\lib\\site-packages (from notebook>=5.6.0->jupyterthemes) (6.1.12)\n",
      "Requirement already satisfied: ipykernel in c:\\users\\vadim\\anaconda3\\lib\\site-packages (from notebook>=5.6.0->jupyterthemes) (6.4.1)\n",
      "Requirement already satisfied: jinja2 in c:\\users\\vadim\\anaconda3\\lib\\site-packages (from notebook>=5.6.0->jupyterthemes) (2.11.3)\n",
      "Requirement already satisfied: ipython-genutils in c:\\users\\vadim\\anaconda3\\lib\\site-packages (from notebook>=5.6.0->jupyterthemes) (0.2.0)\n",
      "Requirement already satisfied: tornado>=6.1 in c:\\users\\vadim\\anaconda3\\lib\\site-packages (from notebook>=5.6.0->jupyterthemes) (6.1)\n",
      "Requirement already satisfied: Send2Trash>=1.5.0 in c:\\users\\vadim\\anaconda3\\lib\\site-packages (from notebook>=5.6.0->jupyterthemes) (1.8.0)\n",
      "Requirement already satisfied: prometheus-client in c:\\users\\vadim\\anaconda3\\lib\\site-packages (from notebook>=5.6.0->jupyterthemes) (0.11.0)\n",
      "Requirement already satisfied: terminado>=0.8.3 in c:\\users\\vadim\\anaconda3\\lib\\site-packages (from notebook>=5.6.0->jupyterthemes) (0.9.4)\n",
      "Requirement already satisfied: pyzmq>=17 in c:\\users\\vadim\\anaconda3\\lib\\site-packages (from notebook>=5.6.0->jupyterthemes) (22.2.1)\n",
      "Requirement already satisfied: argon2-cffi in c:\\users\\vadim\\anaconda3\\lib\\site-packages (from notebook>=5.6.0->jupyterthemes) (20.1.0)\n",
      "Requirement already satisfied: pywin32>=1.0 in c:\\users\\vadim\\anaconda3\\lib\\site-packages (from jupyter-core->jupyterthemes) (228)\n",
      "Requirement already satisfied: wcwidth in c:\\users\\vadim\\anaconda3\\lib\\site-packages (from prompt-toolkit!=3.0.0,!=3.0.1,<3.1.0,>=2.0.0->ipython>=5.4.1->jupyterthemes) (0.2.5)\n",
      "Requirement already satisfied: pywinpty>=0.5 in c:\\users\\vadim\\anaconda3\\lib\\site-packages (from terminado>=0.8.3->notebook>=5.6.0->jupyterthemes) (0.5.7)\n",
      "Requirement already satisfied: cffi>=1.0.0 in c:\\users\\vadim\\anaconda3\\lib\\site-packages (from argon2-cffi->notebook>=5.6.0->jupyterthemes) (1.14.6)\n",
      "Requirement already satisfied: pycparser in c:\\users\\vadim\\anaconda3\\lib\\site-packages (from cffi>=1.0.0->argon2-cffi->notebook>=5.6.0->jupyterthemes) (2.20)\n",
      "Requirement already satisfied: debugpy<2.0,>=1.0.0 in c:\\users\\vadim\\anaconda3\\lib\\site-packages (from ipykernel->notebook>=5.6.0->jupyterthemes) (1.4.1)\n",
      "Requirement already satisfied: MarkupSafe>=0.23 in c:\\users\\vadim\\anaconda3\\lib\\site-packages (from jinja2->notebook>=5.6.0->jupyterthemes) (1.1.1)\n",
      "Requirement already satisfied: nbclient<0.6.0,>=0.5.0 in c:\\users\\vadim\\anaconda3\\lib\\site-packages (from nbconvert->notebook>=5.6.0->jupyterthemes) (0.5.3)\n",
      "Requirement already satisfied: testpath in c:\\users\\vadim\\anaconda3\\lib\\site-packages (from nbconvert->notebook>=5.6.0->jupyterthemes) (0.5.0)\n",
      "Requirement already satisfied: mistune<2,>=0.8.1 in c:\\users\\vadim\\anaconda3\\lib\\site-packages (from nbconvert->notebook>=5.6.0->jupyterthemes) (0.8.4)\n",
      "Requirement already satisfied: defusedxml in c:\\users\\vadim\\anaconda3\\lib\\site-packages (from nbconvert->notebook>=5.6.0->jupyterthemes) (0.7.1)\n",
      "Requirement already satisfied: pandocfilters>=1.4.1 in c:\\users\\vadim\\anaconda3\\lib\\site-packages (from nbconvert->notebook>=5.6.0->jupyterthemes) (1.4.3)\n",
      "Requirement already satisfied: bleach in c:\\users\\vadim\\anaconda3\\lib\\site-packages (from nbconvert->notebook>=5.6.0->jupyterthemes) (4.0.0)\n",
      "Requirement already satisfied: entrypoints>=0.2.2 in c:\\users\\vadim\\anaconda3\\lib\\site-packages (from nbconvert->notebook>=5.6.0->jupyterthemes) (0.3)\n",
      "Requirement already satisfied: jupyterlab-pygments in c:\\users\\vadim\\anaconda3\\lib\\site-packages (from nbconvert->notebook>=5.6.0->jupyterthemes) (0.1.2)\n",
      "Requirement already satisfied: nest-asyncio in c:\\users\\vadim\\anaconda3\\lib\\site-packages (from nbclient<0.6.0,>=0.5.0->nbconvert->notebook>=5.6.0->jupyterthemes) (1.5.1)\n",
      "Requirement already satisfied: async-generator in c:\\users\\vadim\\anaconda3\\lib\\site-packages (from nbclient<0.6.0,>=0.5.0->nbconvert->notebook>=5.6.0->jupyterthemes) (1.10)\n",
      "Requirement already satisfied: jsonschema!=2.5.0,>=2.4 in c:\\users\\vadim\\anaconda3\\lib\\site-packages (from nbformat->notebook>=5.6.0->jupyterthemes) (3.2.0)\n",
      "Requirement already satisfied: pyrsistent>=0.14.0 in c:\\users\\vadim\\anaconda3\\lib\\site-packages (from jsonschema!=2.5.0,>=2.4->nbformat->notebook>=5.6.0->jupyterthemes) (0.18.0)\n",
      "Requirement already satisfied: attrs>=17.4.0 in c:\\users\\vadim\\anaconda3\\lib\\site-packages (from jsonschema!=2.5.0,>=2.4->nbformat->notebook>=5.6.0->jupyterthemes) (21.2.0)\n",
      "Requirement already satisfied: webencodings in c:\\users\\vadim\\anaconda3\\lib\\site-packages (from bleach->nbconvert->notebook>=5.6.0->jupyterthemes) (0.5.1)\n",
      "Requirement already satisfied: packaging in c:\\users\\vadim\\anaconda3\\lib\\site-packages (from bleach->nbconvert->notebook>=5.6.0->jupyterthemes) (21.0)\n"
     ]
    }
   ],
   "source": [
    "pip install jupyterthemes"
   ]
  },
  {
   "cell_type": "code",
   "execution_count": 2,
   "metadata": {},
   "outputs": [
    {
     "name": "stdout",
     "output_type": "stream",
     "text": [
      "Available Themes: \n",
      "   chesterish\n",
      "   grade3\n",
      "   gruvboxd\n",
      "   gruvboxl\n",
      "   monokai\n",
      "   oceans16\n",
      "   onedork\n",
      "   solarizedd\n",
      "   solarizedl\n"
     ]
    }
   ],
   "source": [
    "!jt -l "
   ]
  },
  {
   "cell_type": "code",
   "execution_count": 3,
   "metadata": {},
   "outputs": [],
   "source": [
    "!jt -t chesterish"
   ]
  },
  {
   "cell_type": "code",
   "execution_count": 4,
   "metadata": {},
   "outputs": [
    {
     "name": "stdout",
     "output_type": "stream",
     "text": [
      "Requirement already satisfied: jupyter_contrib_nbextensions in c:\\users\\vadim\\anaconda3\\lib\\site-packages (0.5.1)\n",
      "Requirement already satisfied: jupyter-nbextensions-configurator>=0.4.0 in c:\\users\\vadim\\anaconda3\\lib\\site-packages (from jupyter_contrib_nbextensions) (0.4.1)\n",
      "Requirement already satisfied: pyyaml in c:\\users\\vadim\\anaconda3\\lib\\site-packages (from jupyter_contrib_nbextensions) (6.0)\n",
      "Requirement already satisfied: jupyter-contrib-core>=0.3.3 in c:\\users\\vadim\\anaconda3\\lib\\site-packages (from jupyter_contrib_nbextensions) (0.3.3)\n",
      "Requirement already satisfied: nbconvert>=4.2 in c:\\users\\vadim\\anaconda3\\lib\\site-packages (from jupyter_contrib_nbextensions) (6.1.0)\n",
      "Requirement already satisfied: traitlets>=4.1 in c:\\users\\vadim\\anaconda3\\lib\\site-packages (from jupyter_contrib_nbextensions) (5.1.0)\n",
      "Requirement already satisfied: tornado in c:\\users\\vadim\\anaconda3\\lib\\site-packages (from jupyter_contrib_nbextensions) (6.1)\n",
      "Requirement already satisfied: jupyter-core in c:\\users\\vadim\\anaconda3\\lib\\site-packages (from jupyter_contrib_nbextensions) (4.8.1)\n",
      "Requirement already satisfied: lxml in c:\\users\\vadim\\anaconda3\\lib\\site-packages (from jupyter_contrib_nbextensions) (4.6.3)\n",
      "Requirement already satisfied: ipython-genutils in c:\\users\\vadim\\anaconda3\\lib\\site-packages (from jupyter_contrib_nbextensions) (0.2.0)\n",
      "Requirement already satisfied: jupyter-latex-envs>=1.3.8 in c:\\users\\vadim\\anaconda3\\lib\\site-packages (from jupyter_contrib_nbextensions) (1.4.6)\n",
      "Requirement already satisfied: notebook>=4.0 in c:\\users\\vadim\\anaconda3\\lib\\site-packages (from jupyter_contrib_nbextensions) (6.4.5)\n",
      "Requirement already satisfied: jupyter-highlight-selected-word>=0.1.1 in c:\\users\\vadim\\anaconda3\\lib\\site-packages (from jupyter_contrib_nbextensions) (0.2.0)\n",
      "Requirement already satisfied: setuptools in c:\\users\\vadim\\anaconda3\\lib\\site-packages (from jupyter-contrib-core>=0.3.3->jupyter_contrib_nbextensions) (58.0.4)\n",
      "Requirement already satisfied: ipython in c:\\users\\vadim\\anaconda3\\lib\\site-packages (from jupyter-latex-envs>=1.3.8->jupyter_contrib_nbextensions) (7.29.0)\n",
      "Requirement already satisfied: entrypoints>=0.2.2 in c:\\users\\vadim\\anaconda3\\lib\\site-packages (from nbconvert>=4.2->jupyter_contrib_nbextensions) (0.3)\n",
      "Requirement already satisfied: jinja2>=2.4 in c:\\users\\vadim\\anaconda3\\lib\\site-packages (from nbconvert>=4.2->jupyter_contrib_nbextensions) (2.11.3)\n",
      "Requirement already satisfied: pygments>=2.4.1 in c:\\users\\vadim\\anaconda3\\lib\\site-packages (from nbconvert>=4.2->jupyter_contrib_nbextensions) (2.10.0)\n",
      "Requirement already satisfied: bleach in c:\\users\\vadim\\anaconda3\\lib\\site-packages (from nbconvert>=4.2->jupyter_contrib_nbextensions) (4.0.0)\n",
      "Requirement already satisfied: nbclient<0.6.0,>=0.5.0 in c:\\users\\vadim\\anaconda3\\lib\\site-packages (from nbconvert>=4.2->jupyter_contrib_nbextensions) (0.5.3)\n",
      "Requirement already satisfied: nbformat>=4.4 in c:\\users\\vadim\\anaconda3\\lib\\site-packages (from nbconvert>=4.2->jupyter_contrib_nbextensions) (5.1.3)\n",
      "Requirement already satisfied: defusedxml in c:\\users\\vadim\\anaconda3\\lib\\site-packages (from nbconvert>=4.2->jupyter_contrib_nbextensions) (0.7.1)\n",
      "Requirement already satisfied: jupyterlab-pygments in c:\\users\\vadim\\anaconda3\\lib\\site-packages (from nbconvert>=4.2->jupyter_contrib_nbextensions) (0.1.2)\n",
      "Requirement already satisfied: mistune<2,>=0.8.1 in c:\\users\\vadim\\anaconda3\\lib\\site-packages (from nbconvert>=4.2->jupyter_contrib_nbextensions) (0.8.4)\n",
      "Requirement already satisfied: pandocfilters>=1.4.1 in c:\\users\\vadim\\anaconda3\\lib\\site-packages (from nbconvert>=4.2->jupyter_contrib_nbextensions) (1.4.3)\n",
      "Requirement already satisfied: testpath in c:\\users\\vadim\\anaconda3\\lib\\site-packages (from nbconvert>=4.2->jupyter_contrib_nbextensions) (0.5.0)\n",
      "Requirement already satisfied: MarkupSafe>=0.23 in c:\\users\\vadim\\anaconda3\\lib\\site-packages (from jinja2>=2.4->nbconvert>=4.2->jupyter_contrib_nbextensions) (1.1.1)\n",
      "Requirement already satisfied: jupyter-client>=6.1.5 in c:\\users\\vadim\\anaconda3\\lib\\site-packages (from nbclient<0.6.0,>=0.5.0->nbconvert>=4.2->jupyter_contrib_nbextensions) (6.1.12)\n",
      "Requirement already satisfied: nest-asyncio in c:\\users\\vadim\\anaconda3\\lib\\site-packages (from nbclient<0.6.0,>=0.5.0->nbconvert>=4.2->jupyter_contrib_nbextensions) (1.5.1)\n",
      "Requirement already satisfied: async-generator in c:\\users\\vadim\\anaconda3\\lib\\site-packages (from nbclient<0.6.0,>=0.5.0->nbconvert>=4.2->jupyter_contrib_nbextensions) (1.10)\n",
      "Requirement already satisfied: pyzmq>=13 in c:\\users\\vadim\\anaconda3\\lib\\site-packages (from jupyter-client>=6.1.5->nbclient<0.6.0,>=0.5.0->nbconvert>=4.2->jupyter_contrib_nbextensions) (22.2.1)\n",
      "Requirement already satisfied: python-dateutil>=2.1 in c:\\users\\vadim\\anaconda3\\lib\\site-packages (from jupyter-client>=6.1.5->nbclient<0.6.0,>=0.5.0->nbconvert>=4.2->jupyter_contrib_nbextensions) (2.8.2)\n",
      "Requirement already satisfied: pywin32>=1.0 in c:\\users\\vadim\\anaconda3\\lib\\site-packages (from jupyter-core->jupyter_contrib_nbextensions) (228)\n",
      "Requirement already satisfied: jsonschema!=2.5.0,>=2.4 in c:\\users\\vadim\\anaconda3\\lib\\site-packages (from nbformat>=4.4->nbconvert>=4.2->jupyter_contrib_nbextensions) (3.2.0)\n",
      "Requirement already satisfied: attrs>=17.4.0 in c:\\users\\vadim\\anaconda3\\lib\\site-packages (from jsonschema!=2.5.0,>=2.4->nbformat>=4.4->nbconvert>=4.2->jupyter_contrib_nbextensions) (21.2.0)\n",
      "Requirement already satisfied: pyrsistent>=0.14.0 in c:\\users\\vadim\\anaconda3\\lib\\site-packages (from jsonschema!=2.5.0,>=2.4->nbformat>=4.4->nbconvert>=4.2->jupyter_contrib_nbextensions) (0.18.0)\n",
      "Requirement already satisfied: six>=1.11.0 in c:\\users\\vadim\\anaconda3\\lib\\site-packages (from jsonschema!=2.5.0,>=2.4->nbformat>=4.4->nbconvert>=4.2->jupyter_contrib_nbextensions) (1.16.0)\n",
      "Requirement already satisfied: Send2Trash>=1.5.0 in c:\\users\\vadim\\anaconda3\\lib\\site-packages (from notebook>=4.0->jupyter_contrib_nbextensions) (1.8.0)\n",
      "Requirement already satisfied: terminado>=0.8.3 in c:\\users\\vadim\\anaconda3\\lib\\site-packages (from notebook>=4.0->jupyter_contrib_nbextensions) (0.9.4)\n",
      "Requirement already satisfied: argon2-cffi in c:\\users\\vadim\\anaconda3\\lib\\site-packages (from notebook>=4.0->jupyter_contrib_nbextensions) (20.1.0)\n",
      "Requirement already satisfied: ipykernel in c:\\users\\vadim\\anaconda3\\lib\\site-packages (from notebook>=4.0->jupyter_contrib_nbextensions) (6.4.1)\n",
      "Requirement already satisfied: prometheus-client in c:\\users\\vadim\\anaconda3\\lib\\site-packages (from notebook>=4.0->jupyter_contrib_nbextensions) (0.11.0)\n",
      "Requirement already satisfied: pywinpty>=0.5 in c:\\users\\vadim\\anaconda3\\lib\\site-packages (from terminado>=0.8.3->notebook>=4.0->jupyter_contrib_nbextensions) (0.5.7)\n",
      "Requirement already satisfied: cffi>=1.0.0 in c:\\users\\vadim\\anaconda3\\lib\\site-packages (from argon2-cffi->notebook>=4.0->jupyter_contrib_nbextensions) (1.14.6)\n",
      "Requirement already satisfied: pycparser in c:\\users\\vadim\\anaconda3\\lib\\site-packages (from cffi>=1.0.0->argon2-cffi->notebook>=4.0->jupyter_contrib_nbextensions) (2.20)\n",
      "Requirement already satisfied: webencodings in c:\\users\\vadim\\anaconda3\\lib\\site-packages (from bleach->nbconvert>=4.2->jupyter_contrib_nbextensions) (0.5.1)\n",
      "Requirement already satisfied: packaging in c:\\users\\vadim\\anaconda3\\lib\\site-packages (from bleach->nbconvert>=4.2->jupyter_contrib_nbextensions) (21.0)\n",
      "Requirement already satisfied: debugpy<2.0,>=1.0.0 in c:\\users\\vadim\\anaconda3\\lib\\site-packages (from ipykernel->notebook>=4.0->jupyter_contrib_nbextensions) (1.4.1)\n",
      "Requirement already satisfied: matplotlib-inline<0.2.0,>=0.1.0 in c:\\users\\vadim\\anaconda3\\lib\\site-packages (from ipykernel->notebook>=4.0->jupyter_contrib_nbextensions) (0.1.2)\n",
      "Requirement already satisfied: pickleshare in c:\\users\\vadim\\anaconda3\\lib\\site-packages (from ipython->jupyter-latex-envs>=1.3.8->jupyter_contrib_nbextensions) (0.7.5)\n",
      "Requirement already satisfied: prompt-toolkit!=3.0.0,!=3.0.1,<3.1.0,>=2.0.0 in c:\\users\\vadim\\anaconda3\\lib\\site-packages (from ipython->jupyter-latex-envs>=1.3.8->jupyter_contrib_nbextensions) (3.0.20)\n",
      "Requirement already satisfied: jedi>=0.16 in c:\\users\\vadim\\anaconda3\\lib\\site-packages (from ipython->jupyter-latex-envs>=1.3.8->jupyter_contrib_nbextensions) (0.18.0)\n",
      "Requirement already satisfied: decorator in c:\\users\\vadim\\anaconda3\\lib\\site-packages (from ipython->jupyter-latex-envs>=1.3.8->jupyter_contrib_nbextensions) (5.1.0)\n",
      "Requirement already satisfied: colorama in c:\\users\\vadim\\anaconda3\\lib\\site-packages (from ipython->jupyter-latex-envs>=1.3.8->jupyter_contrib_nbextensions) (0.4.4)\n",
      "Requirement already satisfied: backcall in c:\\users\\vadim\\anaconda3\\lib\\site-packages (from ipython->jupyter-latex-envs>=1.3.8->jupyter_contrib_nbextensions) (0.2.0)\n",
      "Requirement already satisfied: parso<0.9.0,>=0.8.0 in c:\\users\\vadim\\anaconda3\\lib\\site-packages (from jedi>=0.16->ipython->jupyter-latex-envs>=1.3.8->jupyter_contrib_nbextensions) (0.8.2)\n",
      "Requirement already satisfied: wcwidth in c:\\users\\vadim\\anaconda3\\lib\\site-packages (from prompt-toolkit!=3.0.0,!=3.0.1,<3.1.0,>=2.0.0->ipython->jupyter-latex-envs>=1.3.8->jupyter_contrib_nbextensions) (0.2.5)\n",
      "Requirement already satisfied: pyparsing>=2.0.2 in c:\\users\\vadim\\anaconda3\\lib\\site-packages (from packaging->bleach->nbconvert>=4.2->jupyter_contrib_nbextensions) (3.0.4)\n",
      "Note: you may need to restart the kernel to use updated packages.\n"
     ]
    }
   ],
   "source": [
    "pip install jupyter_contrib_nbextensions "
   ]
  },
  {
   "cell_type": "code",
   "execution_count": 5,
   "metadata": {},
   "outputs": [
    {
     "name": "stdout",
     "output_type": "stream",
     "text": [
      "Collecting package metadata (current_repodata.json): ...working... failed\n",
      "\n",
      "Note: you may need to restart the kernel to use updated packages.\n"
     ]
    },
    {
     "name": "stderr",
     "output_type": "stream",
     "text": [
      "\n",
      "UnavailableInvalidChannel: The channel is not accessible or is invalid.\n",
      "  channel name: conda-forget\n",
      "  channel url: https://conda.anaconda.org/conda-forget\n",
      "  error code: 404\n",
      "\n",
      "You will need to adjust your conda configuration to proceed.\n",
      "Use `conda config --show channels` to view your configuration's current state,\n",
      "and use `conda config --show-sources` to view config file locations.\n",
      "\n",
      "\n"
     ]
    }
   ],
   "source": [
    "conda install --yes -c conda-forget jupyter_conrib_nbextensions"
   ]
  },
  {
   "cell_type": "code",
   "execution_count": 6,
   "metadata": {
    "scrolled": true
   },
   "outputs": [
    {
     "name": "stderr",
     "output_type": "stream",
     "text": [
      "Enabling notebook extension toc2/main...\n",
      "      - Validating: ok\n"
     ]
    }
   ],
   "source": [
    "!jupyter nbextension enable toc2/main"
   ]
  },
  {
   "cell_type": "markdown",
   "metadata": {
    "id": "Ml1hmfXC_Zcs"
   },
   "source": [
    "## Data review"
   ]
  },
  {
   "cell_type": "code",
   "execution_count": 7,
   "metadata": {
    "id": "AXN7PHPN_Zcs"
   },
   "outputs": [],
   "source": [
    "import pandas as pd"
   ]
  },
  {
   "cell_type": "code",
   "execution_count": 8,
   "metadata": {
    "id": "fFVu7vqh_Zct"
   },
   "outputs": [],
   "source": [
    "df = pd.read_csv(r\"C:/Users/Vadim/Documents/Datasets/yandex_music_project.csv\")"
   ]
  },
  {
   "cell_type": "code",
   "execution_count": 9,
   "metadata": {
    "id": "oWTVX3gW_Zct"
   },
   "outputs": [
    {
     "data": {
      "text/html": [
       "<div>\n",
       "<style scoped>\n",
       "    .dataframe tbody tr th:only-of-type {\n",
       "        vertical-align: middle;\n",
       "    }\n",
       "\n",
       "    .dataframe tbody tr th {\n",
       "        vertical-align: top;\n",
       "    }\n",
       "\n",
       "    .dataframe thead th {\n",
       "        text-align: right;\n",
       "    }\n",
       "</style>\n",
       "<table border=\"1\" class=\"dataframe\">\n",
       "  <thead>\n",
       "    <tr style=\"text-align: right;\">\n",
       "      <th></th>\n",
       "      <th>userID</th>\n",
       "      <th>Track</th>\n",
       "      <th>artist</th>\n",
       "      <th>genre</th>\n",
       "      <th>City</th>\n",
       "      <th>time</th>\n",
       "      <th>Day</th>\n",
       "    </tr>\n",
       "  </thead>\n",
       "  <tbody>\n",
       "    <tr>\n",
       "      <th>0</th>\n",
       "      <td>FFB692EC</td>\n",
       "      <td>Kamigata To Boots</td>\n",
       "      <td>The Mass Missile</td>\n",
       "      <td>rock</td>\n",
       "      <td>Saint-Petersburg</td>\n",
       "      <td>20:28:33</td>\n",
       "      <td>Wednesday</td>\n",
       "    </tr>\n",
       "    <tr>\n",
       "      <th>1</th>\n",
       "      <td>55204538</td>\n",
       "      <td>Delayed Because of Accident</td>\n",
       "      <td>Andreas Rönnberg</td>\n",
       "      <td>rock</td>\n",
       "      <td>Moscow</td>\n",
       "      <td>14:07:09</td>\n",
       "      <td>Friday</td>\n",
       "    </tr>\n",
       "    <tr>\n",
       "      <th>2</th>\n",
       "      <td>20EC38</td>\n",
       "      <td>Funiculì funiculà</td>\n",
       "      <td>Mario Lanza</td>\n",
       "      <td>pop</td>\n",
       "      <td>Saint-Petersburg</td>\n",
       "      <td>20:58:07</td>\n",
       "      <td>Wednesday</td>\n",
       "    </tr>\n",
       "    <tr>\n",
       "      <th>3</th>\n",
       "      <td>A3DD03C9</td>\n",
       "      <td>Dragons in the Sunset</td>\n",
       "      <td>Fire + Ice</td>\n",
       "      <td>folk</td>\n",
       "      <td>Saint-Petersburg</td>\n",
       "      <td>08:37:09</td>\n",
       "      <td>Monday</td>\n",
       "    </tr>\n",
       "    <tr>\n",
       "      <th>4</th>\n",
       "      <td>E2DC1FAE</td>\n",
       "      <td>Soul People</td>\n",
       "      <td>Space Echo</td>\n",
       "      <td>dance</td>\n",
       "      <td>Moscow</td>\n",
       "      <td>08:34:34</td>\n",
       "      <td>Monday</td>\n",
       "    </tr>\n",
       "    <tr>\n",
       "      <th>5</th>\n",
       "      <td>842029A1</td>\n",
       "      <td>Преданная</td>\n",
       "      <td>IMPERVTOR</td>\n",
       "      <td>rusrap</td>\n",
       "      <td>Saint-Petersburg</td>\n",
       "      <td>13:09:41</td>\n",
       "      <td>Friday</td>\n",
       "    </tr>\n",
       "    <tr>\n",
       "      <th>6</th>\n",
       "      <td>4CB90AA5</td>\n",
       "      <td>True</td>\n",
       "      <td>Roman Messer</td>\n",
       "      <td>dance</td>\n",
       "      <td>Moscow</td>\n",
       "      <td>13:00:07</td>\n",
       "      <td>Wednesday</td>\n",
       "    </tr>\n",
       "    <tr>\n",
       "      <th>7</th>\n",
       "      <td>F03E1C1F</td>\n",
       "      <td>Feeling This Way</td>\n",
       "      <td>Polina Griffith</td>\n",
       "      <td>dance</td>\n",
       "      <td>Moscow</td>\n",
       "      <td>20:47:49</td>\n",
       "      <td>Wednesday</td>\n",
       "    </tr>\n",
       "    <tr>\n",
       "      <th>8</th>\n",
       "      <td>8FA1D3BE</td>\n",
       "      <td>И вновь продолжается бой</td>\n",
       "      <td>NaN</td>\n",
       "      <td>ruspop</td>\n",
       "      <td>Moscow</td>\n",
       "      <td>09:17:40</td>\n",
       "      <td>Friday</td>\n",
       "    </tr>\n",
       "    <tr>\n",
       "      <th>9</th>\n",
       "      <td>E772D5C0</td>\n",
       "      <td>Pessimist</td>\n",
       "      <td>NaN</td>\n",
       "      <td>dance</td>\n",
       "      <td>Saint-Petersburg</td>\n",
       "      <td>21:20:49</td>\n",
       "      <td>Wednesday</td>\n",
       "    </tr>\n",
       "  </tbody>\n",
       "</table>\n",
       "</div>"
      ],
      "text/plain": [
       "     userID                        Track            artist   genre  \\\n",
       "0  FFB692EC            Kamigata To Boots  The Mass Missile    rock   \n",
       "1  55204538  Delayed Because of Accident  Andreas Rönnberg    rock   \n",
       "2    20EC38            Funiculì funiculà       Mario Lanza     pop   \n",
       "3  A3DD03C9        Dragons in the Sunset        Fire + Ice    folk   \n",
       "4  E2DC1FAE                  Soul People        Space Echo   dance   \n",
       "5  842029A1                    Преданная         IMPERVTOR  rusrap   \n",
       "6  4CB90AA5                         True      Roman Messer   dance   \n",
       "7  F03E1C1F             Feeling This Way   Polina Griffith   dance   \n",
       "8  8FA1D3BE     И вновь продолжается бой               NaN  ruspop   \n",
       "9  E772D5C0                    Pessimist               NaN   dance   \n",
       "\n",
       "             City        time        Day  \n",
       "0  Saint-Petersburg  20:28:33  Wednesday  \n",
       "1            Moscow  14:07:09     Friday  \n",
       "2  Saint-Petersburg  20:58:07  Wednesday  \n",
       "3  Saint-Petersburg  08:37:09     Monday  \n",
       "4            Moscow  08:34:34     Monday  \n",
       "5  Saint-Petersburg  13:09:41     Friday  \n",
       "6            Moscow  13:00:07  Wednesday  \n",
       "7            Moscow  20:47:49  Wednesday  \n",
       "8            Moscow  09:17:40     Friday  \n",
       "9  Saint-Petersburg  21:20:49  Wednesday  "
      ]
     },
     "execution_count": 9,
     "metadata": {},
     "output_type": "execute_result"
    }
   ],
   "source": [
    "df.head(10)"
   ]
  },
  {
   "cell_type": "markdown",
   "metadata": {
    "id": "EO73Kwic_Zct"
   },
   "source": [
    "General information about data:"
   ]
  },
  {
   "cell_type": "code",
   "execution_count": 10,
   "metadata": {
    "id": "DSf2kIb-_Zct",
    "scrolled": true
   },
   "outputs": [
    {
     "name": "stdout",
     "output_type": "stream",
     "text": [
      "<class 'pandas.core.frame.DataFrame'>\n",
      "RangeIndex: 65079 entries, 0 to 65078\n",
      "Data columns (total 7 columns):\n",
      " #   Column    Non-Null Count  Dtype \n",
      "---  ------    --------------  ----- \n",
      " 0     userID  65079 non-null  object\n",
      " 1   Track     63848 non-null  object\n",
      " 2   artist    57876 non-null  object\n",
      " 3   genre     63881 non-null  object\n",
      " 4     City    65079 non-null  object\n",
      " 5   time      65079 non-null  object\n",
      " 6   Day       65079 non-null  object\n",
      "dtypes: object(7)\n",
      "memory usage: 3.5+ MB\n"
     ]
    }
   ],
   "source": [
    "df.info()"
   ]
  },
  {
   "cell_type": "markdown",
   "metadata": {
    "id": "TaQ2Iwbr_Zct"
   },
   "source": [
    "So the table has seven columns. Data type in all columns — `object`.\n",
    "\n",
    "**According to the data documentation:**\n",
    "* `userID` - user ID;\n",
    "* `Track` — track name;\n",
    "* `artist` — artist name;\n",
    "* `genre` — genre name;\n",
    "* `City` - user's city;\n",
    "* `time` - start time of listening;\n",
    "* `Day` is the day of the week.\n",
    "\n",
    "**There are three style violations in the column headings:**\n",
    "1. Lowercase letters are combined with uppercase.\n",
    "2. There are gaps.\n",
    "3. `userID` needs to be written in snakecase: `user_id`\n",
    "\n",
    "\n",
    "\n",
    "The number of values in the columns varies. This means there are missing values in the data.\n"
   ]
  },
  {
   "cell_type": "markdown",
   "metadata": {
    "id": "MCB6-dXG_Zct"
   },
   "source": [
    "**Conclusions**\n",
    "\n",
    "Each line of the table contains data about the listened tracks. Some of the columns describe the composition itself: title, artist and genre. The rest of the data tells about the user: what city he is from, when he listened to music.\n",
    "\n",
    "Preliminarily, it can be argued that there is enough data to test hypotheses. But there are gaps in the data, and discrepancies in the names of the columns with good style.\n"
   ]
  },
  {
   "cell_type": "markdown",
   "metadata": {
    "id": "SjYF6Ub9_Zct"
   },
   "source": [
    "## Data preprocessing"
   ]
  },
  {
   "cell_type": "markdown",
   "metadata": {
    "id": "dIaKXr29_Zct"
   },
   "source": [
    "### Heading style"
   ]
  },
  {
   "cell_type": "code",
   "execution_count": 11,
   "metadata": {
    "id": "oKOTdF_Q_Zct",
    "scrolled": true
   },
   "outputs": [
    {
     "data": {
      "text/plain": [
       "Index(['  userID', 'Track', 'artist', 'genre', '  City  ', 'time', 'Day'], dtype='object')"
      ]
     },
     "execution_count": 11,
     "metadata": {},
     "output_type": "execute_result"
    }
   ],
   "source": [
    "df.columns # list of table column names"
   ]
  },
  {
   "cell_type": "markdown",
   "metadata": {
    "id": "zj5534cv_Zct"
   },
   "source": [
    "Column style correction:\n",
    "* snake register\n",
    "* lowercase characters\n",
    "* filling gaps"
   ]
  },
  {
   "cell_type": "code",
   "execution_count": 12,
   "metadata": {
    "id": "ISlFqs5y_Zct"
   },
   "outputs": [],
   "source": [
    "df = df.rename(columns={'  userID': 'user_id', 'Track': 'track', '  City  ': 'city', 'Day': 'day', 'genre': 'music_genre', 'artist': 'artist_name'})# переименование столбцов"
   ]
  },
  {
   "cell_type": "code",
   "execution_count": 13,
   "metadata": {
    "id": "d4NOAmTW_Zct"
   },
   "outputs": [
    {
     "data": {
      "text/plain": [
       "Index(['user_id', 'track', 'artist_name', 'music_genre', 'city', 'time',\n",
       "       'day'],\n",
       "      dtype='object')"
      ]
     },
     "execution_count": 13,
     "metadata": {},
     "output_type": "execute_result"
    }
   ],
   "source": [
    "df.columns #checking results"
   ]
  },
  {
   "cell_type": "markdown",
   "metadata": {
    "id": "5ISfbcfY_Zct"
   },
   "source": [
    "### Missing values"
   ]
  },
  {
   "cell_type": "code",
   "execution_count": 14,
   "metadata": {
    "id": "RskX29qr_Zct",
    "scrolled": true
   },
   "outputs": [
    {
     "data": {
      "text/html": [
       "<div>\n",
       "<style scoped>\n",
       "    .dataframe tbody tr th:only-of-type {\n",
       "        vertical-align: middle;\n",
       "    }\n",
       "\n",
       "    .dataframe tbody tr th {\n",
       "        vertical-align: top;\n",
       "    }\n",
       "\n",
       "    .dataframe thead th {\n",
       "        text-align: right;\n",
       "    }\n",
       "</style>\n",
       "<table border=\"1\" class=\"dataframe\">\n",
       "  <thead>\n",
       "    <tr style=\"text-align: right;\">\n",
       "      <th></th>\n",
       "      <th>0</th>\n",
       "    </tr>\n",
       "  </thead>\n",
       "  <tbody>\n",
       "    <tr>\n",
       "      <th>user_id</th>\n",
       "      <td>0</td>\n",
       "    </tr>\n",
       "    <tr>\n",
       "      <th>track</th>\n",
       "      <td>1231</td>\n",
       "    </tr>\n",
       "    <tr>\n",
       "      <th>artist_name</th>\n",
       "      <td>7203</td>\n",
       "    </tr>\n",
       "    <tr>\n",
       "      <th>music_genre</th>\n",
       "      <td>1198</td>\n",
       "    </tr>\n",
       "    <tr>\n",
       "      <th>city</th>\n",
       "      <td>0</td>\n",
       "    </tr>\n",
       "    <tr>\n",
       "      <th>time</th>\n",
       "      <td>0</td>\n",
       "    </tr>\n",
       "    <tr>\n",
       "      <th>day</th>\n",
       "      <td>0</td>\n",
       "    </tr>\n",
       "  </tbody>\n",
       "</table>\n",
       "</div>"
      ],
      "text/plain": [
       "                0\n",
       "user_id         0\n",
       "track        1231\n",
       "artist_name  7203\n",
       "music_genre  1198\n",
       "city            0\n",
       "time            0\n",
       "day             0"
      ]
     },
     "metadata": {},
     "output_type": "display_data"
    }
   ],
   "source": [
    "display(df.isna().sum().to_frame()) # count missing values"
   ]
  },
  {
   "cell_type": "markdown",
   "metadata": {
    "id": "qubhgnlO_Zct"
   },
   "source": [
    "Not all missing values affect the research. So in `track` and `artist` the gaps are not important for this work. It suffices to replace them with explicit notation.\n",
    "\n",
    "But omissions in `genre` can interfere with the comparison of musical tastes in Moscow and St. Petersburg. In practice, it would be correct to determine the cause of the gaps and restore the data. This option is not available in the curriculum. Therefore, you will have to:\n",
    "* fill in these gaps with explicit notation,\n",
    "* estimate how much they will damage the calculations. "
   ]
  },
  {
   "cell_type": "code",
   "execution_count": 15,
   "metadata": {
    "id": "KplB5qWs_Zct"
   },
   "outputs": [],
   "source": [
    "columns_to_replace = ['track', 'artist_name', 'music_genre']\n",
    "for column in columns_to_replace:\n",
    "    df[column] = df[column].fillna('unknown')"
   ]
  },
  {
   "cell_type": "code",
   "execution_count": 16,
   "metadata": {
    "id": "Tq4nYRX4_Zct",
    "scrolled": true
   },
   "outputs": [
    {
     "name": "stdout",
     "output_type": "stream",
     "text": [
      "<class 'pandas.core.frame.DataFrame'>\n",
      "RangeIndex: 65079 entries, 0 to 65078\n",
      "Data columns (total 7 columns):\n",
      " #   Column       Non-Null Count  Dtype \n",
      "---  ------       --------------  ----- \n",
      " 0   user_id      65079 non-null  object\n",
      " 1   track        65079 non-null  object\n",
      " 2   artist_name  65079 non-null  object\n",
      " 3   music_genre  65079 non-null  object\n",
      " 4   city         65079 non-null  object\n",
      " 5   time         65079 non-null  object\n",
      " 6   day          65079 non-null  object\n",
      "dtypes: object(7)\n",
      "memory usage: 3.5+ MB\n"
     ]
    }
   ],
   "source": [
    "df.info()"
   ]
  },
  {
   "cell_type": "markdown",
   "metadata": {},
   "source": [
    "Gaps are missing"
   ]
  },
  {
   "cell_type": "markdown",
   "metadata": {
    "id": "BWKRtBJ3_Zct"
   },
   "source": [
    "### Duplicates"
   ]
  },
  {
   "cell_type": "code",
   "execution_count": 17,
   "metadata": {
    "id": "36eES_S0_Zct"
   },
   "outputs": [
    {
     "data": {
      "text/plain": [
       "3826"
      ]
     },
     "execution_count": 17,
     "metadata": {},
     "output_type": "execute_result"
    }
   ],
   "source": [
    "df.duplicated().sum() # counting explicit duplicates"
   ]
  },
  {
   "cell_type": "code",
   "execution_count": 18,
   "metadata": {
    "id": "exFHq6tt_Zct"
   },
   "outputs": [
    {
     "data": {
      "text/html": [
       "<div>\n",
       "<style scoped>\n",
       "    .dataframe tbody tr th:only-of-type {\n",
       "        vertical-align: middle;\n",
       "    }\n",
       "\n",
       "    .dataframe tbody tr th {\n",
       "        vertical-align: top;\n",
       "    }\n",
       "\n",
       "    .dataframe thead th {\n",
       "        text-align: right;\n",
       "    }\n",
       "</style>\n",
       "<table border=\"1\" class=\"dataframe\">\n",
       "  <thead>\n",
       "    <tr style=\"text-align: right;\">\n",
       "      <th></th>\n",
       "      <th>user_id</th>\n",
       "      <th>track</th>\n",
       "      <th>artist_name</th>\n",
       "      <th>music_genre</th>\n",
       "      <th>city</th>\n",
       "      <th>time</th>\n",
       "      <th>day</th>\n",
       "    </tr>\n",
       "  </thead>\n",
       "  <tbody>\n",
       "    <tr>\n",
       "      <th>0</th>\n",
       "      <td>FFB692EC</td>\n",
       "      <td>Kamigata To Boots</td>\n",
       "      <td>The Mass Missile</td>\n",
       "      <td>rock</td>\n",
       "      <td>Saint-Petersburg</td>\n",
       "      <td>20:28:33</td>\n",
       "      <td>Wednesday</td>\n",
       "    </tr>\n",
       "    <tr>\n",
       "      <th>1</th>\n",
       "      <td>55204538</td>\n",
       "      <td>Delayed Because of Accident</td>\n",
       "      <td>Andreas Rönnberg</td>\n",
       "      <td>rock</td>\n",
       "      <td>Moscow</td>\n",
       "      <td>14:07:09</td>\n",
       "      <td>Friday</td>\n",
       "    </tr>\n",
       "    <tr>\n",
       "      <th>2</th>\n",
       "      <td>20EC38</td>\n",
       "      <td>Funiculì funiculà</td>\n",
       "      <td>Mario Lanza</td>\n",
       "      <td>pop</td>\n",
       "      <td>Saint-Petersburg</td>\n",
       "      <td>20:58:07</td>\n",
       "      <td>Wednesday</td>\n",
       "    </tr>\n",
       "    <tr>\n",
       "      <th>3</th>\n",
       "      <td>A3DD03C9</td>\n",
       "      <td>Dragons in the Sunset</td>\n",
       "      <td>Fire + Ice</td>\n",
       "      <td>folk</td>\n",
       "      <td>Saint-Petersburg</td>\n",
       "      <td>08:37:09</td>\n",
       "      <td>Monday</td>\n",
       "    </tr>\n",
       "    <tr>\n",
       "      <th>4</th>\n",
       "      <td>E2DC1FAE</td>\n",
       "      <td>Soul People</td>\n",
       "      <td>Space Echo</td>\n",
       "      <td>dance</td>\n",
       "      <td>Moscow</td>\n",
       "      <td>08:34:34</td>\n",
       "      <td>Monday</td>\n",
       "    </tr>\n",
       "    <tr>\n",
       "      <th>...</th>\n",
       "      <td>...</td>\n",
       "      <td>...</td>\n",
       "      <td>...</td>\n",
       "      <td>...</td>\n",
       "      <td>...</td>\n",
       "      <td>...</td>\n",
       "      <td>...</td>\n",
       "    </tr>\n",
       "    <tr>\n",
       "      <th>61248</th>\n",
       "      <td>729CBB09</td>\n",
       "      <td>My Name</td>\n",
       "      <td>McLean</td>\n",
       "      <td>rnb</td>\n",
       "      <td>Moscow</td>\n",
       "      <td>13:32:28</td>\n",
       "      <td>Wednesday</td>\n",
       "    </tr>\n",
       "    <tr>\n",
       "      <th>61249</th>\n",
       "      <td>D08D4A55</td>\n",
       "      <td>Maybe One Day (feat. Black Spade)</td>\n",
       "      <td>Blu &amp; Exile</td>\n",
       "      <td>hip</td>\n",
       "      <td>Saint-Petersburg</td>\n",
       "      <td>10:00:00</td>\n",
       "      <td>Monday</td>\n",
       "    </tr>\n",
       "    <tr>\n",
       "      <th>61250</th>\n",
       "      <td>C5E3A0D5</td>\n",
       "      <td>Jalopiina</td>\n",
       "      <td>unknown</td>\n",
       "      <td>industrial</td>\n",
       "      <td>Moscow</td>\n",
       "      <td>20:09:26</td>\n",
       "      <td>Friday</td>\n",
       "    </tr>\n",
       "    <tr>\n",
       "      <th>61251</th>\n",
       "      <td>321D0506</td>\n",
       "      <td>Freight Train</td>\n",
       "      <td>Chas McDevitt</td>\n",
       "      <td>rock</td>\n",
       "      <td>Moscow</td>\n",
       "      <td>21:43:59</td>\n",
       "      <td>Friday</td>\n",
       "    </tr>\n",
       "    <tr>\n",
       "      <th>61252</th>\n",
       "      <td>3A64EF84</td>\n",
       "      <td>Tell Me Sweet Little Lies</td>\n",
       "      <td>Monica Lopez</td>\n",
       "      <td>country</td>\n",
       "      <td>Moscow</td>\n",
       "      <td>21:59:46</td>\n",
       "      <td>Friday</td>\n",
       "    </tr>\n",
       "  </tbody>\n",
       "</table>\n",
       "<p>61253 rows × 7 columns</p>\n",
       "</div>"
      ],
      "text/plain": [
       "        user_id                              track       artist_name  \\\n",
       "0      FFB692EC                  Kamigata To Boots  The Mass Missile   \n",
       "1      55204538        Delayed Because of Accident  Andreas Rönnberg   \n",
       "2        20EC38                  Funiculì funiculà       Mario Lanza   \n",
       "3      A3DD03C9              Dragons in the Sunset        Fire + Ice   \n",
       "4      E2DC1FAE                        Soul People        Space Echo   \n",
       "...         ...                                ...               ...   \n",
       "61248  729CBB09                            My Name            McLean   \n",
       "61249  D08D4A55  Maybe One Day (feat. Black Spade)       Blu & Exile   \n",
       "61250  C5E3A0D5                          Jalopiina           unknown   \n",
       "61251  321D0506                      Freight Train     Chas McDevitt   \n",
       "61252  3A64EF84          Tell Me Sweet Little Lies      Monica Lopez   \n",
       "\n",
       "      music_genre              city      time        day  \n",
       "0            rock  Saint-Petersburg  20:28:33  Wednesday  \n",
       "1            rock            Moscow  14:07:09     Friday  \n",
       "2             pop  Saint-Petersburg  20:58:07  Wednesday  \n",
       "3            folk  Saint-Petersburg  08:37:09     Monday  \n",
       "4           dance            Moscow  08:34:34     Monday  \n",
       "...           ...               ...       ...        ...  \n",
       "61248         rnb            Moscow  13:32:28  Wednesday  \n",
       "61249         hip  Saint-Petersburg  10:00:00     Monday  \n",
       "61250  industrial            Moscow  20:09:26     Friday  \n",
       "61251        rock            Moscow  21:43:59     Friday  \n",
       "61252     country            Moscow  21:59:46     Friday  \n",
       "\n",
       "[61253 rows x 7 columns]"
      ]
     },
     "metadata": {},
     "output_type": "display_data"
    }
   ],
   "source": [
    "df = df.drop_duplicates().reset_index(drop=True)\n",
    "display(df) # removal of explicit duplicates (with the removal of old indexes and the formation of new ones)"
   ]
  },
  {
   "cell_type": "code",
   "execution_count": 19,
   "metadata": {
    "id": "-8PuNWQ0_Zct"
   },
   "outputs": [
    {
     "data": {
      "text/plain": [
       "0"
      ]
     },
     "execution_count": 19,
     "metadata": {},
     "output_type": "execute_result"
    }
   ],
   "source": [
    "df.duplicated().sum() # check for duplicates"
   ]
  },
  {
   "cell_type": "markdown",
   "metadata": {
    "id": "QlFBsxAr_Zct"
   },
   "source": [
    "Now get rid of the implicit duplicates in the `genre` column. For example, the name of the same genre can be spelled slightly differently. Such errors will also affect the result of the study."
   ]
  },
  {
   "cell_type": "code",
   "execution_count": 20,
   "metadata": {
    "id": "JIUcqzZN_Zct"
   },
   "outputs": [
    {
     "data": {
      "text/plain": [
       "array(['acid', 'acoustic', 'action', 'adult', 'africa', 'afrikaans',\n",
       "       'alternative', 'alternativepunk', 'ambient', 'americana',\n",
       "       'animated', 'anime', 'arabesk', 'arabic', 'arena',\n",
       "       'argentinetango', 'art', 'audiobook', 'author', 'avantgarde',\n",
       "       'axé', 'baile', 'balkan', 'beats', 'bigroom', 'black', 'bluegrass',\n",
       "       'blues', 'bollywood', 'bossa', 'brazilian', 'breakbeat', 'breaks',\n",
       "       'broadway', 'cantautori', 'cantopop', 'canzone', 'caribbean',\n",
       "       'caucasian', 'celtic', 'chamber', 'chanson', 'children', 'chill',\n",
       "       'chinese', 'choral', 'christian', 'christmas', 'classical',\n",
       "       'classicmetal', 'club', 'colombian', 'comedy', 'conjazz',\n",
       "       'contemporary', 'country', 'cuban', 'dance', 'dancehall',\n",
       "       'dancepop', 'dark', 'death', 'deep', 'deutschrock', 'deutschspr',\n",
       "       'dirty', 'disco', 'dnb', 'documentary', 'downbeat', 'downtempo',\n",
       "       'drum', 'dub', 'dubstep', 'eastern', 'easy', 'electronic',\n",
       "       'electropop', 'emo', 'entehno', 'epicmetal', 'estrada', 'ethnic',\n",
       "       'eurofolk', 'european', 'experimental', 'extrememetal', 'fado',\n",
       "       'fairytail', 'film', 'fitness', 'flamenco', 'folk', 'folklore',\n",
       "       'folkmetal', 'folkrock', 'folktronica', 'forró', 'frankreich',\n",
       "       'französisch', 'french', 'funk', 'future', 'gangsta', 'garage',\n",
       "       'german', 'ghazal', 'gitarre', 'glitch', 'gospel', 'gothic',\n",
       "       'grime', 'grunge', 'gypsy', 'handsup', \"hard'n'heavy\", 'hardcore',\n",
       "       'hardstyle', 'hardtechno', 'hip', 'hip-hop', 'hiphop',\n",
       "       'historisch', 'holiday', 'hop', 'horror', 'house', 'hymn', 'idm',\n",
       "       'independent', 'indian', 'indie', 'indipop', 'industrial',\n",
       "       'inspirational', 'instrumental', 'international', 'irish', 'jam',\n",
       "       'japanese', 'jazz', 'jewish', 'jpop', 'jungle', 'k-pop',\n",
       "       'karadeniz', 'karaoke', 'kayokyoku', 'korean', 'laiko', 'latin',\n",
       "       'latino', 'leftfield', 'local', 'lounge', 'loungeelectronic',\n",
       "       'lovers', 'malaysian', 'mandopop', 'marschmusik', 'meditative',\n",
       "       'mediterranean', 'melodic', 'metal', 'metalcore', 'mexican',\n",
       "       'middle', 'minimal', 'miscellaneous', 'modern', 'mood', 'mpb',\n",
       "       'muslim', 'native', 'neoklassik', 'neue', 'new', 'newage',\n",
       "       'newwave', 'nu', 'nujazz', 'numetal', 'oceania', 'old', 'opera',\n",
       "       'orchestral', 'other', 'piano', 'podcasts', 'pop', 'popdance',\n",
       "       'popelectronic', 'popeurodance', 'poprussian', 'post',\n",
       "       'posthardcore', 'postrock', 'power', 'progmetal', 'progressive',\n",
       "       'psychedelic', 'punjabi', 'punk', 'quebecois', 'ragga', 'ram',\n",
       "       'rancheras', 'rap', 'rave', 'reggae', 'reggaeton', 'regional',\n",
       "       'relax', 'religious', 'retro', 'rhythm', 'rnb', 'rnr', 'rock',\n",
       "       'rockabilly', 'rockalternative', 'rockindie', 'rockother',\n",
       "       'romance', 'roots', 'ruspop', 'rusrap', 'rusrock', 'russian',\n",
       "       'salsa', 'samba', 'scenic', 'schlager', 'self', 'sertanejo',\n",
       "       'shanson', 'shoegazing', 'showtunes', 'singer', 'ska', 'skarock',\n",
       "       'slow', 'smooth', 'soft', 'soul', 'soulful', 'sound', 'soundtrack',\n",
       "       'southern', 'specialty', 'speech', 'spiritual', 'sport',\n",
       "       'stonerrock', 'surf', 'swing', 'synthpop', 'synthrock',\n",
       "       'sängerportrait', 'tango', 'tanzorchester', 'taraftar', 'tatar',\n",
       "       'tech', 'techno', 'teen', 'thrash', 'top', 'traditional',\n",
       "       'tradjazz', 'trance', 'tribal', 'trip', 'triphop', 'tropical',\n",
       "       'türk', 'türkçe', 'ukrrock', 'unknown', 'urban', 'uzbek',\n",
       "       'variété', 'vi', 'videogame', 'vocal', 'western', 'world',\n",
       "       'worldbeat', 'ïîï', 'электроника'], dtype=object)"
      ]
     },
     "execution_count": 20,
     "metadata": {},
     "output_type": "execute_result"
    }
   ],
   "source": [
    "df['music_genre'].sort_values().unique() # view unique genre names"
   ]
  },
  {
   "cell_type": "markdown",
   "metadata": {
    "id": "qej-Qmuo_Zct"
   },
   "source": [
    "\n",
    "\n",
    "There are implicit duplicates in the list:\n",
    "* *hip*,\n",
    "* *hop*,\n",
    "* *hip-hop*."
   ]
  },
  {
   "cell_type": "code",
   "execution_count": 21,
   "metadata": {
    "id": "ErNDkmns_Zct"
   },
   "outputs": [],
   "source": [
    "def replace_wrong_genres(wrong_genres, correct_genre): # function to replace implicit duplicates\n",
    "    for wrong_genre in wrong_genres:\n",
    "        df['music_genre'] = df['music_genre'].replace(wrong_genre, correct_genre)\n",
    "        \n"
   ]
  },
  {
   "cell_type": "code",
   "execution_count": 22,
   "metadata": {
    "id": "YN5i2hpmSo09"
   },
   "outputs": [],
   "source": [
    "duplicates  = ['hip', 'hop', 'hip-hop']\n",
    "title = 'hiphop'\n",
    "replace_wrong_genres(duplicates, title) # eliminate Implicit Duplicates"
   ]
  },
  {
   "cell_type": "code",
   "execution_count": 23,
   "metadata": {
    "id": "wvixALnFG15m"
   },
   "outputs": [
    {
     "data": {
      "text/plain": [
       "array(['acid', 'acoustic', 'action', 'adult', 'africa', 'afrikaans',\n",
       "       'alternative', 'alternativepunk', 'ambient', 'americana',\n",
       "       'animated', 'anime', 'arabesk', 'arabic', 'arena',\n",
       "       'argentinetango', 'art', 'audiobook', 'author', 'avantgarde',\n",
       "       'axé', 'baile', 'balkan', 'beats', 'bigroom', 'black', 'bluegrass',\n",
       "       'blues', 'bollywood', 'bossa', 'brazilian', 'breakbeat', 'breaks',\n",
       "       'broadway', 'cantautori', 'cantopop', 'canzone', 'caribbean',\n",
       "       'caucasian', 'celtic', 'chamber', 'chanson', 'children', 'chill',\n",
       "       'chinese', 'choral', 'christian', 'christmas', 'classical',\n",
       "       'classicmetal', 'club', 'colombian', 'comedy', 'conjazz',\n",
       "       'contemporary', 'country', 'cuban', 'dance', 'dancehall',\n",
       "       'dancepop', 'dark', 'death', 'deep', 'deutschrock', 'deutschspr',\n",
       "       'dirty', 'disco', 'dnb', 'documentary', 'downbeat', 'downtempo',\n",
       "       'drum', 'dub', 'dubstep', 'eastern', 'easy', 'electronic',\n",
       "       'electropop', 'emo', 'entehno', 'epicmetal', 'estrada', 'ethnic',\n",
       "       'eurofolk', 'european', 'experimental', 'extrememetal', 'fado',\n",
       "       'fairytail', 'film', 'fitness', 'flamenco', 'folk', 'folklore',\n",
       "       'folkmetal', 'folkrock', 'folktronica', 'forró', 'frankreich',\n",
       "       'französisch', 'french', 'funk', 'future', 'gangsta', 'garage',\n",
       "       'german', 'ghazal', 'gitarre', 'glitch', 'gospel', 'gothic',\n",
       "       'grime', 'grunge', 'gypsy', 'handsup', \"hard'n'heavy\", 'hardcore',\n",
       "       'hardstyle', 'hardtechno', 'hiphop', 'historisch', 'holiday',\n",
       "       'horror', 'house', 'hymn', 'idm', 'independent', 'indian', 'indie',\n",
       "       'indipop', 'industrial', 'inspirational', 'instrumental',\n",
       "       'international', 'irish', 'jam', 'japanese', 'jazz', 'jewish',\n",
       "       'jpop', 'jungle', 'k-pop', 'karadeniz', 'karaoke', 'kayokyoku',\n",
       "       'korean', 'laiko', 'latin', 'latino', 'leftfield', 'local',\n",
       "       'lounge', 'loungeelectronic', 'lovers', 'malaysian', 'mandopop',\n",
       "       'marschmusik', 'meditative', 'mediterranean', 'melodic', 'metal',\n",
       "       'metalcore', 'mexican', 'middle', 'minimal', 'miscellaneous',\n",
       "       'modern', 'mood', 'mpb', 'muslim', 'native', 'neoklassik', 'neue',\n",
       "       'new', 'newage', 'newwave', 'nu', 'nujazz', 'numetal', 'oceania',\n",
       "       'old', 'opera', 'orchestral', 'other', 'piano', 'podcasts', 'pop',\n",
       "       'popdance', 'popelectronic', 'popeurodance', 'poprussian', 'post',\n",
       "       'posthardcore', 'postrock', 'power', 'progmetal', 'progressive',\n",
       "       'psychedelic', 'punjabi', 'punk', 'quebecois', 'ragga', 'ram',\n",
       "       'rancheras', 'rap', 'rave', 'reggae', 'reggaeton', 'regional',\n",
       "       'relax', 'religious', 'retro', 'rhythm', 'rnb', 'rnr', 'rock',\n",
       "       'rockabilly', 'rockalternative', 'rockindie', 'rockother',\n",
       "       'romance', 'roots', 'ruspop', 'rusrap', 'rusrock', 'russian',\n",
       "       'salsa', 'samba', 'scenic', 'schlager', 'self', 'sertanejo',\n",
       "       'shanson', 'shoegazing', 'showtunes', 'singer', 'ska', 'skarock',\n",
       "       'slow', 'smooth', 'soft', 'soul', 'soulful', 'sound', 'soundtrack',\n",
       "       'southern', 'specialty', 'speech', 'spiritual', 'sport',\n",
       "       'stonerrock', 'surf', 'swing', 'synthpop', 'synthrock',\n",
       "       'sängerportrait', 'tango', 'tanzorchester', 'taraftar', 'tatar',\n",
       "       'tech', 'techno', 'teen', 'thrash', 'top', 'traditional',\n",
       "       'tradjazz', 'trance', 'tribal', 'trip', 'triphop', 'tropical',\n",
       "       'türk', 'türkçe', 'ukrrock', 'unknown', 'urban', 'uzbek',\n",
       "       'variété', 'vi', 'videogame', 'vocal', 'western', 'world',\n",
       "       'worldbeat', 'ïîï', 'электроника'], dtype=object)"
      ]
     },
     "execution_count": 23,
     "metadata": {},
     "output_type": "execute_result"
    }
   ],
   "source": [
    "df['music_genre'].sort_values().unique() # checking for implicit duplicates"
   ]
  },
  {
   "cell_type": "markdown",
   "metadata": {
    "id": "jz6a9-7HQUDd"
   },
   "source": [
    "**Conclusions**\n",
    "\n",
    "Preprocessing found three problems in the data:\n",
    "\n",
    "- headline style violations,\n",
    "- missing values,\n",
    "- duplicates - explicit and implicit.\n",
    "\n",
    "Headings have been fixed to make the table easier to work with. Without duplicates, the study will become more accurate.\n",
    "\n",
    "Missing values are replaced with `'unknown'`. It remains to be seen whether the gaps in the `genre` column will harm the study.\n",
    "\n",
    "Now we can move on to hypothesis testing."
   ]
  },
  {
   "cell_type": "markdown",
   "metadata": {
    "id": "WttZHXH0SqKk"
   },
   "source": [
    "## Hypothesis testing"
   ]
  },
  {
   "cell_type": "markdown",
   "metadata": {
    "id": "Im936VVi_Zcu"
   },
   "source": [
    "### Comparison of users behavior of two capitals"
   ]
  },
  {
   "cell_type": "markdown",
   "metadata": {
    "id": "nwt_MuaL_Zcu"
   },
   "source": [
    "The first hypothesis states that users listen to music differently in Moscow and St. Petersburg. Let's check this assumption on the data on three days of the week - Monday, Wednesday and Friday. For this:\n",
    "\n",
    "* Separate users of Moscow and St. Petersburg\n",
    "* Compare how many tracks each group of users listened to on Monday, Wednesday and Friday."
   ]
  },
  {
   "cell_type": "code",
   "execution_count": 24,
   "metadata": {
    "id": "0_Qs96oh_Zcu"
   },
   "outputs": [
    {
     "data": {
      "text/html": [
       "<div>\n",
       "<style scoped>\n",
       "    .dataframe tbody tr th:only-of-type {\n",
       "        vertical-align: middle;\n",
       "    }\n",
       "\n",
       "    .dataframe tbody tr th {\n",
       "        vertical-align: top;\n",
       "    }\n",
       "\n",
       "    .dataframe thead th {\n",
       "        text-align: right;\n",
       "    }\n",
       "</style>\n",
       "<table border=\"1\" class=\"dataframe\">\n",
       "  <thead>\n",
       "    <tr style=\"text-align: right;\">\n",
       "      <th></th>\n",
       "      <th>city</th>\n",
       "    </tr>\n",
       "    <tr>\n",
       "      <th>city</th>\n",
       "      <th></th>\n",
       "    </tr>\n",
       "  </thead>\n",
       "  <tbody>\n",
       "    <tr>\n",
       "      <th>Moscow</th>\n",
       "      <td>42741</td>\n",
       "    </tr>\n",
       "    <tr>\n",
       "      <th>Saint-Petersburg</th>\n",
       "      <td>18512</td>\n",
       "    </tr>\n",
       "  </tbody>\n",
       "</table>\n",
       "</div>"
      ],
      "text/plain": [
       "                   city\n",
       "city                   \n",
       "Moscow            42741\n",
       "Saint-Petersburg  18512"
      ]
     },
     "execution_count": 24,
     "metadata": {},
     "output_type": "execute_result"
    }
   ],
   "source": [
    "df.groupby('city')[['city']].count()"
   ]
  },
  {
   "cell_type": "markdown",
   "metadata": {
    "id": "dzli3w8o_Zcu"
   },
   "source": [
    "There are more auditions in Moscow than in St. Petersburg. It does not follow from this that Moscow users listen to music more often. There are simply more users in Moscow.\n",
    "\n",
    "Now let's group the data by day of the week and count the plays on Monday, Wednesday, and Friday. \n"
   ]
  },
  {
   "cell_type": "code",
   "execution_count": 25,
   "metadata": {
    "id": "uZMKjiJz_Zcu"
   },
   "outputs": [
    {
     "data": {
      "text/html": [
       "<div>\n",
       "<style scoped>\n",
       "    .dataframe tbody tr th:only-of-type {\n",
       "        vertical-align: middle;\n",
       "    }\n",
       "\n",
       "    .dataframe tbody tr th {\n",
       "        vertical-align: top;\n",
       "    }\n",
       "\n",
       "    .dataframe thead th {\n",
       "        text-align: right;\n",
       "    }\n",
       "</style>\n",
       "<table border=\"1\" class=\"dataframe\">\n",
       "  <thead>\n",
       "    <tr style=\"text-align: right;\">\n",
       "      <th></th>\n",
       "      <th>day</th>\n",
       "    </tr>\n",
       "    <tr>\n",
       "      <th>day</th>\n",
       "      <th></th>\n",
       "    </tr>\n",
       "  </thead>\n",
       "  <tbody>\n",
       "    <tr>\n",
       "      <th>Friday</th>\n",
       "      <td>21840</td>\n",
       "    </tr>\n",
       "    <tr>\n",
       "      <th>Monday</th>\n",
       "      <td>21354</td>\n",
       "    </tr>\n",
       "    <tr>\n",
       "      <th>Wednesday</th>\n",
       "      <td>18059</td>\n",
       "    </tr>\n",
       "  </tbody>\n",
       "</table>\n",
       "</div>"
      ],
      "text/plain": [
       "             day\n",
       "day             \n",
       "Friday     21840\n",
       "Monday     21354\n",
       "Wednesday  18059"
      ]
     },
     "execution_count": 25,
     "metadata": {},
     "output_type": "execute_result"
    }
   ],
   "source": [
    "df.groupby('day')[['day']].count()"
   ]
  },
  {
   "cell_type": "markdown",
   "metadata": {
    "id": "cC2tNrlL_Zcu"
   },
   "source": [
    "On average, users from the two cities are less active on Wednesdays. But the picture may change if we consider each city separately."
   ]
  },
  {
   "cell_type": "markdown",
   "metadata": {
    "id": "POzs8bGa_Zcu"
   },
   "source": [
    "Now write a function that combines these two calculations"
   ]
  },
  {
   "cell_type": "code",
   "execution_count": 26,
   "metadata": {
    "id": "Nz3GdQB1_Zcu"
   },
   "outputs": [],
   "source": [
    "def number_tracks(day, city):\n",
    "    track_list = df[df['day'] == day] \n",
    "    track_list = track_list[track_list['city'] == city]\n",
    "    track_list_count = track_list['user_id'].count()\n",
    "    return track_list_count\n",
    "\n",
    "# function for counting plays for a specific city and day.\n",
    "# using sequential filtering with logical indexing, it\n",
    "# first get the rows with the desired day from the source table,\n",
    "# then from the result it will filter the rows with the desired city,\n",
    "# the count() method will count the number of values in the user_id column.\n",
    "# This is the number the function will return as a result"
   ]
  },
  {
   "cell_type": "code",
   "execution_count": 27,
   "metadata": {
    "id": "rJcRATNQ_Zcu"
   },
   "outputs": [
    {
     "name": "stdout",
     "output_type": "stream",
     "text": [
      "15740\n"
     ]
    }
   ],
   "source": [
    "print(number_tracks('Monday','Moscow')) # number of listenings in Moscow on Mondays"
   ]
  },
  {
   "cell_type": "code",
   "execution_count": 28,
   "metadata": {
    "id": "hq_ncZ5T_Zcu"
   },
   "outputs": [
    {
     "name": "stdout",
     "output_type": "stream",
     "text": [
      "5614\n"
     ]
    }
   ],
   "source": [
    "print(number_tracks('Monday','Saint-Petersburg')) # number of listenings in St. Petersburg on Mondays"
   ]
  },
  {
   "cell_type": "code",
   "execution_count": 29,
   "metadata": {
    "id": "_NTy2VPU_Zcu"
   },
   "outputs": [
    {
     "name": "stdout",
     "output_type": "stream",
     "text": [
      "11056\n"
     ]
    }
   ],
   "source": [
    "print(number_tracks('Wednesday','Moscow')) # number of listenings in Moscow on Wednesdays"
   ]
  },
  {
   "cell_type": "code",
   "execution_count": 30,
   "metadata": {
    "id": "j2y3TAwo_Zcu"
   },
   "outputs": [
    {
     "name": "stdout",
     "output_type": "stream",
     "text": [
      "7003\n"
     ]
    }
   ],
   "source": [
    "print(number_tracks('Wednesday','Saint-Petersburg')) # number of listenings in St. Petersburg on Wednesdays"
   ]
  },
  {
   "cell_type": "code",
   "execution_count": 31,
   "metadata": {
    "id": "vYDw5u_K_Zcu"
   },
   "outputs": [
    {
     "name": "stdout",
     "output_type": "stream",
     "text": [
      "15945\n"
     ]
    }
   ],
   "source": [
    "print(number_tracks('Friday','Moscow')) # number of listenings in Moscow on Fridays"
   ]
  },
  {
   "cell_type": "code",
   "execution_count": 32,
   "metadata": {
    "id": "8_yzFtW3_Zcu"
   },
   "outputs": [
    {
     "name": "stdout",
     "output_type": "stream",
     "text": [
      "5895\n"
     ]
    }
   ],
   "source": [
    "print(number_tracks('Friday','Saint-Petersburg')) # number of listenings in St. Petersburg on Fridays"
   ]
  },
  {
   "cell_type": "code",
   "execution_count": 33,
   "metadata": {
    "id": "APAcLpOr_Zcu",
    "scrolled": false
   },
   "outputs": [
    {
     "data": {
      "text/html": [
       "<div>\n",
       "<style scoped>\n",
       "    .dataframe tbody tr th:only-of-type {\n",
       "        vertical-align: middle;\n",
       "    }\n",
       "\n",
       "    .dataframe tbody tr th {\n",
       "        vertical-align: top;\n",
       "    }\n",
       "\n",
       "    .dataframe thead th {\n",
       "        text-align: right;\n",
       "    }\n",
       "</style>\n",
       "<table border=\"1\" class=\"dataframe\">\n",
       "  <thead>\n",
       "    <tr style=\"text-align: right;\">\n",
       "      <th></th>\n",
       "      <th>city</th>\n",
       "      <th>monday</th>\n",
       "      <th>wednesday</th>\n",
       "      <th>friday</th>\n",
       "    </tr>\n",
       "  </thead>\n",
       "  <tbody>\n",
       "    <tr>\n",
       "      <th>0</th>\n",
       "      <td>Moscow</td>\n",
       "      <td>15740</td>\n",
       "      <td>11056</td>\n",
       "      <td>15945</td>\n",
       "    </tr>\n",
       "    <tr>\n",
       "      <th>1</th>\n",
       "      <td>Saint-Petersburg</td>\n",
       "      <td>5614</td>\n",
       "      <td>7003</td>\n",
       "      <td>5895</td>\n",
       "    </tr>\n",
       "  </tbody>\n",
       "</table>\n",
       "</div>"
      ],
      "text/plain": [
       "               city  monday  wednesday  friday\n",
       "0            Moscow   15740      11056   15945\n",
       "1  Saint-Petersburg    5614       7003    5895"
      ]
     },
     "metadata": {},
     "output_type": "display_data"
    }
   ],
   "source": [
    "\n",
    "moscow_spb_listening = pd.DataFrame(data=[['Moscow', 15740, 11056, 15945], ['Saint-Petersburg', 5614, 7003, 5895]], columns=['city', 'monday', 'wednesday', 'friday'])# Таблица с результатами\n",
    "display(moscow_spb_listening)"
   ]
  },
  {
   "cell_type": "markdown",
   "metadata": {
    "id": "-EgPIHYu_Zcu"
   },
   "source": [
    "**Conclusions**\n",
    "\n",
    "The data shows the difference in user behavior:\n",
    "\n",
    "- In Moscow, the peak of listening falls on Monday and Friday, and on Wednesday there is a noticeable decline.\n",
    "- In St. Petersburg, on the contrary, they listen to music more on Wednesdays. Activity on Monday and Friday here is almost equally inferior to Wednesday.\n",
    "\n",
    "So the data support the first hypothesis."
   ]
  },
  {
   "cell_type": "markdown",
   "metadata": {
    "id": "atZAxtq4_Zcu"
   },
   "source": [
    "### Music at the beginning and end of the week"
   ]
  },
  {
   "cell_type": "markdown",
   "metadata": {
    "id": "eXrQqXFH_Zcu"
   },
   "source": [
    "According to the second hypothesis, on Monday morning certain genres predominate in Moscow, while others dominate in St. Petersburg. Similarly, Friday evenings are dominated by different genres, depending on the city."
   ]
  },
  {
   "cell_type": "code",
   "execution_count": 34,
   "metadata": {
    "id": "qeaFfM_P_Zcu"
   },
   "outputs": [],
   "source": [
    "moscow_general = df[df['city'] == 'Moscow'] # getting the moscow_general table from those rows of the df table,\n",
    "# for which the value in the 'city' column is 'Moscow'"
   ]
  },
  {
   "cell_type": "code",
   "execution_count": 35,
   "metadata": {
    "id": "ORaVRKto_Zcu"
   },
   "outputs": [],
   "source": [
    "spb_general = df[df['city'] == 'Saint-Petersburg'] # getting the spb_general table from those rows of the df table,\n",
    "# for which the value in the 'city' column is 'Saint-Petersburg'"
   ]
  },
  {
   "cell_type": "markdown",
   "metadata": {
    "id": "MEJV-CX2_Zcu"
   },
   "source": [
    "Creating the genre_weekday() function. The function should return information about the top 10 genres of those tracks that were listened to on the specified day, in the interval between two timestamps."
   ]
  },
  {
   "cell_type": "code",
   "execution_count": 36,
   "metadata": {
    "id": "laJT9BYl_Zcu"
   },
   "outputs": [],
   "source": [
    "def genre_weekday(table, day, time1, time2):# Declaring the function genre_weekday() with parameters table, day, time1, time2,\n",
    "# which returns information about the most popular genres on the specified day in\n",
    "# given time:\n",
    "     # 1) the genre_df variable saves those rows of the transmitted dataframe table, for\n",
    "# of which at the same time:\n",
    "    genre_df = table[table['day'] == day] # - the value in the day column is equal to the value of the day argument\n",
    "    genre_df = genre_df[genre_df['time'] > time1] # - the value in the time column is greater than the value of the time1 argument\n",
    "    genre_df = genre_df[genre_df['time'] < time2] # - the value in the time column is less than the value of the time2 argument\n",
    "\n",
    "    genre_df_count = genre_df.groupby('music_genre')['music_genre'].count() # 2) group dataframe genre_df by genre column, take one of its\n",
    "# columns and use the count() method to count the number of entries for each\n",
    "# of present genres, write the resulting Series to a variable\n",
    "#genre_df_count\n",
    "    genre_df_sorted = genre_df_count.sort_values(ascending=False) # 3) sort genre_df_count in descending order of occurrence and save\n",
    "# into the genre_df_sorted variable\n",
    "    return genre_df_sorted.head(10) # 4) return a Series of the first 10 genre_df_sorted values, these will be the top 10\n",
    "# popular genres (on the specified day, at the specified time)"
   ]
  },
  {
   "cell_type": "markdown",
   "metadata": {
    "id": "la2s2_PF_Zcu"
   },
   "source": [
    "Comparing the results of the genre_weekday() function for Moscow and St. Petersburg on Monday morning (from 7:00 to 11:00) and Friday evening (from 17:00 to 23:00): "
   ]
  },
  {
   "cell_type": "code",
   "execution_count": 37,
   "metadata": {
    "id": "yz7itPUQ_Zcu"
   },
   "outputs": [
    {
     "data": {
      "text/html": [
       "<div>\n",
       "<style scoped>\n",
       "    .dataframe tbody tr th:only-of-type {\n",
       "        vertical-align: middle;\n",
       "    }\n",
       "\n",
       "    .dataframe tbody tr th {\n",
       "        vertical-align: top;\n",
       "    }\n",
       "\n",
       "    .dataframe thead th {\n",
       "        text-align: right;\n",
       "    }\n",
       "</style>\n",
       "<table border=\"1\" class=\"dataframe\">\n",
       "  <thead>\n",
       "    <tr style=\"text-align: right;\">\n",
       "      <th></th>\n",
       "      <th>music_genre</th>\n",
       "    </tr>\n",
       "    <tr>\n",
       "      <th>music_genre</th>\n",
       "      <th></th>\n",
       "    </tr>\n",
       "  </thead>\n",
       "  <tbody>\n",
       "    <tr>\n",
       "      <th>pop</th>\n",
       "      <td>781</td>\n",
       "    </tr>\n",
       "    <tr>\n",
       "      <th>dance</th>\n",
       "      <td>549</td>\n",
       "    </tr>\n",
       "    <tr>\n",
       "      <th>electronic</th>\n",
       "      <td>480</td>\n",
       "    </tr>\n",
       "    <tr>\n",
       "      <th>rock</th>\n",
       "      <td>474</td>\n",
       "    </tr>\n",
       "    <tr>\n",
       "      <th>hiphop</th>\n",
       "      <td>286</td>\n",
       "    </tr>\n",
       "    <tr>\n",
       "      <th>ruspop</th>\n",
       "      <td>186</td>\n",
       "    </tr>\n",
       "    <tr>\n",
       "      <th>world</th>\n",
       "      <td>181</td>\n",
       "    </tr>\n",
       "    <tr>\n",
       "      <th>rusrap</th>\n",
       "      <td>175</td>\n",
       "    </tr>\n",
       "    <tr>\n",
       "      <th>alternative</th>\n",
       "      <td>164</td>\n",
       "    </tr>\n",
       "    <tr>\n",
       "      <th>unknown</th>\n",
       "      <td>161</td>\n",
       "    </tr>\n",
       "  </tbody>\n",
       "</table>\n",
       "</div>"
      ],
      "text/plain": [
       "             music_genre\n",
       "music_genre             \n",
       "pop                  781\n",
       "dance                549\n",
       "electronic           480\n",
       "rock                 474\n",
       "hiphop               286\n",
       "ruspop               186\n",
       "world                181\n",
       "rusrap               175\n",
       "alternative          164\n",
       "unknown              161"
      ]
     },
     "execution_count": 37,
     "metadata": {},
     "output_type": "execute_result"
    }
   ],
   "source": [
    "genre_weekday(moscow_general, 'Monday', '07:00', '11:00').to_frame() # function call for Monday morning in Moscow"
   ]
  },
  {
   "cell_type": "code",
   "execution_count": 38,
   "metadata": {
    "id": "kwUcHPdy_Zcu",
    "scrolled": true
   },
   "outputs": [
    {
     "data": {
      "text/html": [
       "<div>\n",
       "<style scoped>\n",
       "    .dataframe tbody tr th:only-of-type {\n",
       "        vertical-align: middle;\n",
       "    }\n",
       "\n",
       "    .dataframe tbody tr th {\n",
       "        vertical-align: top;\n",
       "    }\n",
       "\n",
       "    .dataframe thead th {\n",
       "        text-align: right;\n",
       "    }\n",
       "</style>\n",
       "<table border=\"1\" class=\"dataframe\">\n",
       "  <thead>\n",
       "    <tr style=\"text-align: right;\">\n",
       "      <th></th>\n",
       "      <th>music_genre</th>\n",
       "    </tr>\n",
       "    <tr>\n",
       "      <th>music_genre</th>\n",
       "      <th></th>\n",
       "    </tr>\n",
       "  </thead>\n",
       "  <tbody>\n",
       "    <tr>\n",
       "      <th>pop</th>\n",
       "      <td>218</td>\n",
       "    </tr>\n",
       "    <tr>\n",
       "      <th>dance</th>\n",
       "      <td>182</td>\n",
       "    </tr>\n",
       "    <tr>\n",
       "      <th>rock</th>\n",
       "      <td>162</td>\n",
       "    </tr>\n",
       "    <tr>\n",
       "      <th>electronic</th>\n",
       "      <td>147</td>\n",
       "    </tr>\n",
       "    <tr>\n",
       "      <th>hiphop</th>\n",
       "      <td>80</td>\n",
       "    </tr>\n",
       "    <tr>\n",
       "      <th>ruspop</th>\n",
       "      <td>64</td>\n",
       "    </tr>\n",
       "    <tr>\n",
       "      <th>alternative</th>\n",
       "      <td>58</td>\n",
       "    </tr>\n",
       "    <tr>\n",
       "      <th>rusrap</th>\n",
       "      <td>55</td>\n",
       "    </tr>\n",
       "    <tr>\n",
       "      <th>jazz</th>\n",
       "      <td>44</td>\n",
       "    </tr>\n",
       "    <tr>\n",
       "      <th>classical</th>\n",
       "      <td>40</td>\n",
       "    </tr>\n",
       "  </tbody>\n",
       "</table>\n",
       "</div>"
      ],
      "text/plain": [
       "             music_genre\n",
       "music_genre             \n",
       "pop                  218\n",
       "dance                182\n",
       "rock                 162\n",
       "electronic           147\n",
       "hiphop                80\n",
       "ruspop                64\n",
       "alternative           58\n",
       "rusrap                55\n",
       "jazz                  44\n",
       "classical             40"
      ]
     },
     "execution_count": 38,
     "metadata": {},
     "output_type": "execute_result"
    }
   ],
   "source": [
    "genre_weekday(spb_general, 'Monday', '07:00', '11:00').to_frame() # function call for Monday morning in St. Petersburg"
   ]
  },
  {
   "cell_type": "code",
   "execution_count": 39,
   "metadata": {
    "id": "EzXVRE1o_Zcu",
    "scrolled": false
   },
   "outputs": [
    {
     "data": {
      "text/html": [
       "<div>\n",
       "<style scoped>\n",
       "    .dataframe tbody tr th:only-of-type {\n",
       "        vertical-align: middle;\n",
       "    }\n",
       "\n",
       "    .dataframe tbody tr th {\n",
       "        vertical-align: top;\n",
       "    }\n",
       "\n",
       "    .dataframe thead th {\n",
       "        text-align: right;\n",
       "    }\n",
       "</style>\n",
       "<table border=\"1\" class=\"dataframe\">\n",
       "  <thead>\n",
       "    <tr style=\"text-align: right;\">\n",
       "      <th></th>\n",
       "      <th>music_genre</th>\n",
       "    </tr>\n",
       "    <tr>\n",
       "      <th>music_genre</th>\n",
       "      <th></th>\n",
       "    </tr>\n",
       "  </thead>\n",
       "  <tbody>\n",
       "    <tr>\n",
       "      <th>pop</th>\n",
       "      <td>713</td>\n",
       "    </tr>\n",
       "    <tr>\n",
       "      <th>rock</th>\n",
       "      <td>517</td>\n",
       "    </tr>\n",
       "    <tr>\n",
       "      <th>dance</th>\n",
       "      <td>495</td>\n",
       "    </tr>\n",
       "    <tr>\n",
       "      <th>electronic</th>\n",
       "      <td>482</td>\n",
       "    </tr>\n",
       "    <tr>\n",
       "      <th>hiphop</th>\n",
       "      <td>273</td>\n",
       "    </tr>\n",
       "    <tr>\n",
       "      <th>world</th>\n",
       "      <td>208</td>\n",
       "    </tr>\n",
       "    <tr>\n",
       "      <th>ruspop</th>\n",
       "      <td>170</td>\n",
       "    </tr>\n",
       "    <tr>\n",
       "      <th>alternative</th>\n",
       "      <td>163</td>\n",
       "    </tr>\n",
       "    <tr>\n",
       "      <th>classical</th>\n",
       "      <td>163</td>\n",
       "    </tr>\n",
       "    <tr>\n",
       "      <th>rusrap</th>\n",
       "      <td>142</td>\n",
       "    </tr>\n",
       "  </tbody>\n",
       "</table>\n",
       "</div>"
      ],
      "text/plain": [
       "             music_genre\n",
       "music_genre             \n",
       "pop                  713\n",
       "rock                 517\n",
       "dance                495\n",
       "electronic           482\n",
       "hiphop               273\n",
       "world                208\n",
       "ruspop               170\n",
       "alternative          163\n",
       "classical            163\n",
       "rusrap               142"
      ]
     },
     "execution_count": 39,
     "metadata": {},
     "output_type": "execute_result"
    }
   ],
   "source": [
    "genre_weekday(moscow_general, 'Friday', '17:00', '23:00').to_frame()# function call for Friday evening in Moscow"
   ]
  },
  {
   "cell_type": "code",
   "execution_count": 40,
   "metadata": {
    "id": "JZaEKu5v_Zcu",
    "scrolled": true
   },
   "outputs": [
    {
     "data": {
      "text/html": [
       "<div>\n",
       "<style scoped>\n",
       "    .dataframe tbody tr th:only-of-type {\n",
       "        vertical-align: middle;\n",
       "    }\n",
       "\n",
       "    .dataframe tbody tr th {\n",
       "        vertical-align: top;\n",
       "    }\n",
       "\n",
       "    .dataframe thead th {\n",
       "        text-align: right;\n",
       "    }\n",
       "</style>\n",
       "<table border=\"1\" class=\"dataframe\">\n",
       "  <thead>\n",
       "    <tr style=\"text-align: right;\">\n",
       "      <th></th>\n",
       "      <th>music_genre</th>\n",
       "    </tr>\n",
       "    <tr>\n",
       "      <th>music_genre</th>\n",
       "      <th></th>\n",
       "    </tr>\n",
       "  </thead>\n",
       "  <tbody>\n",
       "    <tr>\n",
       "      <th>pop</th>\n",
       "      <td>256</td>\n",
       "    </tr>\n",
       "    <tr>\n",
       "      <th>electronic</th>\n",
       "      <td>216</td>\n",
       "    </tr>\n",
       "    <tr>\n",
       "      <th>rock</th>\n",
       "      <td>216</td>\n",
       "    </tr>\n",
       "    <tr>\n",
       "      <th>dance</th>\n",
       "      <td>210</td>\n",
       "    </tr>\n",
       "    <tr>\n",
       "      <th>hiphop</th>\n",
       "      <td>97</td>\n",
       "    </tr>\n",
       "    <tr>\n",
       "      <th>alternative</th>\n",
       "      <td>63</td>\n",
       "    </tr>\n",
       "    <tr>\n",
       "      <th>jazz</th>\n",
       "      <td>61</td>\n",
       "    </tr>\n",
       "    <tr>\n",
       "      <th>classical</th>\n",
       "      <td>60</td>\n",
       "    </tr>\n",
       "    <tr>\n",
       "      <th>rusrap</th>\n",
       "      <td>59</td>\n",
       "    </tr>\n",
       "    <tr>\n",
       "      <th>world</th>\n",
       "      <td>54</td>\n",
       "    </tr>\n",
       "  </tbody>\n",
       "</table>\n",
       "</div>"
      ],
      "text/plain": [
       "             music_genre\n",
       "music_genre             \n",
       "pop                  256\n",
       "electronic           216\n",
       "rock                 216\n",
       "dance                210\n",
       "hiphop                97\n",
       "alternative           63\n",
       "jazz                  61\n",
       "classical             60\n",
       "rusrap                59\n",
       "world                 54"
      ]
     },
     "execution_count": 40,
     "metadata": {},
     "output_type": "execute_result"
    }
   ],
   "source": [
    "genre_weekday(spb_general, 'Friday', '17:00', '23:00').to_frame()# function call for Friday evening in St. Petersburg"
   ]
  },
  {
   "cell_type": "markdown",
   "metadata": {
    "id": "wrCe4MNX_Zcu"
   },
   "source": [
    "**Conclusions**\n",
    "\n",
    "If we compare the top 10 genres on Monday morning, we can draw the following conclusions:\n",
    "\n",
    "1. In Moscow and St. Petersburg they listen to similar music. The only difference is that the Moscow rating includes the “world” genre, while the St. Petersburg rating includes jazz and classical.\n",
    "\n",
    "2. There were so many missing values ​​in Moscow that the value `'unknown'` took tenth place among the most popular genres. This means that missing values ​​occupy a significant share in the data and threaten the reliability of the study.\n",
    "\n",
    "Friday night does not change this picture. Some genres rise a little higher, others go down, but overall the top 10 stays the same.\n",
    "\n",
    "Thus, the second hypothesis was only partially confirmed:\n",
    "* Users listen to similar music at the beginning of the week and at the end.\n",
    "* The difference between Moscow and St. Petersburg is not very pronounced. In Moscow, they listen to Russian popular music more often, in St. Petersburg - jazz.\n",
    "\n",
    "However, gaps in the data cast doubt on this result. There are so many of them in Moscow that the top 10 ranking could look different if it were not for the lost genre data."
   ]
  },
  {
   "cell_type": "markdown",
   "metadata": {
    "id": "JolODAqr_Zcu"
   },
   "source": [
    "### Genre preferences in Moscow and St. Petersburg\n",
    "\n",
    "Hypothesis: St. Petersburg is the capital of rap, the music of this genre is listened to more often than in Moscow. And Moscow is a city of contrasts, which, nevertheless, is dominated by pop music."
   ]
  },
  {
   "cell_type": "code",
   "execution_count": 41,
   "metadata": {
    "id": "r19lIPke_Zcu"
   },
   "outputs": [],
   "source": [
    "moscow_genres = moscow_general.groupby('music_genre')['music_genre'].count().sort_values(ascending=False)\n",
    "# counting the number of 'genre' in values in this grouping using the count() method,\n",
    "# sort the resulting Series in descending order and save to moscow_genres"
   ]
  },
  {
   "cell_type": "code",
   "execution_count": 42,
   "metadata": {
    "id": "WhCSooF8_Zcv",
    "scrolled": true
   },
   "outputs": [
    {
     "data": {
      "text/html": [
       "<div>\n",
       "<style scoped>\n",
       "    .dataframe tbody tr th:only-of-type {\n",
       "        vertical-align: middle;\n",
       "    }\n",
       "\n",
       "    .dataframe tbody tr th {\n",
       "        vertical-align: top;\n",
       "    }\n",
       "\n",
       "    .dataframe thead th {\n",
       "        text-align: right;\n",
       "    }\n",
       "</style>\n",
       "<table border=\"1\" class=\"dataframe\">\n",
       "  <thead>\n",
       "    <tr style=\"text-align: right;\">\n",
       "      <th></th>\n",
       "      <th>music_genre</th>\n",
       "    </tr>\n",
       "    <tr>\n",
       "      <th>music_genre</th>\n",
       "      <th></th>\n",
       "    </tr>\n",
       "  </thead>\n",
       "  <tbody>\n",
       "    <tr>\n",
       "      <th>pop</th>\n",
       "      <td>5892</td>\n",
       "    </tr>\n",
       "    <tr>\n",
       "      <th>dance</th>\n",
       "      <td>4435</td>\n",
       "    </tr>\n",
       "    <tr>\n",
       "      <th>rock</th>\n",
       "      <td>3965</td>\n",
       "    </tr>\n",
       "    <tr>\n",
       "      <th>electronic</th>\n",
       "      <td>3786</td>\n",
       "    </tr>\n",
       "    <tr>\n",
       "      <th>hiphop</th>\n",
       "      <td>2096</td>\n",
       "    </tr>\n",
       "    <tr>\n",
       "      <th>classical</th>\n",
       "      <td>1616</td>\n",
       "    </tr>\n",
       "    <tr>\n",
       "      <th>world</th>\n",
       "      <td>1432</td>\n",
       "    </tr>\n",
       "    <tr>\n",
       "      <th>alternative</th>\n",
       "      <td>1379</td>\n",
       "    </tr>\n",
       "    <tr>\n",
       "      <th>ruspop</th>\n",
       "      <td>1372</td>\n",
       "    </tr>\n",
       "    <tr>\n",
       "      <th>rusrap</th>\n",
       "      <td>1161</td>\n",
       "    </tr>\n",
       "  </tbody>\n",
       "</table>\n",
       "</div>"
      ],
      "text/plain": [
       "             music_genre\n",
       "music_genre             \n",
       "pop                 5892\n",
       "dance               4435\n",
       "rock                3965\n",
       "electronic          3786\n",
       "hiphop              2096\n",
       "classical           1616\n",
       "world               1432\n",
       "alternative         1379\n",
       "ruspop              1372\n",
       "rusrap              1161"
      ]
     },
     "execution_count": 42,
     "metadata": {},
     "output_type": "execute_result"
    }
   ],
   "source": [
    "moscow_genres.to_frame().head(10) # counting the number of 'genre' in Moscow"
   ]
  },
  {
   "cell_type": "code",
   "execution_count": 43,
   "metadata": {
    "id": "gluLIpE7_Zcv"
   },
   "outputs": [],
   "source": [
    "spb_genres = spb_general.groupby('music_genre')['music_genre'].count().sort_values(ascending=False)  \n",
    "# counting the number of 'genre' in values in this grouping using the count() method,\n",
    "# sort the resulting Series in descending order and save to moscow_genres"
   ]
  },
  {
   "cell_type": "code",
   "execution_count": 44,
   "metadata": {
    "id": "uaGJHjVU_Zcv",
    "scrolled": true
   },
   "outputs": [
    {
     "data": {
      "text/html": [
       "<div>\n",
       "<style scoped>\n",
       "    .dataframe tbody tr th:only-of-type {\n",
       "        vertical-align: middle;\n",
       "    }\n",
       "\n",
       "    .dataframe tbody tr th {\n",
       "        vertical-align: top;\n",
       "    }\n",
       "\n",
       "    .dataframe thead th {\n",
       "        text-align: right;\n",
       "    }\n",
       "</style>\n",
       "<table border=\"1\" class=\"dataframe\">\n",
       "  <thead>\n",
       "    <tr style=\"text-align: right;\">\n",
       "      <th></th>\n",
       "      <th>music_genre</th>\n",
       "    </tr>\n",
       "    <tr>\n",
       "      <th>music_genre</th>\n",
       "      <th></th>\n",
       "    </tr>\n",
       "  </thead>\n",
       "  <tbody>\n",
       "    <tr>\n",
       "      <th>pop</th>\n",
       "      <td>2431</td>\n",
       "    </tr>\n",
       "    <tr>\n",
       "      <th>dance</th>\n",
       "      <td>1932</td>\n",
       "    </tr>\n",
       "    <tr>\n",
       "      <th>rock</th>\n",
       "      <td>1879</td>\n",
       "    </tr>\n",
       "    <tr>\n",
       "      <th>electronic</th>\n",
       "      <td>1736</td>\n",
       "    </tr>\n",
       "    <tr>\n",
       "      <th>hiphop</th>\n",
       "      <td>960</td>\n",
       "    </tr>\n",
       "    <tr>\n",
       "      <th>alternative</th>\n",
       "      <td>649</td>\n",
       "    </tr>\n",
       "    <tr>\n",
       "      <th>classical</th>\n",
       "      <td>646</td>\n",
       "    </tr>\n",
       "    <tr>\n",
       "      <th>rusrap</th>\n",
       "      <td>564</td>\n",
       "    </tr>\n",
       "    <tr>\n",
       "      <th>ruspop</th>\n",
       "      <td>538</td>\n",
       "    </tr>\n",
       "    <tr>\n",
       "      <th>world</th>\n",
       "      <td>515</td>\n",
       "    </tr>\n",
       "  </tbody>\n",
       "</table>\n",
       "</div>"
      ],
      "text/plain": [
       "             music_genre\n",
       "music_genre             \n",
       "pop                 2431\n",
       "dance               1932\n",
       "rock                1879\n",
       "electronic          1736\n",
       "hiphop               960\n",
       "alternative          649\n",
       "classical            646\n",
       "rusrap               564\n",
       "ruspop               538\n",
       "world                515"
      ]
     },
     "execution_count": 44,
     "metadata": {},
     "output_type": "execute_result"
    }
   ],
   "source": [
    "spb_genres.to_frame().head(10) # counting the number of 'genre' in St. Petersburg"
   ]
  },
  {
   "cell_type": "markdown",
   "metadata": {
    "id": "nVhnJEm__Zcv"
   },
   "source": [
    "**Conclusions**\n",
    "The hypothesis was partially confirmed:\n",
    "* Pop music is the most popular genre in Moscow, as the hypothesis suggested. Moreover, in the top 10 genres there is a close genre - Russian popular music.\n",
    "* Contrary to expectations, rap is equally popular in Moscow and St. Petersburg. \n"
   ]
  },
  {
   "cell_type": "markdown",
   "metadata": {
    "id": "ykKQ0N65_Zcv"
   },
   "source": [
    "## Research results"
   ]
  },
  {
   "cell_type": "markdown",
   "metadata": {
    "id": "tjUwbHb3_Zcv"
   },
   "source": [
    "The study tested three hypotheses:\n",
    "\n",
    "1. The day of the week has a different effect on the activity of users in Moscow and St. Petersburg.\n",
    "\n",
    "The first hypothesis was fully confirmed.\n",
    "\n",
    "2. Musical preferences do not change much during the week - be it Moscow or St. Petersburg. Small differences are noticeable at the beginning of the week, on Mondays:\n",
    "* in Moscow they listen to music of the “world” genre,\n",
    "* in St. Petersburg - jazz and classical music.\n",
    "\n",
    "Thus, the second hypothesis was only partly confirmed. This result could have been different were it not for gaps in the data.\n",
    "\n",
    "3. The tastes of users of Moscow and St. Petersburg have more in common than differences. Contrary to expectations, genre preferences in St. Petersburg resemble those in Moscow.\n",
    "\n",
    "The third hypothesis was not confirmed. If there are differences in preferences, they are invisible to the bulk of users."
   ]
  }
 ],
 "metadata": {
  "ExecuteTimeLog": [
   {
    "duration": 691,
    "start_time": "2021-08-22T09:40:05.542Z"
   },
   {
    "duration": 470,
    "start_time": "2021-08-22T09:40:37.460Z"
   },
   {
    "duration": 285,
    "start_time": "2021-08-22T09:41:01.825Z"
   },
   {
    "duration": 262,
    "start_time": "2021-08-22T09:43:57.221Z"
   },
   {
    "duration": 1952,
    "start_time": "2021-08-22T09:44:18.112Z"
   },
   {
    "duration": 266,
    "start_time": "2021-08-22T09:44:20.296Z"
   },
   {
    "duration": 164,
    "start_time": "2021-08-22T09:45:08.249Z"
   },
   {
    "duration": 23,
    "start_time": "2021-08-22T09:45:13.009Z"
   },
   {
    "duration": 31,
    "start_time": "2021-08-22T09:51:31.662Z"
   },
   {
    "duration": 32,
    "start_time": "2021-08-22T09:52:07.741Z"
   },
   {
    "duration": 29,
    "start_time": "2021-08-22T09:52:14.964Z"
   },
   {
    "duration": 6,
    "start_time": "2021-08-22T10:05:13.071Z"
   },
   {
    "duration": 5,
    "start_time": "2021-08-22T10:05:48.377Z"
   },
   {
    "duration": 14,
    "start_time": "2021-08-22T10:06:06.142Z"
   },
   {
    "duration": 25,
    "start_time": "2021-08-22T10:12:08.242Z"
   },
   {
    "duration": 5,
    "start_time": "2021-08-22T10:12:23.133Z"
   },
   {
    "duration": 5,
    "start_time": "2021-08-22T10:12:36.563Z"
   },
   {
    "duration": 6,
    "start_time": "2021-08-22T10:12:46.827Z"
   },
   {
    "duration": 5,
    "start_time": "2021-08-22T10:12:53.592Z"
   },
   {
    "duration": 6,
    "start_time": "2021-08-22T10:13:25.336Z"
   },
   {
    "duration": 5,
    "start_time": "2021-08-22T10:14:04.736Z"
   },
   {
    "duration": 3,
    "start_time": "2021-08-22T10:16:24.291Z"
   },
   {
    "duration": 5,
    "start_time": "2021-08-22T10:16:25.820Z"
   },
   {
    "duration": 6,
    "start_time": "2021-08-22T10:16:28.433Z"
   },
   {
    "duration": 6,
    "start_time": "2021-08-22T10:16:30.524Z"
   },
   {
    "duration": 3,
    "start_time": "2021-08-22T10:16:31.620Z"
   },
   {
    "duration": 3,
    "start_time": "2021-08-22T10:16:39.206Z"
   },
   {
    "duration": 187,
    "start_time": "2021-08-22T10:16:39.216Z"
   },
   {
    "duration": 13,
    "start_time": "2021-08-22T10:16:39.406Z"
   },
   {
    "duration": 30,
    "start_time": "2021-08-22T10:16:39.422Z"
   },
   {
    "duration": 30,
    "start_time": "2021-08-22T10:16:39.454Z"
   },
   {
    "duration": 24,
    "start_time": "2021-08-22T10:16:39.487Z"
   },
   {
    "duration": 6,
    "start_time": "2021-08-22T10:16:39.513Z"
   },
   {
    "duration": 4,
    "start_time": "2021-08-22T10:16:39.521Z"
   },
   {
    "duration": 3,
    "start_time": "2021-08-22T10:16:39.529Z"
   },
   {
    "duration": 51,
    "start_time": "2021-08-22T10:16:39.535Z"
   },
   {
    "duration": 15,
    "start_time": "2021-08-22T10:16:39.588Z"
   },
   {
    "duration": 8,
    "start_time": "2021-08-22T10:16:39.605Z"
   },
   {
    "duration": 11,
    "start_time": "2021-08-22T10:16:39.615Z"
   },
   {
    "duration": 12,
    "start_time": "2021-08-22T10:16:39.628Z"
   },
   {
    "duration": 5,
    "start_time": "2021-08-22T10:16:39.642Z"
   },
   {
    "duration": 6,
    "start_time": "2021-08-22T10:16:39.649Z"
   },
   {
    "duration": 15,
    "start_time": "2021-08-22T10:16:39.657Z"
   },
   {
    "duration": 9,
    "start_time": "2021-08-22T10:16:39.674Z"
   },
   {
    "duration": 5,
    "start_time": "2021-08-22T10:16:39.685Z"
   },
   {
    "duration": 8,
    "start_time": "2021-08-22T10:16:39.692Z"
   },
   {
    "duration": 5,
    "start_time": "2021-08-22T10:16:39.702Z"
   },
   {
    "duration": 6,
    "start_time": "2021-08-22T10:16:39.709Z"
   },
   {
    "duration": 6,
    "start_time": "2021-08-22T10:16:39.717Z"
   },
   {
    "duration": 6,
    "start_time": "2021-08-22T10:16:39.728Z"
   },
   {
    "duration": 7,
    "start_time": "2021-08-22T10:16:39.737Z"
   },
   {
    "duration": 5,
    "start_time": "2021-08-22T10:16:39.747Z"
   },
   {
    "duration": 3,
    "start_time": "2021-08-22T10:16:39.783Z"
   },
   {
    "duration": 7,
    "start_time": "2021-08-22T10:16:39.788Z"
   },
   {
    "duration": 5,
    "start_time": "2021-08-22T10:16:39.798Z"
   },
   {
    "duration": 8,
    "start_time": "2021-08-22T10:16:39.805Z"
   },
   {
    "duration": 8,
    "start_time": "2021-08-22T10:16:39.815Z"
   },
   {
    "duration": 7,
    "start_time": "2021-08-22T10:16:39.825Z"
   },
   {
    "duration": 9,
    "start_time": "2021-08-22T10:16:39.834Z"
   },
   {
    "duration": 40,
    "start_time": "2021-08-22T10:16:39.845Z"
   },
   {
    "duration": 5,
    "start_time": "2021-08-22T10:16:39.887Z"
   },
   {
    "duration": 5,
    "start_time": "2021-08-22T10:16:39.895Z"
   },
   {
    "duration": 6,
    "start_time": "2021-08-22T10:16:39.902Z"
   },
   {
    "duration": 6,
    "start_time": "2021-08-22T10:16:39.910Z"
   },
   {
    "duration": 16,
    "start_time": "2021-08-22T10:20:05.517Z"
   },
   {
    "duration": 16,
    "start_time": "2021-08-22T10:20:09.208Z"
   },
   {
    "duration": 6,
    "start_time": "2021-08-22T10:20:14.812Z"
   },
   {
    "duration": 15,
    "start_time": "2021-08-22T10:23:06.767Z"
   },
   {
    "duration": 3,
    "start_time": "2021-08-22T10:23:14.182Z"
   },
   {
    "duration": 202,
    "start_time": "2021-08-22T10:23:14.188Z"
   },
   {
    "duration": 16,
    "start_time": "2021-08-22T10:23:14.393Z"
   },
   {
    "duration": 35,
    "start_time": "2021-08-22T10:23:14.412Z"
   },
   {
    "duration": 7,
    "start_time": "2021-08-22T10:23:14.450Z"
   },
   {
    "duration": 28,
    "start_time": "2021-08-22T10:23:14.484Z"
   },
   {
    "duration": 6,
    "start_time": "2021-08-22T10:23:14.515Z"
   },
   {
    "duration": 89,
    "start_time": "2021-08-22T10:23:14.524Z"
   },
   {
    "duration": -281,
    "start_time": "2021-08-22T10:23:14.898Z"
   },
   {
    "duration": -285,
    "start_time": "2021-08-22T10:23:14.904Z"
   },
   {
    "duration": -289,
    "start_time": "2021-08-22T10:23:14.910Z"
   },
   {
    "duration": -293,
    "start_time": "2021-08-22T10:23:14.915Z"
   },
   {
    "duration": -297,
    "start_time": "2021-08-22T10:23:14.921Z"
   },
   {
    "duration": -302,
    "start_time": "2021-08-22T10:23:14.927Z"
   },
   {
    "duration": -306,
    "start_time": "2021-08-22T10:23:14.933Z"
   },
   {
    "duration": -309,
    "start_time": "2021-08-22T10:23:14.938Z"
   },
   {
    "duration": -313,
    "start_time": "2021-08-22T10:23:14.944Z"
   },
   {
    "duration": -316,
    "start_time": "2021-08-22T10:23:14.948Z"
   },
   {
    "duration": -319,
    "start_time": "2021-08-22T10:23:14.953Z"
   },
   {
    "duration": -323,
    "start_time": "2021-08-22T10:23:14.959Z"
   },
   {
    "duration": -328,
    "start_time": "2021-08-22T10:23:14.965Z"
   },
   {
    "duration": -330,
    "start_time": "2021-08-22T10:23:14.969Z"
   },
   {
    "duration": -334,
    "start_time": "2021-08-22T10:23:14.975Z"
   },
   {
    "duration": -337,
    "start_time": "2021-08-22T10:23:14.979Z"
   },
   {
    "duration": -340,
    "start_time": "2021-08-22T10:23:14.984Z"
   },
   {
    "duration": -356,
    "start_time": "2021-08-22T10:23:15.001Z"
   },
   {
    "duration": -360,
    "start_time": "2021-08-22T10:23:15.007Z"
   },
   {
    "duration": -363,
    "start_time": "2021-08-22T10:23:15.011Z"
   },
   {
    "duration": -368,
    "start_time": "2021-08-22T10:23:15.018Z"
   },
   {
    "duration": -371,
    "start_time": "2021-08-22T10:23:15.022Z"
   },
   {
    "duration": -386,
    "start_time": "2021-08-22T10:23:15.039Z"
   },
   {
    "duration": -362,
    "start_time": "2021-08-22T10:23:15.044Z"
   },
   {
    "duration": -365,
    "start_time": "2021-08-22T10:23:15.049Z"
   },
   {
    "duration": -368,
    "start_time": "2021-08-22T10:23:15.054Z"
   },
   {
    "duration": -372,
    "start_time": "2021-08-22T10:23:15.059Z"
   },
   {
    "duration": -375,
    "start_time": "2021-08-22T10:23:15.064Z"
   },
   {
    "duration": -378,
    "start_time": "2021-08-22T10:23:15.069Z"
   },
   {
    "duration": -382,
    "start_time": "2021-08-22T10:23:15.075Z"
   },
   {
    "duration": 97,
    "start_time": "2021-08-22T10:26:40.779Z"
   },
   {
    "duration": 31,
    "start_time": "2021-08-22T10:26:46.222Z"
   },
   {
    "duration": 30,
    "start_time": "2021-08-22T10:33:05.550Z"
   },
   {
    "duration": 284,
    "start_time": "2021-08-22T10:43:46.359Z"
   },
   {
    "duration": 48,
    "start_time": "2021-08-22T10:44:38.993Z"
   },
   {
    "duration": 19,
    "start_time": "2021-08-22T10:45:20.958Z"
   },
   {
    "duration": 27,
    "start_time": "2021-08-22T10:45:44.109Z"
   },
   {
    "duration": 32,
    "start_time": "2021-08-22T10:47:42.074Z"
   },
   {
    "duration": 4,
    "start_time": "2021-08-22T10:47:59.531Z"
   },
   {
    "duration": 187,
    "start_time": "2021-08-22T10:47:59.537Z"
   },
   {
    "duration": 15,
    "start_time": "2021-08-22T10:47:59.727Z"
   },
   {
    "duration": 55,
    "start_time": "2021-08-22T10:47:59.744Z"
   },
   {
    "duration": 5,
    "start_time": "2021-08-22T10:47:59.802Z"
   },
   {
    "duration": 27,
    "start_time": "2021-08-22T10:47:59.809Z"
   },
   {
    "duration": 5,
    "start_time": "2021-08-22T10:47:59.839Z"
   },
   {
    "duration": 59,
    "start_time": "2021-08-22T10:47:59.847Z"
   },
   {
    "duration": 26,
    "start_time": "2021-08-22T10:47:59.908Z"
   },
   {
    "duration": 50,
    "start_time": "2021-08-22T10:47:59.936Z"
   },
   {
    "duration": 3,
    "start_time": "2021-08-22T10:47:59.988Z"
   },
   {
    "duration": 10,
    "start_time": "2021-08-22T10:47:59.993Z"
   },
   {
    "duration": 14,
    "start_time": "2021-08-22T10:48:00.006Z"
   },
   {
    "duration": 7,
    "start_time": "2021-08-22T10:48:00.023Z"
   },
   {
    "duration": 13,
    "start_time": "2021-08-22T10:48:00.032Z"
   },
   {
    "duration": 21,
    "start_time": "2021-08-22T10:48:00.048Z"
   },
   {
    "duration": 14,
    "start_time": "2021-08-22T10:48:00.071Z"
   },
   {
    "duration": 32,
    "start_time": "2021-08-22T10:48:00.087Z"
   },
   {
    "duration": 10,
    "start_time": "2021-08-22T10:48:00.124Z"
   },
   {
    "duration": 11,
    "start_time": "2021-08-22T10:48:00.136Z"
   },
   {
    "duration": 13,
    "start_time": "2021-08-22T10:48:00.150Z"
   },
   {
    "duration": 8,
    "start_time": "2021-08-22T10:48:00.166Z"
   },
   {
    "duration": 10,
    "start_time": "2021-08-22T10:48:00.176Z"
   },
   {
    "duration": 8,
    "start_time": "2021-08-22T10:48:00.188Z"
   },
   {
    "duration": 21,
    "start_time": "2021-08-22T10:48:00.198Z"
   },
   {
    "duration": 18,
    "start_time": "2021-08-22T10:48:00.221Z"
   },
   {
    "duration": 12,
    "start_time": "2021-08-22T10:48:00.241Z"
   },
   {
    "duration": 11,
    "start_time": "2021-08-22T10:48:00.255Z"
   },
   {
    "duration": 7,
    "start_time": "2021-08-22T10:48:00.269Z"
   },
   {
    "duration": 13,
    "start_time": "2021-08-22T10:48:00.278Z"
   },
   {
    "duration": 15,
    "start_time": "2021-08-22T10:48:00.293Z"
   },
   {
    "duration": 15,
    "start_time": "2021-08-22T10:48:00.310Z"
   },
   {
    "duration": 27,
    "start_time": "2021-08-22T10:48:00.327Z"
   },
   {
    "duration": 15,
    "start_time": "2021-08-22T10:48:00.356Z"
   },
   {
    "duration": 17,
    "start_time": "2021-08-22T10:48:00.374Z"
   },
   {
    "duration": 9,
    "start_time": "2021-08-22T10:48:00.393Z"
   },
   {
    "duration": 9,
    "start_time": "2021-08-22T10:48:00.404Z"
   },
   {
    "duration": 12,
    "start_time": "2021-08-22T10:48:00.416Z"
   },
   {
    "duration": 3,
    "start_time": "2021-08-22T10:50:32.994Z"
   },
   {
    "duration": 165,
    "start_time": "2021-08-22T10:50:33.002Z"
   },
   {
    "duration": 19,
    "start_time": "2021-08-22T10:50:33.169Z"
   },
   {
    "duration": 31,
    "start_time": "2021-08-22T10:50:33.191Z"
   },
   {
    "duration": 5,
    "start_time": "2021-08-22T10:50:33.225Z"
   },
   {
    "duration": 49,
    "start_time": "2021-08-22T10:50:33.233Z"
   },
   {
    "duration": 6,
    "start_time": "2021-08-22T10:50:33.285Z"
   },
   {
    "duration": 38,
    "start_time": "2021-08-22T10:50:38.313Z"
   },
   {
    "duration": 30,
    "start_time": "2021-08-22T10:50:47.086Z"
   },
   {
    "duration": 3,
    "start_time": "2021-08-22T10:50:51.231Z"
   },
   {
    "duration": 176,
    "start_time": "2021-08-22T10:50:51.237Z"
   },
   {
    "duration": 16,
    "start_time": "2021-08-22T10:50:51.416Z"
   },
   {
    "duration": 50,
    "start_time": "2021-08-22T10:50:51.435Z"
   },
   {
    "duration": 6,
    "start_time": "2021-08-22T10:50:51.488Z"
   },
   {
    "duration": 19,
    "start_time": "2021-08-22T10:50:51.496Z"
   },
   {
    "duration": 6,
    "start_time": "2021-08-22T10:50:51.518Z"
   },
   {
    "duration": 63,
    "start_time": "2021-08-22T10:50:51.526Z"
   },
   {
    "duration": 32,
    "start_time": "2021-08-22T10:52:23.083Z"
   },
   {
    "duration": 3,
    "start_time": "2021-08-22T10:52:34.122Z"
   },
   {
    "duration": 170,
    "start_time": "2021-08-22T10:52:34.131Z"
   },
   {
    "duration": 15,
    "start_time": "2021-08-22T10:52:34.304Z"
   },
   {
    "duration": 32,
    "start_time": "2021-08-22T10:52:34.322Z"
   },
   {
    "duration": 6,
    "start_time": "2021-08-22T10:52:34.383Z"
   },
   {
    "duration": 22,
    "start_time": "2021-08-22T10:52:34.391Z"
   },
   {
    "duration": 5,
    "start_time": "2021-08-22T10:52:34.416Z"
   },
   {
    "duration": 78,
    "start_time": "2021-08-22T10:52:34.424Z"
   },
   {
    "duration": 22,
    "start_time": "2021-08-22T10:52:34.505Z"
   },
   {
    "duration": 53,
    "start_time": "2021-08-22T10:52:34.529Z"
   },
   {
    "duration": 3,
    "start_time": "2021-08-22T10:53:28.842Z"
   },
   {
    "duration": 361,
    "start_time": "2021-08-22T10:57:18.761Z"
   },
   {
    "duration": 84,
    "start_time": "2021-08-22T10:57:35.485Z"
   },
   {
    "duration": 71,
    "start_time": "2021-08-22T10:58:06.698Z"
   },
   {
    "duration": 85,
    "start_time": "2021-08-22T10:59:42.649Z"
   },
   {
    "duration": 72,
    "start_time": "2021-08-22T10:59:53.389Z"
   },
   {
    "duration": 77,
    "start_time": "2021-08-22T10:59:57.804Z"
   },
   {
    "duration": 98,
    "start_time": "2021-08-22T11:02:42.545Z"
   },
   {
    "duration": 101,
    "start_time": "2021-08-22T11:03:24.963Z"
   },
   {
    "duration": 95,
    "start_time": "2021-08-22T11:03:42.520Z"
   },
   {
    "duration": 78,
    "start_time": "2021-08-22T11:04:48.044Z"
   },
   {
    "duration": 70,
    "start_time": "2021-08-22T11:05:47.484Z"
   },
   {
    "duration": 3,
    "start_time": "2021-08-22T11:05:54.148Z"
   },
   {
    "duration": 174,
    "start_time": "2021-08-22T11:05:54.154Z"
   },
   {
    "duration": 15,
    "start_time": "2021-08-22T11:05:54.331Z"
   },
   {
    "duration": 54,
    "start_time": "2021-08-22T11:05:54.349Z"
   },
   {
    "duration": 6,
    "start_time": "2021-08-22T11:05:54.405Z"
   },
   {
    "duration": 27,
    "start_time": "2021-08-22T11:05:54.414Z"
   },
   {
    "duration": 6,
    "start_time": "2021-08-22T11:05:54.443Z"
   },
   {
    "duration": 32,
    "start_time": "2021-08-22T11:05:54.482Z"
   },
   {
    "duration": 25,
    "start_time": "2021-08-22T11:05:54.517Z"
   },
   {
    "duration": 57,
    "start_time": "2021-08-22T11:05:54.545Z"
   },
   {
    "duration": 91,
    "start_time": "2021-08-22T11:05:54.604Z"
   },
   {
    "duration": 121,
    "start_time": "2021-08-22T11:05:54.697Z"
   },
   {
    "duration": 94,
    "start_time": "2021-08-22T11:05:54.820Z"
   },
   {
    "duration": 75,
    "start_time": "2021-08-22T11:06:00.326Z"
   },
   {
    "duration": 78,
    "start_time": "2021-08-22T11:06:03.942Z"
   },
   {
    "duration": 132,
    "start_time": "2021-08-22T11:06:12.626Z"
   },
   {
    "duration": 75,
    "start_time": "2021-08-22T11:06:15.329Z"
   },
   {
    "duration": 97,
    "start_time": "2021-08-22T11:07:05.436Z"
   },
   {
    "duration": 75,
    "start_time": "2021-08-22T11:07:10.666Z"
   },
   {
    "duration": 74,
    "start_time": "2021-08-22T11:08:34.061Z"
   },
   {
    "duration": 3,
    "start_time": "2021-08-22T11:08:38.106Z"
   },
   {
    "duration": 165,
    "start_time": "2021-08-22T11:08:38.115Z"
   },
   {
    "duration": 14,
    "start_time": "2021-08-22T11:08:38.282Z"
   },
   {
    "duration": 35,
    "start_time": "2021-08-22T11:08:38.299Z"
   },
   {
    "duration": 6,
    "start_time": "2021-08-22T11:08:38.337Z"
   },
   {
    "duration": 48,
    "start_time": "2021-08-22T11:08:38.346Z"
   },
   {
    "duration": 6,
    "start_time": "2021-08-22T11:08:38.396Z"
   },
   {
    "duration": 32,
    "start_time": "2021-08-22T11:08:38.405Z"
   },
   {
    "duration": 42,
    "start_time": "2021-08-22T11:08:38.441Z"
   },
   {
    "duration": 30,
    "start_time": "2021-08-22T11:08:38.486Z"
   },
   {
    "duration": 90,
    "start_time": "2021-08-22T11:08:38.519Z"
   },
   {
    "duration": 102,
    "start_time": "2021-08-22T11:08:38.612Z"
   },
   {
    "duration": 78,
    "start_time": "2021-08-22T11:08:38.717Z"
   },
   {
    "duration": 72,
    "start_time": "2021-08-22T11:08:47.128Z"
   },
   {
    "duration": 74,
    "start_time": "2021-08-22T11:08:48.277Z"
   },
   {
    "duration": 102,
    "start_time": "2021-08-22T11:08:52.467Z"
   },
   {
    "duration": 73,
    "start_time": "2021-08-22T11:08:53.999Z"
   },
   {
    "duration": 70,
    "start_time": "2021-08-22T11:10:12.830Z"
   },
   {
    "duration": 78,
    "start_time": "2021-08-22T11:10:54.516Z"
   },
   {
    "duration": 74,
    "start_time": "2021-08-22T11:13:17.207Z"
   },
   {
    "duration": 145,
    "start_time": "2021-08-22T11:14:15.726Z"
   },
   {
    "duration": 139,
    "start_time": "2021-08-22T11:14:23.218Z"
   },
   {
    "duration": 149,
    "start_time": "2021-08-22T11:14:35.338Z"
   },
   {
    "duration": 144,
    "start_time": "2021-08-22T11:14:48.144Z"
   },
   {
    "duration": 146,
    "start_time": "2021-08-22T11:15:01.055Z"
   },
   {
    "duration": 153,
    "start_time": "2021-08-22T11:15:05.734Z"
   },
   {
    "duration": 147,
    "start_time": "2021-08-22T11:15:08.690Z"
   },
   {
    "duration": 72,
    "start_time": "2021-08-22T11:16:26.889Z"
   },
   {
    "duration": 107,
    "start_time": "2021-08-22T11:16:57.380Z"
   },
   {
    "duration": 72,
    "start_time": "2021-08-22T11:16:59.933Z"
   },
   {
    "duration": 105,
    "start_time": "2021-08-22T11:17:42.307Z"
   },
   {
    "duration": 72,
    "start_time": "2021-08-22T11:17:47.673Z"
   },
   {
    "duration": 430,
    "start_time": "2021-08-22T16:04:45.408Z"
   },
   {
    "duration": 141,
    "start_time": "2021-08-22T16:05:22.596Z"
   },
   {
    "duration": 363,
    "start_time": "2021-08-22T16:05:25.677Z"
   },
   {
    "duration": 360,
    "start_time": "2021-08-22T16:05:39.041Z"
   },
   {
    "duration": 890,
    "start_time": "2021-08-22T16:05:45.469Z"
   },
   {
    "duration": 220,
    "start_time": "2021-08-22T16:05:46.362Z"
   },
   {
    "duration": 38,
    "start_time": "2021-08-22T16:05:46.585Z"
   },
   {
    "duration": 34,
    "start_time": "2021-08-22T16:05:46.626Z"
   },
   {
    "duration": 6,
    "start_time": "2021-08-22T16:05:46.662Z"
   },
   {
    "duration": 64,
    "start_time": "2021-08-22T16:05:46.670Z"
   },
   {
    "duration": 7,
    "start_time": "2021-08-22T16:05:46.737Z"
   },
   {
    "duration": 66,
    "start_time": "2021-08-22T16:05:46.750Z"
   },
   {
    "duration": 24,
    "start_time": "2021-08-22T16:05:46.819Z"
   },
   {
    "duration": 31,
    "start_time": "2021-08-22T16:05:46.846Z"
   },
   {
    "duration": 102,
    "start_time": "2021-08-22T16:05:46.901Z"
   },
   {
    "duration": 130,
    "start_time": "2021-08-22T16:05:47.006Z"
   },
   {
    "duration": 98,
    "start_time": "2021-08-22T16:05:47.139Z"
   },
   {
    "duration": 3,
    "start_time": "2021-08-22T16:05:47.240Z"
   },
   {
    "duration": 7,
    "start_time": "2021-08-22T16:05:47.245Z"
   },
   {
    "duration": 13,
    "start_time": "2021-08-22T16:05:47.255Z"
   },
   {
    "duration": 17,
    "start_time": "2021-08-22T16:05:47.270Z"
   },
   {
    "duration": 17,
    "start_time": "2021-08-22T16:05:47.289Z"
   },
   {
    "duration": 10,
    "start_time": "2021-08-22T16:05:47.309Z"
   },
   {
    "duration": 7,
    "start_time": "2021-08-22T16:05:47.322Z"
   },
   {
    "duration": 9,
    "start_time": "2021-08-22T16:05:47.331Z"
   },
   {
    "duration": 7,
    "start_time": "2021-08-22T16:05:47.342Z"
   },
   {
    "duration": 9,
    "start_time": "2021-08-22T16:05:47.354Z"
   },
   {
    "duration": 6,
    "start_time": "2021-08-22T16:05:47.365Z"
   },
   {
    "duration": 7,
    "start_time": "2021-08-22T16:05:47.374Z"
   },
   {
    "duration": 19,
    "start_time": "2021-08-22T16:05:47.383Z"
   },
   {
    "duration": 11,
    "start_time": "2021-08-22T16:05:47.405Z"
   },
   {
    "duration": 11,
    "start_time": "2021-08-22T16:05:47.418Z"
   },
   {
    "duration": 8,
    "start_time": "2021-08-22T16:05:47.431Z"
   },
   {
    "duration": 8,
    "start_time": "2021-08-22T16:05:47.441Z"
   },
   {
    "duration": 11,
    "start_time": "2021-08-22T16:05:47.451Z"
   },
   {
    "duration": 6,
    "start_time": "2021-08-22T16:05:47.465Z"
   },
   {
    "duration": 26,
    "start_time": "2021-08-22T16:05:47.474Z"
   },
   {
    "duration": 9,
    "start_time": "2021-08-22T16:05:47.504Z"
   },
   {
    "duration": 15,
    "start_time": "2021-08-22T16:05:47.517Z"
   },
   {
    "duration": 9,
    "start_time": "2021-08-22T16:05:47.535Z"
   },
   {
    "duration": 7,
    "start_time": "2021-08-22T16:05:47.547Z"
   },
   {
    "duration": 6,
    "start_time": "2021-08-22T16:05:47.556Z"
   },
   {
    "duration": 84,
    "start_time": "2021-08-22T16:06:25.486Z"
   },
   {
    "duration": 87,
    "start_time": "2021-08-22T16:07:25.896Z"
   },
   {
    "duration": 82,
    "start_time": "2021-08-22T16:08:01.450Z"
   },
   {
    "duration": 80,
    "start_time": "2021-08-22T16:08:10.338Z"
   },
   {
    "duration": 105,
    "start_time": "2021-08-22T16:22:58.981Z"
   },
   {
    "duration": 89,
    "start_time": "2021-08-22T16:23:02.263Z"
   },
   {
    "duration": 87,
    "start_time": "2021-08-22T16:23:03.483Z"
   },
   {
    "duration": 4,
    "start_time": "2021-08-22T16:23:09.016Z"
   },
   {
    "duration": 209,
    "start_time": "2021-08-22T16:23:09.026Z"
   },
   {
    "duration": 15,
    "start_time": "2021-08-22T16:23:09.238Z"
   },
   {
    "duration": 51,
    "start_time": "2021-08-22T16:23:09.256Z"
   },
   {
    "duration": 6,
    "start_time": "2021-08-22T16:23:09.312Z"
   },
   {
    "duration": 25,
    "start_time": "2021-08-22T16:23:09.321Z"
   },
   {
    "duration": 5,
    "start_time": "2021-08-22T16:23:09.349Z"
   },
   {
    "duration": 64,
    "start_time": "2021-08-22T16:23:09.356Z"
   },
   {
    "duration": 22,
    "start_time": "2021-08-22T16:23:09.424Z"
   },
   {
    "duration": 55,
    "start_time": "2021-08-22T16:23:09.449Z"
   },
   {
    "duration": 98,
    "start_time": "2021-08-22T16:23:09.507Z"
   },
   {
    "duration": 122,
    "start_time": "2021-08-22T16:23:09.609Z"
   },
   {
    "duration": 97,
    "start_time": "2021-08-22T16:23:09.733Z"
   },
   {
    "duration": 484,
    "start_time": "2021-08-22T16:23:43.766Z"
   },
   {
    "duration": 83,
    "start_time": "2021-08-22T16:24:15.001Z"
   },
   {
    "duration": 84,
    "start_time": "2021-08-22T16:25:11.205Z"
   },
   {
    "duration": 78,
    "start_time": "2021-08-22T16:25:16.623Z"
   },
   {
    "duration": 4,
    "start_time": "2021-08-22T16:25:21.881Z"
   },
   {
    "duration": 196,
    "start_time": "2021-08-22T16:25:21.888Z"
   },
   {
    "duration": 18,
    "start_time": "2021-08-22T16:25:22.087Z"
   },
   {
    "duration": 34,
    "start_time": "2021-08-22T16:25:22.109Z"
   },
   {
    "duration": 10,
    "start_time": "2021-08-22T16:25:22.146Z"
   },
   {
    "duration": 55,
    "start_time": "2021-08-22T16:25:22.158Z"
   },
   {
    "duration": 8,
    "start_time": "2021-08-22T16:25:22.215Z"
   },
   {
    "duration": 39,
    "start_time": "2021-08-22T16:25:22.225Z"
   },
   {
    "duration": 55,
    "start_time": "2021-08-22T16:25:22.268Z"
   },
   {
    "duration": 29,
    "start_time": "2021-08-22T16:25:22.326Z"
   },
   {
    "duration": 88,
    "start_time": "2021-08-22T16:25:27.584Z"
   },
   {
    "duration": 95,
    "start_time": "2021-08-22T16:26:12.440Z"
   },
   {
    "duration": 102,
    "start_time": "2021-08-22T16:26:29.789Z"
   },
   {
    "duration": 107,
    "start_time": "2021-08-22T16:26:38.726Z"
   },
   {
    "duration": 83,
    "start_time": "2021-08-22T16:26:51.946Z"
   },
   {
    "duration": 165,
    "start_time": "2021-08-22T16:32:06.174Z"
   },
   {
    "duration": 107,
    "start_time": "2021-08-22T16:32:10.025Z"
   },
   {
    "duration": 80,
    "start_time": "2021-08-22T16:32:26.218Z"
   },
   {
    "duration": 3,
    "start_time": "2021-08-22T16:32:34.375Z"
   },
   {
    "duration": 269,
    "start_time": "2021-08-22T16:32:34.385Z"
   },
   {
    "duration": 18,
    "start_time": "2021-08-22T16:32:34.658Z"
   },
   {
    "duration": 50,
    "start_time": "2021-08-22T16:32:34.680Z"
   },
   {
    "duration": 15,
    "start_time": "2021-08-22T16:32:34.735Z"
   },
   {
    "duration": 25,
    "start_time": "2021-08-22T16:32:34.752Z"
   },
   {
    "duration": 22,
    "start_time": "2021-08-22T16:32:34.780Z"
   },
   {
    "duration": 37,
    "start_time": "2021-08-22T16:32:34.806Z"
   },
   {
    "duration": 26,
    "start_time": "2021-08-22T16:32:34.847Z"
   },
   {
    "duration": 65,
    "start_time": "2021-08-22T16:32:34.876Z"
   },
   {
    "duration": 105,
    "start_time": "2021-08-22T16:32:34.944Z"
   },
   {
    "duration": 127,
    "start_time": "2021-08-22T16:32:35.052Z"
   },
   {
    "duration": 94,
    "start_time": "2021-08-22T16:32:35.182Z"
   },
   {
    "duration": 114,
    "start_time": "2021-08-22T16:32:47.212Z"
   },
   {
    "duration": 8,
    "start_time": "2021-08-22T16:32:50.629Z"
   },
   {
    "duration": 260,
    "start_time": "2021-08-22T16:32:50.640Z"
   },
   {
    "duration": 23,
    "start_time": "2021-08-22T16:32:50.904Z"
   },
   {
    "duration": 36,
    "start_time": "2021-08-22T16:32:50.930Z"
   },
   {
    "duration": 41,
    "start_time": "2021-08-22T16:32:50.968Z"
   },
   {
    "duration": 29,
    "start_time": "2021-08-22T16:32:51.013Z"
   },
   {
    "duration": 7,
    "start_time": "2021-08-22T16:32:51.046Z"
   },
   {
    "duration": 75,
    "start_time": "2021-08-22T16:32:51.058Z"
   },
   {
    "duration": 33,
    "start_time": "2021-08-22T16:32:51.136Z"
   },
   {
    "duration": 71,
    "start_time": "2021-08-22T16:32:51.173Z"
   },
   {
    "duration": 99,
    "start_time": "2021-08-22T16:32:51.247Z"
   },
   {
    "duration": 176,
    "start_time": "2021-08-22T16:32:51.349Z"
   },
   {
    "duration": 120,
    "start_time": "2021-08-22T16:32:51.528Z"
   },
   {
    "duration": 84,
    "start_time": "2021-08-22T16:33:13.984Z"
   },
   {
    "duration": 3,
    "start_time": "2021-08-22T16:33:17.295Z"
   },
   {
    "duration": 224,
    "start_time": "2021-08-22T16:33:17.301Z"
   },
   {
    "duration": 16,
    "start_time": "2021-08-22T16:33:17.528Z"
   },
   {
    "duration": 55,
    "start_time": "2021-08-22T16:33:17.546Z"
   },
   {
    "duration": 6,
    "start_time": "2021-08-22T16:33:17.604Z"
   },
   {
    "duration": 24,
    "start_time": "2021-08-22T16:33:17.613Z"
   },
   {
    "duration": 6,
    "start_time": "2021-08-22T16:33:17.640Z"
   },
   {
    "duration": 74,
    "start_time": "2021-08-22T16:33:17.648Z"
   },
   {
    "duration": 21,
    "start_time": "2021-08-22T16:33:17.725Z"
   },
   {
    "duration": 51,
    "start_time": "2021-08-22T16:33:17.749Z"
   },
   {
    "duration": 102,
    "start_time": "2021-08-22T16:33:17.804Z"
   },
   {
    "duration": 129,
    "start_time": "2021-08-22T16:33:17.909Z"
   },
   {
    "duration": 96,
    "start_time": "2021-08-22T16:33:18.040Z"
   },
   {
    "duration": 85,
    "start_time": "2021-08-22T16:33:53.463Z"
   },
   {
    "duration": 4,
    "start_time": "2021-08-22T16:33:57.215Z"
   },
   {
    "duration": 231,
    "start_time": "2021-08-22T16:33:57.229Z"
   },
   {
    "duration": 22,
    "start_time": "2021-08-22T16:33:57.464Z"
   },
   {
    "duration": 39,
    "start_time": "2021-08-22T16:33:57.500Z"
   },
   {
    "duration": 9,
    "start_time": "2021-08-22T16:33:57.543Z"
   },
   {
    "duration": 47,
    "start_time": "2021-08-22T16:33:57.554Z"
   },
   {
    "duration": 8,
    "start_time": "2021-08-22T16:33:57.605Z"
   },
   {
    "duration": 37,
    "start_time": "2021-08-22T16:33:57.617Z"
   },
   {
    "duration": 49,
    "start_time": "2021-08-22T16:33:57.658Z"
   },
   {
    "duration": 37,
    "start_time": "2021-08-22T16:33:57.711Z"
   },
   {
    "duration": 114,
    "start_time": "2021-08-22T16:33:57.751Z"
   },
   {
    "duration": 144,
    "start_time": "2021-08-22T16:33:57.868Z"
   },
   {
    "duration": 98,
    "start_time": "2021-08-22T16:33:58.015Z"
   },
   {
    "duration": 90,
    "start_time": "2021-08-22T16:35:25.352Z"
   },
   {
    "duration": 86,
    "start_time": "2021-08-22T16:35:26.875Z"
   },
   {
    "duration": 4,
    "start_time": "2021-08-22T16:35:34.269Z"
   },
   {
    "duration": 213,
    "start_time": "2021-08-22T16:35:34.275Z"
   },
   {
    "duration": 23,
    "start_time": "2021-08-22T16:35:34.491Z"
   },
   {
    "duration": 36,
    "start_time": "2021-08-22T16:35:34.518Z"
   },
   {
    "duration": 6,
    "start_time": "2021-08-22T16:35:34.557Z"
   },
   {
    "duration": 61,
    "start_time": "2021-08-22T16:35:34.566Z"
   },
   {
    "duration": 6,
    "start_time": "2021-08-22T16:35:34.630Z"
   },
   {
    "duration": 66,
    "start_time": "2021-08-22T16:35:34.639Z"
   },
   {
    "duration": 29,
    "start_time": "2021-08-22T16:35:34.707Z"
   },
   {
    "duration": 33,
    "start_time": "2021-08-22T16:35:34.738Z"
   },
   {
    "duration": 90,
    "start_time": "2021-08-22T16:35:48.894Z"
   },
   {
    "duration": -34,
    "start_time": "2021-08-22T16:38:24.324Z"
   },
   {
    "duration": -48,
    "start_time": "2021-08-22T16:39:09.042Z"
   },
   {
    "duration": 4,
    "start_time": "2021-08-22T16:39:12.887Z"
   },
   {
    "duration": 243,
    "start_time": "2021-08-22T16:39:12.894Z"
   },
   {
    "duration": 16,
    "start_time": "2021-08-22T16:39:13.141Z"
   },
   {
    "duration": 59,
    "start_time": "2021-08-22T16:39:13.159Z"
   },
   {
    "duration": 8,
    "start_time": "2021-08-22T16:39:13.221Z"
   },
   {
    "duration": 19,
    "start_time": "2021-08-22T16:39:13.234Z"
   },
   {
    "duration": 6,
    "start_time": "2021-08-22T16:39:13.257Z"
   },
   {
    "duration": 72,
    "start_time": "2021-08-22T16:39:13.266Z"
   },
   {
    "duration": 25,
    "start_time": "2021-08-22T16:39:13.341Z"
   },
   {
    "duration": 58,
    "start_time": "2021-08-22T16:39:13.368Z"
   },
   {
    "duration": 104,
    "start_time": "2021-08-22T16:39:13.429Z"
   },
   {
    "duration": 121,
    "start_time": "2021-08-22T16:39:13.536Z"
   },
   {
    "duration": 95,
    "start_time": "2021-08-22T16:39:13.659Z"
   },
   {
    "duration": 377,
    "start_time": "2021-08-22T16:41:22.186Z"
   },
   {
    "duration": 8,
    "start_time": "2021-08-22T16:43:12.244Z"
   },
   {
    "duration": 7,
    "start_time": "2021-08-22T16:43:36.644Z"
   },
   {
    "duration": 56,
    "start_time": "2021-08-22T16:43:43.229Z"
   },
   {
    "duration": 56,
    "start_time": "2021-08-22T16:43:59.515Z"
   },
   {
    "duration": 359,
    "start_time": "2021-08-22T17:52:37.582Z"
   },
   {
    "duration": 179,
    "start_time": "2021-08-22T17:52:55.702Z"
   },
   {
    "duration": 133,
    "start_time": "2021-08-22T17:53:21.558Z"
   },
   {
    "duration": 118,
    "start_time": "2021-08-22T17:54:05.750Z"
   },
   {
    "duration": 5,
    "start_time": "2021-08-22T17:54:29.288Z"
   },
   {
    "duration": 729,
    "start_time": "2021-08-22T17:54:39.495Z"
   },
   {
    "duration": 5,
    "start_time": "2021-08-22T17:55:06.650Z"
   },
   {
    "duration": 4,
    "start_time": "2021-08-22T17:55:08.240Z"
   },
   {
    "duration": 23,
    "start_time": "2021-08-22T17:55:09.702Z"
   },
   {
    "duration": 56,
    "start_time": "2021-08-22T17:55:58.174Z"
   },
   {
    "duration": 58,
    "start_time": "2021-08-22T17:56:20.759Z"
   },
   {
    "duration": 67,
    "start_time": "2021-08-22T17:56:22.728Z"
   },
   {
    "duration": 73,
    "start_time": "2021-08-22T17:56:44.849Z"
   },
   {
    "duration": 4,
    "start_time": "2021-08-22T18:00:03.041Z"
   },
   {
    "duration": 127,
    "start_time": "2021-08-22T18:00:06.884Z"
   },
   {
    "duration": 5,
    "start_time": "2021-08-22T18:00:15.482Z"
   },
   {
    "duration": 123,
    "start_time": "2021-08-22T18:04:00.244Z"
   },
   {
    "duration": 125,
    "start_time": "2021-08-22T18:05:07.570Z"
   },
   {
    "duration": 121,
    "start_time": "2021-08-22T18:05:14.379Z"
   },
   {
    "duration": 136,
    "start_time": "2021-08-22T18:05:33.309Z"
   },
   {
    "duration": 5,
    "start_time": "2021-08-22T18:05:40.775Z"
   },
   {
    "duration": 124,
    "start_time": "2021-08-22T18:05:51.345Z"
   },
   {
    "duration": 124,
    "start_time": "2021-08-22T18:05:59.287Z"
   },
   {
    "duration": 113,
    "start_time": "2021-08-22T18:06:10.879Z"
   },
   {
    "duration": 4,
    "start_time": "2021-08-22T18:06:21.332Z"
   },
   {
    "duration": 4,
    "start_time": "2021-08-22T18:06:37.274Z"
   },
   {
    "duration": 179,
    "start_time": "2021-08-22T18:06:37.284Z"
   },
   {
    "duration": 17,
    "start_time": "2021-08-22T18:06:37.466Z"
   },
   {
    "duration": 36,
    "start_time": "2021-08-22T18:06:37.502Z"
   },
   {
    "duration": 5,
    "start_time": "2021-08-22T18:06:37.541Z"
   },
   {
    "duration": 59,
    "start_time": "2021-08-22T18:06:37.549Z"
   },
   {
    "duration": 8,
    "start_time": "2021-08-22T18:06:37.611Z"
   },
   {
    "duration": 32,
    "start_time": "2021-08-22T18:06:37.622Z"
   },
   {
    "duration": 61,
    "start_time": "2021-08-22T18:06:37.658Z"
   },
   {
    "duration": 36,
    "start_time": "2021-08-22T18:06:37.722Z"
   },
   {
    "duration": 109,
    "start_time": "2021-08-22T18:06:37.761Z"
   },
   {
    "duration": 118,
    "start_time": "2021-08-22T18:06:37.874Z"
   },
   {
    "duration": 81,
    "start_time": "2021-08-22T18:06:37.995Z"
   },
   {
    "duration": 78,
    "start_time": "2021-08-22T18:06:38.079Z"
   },
   {
    "duration": 65,
    "start_time": "2021-08-22T18:07:01.382Z"
   },
   {
    "duration": 3,
    "start_time": "2021-08-22T18:07:09.774Z"
   },
   {
    "duration": 195,
    "start_time": "2021-08-22T18:07:09.781Z"
   },
   {
    "duration": 23,
    "start_time": "2021-08-22T18:07:09.979Z"
   },
   {
    "duration": 34,
    "start_time": "2021-08-22T18:07:10.005Z"
   },
   {
    "duration": 12,
    "start_time": "2021-08-22T18:07:10.042Z"
   },
   {
    "duration": 56,
    "start_time": "2021-08-22T18:07:10.057Z"
   },
   {
    "duration": 6,
    "start_time": "2021-08-22T18:07:10.117Z"
   },
   {
    "duration": 39,
    "start_time": "2021-08-22T18:07:10.125Z"
   },
   {
    "duration": 35,
    "start_time": "2021-08-22T18:07:10.167Z"
   },
   {
    "duration": 32,
    "start_time": "2021-08-22T18:07:10.205Z"
   },
   {
    "duration": 102,
    "start_time": "2021-08-22T18:07:10.241Z"
   },
   {
    "duration": 115,
    "start_time": "2021-08-22T18:07:10.346Z"
   },
   {
    "duration": 82,
    "start_time": "2021-08-22T18:07:10.464Z"
   },
   {
    "duration": 64,
    "start_time": "2021-08-22T18:07:10.548Z"
   },
   {
    "duration": 5,
    "start_time": "2021-08-22T18:07:10.614Z"
   },
   {
    "duration": 31,
    "start_time": "2021-08-22T18:07:10.621Z"
   },
   {
    "duration": 72,
    "start_time": "2021-08-22T18:07:10.654Z"
   },
   {
    "duration": 58,
    "start_time": "2021-08-22T18:08:07.244Z"
   },
   {
    "duration": 55,
    "start_time": "2021-08-22T18:08:09.245Z"
   },
   {
    "duration": 60,
    "start_time": "2021-08-22T18:08:09.982Z"
   },
   {
    "duration": 363,
    "start_time": "2021-08-22T18:09:37.524Z"
   },
   {
    "duration": 60,
    "start_time": "2021-08-22T18:10:40.167Z"
   },
   {
    "duration": 57,
    "start_time": "2021-08-22T18:10:52.584Z"
   },
   {
    "duration": 55,
    "start_time": "2021-08-22T18:11:46.087Z"
   },
   {
    "duration": 24,
    "start_time": "2021-08-22T18:15:06.457Z"
   },
   {
    "duration": 56,
    "start_time": "2021-08-22T18:15:20.439Z"
   },
   {
    "duration": 3,
    "start_time": "2021-08-22T18:15:26.721Z"
   },
   {
    "duration": 174,
    "start_time": "2021-08-22T18:15:26.730Z"
   },
   {
    "duration": 26,
    "start_time": "2021-08-22T18:15:26.906Z"
   },
   {
    "duration": 40,
    "start_time": "2021-08-22T18:15:26.935Z"
   },
   {
    "duration": 24,
    "start_time": "2021-08-22T18:15:26.978Z"
   },
   {
    "duration": 32,
    "start_time": "2021-08-22T18:15:27.004Z"
   },
   {
    "duration": 5,
    "start_time": "2021-08-22T18:15:27.039Z"
   },
   {
    "duration": 43,
    "start_time": "2021-08-22T18:15:27.046Z"
   },
   {
    "duration": 27,
    "start_time": "2021-08-22T18:15:27.093Z"
   },
   {
    "duration": 42,
    "start_time": "2021-08-22T18:15:27.123Z"
   },
   {
    "duration": 117,
    "start_time": "2021-08-22T18:15:27.169Z"
   },
   {
    "duration": 124,
    "start_time": "2021-08-22T18:15:27.288Z"
   },
   {
    "duration": 90,
    "start_time": "2021-08-22T18:15:27.414Z"
   },
   {
    "duration": 58,
    "start_time": "2021-08-22T18:15:27.506Z"
   },
   {
    "duration": 4,
    "start_time": "2021-08-22T18:15:27.566Z"
   },
   {
    "duration": 46,
    "start_time": "2021-08-22T18:15:27.573Z"
   },
   {
    "duration": 56,
    "start_time": "2021-08-22T18:15:27.621Z"
   },
   {
    "duration": 4,
    "start_time": "2021-08-22T18:35:30.666Z"
   },
   {
    "duration": 4,
    "start_time": "2021-08-22T18:35:31.832Z"
   },
   {
    "duration": 13,
    "start_time": "2021-08-22T18:35:32.727Z"
   },
   {
    "duration": 59,
    "start_time": "2021-08-22T18:35:36.625Z"
   },
   {
    "duration": 824,
    "start_time": "2021-08-23T16:43:56.351Z"
   },
   {
    "duration": 196,
    "start_time": "2021-08-23T16:43:57.177Z"
   },
   {
    "duration": 27,
    "start_time": "2021-08-23T16:43:57.375Z"
   },
   {
    "duration": 32,
    "start_time": "2021-08-23T16:43:57.405Z"
   },
   {
    "duration": 5,
    "start_time": "2021-08-23T16:43:57.440Z"
   },
   {
    "duration": 76,
    "start_time": "2021-08-23T16:43:57.447Z"
   },
   {
    "duration": 8,
    "start_time": "2021-08-23T16:43:57.526Z"
   },
   {
    "duration": 80,
    "start_time": "2021-08-23T16:43:57.541Z"
   },
   {
    "duration": 61,
    "start_time": "2021-08-23T16:43:57.625Z"
   },
   {
    "duration": 50,
    "start_time": "2021-08-23T16:43:57.690Z"
   },
   {
    "duration": 110,
    "start_time": "2021-08-23T16:43:57.743Z"
   },
   {
    "duration": 122,
    "start_time": "2021-08-23T16:43:57.855Z"
   },
   {
    "duration": 79,
    "start_time": "2021-08-23T16:43:57.980Z"
   },
   {
    "duration": 78,
    "start_time": "2021-08-23T16:43:58.061Z"
   },
   {
    "duration": 4,
    "start_time": "2021-08-23T16:43:58.142Z"
   },
   {
    "duration": 52,
    "start_time": "2021-08-23T16:43:58.149Z"
   },
   {
    "duration": 61,
    "start_time": "2021-08-23T16:43:58.204Z"
   },
   {
    "duration": 17,
    "start_time": "2021-08-23T16:43:58.268Z"
   },
   {
    "duration": 3,
    "start_time": "2021-08-23T16:43:58.288Z"
   },
   {
    "duration": 13,
    "start_time": "2021-08-23T16:43:58.294Z"
   },
   {
    "duration": 12,
    "start_time": "2021-08-23T16:43:58.310Z"
   },
   {
    "duration": 14,
    "start_time": "2021-08-23T16:43:58.325Z"
   },
   {
    "duration": 7,
    "start_time": "2021-08-23T16:43:58.343Z"
   },
   {
    "duration": 4,
    "start_time": "2021-08-23T16:43:58.386Z"
   },
   {
    "duration": 6,
    "start_time": "2021-08-23T16:43:58.392Z"
   },
   {
    "duration": 11,
    "start_time": "2021-08-23T16:43:58.401Z"
   },
   {
    "duration": 9,
    "start_time": "2021-08-23T16:43:58.414Z"
   },
   {
    "duration": 12,
    "start_time": "2021-08-23T16:43:58.425Z"
   },
   {
    "duration": 47,
    "start_time": "2021-08-23T16:43:58.439Z"
   },
   {
    "duration": 7,
    "start_time": "2021-08-23T16:43:58.489Z"
   },
   {
    "duration": 18,
    "start_time": "2021-08-23T16:43:58.498Z"
   },
   {
    "duration": 14,
    "start_time": "2021-08-23T16:43:58.519Z"
   },
   {
    "duration": 13,
    "start_time": "2021-08-23T16:43:58.536Z"
   },
   {
    "duration": 34,
    "start_time": "2021-08-23T16:43:58.552Z"
   },
   {
    "duration": 8,
    "start_time": "2021-08-23T16:43:58.589Z"
   },
   {
    "duration": 8,
    "start_time": "2021-08-23T16:43:58.600Z"
   },
   {
    "duration": 11,
    "start_time": "2021-08-23T16:43:58.610Z"
   },
   {
    "duration": 13,
    "start_time": "2021-08-23T16:43:58.624Z"
   },
   {
    "duration": 109,
    "start_time": "2021-08-23T16:47:13.698Z"
   },
   {
    "duration": 124,
    "start_time": "2021-08-23T16:47:19.165Z"
   },
   {
    "duration": 90,
    "start_time": "2021-08-23T16:47:28.193Z"
   },
   {
    "duration": 85,
    "start_time": "2021-08-23T16:47:37.732Z"
   },
   {
    "duration": 101,
    "start_time": "2021-08-23T16:47:38.961Z"
   },
   {
    "duration": 83,
    "start_time": "2021-08-23T16:47:45.148Z"
   },
   {
    "duration": 115,
    "start_time": "2021-08-23T16:47:54.740Z"
   },
   {
    "duration": 112,
    "start_time": "2021-08-23T16:48:06.049Z"
   },
   {
    "duration": 79,
    "start_time": "2021-08-23T16:48:15.198Z"
   },
   {
    "duration": 79,
    "start_time": "2021-08-23T16:48:17.067Z"
   },
   {
    "duration": 81,
    "start_time": "2021-08-23T16:48:19.599Z"
   },
   {
    "duration": 80,
    "start_time": "2021-08-23T16:48:45.516Z"
   },
   {
    "duration": 84,
    "start_time": "2021-08-23T16:48:46.650Z"
   },
   {
    "duration": 90,
    "start_time": "2021-08-23T16:48:57.276Z"
   },
   {
    "duration": 113,
    "start_time": "2021-08-23T16:48:58.541Z"
   },
   {
    "duration": 95,
    "start_time": "2021-08-23T16:49:18.067Z"
   },
   {
    "duration": 4,
    "start_time": "2021-08-23T16:49:38.511Z"
   },
   {
    "duration": 211,
    "start_time": "2021-08-23T16:49:38.518Z"
   },
   {
    "duration": 15,
    "start_time": "2021-08-23T16:49:38.732Z"
   },
   {
    "duration": 53,
    "start_time": "2021-08-23T16:49:38.750Z"
   },
   {
    "duration": 6,
    "start_time": "2021-08-23T16:49:38.805Z"
   },
   {
    "duration": 24,
    "start_time": "2021-08-23T16:49:38.813Z"
   },
   {
    "duration": 6,
    "start_time": "2021-08-23T16:49:38.840Z"
   },
   {
    "duration": 76,
    "start_time": "2021-08-23T16:49:38.848Z"
   },
   {
    "duration": 33,
    "start_time": "2021-08-23T16:49:38.928Z"
   },
   {
    "duration": 123,
    "start_time": "2021-08-23T16:50:21.099Z"
   },
   {
    "duration": 89,
    "start_time": "2021-08-23T16:50:22.661Z"
   },
   {
    "duration": 85,
    "start_time": "2021-08-23T16:50:32.621Z"
   },
   {
    "duration": 94,
    "start_time": "2021-08-23T16:50:34.957Z"
   },
   {
    "duration": 117,
    "start_time": "2021-08-23T16:50:36.511Z"
   },
   {
    "duration": 79,
    "start_time": "2021-08-23T16:50:40.943Z"
   },
   {
    "duration": 484,
    "start_time": "2021-08-23T16:54:43.741Z"
   },
   {
    "duration": 6,
    "start_time": "2021-08-23T16:57:56.982Z"
   },
   {
    "duration": 7,
    "start_time": "2021-08-23T16:58:43.910Z"
   },
   {
    "duration": 5,
    "start_time": "2021-08-23T16:58:46.764Z"
   },
   {
    "duration": 4,
    "start_time": "2021-08-23T16:58:51.722Z"
   },
   {
    "duration": 74,
    "start_time": "2021-08-23T16:58:58.672Z"
   },
   {
    "duration": 68,
    "start_time": "2021-08-23T16:59:00.198Z"
   },
   {
    "duration": 71,
    "start_time": "2021-08-23T17:04:00.300Z"
   },
   {
    "duration": 40,
    "start_time": "2021-08-23T17:04:22.513Z"
   },
   {
    "duration": 13,
    "start_time": "2021-08-23T17:04:35.652Z"
   },
   {
    "duration": 77,
    "start_time": "2021-08-23T17:04:45.442Z"
   },
   {
    "duration": 143,
    "start_time": "2021-08-23T17:05:02.337Z"
   },
   {
    "duration": 13,
    "start_time": "2021-08-23T17:05:09.214Z"
   },
   {
    "duration": 58,
    "start_time": "2021-08-23T17:28:33.175Z"
   },
   {
    "duration": 13,
    "start_time": "2021-08-23T17:28:41.926Z"
   },
   {
    "duration": 21,
    "start_time": "2021-08-23T17:29:02.697Z"
   },
   {
    "duration": 21,
    "start_time": "2021-08-23T17:29:07.982Z"
   },
   {
    "duration": 19,
    "start_time": "2021-08-23T17:29:19.705Z"
   },
   {
    "duration": -1986,
    "start_time": "2021-08-23T17:29:44.450Z"
   },
   {
    "duration": 56,
    "start_time": "2021-08-23T17:29:50.892Z"
   },
   {
    "duration": 18,
    "start_time": "2021-08-23T17:29:57.420Z"
   },
   {
    "duration": 420,
    "start_time": "2021-08-23T18:13:05.723Z"
   },
   {
    "duration": 451,
    "start_time": "2021-08-23T18:15:21.441Z"
   },
   {
    "duration": 401,
    "start_time": "2021-08-23T18:16:54.334Z"
   },
   {
    "duration": 390,
    "start_time": "2021-08-23T18:18:40.675Z"
   },
   {
    "duration": 435,
    "start_time": "2021-08-23T18:18:44.552Z"
   },
   {
    "duration": 420,
    "start_time": "2021-08-23T18:19:02.706Z"
   },
   {
    "duration": 1163,
    "start_time": "2021-08-23T18:20:19.336Z"
   },
   {
    "duration": -2008,
    "start_time": "2021-08-23T18:20:24.600Z"
   },
   {
    "duration": 934,
    "start_time": "2021-08-23T18:20:23.446Z"
   },
   {
    "duration": 868,
    "start_time": "2021-08-23T18:20:25.797Z"
   },
   {
    "duration": 3,
    "start_time": "2021-08-23T18:20:28.901Z"
   },
   {
    "duration": 204,
    "start_time": "2021-08-23T18:20:28.908Z"
   },
   {
    "duration": 15,
    "start_time": "2021-08-23T18:20:29.115Z"
   },
   {
    "duration": 32,
    "start_time": "2021-08-23T18:20:29.133Z"
   },
   {
    "duration": 5,
    "start_time": "2021-08-23T18:20:29.186Z"
   },
   {
    "duration": 29,
    "start_time": "2021-08-23T18:20:29.193Z"
   },
   {
    "duration": 5,
    "start_time": "2021-08-23T18:20:29.226Z"
   },
   {
    "duration": 64,
    "start_time": "2021-08-23T18:20:29.234Z"
   },
   {
    "duration": 23,
    "start_time": "2021-08-23T18:20:29.300Z"
   },
   {
    "duration": 34,
    "start_time": "2021-08-23T18:20:29.325Z"
   },
   {
    "duration": 108,
    "start_time": "2021-08-23T18:20:29.362Z"
   },
   {
    "duration": 122,
    "start_time": "2021-08-23T18:20:29.472Z"
   },
   {
    "duration": 89,
    "start_time": "2021-08-23T18:20:29.597Z"
   },
   {
    "duration": 58,
    "start_time": "2021-08-23T18:20:29.689Z"
   },
   {
    "duration": 4,
    "start_time": "2021-08-23T18:20:29.749Z"
   },
   {
    "duration": 39,
    "start_time": "2021-08-23T18:20:29.755Z"
   },
   {
    "duration": 56,
    "start_time": "2021-08-23T18:20:29.797Z"
   },
   {
    "duration": 30,
    "start_time": "2021-08-23T18:20:29.855Z"
   },
   {
    "duration": 12,
    "start_time": "2021-08-23T18:20:29.889Z"
   },
   {
    "duration": 584,
    "start_time": "2021-08-23T18:20:29.904Z"
   },
   {
    "duration": -2006,
    "start_time": "2021-08-23T18:20:32.496Z"
   },
   {
    "duration": 136,
    "start_time": "2021-08-23T18:23:10.574Z"
   },
   {
    "duration": -1999,
    "start_time": "2021-08-23T19:34:58.348Z"
   },
   {
    "duration": 3,
    "start_time": "2021-08-23T19:35:05.161Z"
   },
   {
    "duration": 204,
    "start_time": "2021-08-23T19:35:05.166Z"
   },
   {
    "duration": 24,
    "start_time": "2021-08-23T19:35:05.373Z"
   },
   {
    "duration": 37,
    "start_time": "2021-08-23T19:35:05.400Z"
   },
   {
    "duration": 5,
    "start_time": "2021-08-23T19:35:05.439Z"
   },
   {
    "duration": 57,
    "start_time": "2021-08-23T19:35:05.446Z"
   },
   {
    "duration": 5,
    "start_time": "2021-08-23T19:35:05.505Z"
   },
   {
    "duration": 39,
    "start_time": "2021-08-23T19:35:05.512Z"
   },
   {
    "duration": 39,
    "start_time": "2021-08-23T19:35:05.555Z"
   },
   {
    "duration": 31,
    "start_time": "2021-08-23T19:35:05.597Z"
   },
   {
    "duration": 104,
    "start_time": "2021-08-23T19:35:05.630Z"
   },
   {
    "duration": 125,
    "start_time": "2021-08-23T19:35:05.737Z"
   },
   {
    "duration": 81,
    "start_time": "2021-08-23T19:35:05.864Z"
   },
   {
    "duration": 70,
    "start_time": "2021-08-23T19:35:05.948Z"
   },
   {
    "duration": 3,
    "start_time": "2021-08-23T19:35:06.021Z"
   },
   {
    "duration": 21,
    "start_time": "2021-08-23T19:35:06.026Z"
   },
   {
    "duration": 79,
    "start_time": "2021-08-23T19:35:06.049Z"
   },
   {
    "duration": 15,
    "start_time": "2021-08-23T19:35:06.131Z"
   },
   {
    "duration": 12,
    "start_time": "2021-08-23T19:35:06.148Z"
   },
   {
    "duration": 435,
    "start_time": "2021-08-23T19:35:06.186Z"
   },
   {
    "duration": -2036,
    "start_time": "2021-08-23T19:35:08.660Z"
   },
   {
    "duration": -2040,
    "start_time": "2021-08-23T19:35:08.666Z"
   },
   {
    "duration": -2044,
    "start_time": "2021-08-23T19:35:08.672Z"
   },
   {
    "duration": -2049,
    "start_time": "2021-08-23T19:35:08.678Z"
   },
   {
    "duration": -2053,
    "start_time": "2021-08-23T19:35:08.684Z"
   },
   {
    "duration": -2067,
    "start_time": "2021-08-23T19:35:08.699Z"
   },
   {
    "duration": -2072,
    "start_time": "2021-08-23T19:35:08.705Z"
   },
   {
    "duration": -2076,
    "start_time": "2021-08-23T19:35:08.710Z"
   },
   {
    "duration": -2080,
    "start_time": "2021-08-23T19:35:08.716Z"
   },
   {
    "duration": -2085,
    "start_time": "2021-08-23T19:35:08.722Z"
   },
   {
    "duration": -2087,
    "start_time": "2021-08-23T19:35:08.726Z"
   },
   {
    "duration": -2091,
    "start_time": "2021-08-23T19:35:08.731Z"
   },
   {
    "duration": -2095,
    "start_time": "2021-08-23T19:35:08.736Z"
   },
   {
    "duration": -2098,
    "start_time": "2021-08-23T19:35:08.741Z"
   },
   {
    "duration": -2102,
    "start_time": "2021-08-23T19:35:08.746Z"
   },
   {
    "duration": -2106,
    "start_time": "2021-08-23T19:35:08.751Z"
   },
   {
    "duration": -2110,
    "start_time": "2021-08-23T19:35:08.756Z"
   },
   {
    "duration": -2114,
    "start_time": "2021-08-23T19:35:08.762Z"
   },
   {
    "duration": 350,
    "start_time": "2021-08-23T19:35:26.776Z"
   },
   {
    "duration": 671,
    "start_time": "2021-08-23T20:29:38.453Z"
   },
   {
    "duration": 143,
    "start_time": "2021-08-23T20:29:52.907Z"
   },
   {
    "duration": 138,
    "start_time": "2021-08-23T20:31:02.298Z"
   },
   {
    "duration": 146,
    "start_time": "2021-08-23T20:31:03.496Z"
   },
   {
    "duration": 168,
    "start_time": "2021-08-23T20:31:24.972Z"
   },
   {
    "duration": 1445,
    "start_time": "2021-08-23T20:35:23.035Z"
   },
   {
    "duration": 146,
    "start_time": "2021-08-23T20:35:39.781Z"
   },
   {
    "duration": 168,
    "start_time": "2021-08-23T20:37:18.563Z"
   },
   {
    "duration": 139,
    "start_time": "2021-08-23T20:37:20.842Z"
   },
   {
    "duration": 151,
    "start_time": "2021-08-23T20:37:21.811Z"
   },
   {
    "duration": 136,
    "start_time": "2021-08-23T20:38:03.171Z"
   },
   {
    "duration": 134,
    "start_time": "2021-08-23T20:38:06.141Z"
   },
   {
    "duration": 128,
    "start_time": "2021-08-23T20:38:12.012Z"
   },
   {
    "duration": 163,
    "start_time": "2021-08-23T20:38:13.813Z"
   },
   {
    "duration": 133,
    "start_time": "2021-08-23T20:43:44.664Z"
   },
   {
    "duration": 142,
    "start_time": "2021-08-23T20:43:47.576Z"
   },
   {
    "duration": 4,
    "start_time": "2021-08-23T20:43:53.810Z"
   },
   {
    "duration": 210,
    "start_time": "2021-08-23T20:43:53.820Z"
   },
   {
    "duration": 15,
    "start_time": "2021-08-23T20:43:54.033Z"
   },
   {
    "duration": 48,
    "start_time": "2021-08-23T20:43:54.051Z"
   },
   {
    "duration": 6,
    "start_time": "2021-08-23T20:43:54.102Z"
   },
   {
    "duration": 26,
    "start_time": "2021-08-23T20:43:54.111Z"
   },
   {
    "duration": 10,
    "start_time": "2021-08-23T20:43:54.140Z"
   },
   {
    "duration": 64,
    "start_time": "2021-08-23T20:43:54.152Z"
   },
   {
    "duration": 24,
    "start_time": "2021-08-23T20:43:54.219Z"
   },
   {
    "duration": 52,
    "start_time": "2021-08-23T20:43:54.246Z"
   },
   {
    "duration": 97,
    "start_time": "2021-08-23T20:43:54.301Z"
   },
   {
    "duration": 131,
    "start_time": "2021-08-23T20:43:54.401Z"
   },
   {
    "duration": 87,
    "start_time": "2021-08-23T20:43:54.535Z"
   },
   {
    "duration": 69,
    "start_time": "2021-08-23T20:43:54.625Z"
   },
   {
    "duration": 3,
    "start_time": "2021-08-23T20:43:54.697Z"
   },
   {
    "duration": 16,
    "start_time": "2021-08-23T20:43:54.703Z"
   },
   {
    "duration": 71,
    "start_time": "2021-08-23T20:43:54.722Z"
   },
   {
    "duration": 12,
    "start_time": "2021-08-23T20:43:54.796Z"
   },
   {
    "duration": 12,
    "start_time": "2021-08-23T20:43:54.811Z"
   },
   {
    "duration": 205,
    "start_time": "2021-08-23T20:43:54.825Z"
   },
   {
    "duration": 133,
    "start_time": "2021-08-23T20:43:57.104Z"
   },
   {
    "duration": 155,
    "start_time": "2021-08-23T20:47:39.078Z"
   },
   {
    "duration": 126,
    "start_time": "2021-08-23T20:47:40.944Z"
   },
   {
    "duration": 136,
    "start_time": "2021-08-23T20:48:11.173Z"
   },
   {
    "duration": 127,
    "start_time": "2021-08-23T20:48:14.407Z"
   },
   {
    "duration": 159,
    "start_time": "2021-08-23T20:48:21.705Z"
   },
   {
    "duration": 136,
    "start_time": "2021-08-23T20:48:56.168Z"
   },
   {
    "duration": 403,
    "start_time": "2021-08-23T20:48:57.511Z"
   },
   {
    "duration": 337,
    "start_time": "2021-08-23T20:49:00.326Z"
   },
   {
    "duration": 135,
    "start_time": "2021-08-23T20:49:01.790Z"
   },
   {
    "duration": 432,
    "start_time": "2021-08-23T20:49:03.059Z"
   },
   {
    "duration": 133,
    "start_time": "2021-08-23T21:01:29.787Z"
   },
   {
    "duration": 144,
    "start_time": "2021-08-23T21:01:30.830Z"
   },
   {
    "duration": 195,
    "start_time": "2021-08-23T21:01:45.461Z"
   },
   {
    "duration": 5,
    "start_time": "2021-08-23T21:01:53.420Z"
   },
   {
    "duration": 415,
    "start_time": "2021-08-23T21:02:01.324Z"
   },
   {
    "duration": 412,
    "start_time": "2021-08-23T21:02:03.784Z"
   },
   {
    "duration": 133,
    "start_time": "2021-08-23T21:02:10.143Z"
   },
   {
    "duration": 13,
    "start_time": "2021-08-23T21:02:24.907Z"
   },
   {
    "duration": -2034,
    "start_time": "2021-08-23T21:03:54.862Z"
   },
   {
    "duration": -2044,
    "start_time": "2021-08-23T21:03:54.873Z"
   },
   {
    "duration": 12,
    "start_time": "2021-08-23T21:03:54.913Z"
   },
   {
    "duration": 141,
    "start_time": "2021-08-24T11:16:20.503Z"
   },
   {
    "duration": 130,
    "start_time": "2021-08-24T11:16:25.225Z"
   },
   {
    "duration": 4,
    "start_time": "2021-08-24T11:16:29.625Z"
   },
   {
    "duration": 142,
    "start_time": "2021-08-24T11:17:26.802Z"
   },
   {
    "duration": 138,
    "start_time": "2021-08-24T11:17:29.632Z"
   },
   {
    "duration": 136,
    "start_time": "2021-08-24T11:17:36.688Z"
   },
   {
    "duration": 6,
    "start_time": "2021-08-24T11:17:49.097Z"
   },
   {
    "duration": 441,
    "start_time": "2021-08-24T12:47:10.717Z"
   },
   {
    "duration": 401,
    "start_time": "2021-08-24T12:47:25.866Z"
   },
   {
    "duration": 798,
    "start_time": "2021-08-24T12:47:31.887Z"
   },
   {
    "duration": 198,
    "start_time": "2021-08-24T12:47:32.688Z"
   },
   {
    "duration": 25,
    "start_time": "2021-08-24T12:47:32.889Z"
   },
   {
    "duration": 34,
    "start_time": "2021-08-24T12:47:32.917Z"
   },
   {
    "duration": 34,
    "start_time": "2021-08-24T12:47:32.953Z"
   },
   {
    "duration": 41,
    "start_time": "2021-08-24T12:47:32.989Z"
   },
   {
    "duration": 12,
    "start_time": "2021-08-24T12:47:33.033Z"
   },
   {
    "duration": 40,
    "start_time": "2021-08-24T12:47:33.048Z"
   },
   {
    "duration": 22,
    "start_time": "2021-08-24T12:47:33.090Z"
   },
   {
    "duration": 43,
    "start_time": "2021-08-24T12:47:33.115Z"
   },
   {
    "duration": 96,
    "start_time": "2021-08-24T12:47:33.161Z"
   },
   {
    "duration": 139,
    "start_time": "2021-08-24T12:47:33.260Z"
   },
   {
    "duration": 93,
    "start_time": "2021-08-24T12:47:33.402Z"
   },
   {
    "duration": 57,
    "start_time": "2021-08-24T12:47:33.498Z"
   },
   {
    "duration": 27,
    "start_time": "2021-08-24T12:47:33.558Z"
   },
   {
    "duration": 18,
    "start_time": "2021-08-24T12:47:33.587Z"
   },
   {
    "duration": 60,
    "start_time": "2021-08-24T12:47:33.607Z"
   },
   {
    "duration": 26,
    "start_time": "2021-08-24T12:47:33.669Z"
   },
   {
    "duration": 13,
    "start_time": "2021-08-24T12:47:33.698Z"
   },
   {
    "duration": 4,
    "start_time": "2021-08-24T12:47:33.714Z"
   },
   {
    "duration": 463,
    "start_time": "2021-08-24T12:47:33.721Z"
   },
   {
    "duration": -18,
    "start_time": "2021-08-24T12:48:19.121Z"
   },
   {
    "duration": -23,
    "start_time": "2021-08-24T12:48:42.085Z"
   },
   {
    "duration": -18,
    "start_time": "2021-08-24T12:48:59.711Z"
   },
   {
    "duration": -19,
    "start_time": "2021-08-24T12:49:27.423Z"
   },
   {
    "duration": 129,
    "start_time": "2021-08-24T12:49:36.938Z"
   },
   {
    "duration": 12,
    "start_time": "2021-08-24T12:49:45.011Z"
   },
   {
    "duration": 446,
    "start_time": "2021-08-24T12:50:55.242Z"
   },
   {
    "duration": 11,
    "start_time": "2021-08-24T12:51:02.106Z"
   },
   {
    "duration": 151,
    "start_time": "2021-08-24T12:53:43.777Z"
   },
   {
    "duration": 136,
    "start_time": "2021-08-24T12:54:03.297Z"
   },
   {
    "duration": 138,
    "start_time": "2021-08-24T12:54:10.881Z"
   },
   {
    "duration": 5,
    "start_time": "2021-08-24T12:55:20.521Z"
   },
   {
    "duration": 11,
    "start_time": "2021-08-24T12:55:37.249Z"
   },
   {
    "duration": 11,
    "start_time": "2021-08-24T12:55:54.025Z"
   },
   {
    "duration": 10,
    "start_time": "2021-08-24T12:55:56.336Z"
   },
   {
    "duration": 5,
    "start_time": "2021-08-24T15:23:31.751Z"
   },
   {
    "duration": 7,
    "start_time": "2021-08-24T15:25:35.744Z"
   },
   {
    "duration": 5,
    "start_time": "2021-08-24T15:25:37.921Z"
   },
   {
    "duration": 778,
    "start_time": "2021-08-24T15:25:38.851Z"
   },
   {
    "duration": 4,
    "start_time": "2021-08-24T15:28:30.933Z"
   },
   {
    "duration": 14,
    "start_time": "2021-08-24T15:28:33.908Z"
   },
   {
    "duration": 10,
    "start_time": "2021-08-24T15:28:35.300Z"
   },
   {
    "duration": 4,
    "start_time": "2021-08-24T15:30:28.708Z"
   },
   {
    "duration": 12,
    "start_time": "2021-08-24T15:30:30.011Z"
   },
   {
    "duration": 11,
    "start_time": "2021-08-24T15:30:31.971Z"
   },
   {
    "duration": 146,
    "start_time": "2021-08-24T15:30:56.396Z"
   },
   {
    "duration": 4,
    "start_time": "2021-08-24T15:30:59.124Z"
   },
   {
    "duration": 11,
    "start_time": "2021-08-24T15:31:02.515Z"
   },
   {
    "duration": 10,
    "start_time": "2021-08-24T15:33:23.098Z"
   },
   {
    "duration": 10,
    "start_time": "2021-08-24T15:33:42.706Z"
   },
   {
    "duration": 5,
    "start_time": "2021-08-24T15:42:32.016Z"
   },
   {
    "duration": 12,
    "start_time": "2021-08-24T15:42:34.119Z"
   },
   {
    "duration": 5,
    "start_time": "2021-08-24T15:42:48.607Z"
   },
   {
    "duration": 11,
    "start_time": "2021-08-24T15:42:50.327Z"
   },
   {
    "duration": 5,
    "start_time": "2021-08-24T15:43:02.337Z"
   },
   {
    "duration": 1089,
    "start_time": "2021-08-24T15:43:03.791Z"
   },
   {
    "duration": 4,
    "start_time": "2021-08-24T15:43:10.135Z"
   },
   {
    "duration": 11,
    "start_time": "2021-08-24T15:43:11.254Z"
   },
   {
    "duration": 5,
    "start_time": "2021-08-24T15:52:40.219Z"
   },
   {
    "duration": 5,
    "start_time": "2021-08-24T15:52:42.458Z"
   },
   {
    "duration": 25,
    "start_time": "2021-08-24T15:52:43.187Z"
   },
   {
    "duration": 20,
    "start_time": "2021-08-24T15:52:51.362Z"
   },
   {
    "duration": 20,
    "start_time": "2021-08-24T15:55:54.759Z"
   },
   {
    "duration": 11,
    "start_time": "2021-08-24T15:56:34.252Z"
   },
   {
    "duration": 19,
    "start_time": "2021-08-24T15:56:44.005Z"
   },
   {
    "duration": 29,
    "start_time": "2021-08-24T15:57:08.281Z"
   },
   {
    "duration": 151,
    "start_time": "2021-08-24T15:57:21.513Z"
   },
   {
    "duration": 144,
    "start_time": "2021-08-24T15:57:32.040Z"
   },
   {
    "duration": 19,
    "start_time": "2021-08-24T15:58:03.327Z"
   },
   {
    "duration": 291,
    "start_time": "2021-08-25T17:33:29.035Z"
   },
   {
    "duration": 252,
    "start_time": "2021-08-25T17:34:18.720Z"
   },
   {
    "duration": 626,
    "start_time": "2021-08-25T17:34:50.476Z"
   },
   {
    "duration": 127,
    "start_time": "2021-08-25T17:34:51.104Z"
   },
   {
    "duration": 16,
    "start_time": "2021-08-25T17:34:51.233Z"
   },
   {
    "duration": 27,
    "start_time": "2021-08-25T17:34:51.251Z"
   },
   {
    "duration": 4,
    "start_time": "2021-08-25T17:34:51.279Z"
   },
   {
    "duration": 22,
    "start_time": "2021-08-25T17:34:51.285Z"
   },
   {
    "duration": 9,
    "start_time": "2021-08-25T17:34:51.308Z"
   },
   {
    "duration": 26,
    "start_time": "2021-08-25T17:34:51.319Z"
   },
   {
    "duration": 16,
    "start_time": "2021-08-25T17:34:51.347Z"
   },
   {
    "duration": 41,
    "start_time": "2021-08-25T17:34:51.365Z"
   },
   {
    "duration": 53,
    "start_time": "2021-08-25T17:34:51.408Z"
   },
   {
    "duration": 78,
    "start_time": "2021-08-25T17:34:51.463Z"
   },
   {
    "duration": 60,
    "start_time": "2021-08-25T17:34:51.543Z"
   },
   {
    "duration": 37,
    "start_time": "2021-08-25T17:34:51.605Z"
   },
   {
    "duration": 3,
    "start_time": "2021-08-25T17:34:51.643Z"
   },
   {
    "duration": 15,
    "start_time": "2021-08-25T17:34:51.648Z"
   },
   {
    "duration": 50,
    "start_time": "2021-08-25T17:34:51.665Z"
   },
   {
    "duration": 10,
    "start_time": "2021-08-25T17:34:51.717Z"
   },
   {
    "duration": 10,
    "start_time": "2021-08-25T17:34:51.728Z"
   },
   {
    "duration": 3,
    "start_time": "2021-08-25T17:34:51.740Z"
   },
   {
    "duration": 25,
    "start_time": "2021-08-25T17:34:51.744Z"
   },
   {
    "duration": 29,
    "start_time": "2021-08-25T17:34:51.770Z"
   },
   {
    "duration": 12,
    "start_time": "2021-08-25T17:34:51.802Z"
   },
   {
    "duration": 17,
    "start_time": "2021-08-25T17:34:51.815Z"
   },
   {
    "duration": 14,
    "start_time": "2021-08-25T17:34:51.834Z"
   },
   {
    "duration": 12,
    "start_time": "2021-08-25T17:34:51.849Z"
   },
   {
    "duration": 3,
    "start_time": "2021-08-25T17:34:51.863Z"
   },
   {
    "duration": 14,
    "start_time": "2021-08-25T17:34:51.891Z"
   },
   {
    "duration": 1,
    "start_time": "2021-08-25T17:34:51.907Z"
   },
   {
    "duration": 7,
    "start_time": "2021-08-25T17:34:51.910Z"
   },
   {
    "duration": 16,
    "start_time": "2021-08-25T17:34:51.918Z"
   },
   {
    "duration": 8,
    "start_time": "2021-08-25T17:34:51.936Z"
   },
   {
    "duration": 12,
    "start_time": "2021-08-25T17:34:51.946Z"
   },
   {
    "duration": 10,
    "start_time": "2021-08-25T17:34:51.959Z"
   },
   {
    "duration": 12,
    "start_time": "2021-08-25T17:34:51.970Z"
   },
   {
    "duration": 15,
    "start_time": "2021-08-25T17:34:51.983Z"
   },
   {
    "duration": 14,
    "start_time": "2021-08-25T17:34:52.000Z"
   },
   {
    "duration": 8,
    "start_time": "2021-08-25T17:34:52.015Z"
   },
   {
    "duration": 20,
    "start_time": "2021-08-25T17:35:12.260Z"
   },
   {
    "duration": 12,
    "start_time": "2021-08-25T17:35:22.023Z"
   },
   {
    "duration": 10,
    "start_time": "2021-08-25T17:35:35.799Z"
   },
   {
    "duration": 5,
    "start_time": "2021-08-25T17:53:31.404Z"
   },
   {
    "duration": 599,
    "start_time": "2021-08-25T17:56:22.359Z"
   },
   {
    "duration": 4,
    "start_time": "2021-08-25T17:57:05.069Z"
   },
   {
    "duration": 4,
    "start_time": "2021-08-25T17:57:07.020Z"
   },
   {
    "duration": 475,
    "start_time": "2021-08-25T17:57:08.496Z"
   },
   {
    "duration": 504,
    "start_time": "2021-08-25T17:57:11.196Z"
   },
   {
    "duration": 602,
    "start_time": "2021-08-25T17:58:52.039Z"
   },
   {
    "duration": 621,
    "start_time": "2021-08-25T17:58:53.627Z"
   },
   {
    "duration": 604,
    "start_time": "2021-08-25T17:59:18.516Z"
   },
   {
    "duration": 617,
    "start_time": "2021-08-25T17:59:21.068Z"
   },
   {
    "duration": 646,
    "start_time": "2021-08-25T17:59:25.745Z"
   },
   {
    "duration": 2,
    "start_time": "2021-08-25T17:59:29.834Z"
   },
   {
    "duration": 152,
    "start_time": "2021-08-25T17:59:29.839Z"
   },
   {
    "duration": 10,
    "start_time": "2021-08-25T17:59:29.994Z"
   },
   {
    "duration": 33,
    "start_time": "2021-08-25T17:59:30.006Z"
   },
   {
    "duration": 6,
    "start_time": "2021-08-25T17:59:30.041Z"
   },
   {
    "duration": 28,
    "start_time": "2021-08-25T17:59:30.048Z"
   },
   {
    "duration": 3,
    "start_time": "2021-08-25T17:59:30.078Z"
   },
   {
    "duration": 26,
    "start_time": "2021-08-25T17:59:30.092Z"
   },
   {
    "duration": 20,
    "start_time": "2021-08-25T17:59:30.120Z"
   },
   {
    "duration": 22,
    "start_time": "2021-08-25T17:59:30.142Z"
   },
   {
    "duration": 62,
    "start_time": "2021-08-25T17:59:30.166Z"
   },
   {
    "duration": 76,
    "start_time": "2021-08-25T17:59:30.230Z"
   },
   {
    "duration": 49,
    "start_time": "2021-08-25T17:59:30.307Z"
   },
   {
    "duration": 45,
    "start_time": "2021-08-25T17:59:30.357Z"
   },
   {
    "duration": 8,
    "start_time": "2021-08-25T17:59:30.404Z"
   },
   {
    "duration": 21,
    "start_time": "2021-08-25T17:59:30.413Z"
   },
   {
    "duration": 51,
    "start_time": "2021-08-25T17:59:30.435Z"
   },
   {
    "duration": 14,
    "start_time": "2021-08-25T17:59:30.488Z"
   },
   {
    "duration": 15,
    "start_time": "2021-08-25T17:59:30.505Z"
   },
   {
    "duration": 15,
    "start_time": "2021-08-25T17:59:30.522Z"
   },
   {
    "duration": 41,
    "start_time": "2021-08-25T17:59:30.539Z"
   },
   {
    "duration": 15,
    "start_time": "2021-08-25T17:59:30.582Z"
   },
   {
    "duration": 34,
    "start_time": "2021-08-25T17:59:30.598Z"
   },
   {
    "duration": 14,
    "start_time": "2021-08-25T17:59:30.634Z"
   },
   {
    "duration": 15,
    "start_time": "2021-08-25T17:59:30.650Z"
   },
   {
    "duration": 12,
    "start_time": "2021-08-25T17:59:30.667Z"
   },
   {
    "duration": 8,
    "start_time": "2021-08-25T17:59:30.680Z"
   },
   {
    "duration": 28,
    "start_time": "2021-08-25T17:59:30.689Z"
   },
   {
    "duration": 19,
    "start_time": "2021-08-25T17:59:30.719Z"
   },
   {
    "duration": 661,
    "start_time": "2021-08-25T17:59:30.740Z"
   },
   {
    "duration": -4525,
    "start_time": "2021-08-25T17:59:35.927Z"
   },
   {
    "duration": -4529,
    "start_time": "2021-08-25T17:59:35.932Z"
   },
   {
    "duration": -4533,
    "start_time": "2021-08-25T17:59:35.937Z"
   },
   {
    "duration": -4537,
    "start_time": "2021-08-25T17:59:35.942Z"
   },
   {
    "duration": -4541,
    "start_time": "2021-08-25T17:59:35.947Z"
   },
   {
    "duration": -4544,
    "start_time": "2021-08-25T17:59:35.951Z"
   },
   {
    "duration": -4548,
    "start_time": "2021-08-25T17:59:35.956Z"
   },
   {
    "duration": -4551,
    "start_time": "2021-08-25T17:59:35.960Z"
   },
   {
    "duration": 768,
    "start_time": "2021-08-25T17:59:36.041Z"
   },
   {
    "duration": 615,
    "start_time": "2021-08-25T17:59:54.870Z"
   },
   {
    "duration": 619,
    "start_time": "2021-08-25T17:59:56.900Z"
   },
   {
    "duration": 686,
    "start_time": "2021-08-25T18:00:13.304Z"
   },
   {
    "duration": 706,
    "start_time": "2021-08-25T18:00:15.465Z"
   },
   {
    "duration": 625,
    "start_time": "2021-08-25T18:00:23.733Z"
   },
   {
    "duration": 5,
    "start_time": "2021-08-25T18:03:13.477Z"
   },
   {
    "duration": 3,
    "start_time": "2021-08-25T18:03:14.688Z"
   },
   {
    "duration": 4,
    "start_time": "2021-08-25T18:03:26.460Z"
   },
   {
    "duration": 5,
    "start_time": "2021-08-25T18:04:48.688Z"
   },
   {
    "duration": 1008,
    "start_time": "2021-08-25T18:04:50.160Z"
   },
   {
    "duration": 5,
    "start_time": "2021-08-25T18:05:59.604Z"
   },
   {
    "duration": 662,
    "start_time": "2021-08-25T18:06:01.305Z"
   },
   {
    "duration": 774,
    "start_time": "2021-08-25T18:06:04.098Z"
   },
   {
    "duration": 5,
    "start_time": "2021-08-25T18:06:34.267Z"
   },
   {
    "duration": 506,
    "start_time": "2021-08-25T18:06:35.714Z"
   },
   {
    "duration": 5,
    "start_time": "2021-08-25T18:07:03.018Z"
   },
   {
    "duration": 473,
    "start_time": "2021-08-25T18:07:05.424Z"
   },
   {
    "duration": 5,
    "start_time": "2021-08-25T18:07:45.244Z"
   },
   {
    "duration": 533,
    "start_time": "2021-08-25T18:07:46.058Z"
   },
   {
    "duration": 6,
    "start_time": "2021-08-25T18:09:10.890Z"
   },
   {
    "duration": 8629,
    "start_time": "2021-08-25T18:09:12.335Z"
   },
   {
    "duration": 254,
    "start_time": "2021-08-25T18:10:42.015Z"
   },
   {
    "duration": 234,
    "start_time": "2021-08-25T18:11:24.172Z"
   },
   {
    "duration": 6801,
    "start_time": "2021-08-25T18:11:52.047Z"
   },
   {
    "duration": 19,
    "start_time": "2021-08-25T18:12:05.988Z"
   },
   {
    "duration": 6873,
    "start_time": "2021-08-25T18:14:31.656Z"
   },
   {
    "duration": 7417,
    "start_time": "2021-08-25T18:14:46.384Z"
   },
   {
    "duration": 7470,
    "start_time": "2021-08-25T18:15:02.783Z"
   },
   {
    "duration": 243,
    "start_time": "2021-08-25T18:15:23.456Z"
   },
   {
    "duration": 365,
    "start_time": "2021-08-25T18:15:25.899Z"
   },
   {
    "duration": -4576,
    "start_time": "2021-08-25T18:15:43.529Z"
   },
   {
    "duration": 7059,
    "start_time": "2021-08-25T18:15:39.751Z"
   },
   {
    "duration": 270,
    "start_time": "2021-08-25T18:16:03.881Z"
   },
   {
    "duration": 8061,
    "start_time": "2021-08-25T18:16:08.890Z"
   },
   {
    "duration": 267,
    "start_time": "2021-08-25T18:16:31.538Z"
   },
   {
    "duration": 7790,
    "start_time": "2021-08-25T18:16:56.446Z"
   },
   {
    "duration": 4,
    "start_time": "2021-08-25T18:18:51.337Z"
   },
   {
    "duration": 478,
    "start_time": "2021-08-25T18:18:53.373Z"
   },
   {
    "duration": 483,
    "start_time": "2021-08-25T18:18:55.204Z"
   },
   {
    "duration": 465,
    "start_time": "2021-08-25T18:19:46.972Z"
   },
   {
    "duration": 4,
    "start_time": "2021-08-25T18:25:03.988Z"
   },
   {
    "duration": 18,
    "start_time": "2021-08-25T18:25:05.746Z"
   },
   {
    "duration": 4,
    "start_time": "2021-08-25T18:25:31.374Z"
   },
   {
    "duration": 3,
    "start_time": "2021-08-25T18:25:34.164Z"
   },
   {
    "duration": 4,
    "start_time": "2021-08-25T18:26:22.449Z"
   },
   {
    "duration": 4,
    "start_time": "2021-08-25T18:26:24.375Z"
   },
   {
    "duration": 485,
    "start_time": "2021-08-25T18:26:25.260Z"
   },
   {
    "duration": 4,
    "start_time": "2021-08-25T18:26:31.040Z"
   },
   {
    "duration": 470,
    "start_time": "2021-08-25T18:26:32.458Z"
   },
   {
    "duration": 6,
    "start_time": "2021-08-25T18:26:37.382Z"
   },
   {
    "duration": 551,
    "start_time": "2021-08-25T18:26:38.420Z"
   },
   {
    "duration": 4,
    "start_time": "2021-08-25T18:26:44.339Z"
   },
   {
    "duration": 809,
    "start_time": "2021-08-25T18:26:45.239Z"
   },
   {
    "duration": 3,
    "start_time": "2021-08-25T18:26:54.482Z"
   },
   {
    "duration": 19,
    "start_time": "2021-08-25T18:26:56.439Z"
   },
   {
    "duration": 4,
    "start_time": "2021-08-25T18:27:52.237Z"
   },
   {
    "duration": 496,
    "start_time": "2021-08-25T18:27:53.178Z"
   },
   {
    "duration": 4,
    "start_time": "2021-08-25T18:28:09.721Z"
   },
   {
    "duration": 487,
    "start_time": "2021-08-25T18:28:10.675Z"
   },
   {
    "duration": 4,
    "start_time": "2021-08-25T18:28:22.829Z"
   },
   {
    "duration": 468,
    "start_time": "2021-08-25T18:28:23.778Z"
   },
   {
    "duration": 4,
    "start_time": "2021-08-25T18:28:25.569Z"
   },
   {
    "duration": 4,
    "start_time": "2021-08-25T18:28:30.858Z"
   },
   {
    "duration": 504,
    "start_time": "2021-08-25T18:28:31.450Z"
   },
   {
    "duration": 12,
    "start_time": "2021-08-25T18:28:35.002Z"
   },
   {
    "duration": 491,
    "start_time": "2021-08-25T18:28:35.880Z"
   },
   {
    "duration": 4,
    "start_time": "2021-08-25T18:28:49.125Z"
   },
   {
    "duration": 19,
    "start_time": "2021-08-25T18:28:50.092Z"
   },
   {
    "duration": 19,
    "start_time": "2021-08-25T18:29:03.249Z"
   },
   {
    "duration": 14,
    "start_time": "2021-08-25T18:30:33.107Z"
   },
   {
    "duration": 18,
    "start_time": "2021-08-25T18:32:19.659Z"
   },
   {
    "duration": 12,
    "start_time": "2021-08-25T18:32:39.263Z"
   },
   {
    "duration": 3,
    "start_time": "2021-08-25T18:35:37.735Z"
   },
   {
    "duration": 18,
    "start_time": "2021-08-25T18:35:48.943Z"
   },
   {
    "duration": 14,
    "start_time": "2021-08-25T18:35:51.094Z"
   },
   {
    "duration": 17,
    "start_time": "2021-08-25T18:35:52.512Z"
   },
   {
    "duration": 13,
    "start_time": "2021-08-25T18:35:53.875Z"
   },
   {
    "duration": 241,
    "start_time": "2021-08-25T19:45:46.684Z"
   },
   {
    "duration": 227,
    "start_time": "2021-08-25T19:46:01.194Z"
   },
   {
    "duration": 257,
    "start_time": "2021-08-25T19:47:03.120Z"
   },
   {
    "duration": 228,
    "start_time": "2021-08-25T19:47:04.123Z"
   },
   {
    "duration": 264,
    "start_time": "2021-08-25T19:47:21.847Z"
   },
   {
    "duration": 246,
    "start_time": "2021-08-25T19:47:34.797Z"
   },
   {
    "duration": 28,
    "start_time": "2021-08-25T19:47:51.651Z"
   },
   {
    "duration": 9,
    "start_time": "2021-08-25T19:48:17.750Z"
   },
   {
    "duration": 244,
    "start_time": "2021-08-25T19:48:46.872Z"
   },
   {
    "duration": 8,
    "start_time": "2021-08-25T19:49:38.235Z"
   },
   {
    "duration": 5,
    "start_time": "2021-08-25T19:49:59.104Z"
   },
   {
    "duration": 5,
    "start_time": "2021-08-25T19:50:09.547Z"
   },
   {
    "duration": 8,
    "start_time": "2021-08-25T19:52:02.026Z"
   },
   {
    "duration": 5,
    "start_time": "2021-08-25T19:52:07.948Z"
   },
   {
    "duration": 6,
    "start_time": "2021-08-25T19:53:06.987Z"
   },
   {
    "duration": 5,
    "start_time": "2021-08-25T19:53:21.948Z"
   },
   {
    "duration": 4,
    "start_time": "2021-08-25T19:53:33.272Z"
   },
   {
    "duration": 9,
    "start_time": "2021-08-25T19:53:44.895Z"
   },
   {
    "duration": 5,
    "start_time": "2021-08-25T20:04:59.963Z"
   },
   {
    "duration": 4,
    "start_time": "2021-08-25T20:05:07.670Z"
   },
   {
    "duration": 4,
    "start_time": "2021-08-25T20:05:18.219Z"
   },
   {
    "duration": 4,
    "start_time": "2021-08-25T20:05:23.441Z"
   },
   {
    "duration": 773,
    "start_time": "2021-08-25T20:54:48.915Z"
   },
   {
    "duration": 177,
    "start_time": "2021-08-25T20:54:49.691Z"
   },
   {
    "duration": 26,
    "start_time": "2021-08-25T20:54:49.871Z"
   },
   {
    "duration": 32,
    "start_time": "2021-08-25T20:54:49.900Z"
   },
   {
    "duration": 5,
    "start_time": "2021-08-25T20:54:49.956Z"
   },
   {
    "duration": 31,
    "start_time": "2021-08-25T20:54:49.964Z"
   },
   {
    "duration": 13,
    "start_time": "2021-08-25T20:54:49.997Z"
   },
   {
    "duration": 48,
    "start_time": "2021-08-25T20:54:50.013Z"
   },
   {
    "duration": 29,
    "start_time": "2021-08-25T20:54:50.064Z"
   },
   {
    "duration": 30,
    "start_time": "2021-08-25T20:54:50.095Z"
   },
   {
    "duration": 102,
    "start_time": "2021-08-25T20:54:50.127Z"
   },
   {
    "duration": 121,
    "start_time": "2021-08-25T20:54:50.231Z"
   },
   {
    "duration": 78,
    "start_time": "2021-08-25T20:54:50.357Z"
   },
   {
    "duration": 67,
    "start_time": "2021-08-25T20:54:50.437Z"
   },
   {
    "duration": 13,
    "start_time": "2021-08-25T20:54:50.506Z"
   },
   {
    "duration": 34,
    "start_time": "2021-08-25T20:54:50.521Z"
   },
   {
    "duration": 68,
    "start_time": "2021-08-25T20:54:50.557Z"
   },
   {
    "duration": 28,
    "start_time": "2021-08-25T20:54:50.627Z"
   },
   {
    "duration": 18,
    "start_time": "2021-08-25T20:54:50.657Z"
   },
   {
    "duration": 18,
    "start_time": "2021-08-25T20:54:50.678Z"
   },
   {
    "duration": 61,
    "start_time": "2021-08-25T20:54:50.698Z"
   },
   {
    "duration": 28,
    "start_time": "2021-08-25T20:54:50.762Z"
   },
   {
    "duration": 42,
    "start_time": "2021-08-25T20:54:50.794Z"
   },
   {
    "duration": 22,
    "start_time": "2021-08-25T20:54:50.839Z"
   },
   {
    "duration": 27,
    "start_time": "2021-08-25T20:54:50.863Z"
   },
   {
    "duration": 29,
    "start_time": "2021-08-25T20:54:50.892Z"
   },
   {
    "duration": 9,
    "start_time": "2021-08-25T20:54:50.923Z"
   },
   {
    "duration": 41,
    "start_time": "2021-08-25T20:54:50.934Z"
   },
   {
    "duration": 40,
    "start_time": "2021-08-25T20:54:50.977Z"
   },
   {
    "duration": 25,
    "start_time": "2021-08-25T20:54:51.019Z"
   },
   {
    "duration": 51,
    "start_time": "2021-08-25T20:54:51.046Z"
   },
   {
    "duration": 19,
    "start_time": "2021-08-25T20:54:51.101Z"
   },
   {
    "duration": 36,
    "start_time": "2021-08-25T20:54:51.123Z"
   },
   {
    "duration": 16,
    "start_time": "2021-08-25T20:54:51.162Z"
   },
   {
    "duration": 13,
    "start_time": "2021-08-25T20:54:51.181Z"
   },
   {
    "duration": 15,
    "start_time": "2021-08-25T20:54:51.196Z"
   },
   {
    "duration": 27,
    "start_time": "2021-08-25T20:54:51.213Z"
   },
   {
    "duration": 17,
    "start_time": "2021-08-25T20:54:51.242Z"
   },
   {
    "duration": 14,
    "start_time": "2021-08-25T20:55:23.350Z"
   },
   {
    "duration": 18,
    "start_time": "2021-08-25T20:59:01.039Z"
   },
   {
    "duration": 10,
    "start_time": "2021-08-25T21:00:53.919Z"
   },
   {
    "duration": 480,
    "start_time": "2021-08-26T18:38:27.028Z"
   },
   {
    "duration": 370,
    "start_time": "2021-08-26T18:38:30.516Z"
   },
   {
    "duration": 418,
    "start_time": "2021-08-26T18:38:32.221Z"
   },
   {
    "duration": 377,
    "start_time": "2021-08-26T18:38:38.654Z"
   },
   {
    "duration": 354,
    "start_time": "2021-08-26T18:38:42.853Z"
   },
   {
    "duration": 1102,
    "start_time": "2021-08-26T18:38:46.377Z"
   },
   {
    "duration": 823,
    "start_time": "2021-08-26T18:39:07.223Z"
   },
   {
    "duration": 187,
    "start_time": "2021-08-26T18:39:08.048Z"
   },
   {
    "duration": 25,
    "start_time": "2021-08-26T18:39:08.237Z"
   },
   {
    "duration": 36,
    "start_time": "2021-08-26T18:39:08.265Z"
   },
   {
    "duration": 35,
    "start_time": "2021-08-26T18:39:08.304Z"
   },
   {
    "duration": 6,
    "start_time": "2021-08-26T18:39:08.341Z"
   },
   {
    "duration": 52,
    "start_time": "2021-08-26T18:39:08.349Z"
   },
   {
    "duration": 6,
    "start_time": "2021-08-26T18:39:08.404Z"
   },
   {
    "duration": 35,
    "start_time": "2021-08-26T18:39:08.413Z"
   },
   {
    "duration": 24,
    "start_time": "2021-08-26T18:39:08.450Z"
   },
   {
    "duration": 52,
    "start_time": "2021-08-26T18:39:08.476Z"
   },
   {
    "duration": 103,
    "start_time": "2021-08-26T18:39:08.531Z"
   },
   {
    "duration": 121,
    "start_time": "2021-08-26T18:39:08.636Z"
   },
   {
    "duration": 90,
    "start_time": "2021-08-26T18:39:08.759Z"
   },
   {
    "duration": 62,
    "start_time": "2021-08-26T18:39:08.851Z"
   },
   {
    "duration": 4,
    "start_time": "2021-08-26T18:39:08.915Z"
   },
   {
    "duration": 18,
    "start_time": "2021-08-26T18:39:08.921Z"
   },
   {
    "duration": 79,
    "start_time": "2021-08-26T18:39:08.942Z"
   },
   {
    "duration": 12,
    "start_time": "2021-08-26T18:39:09.024Z"
   },
   {
    "duration": 12,
    "start_time": "2021-08-26T18:39:09.039Z"
   },
   {
    "duration": 55,
    "start_time": "2021-08-26T18:39:09.054Z"
   },
   {
    "duration": 5,
    "start_time": "2021-08-26T18:39:09.111Z"
   },
   {
    "duration": 22,
    "start_time": "2021-08-26T18:39:09.122Z"
   },
   {
    "duration": 53,
    "start_time": "2021-08-26T18:39:09.148Z"
   },
   {
    "duration": 19,
    "start_time": "2021-08-26T18:39:09.204Z"
   },
   {
    "duration": 18,
    "start_time": "2021-08-26T18:39:09.226Z"
   },
   {
    "duration": 19,
    "start_time": "2021-08-26T18:39:09.247Z"
   },
   {
    "duration": 18,
    "start_time": "2021-08-26T18:39:09.302Z"
   },
   {
    "duration": 3,
    "start_time": "2021-08-26T18:39:09.322Z"
   },
   {
    "duration": 16,
    "start_time": "2021-08-26T18:39:09.328Z"
   },
   {
    "duration": 12,
    "start_time": "2021-08-26T18:39:09.347Z"
   },
   {
    "duration": 40,
    "start_time": "2021-08-26T18:39:09.361Z"
   },
   {
    "duration": 30,
    "start_time": "2021-08-26T18:39:09.404Z"
   },
   {
    "duration": 20,
    "start_time": "2021-08-26T18:39:09.437Z"
   },
   {
    "duration": 51,
    "start_time": "2021-08-26T18:39:09.460Z"
   },
   {
    "duration": 14,
    "start_time": "2021-08-26T18:39:09.514Z"
   },
   {
    "duration": 10,
    "start_time": "2021-08-26T18:39:09.531Z"
   },
   {
    "duration": 8,
    "start_time": "2021-08-26T18:39:09.543Z"
   },
   {
    "duration": 50,
    "start_time": "2021-08-26T18:39:09.553Z"
   },
   {
    "duration": 11,
    "start_time": "2021-08-26T18:39:09.605Z"
   },
   {
    "duration": 5,
    "start_time": "2021-08-26T18:39:09.618Z"
   },
   {
    "duration": 17,
    "start_time": "2021-08-26T18:39:19.856Z"
   },
   {
    "duration": 110,
    "start_time": "2021-08-26T18:41:16.956Z"
   },
   {
    "duration": 76,
    "start_time": "2021-08-26T18:41:30.127Z"
   },
   {
    "duration": 72,
    "start_time": "2021-08-26T18:41:43.790Z"
   },
   {
    "duration": 58,
    "start_time": "2021-08-26T18:42:27.648Z"
   },
   {
    "duration": 4,
    "start_time": "2021-08-26T18:42:41.871Z"
   },
   {
    "duration": 56,
    "start_time": "2021-08-26T18:43:25.335Z"
   },
   {
    "duration": 111,
    "start_time": "2021-08-26T18:43:35.991Z"
   },
   {
    "duration": 4,
    "start_time": "2021-08-26T18:43:53.228Z"
   },
   {
    "duration": 204,
    "start_time": "2021-08-26T18:43:53.236Z"
   },
   {
    "duration": 17,
    "start_time": "2021-08-26T18:43:53.444Z"
   },
   {
    "duration": 39,
    "start_time": "2021-08-26T18:43:53.465Z"
   },
   {
    "duration": 38,
    "start_time": "2021-08-26T18:43:53.508Z"
   },
   {
    "duration": 8,
    "start_time": "2021-08-26T18:43:53.549Z"
   },
   {
    "duration": 53,
    "start_time": "2021-08-26T18:43:53.560Z"
   },
   {
    "duration": 7,
    "start_time": "2021-08-26T18:43:53.615Z"
   },
   {
    "duration": 38,
    "start_time": "2021-08-26T18:43:53.628Z"
   },
   {
    "duration": 48,
    "start_time": "2021-08-26T18:43:53.670Z"
   },
   {
    "duration": 36,
    "start_time": "2021-08-26T18:43:53.721Z"
   },
   {
    "duration": 111,
    "start_time": "2021-08-26T18:43:53.760Z"
   },
   {
    "duration": 121,
    "start_time": "2021-08-26T18:43:53.874Z"
   },
   {
    "duration": 78,
    "start_time": "2021-08-26T18:43:54.001Z"
   },
   {
    "duration": 58,
    "start_time": "2021-08-26T18:43:54.099Z"
   },
   {
    "duration": 4,
    "start_time": "2021-08-26T18:43:54.159Z"
   },
   {
    "duration": 34,
    "start_time": "2021-08-26T18:43:54.166Z"
   },
   {
    "duration": 66,
    "start_time": "2021-08-26T18:43:54.203Z"
   },
   {
    "duration": 12,
    "start_time": "2021-08-26T18:44:58.930Z"
   },
   {
    "duration": 12,
    "start_time": "2021-08-26T18:45:06.526Z"
   },
   {
    "duration": 16,
    "start_time": "2021-08-26T18:45:56.760Z"
   },
   {
    "duration": 19,
    "start_time": "2021-08-26T18:46:17.605Z"
   },
   {
    "duration": 19,
    "start_time": "2021-08-26T18:46:32.304Z"
   },
   {
    "duration": 29,
    "start_time": "2021-08-26T18:47:29.334Z"
   },
   {
    "duration": 30,
    "start_time": "2021-08-26T18:47:33.648Z"
   },
   {
    "duration": 29,
    "start_time": "2021-08-26T18:47:39.436Z"
   },
   {
    "duration": 4,
    "start_time": "2021-08-26T18:48:12.348Z"
   },
   {
    "duration": 217,
    "start_time": "2021-08-26T18:48:12.356Z"
   },
   {
    "duration": 25,
    "start_time": "2021-08-26T18:48:12.577Z"
   },
   {
    "duration": 40,
    "start_time": "2021-08-26T18:48:12.605Z"
   },
   {
    "duration": 44,
    "start_time": "2021-08-26T18:48:12.648Z"
   },
   {
    "duration": 5,
    "start_time": "2021-08-26T18:48:12.694Z"
   },
   {
    "duration": 30,
    "start_time": "2021-08-26T18:48:12.701Z"
   },
   {
    "duration": 6,
    "start_time": "2021-08-26T18:48:12.733Z"
   },
   {
    "duration": 32,
    "start_time": "2021-08-26T18:48:12.742Z"
   },
   {
    "duration": 46,
    "start_time": "2021-08-26T18:48:12.776Z"
   },
   {
    "duration": 33,
    "start_time": "2021-08-26T18:48:12.824Z"
   },
   {
    "duration": 120,
    "start_time": "2021-08-26T18:48:12.860Z"
   },
   {
    "duration": 122,
    "start_time": "2021-08-26T18:48:12.983Z"
   },
   {
    "duration": 77,
    "start_time": "2021-08-26T18:48:13.107Z"
   },
   {
    "duration": 60,
    "start_time": "2021-08-26T18:48:13.201Z"
   },
   {
    "duration": 3,
    "start_time": "2021-08-26T18:48:13.264Z"
   },
   {
    "duration": 47,
    "start_time": "2021-08-26T18:48:13.269Z"
   },
   {
    "duration": 60,
    "start_time": "2021-08-26T18:48:13.318Z"
   },
   {
    "duration": 4,
    "start_time": "2021-08-26T19:14:33.007Z"
   },
   {
    "duration": 249,
    "start_time": "2021-08-26T19:14:33.013Z"
   },
   {
    "duration": 21,
    "start_time": "2021-08-26T19:14:33.266Z"
   },
   {
    "duration": 15,
    "start_time": "2021-08-26T19:14:33.302Z"
   },
   {
    "duration": 33,
    "start_time": "2021-08-26T19:14:33.320Z"
   },
   {
    "duration": 7,
    "start_time": "2021-08-26T19:14:33.356Z"
   },
   {
    "duration": 26,
    "start_time": "2021-08-26T19:14:33.401Z"
   },
   {
    "duration": 12,
    "start_time": "2021-08-26T19:14:33.431Z"
   },
   {
    "duration": 59,
    "start_time": "2021-08-26T19:14:33.446Z"
   },
   {
    "duration": 22,
    "start_time": "2021-08-26T19:14:33.507Z"
   },
   {
    "duration": 31,
    "start_time": "2021-08-26T19:14:33.531Z"
   },
   {
    "duration": 109,
    "start_time": "2021-08-26T19:14:33.565Z"
   },
   {
    "duration": 116,
    "start_time": "2021-08-26T19:14:33.676Z"
   },
   {
    "duration": 4,
    "start_time": "2021-08-26T19:14:38.344Z"
   },
   {
    "duration": 214,
    "start_time": "2021-08-26T19:14:38.354Z"
   },
   {
    "duration": 40,
    "start_time": "2021-08-26T19:14:38.571Z"
   },
   {
    "duration": 20,
    "start_time": "2021-08-26T19:14:38.615Z"
   },
   {
    "duration": 70,
    "start_time": "2021-08-26T19:14:38.638Z"
   },
   {
    "duration": 7,
    "start_time": "2021-08-26T19:14:38.711Z"
   },
   {
    "duration": 26,
    "start_time": "2021-08-26T19:14:38.720Z"
   },
   {
    "duration": 20,
    "start_time": "2021-08-26T19:14:38.748Z"
   },
   {
    "duration": 52,
    "start_time": "2021-08-26T19:14:38.773Z"
   },
   {
    "duration": 25,
    "start_time": "2021-08-26T19:14:38.829Z"
   },
   {
    "duration": 52,
    "start_time": "2021-08-26T19:14:38.856Z"
   },
   {
    "duration": 99,
    "start_time": "2021-08-26T19:14:38.910Z"
   },
   {
    "duration": 123,
    "start_time": "2021-08-26T19:14:39.011Z"
   },
   {
    "duration": 96,
    "start_time": "2021-08-26T19:14:39.137Z"
   },
   {
    "duration": 68,
    "start_time": "2021-08-26T19:14:39.236Z"
   },
   {
    "duration": 5,
    "start_time": "2021-08-26T19:14:39.307Z"
   },
   {
    "duration": 20,
    "start_time": "2021-08-26T19:14:39.315Z"
   },
   {
    "duration": 86,
    "start_time": "2021-08-26T19:14:39.337Z"
   },
   {
    "duration": 20,
    "start_time": "2021-08-26T19:14:39.426Z"
   },
   {
    "duration": 21,
    "start_time": "2021-08-26T19:14:39.449Z"
   },
   {
    "duration": 24,
    "start_time": "2021-08-26T19:14:39.501Z"
   },
   {
    "duration": 6,
    "start_time": "2021-08-26T19:14:39.528Z"
   },
   {
    "duration": 34,
    "start_time": "2021-08-26T19:14:39.537Z"
   },
   {
    "duration": 41,
    "start_time": "2021-08-26T19:14:39.578Z"
   },
   {
    "duration": 21,
    "start_time": "2021-08-26T19:14:39.622Z"
   },
   {
    "duration": 58,
    "start_time": "2021-08-26T19:14:39.646Z"
   },
   {
    "duration": 20,
    "start_time": "2021-08-26T19:14:39.706Z"
   },
   {
    "duration": 18,
    "start_time": "2021-08-26T19:14:39.729Z"
   },
   {
    "duration": 3,
    "start_time": "2021-08-26T19:14:39.750Z"
   },
   {
    "duration": 53,
    "start_time": "2021-08-26T19:14:39.756Z"
   },
   {
    "duration": 14,
    "start_time": "2021-08-26T19:14:39.811Z"
   },
   {
    "duration": 9,
    "start_time": "2021-08-26T19:14:39.827Z"
   },
   {
    "duration": 32,
    "start_time": "2021-08-26T19:14:39.838Z"
   },
   {
    "duration": 42,
    "start_time": "2021-08-26T19:14:39.873Z"
   },
   {
    "duration": 22,
    "start_time": "2021-08-26T19:14:39.918Z"
   },
   {
    "duration": 17,
    "start_time": "2021-08-26T19:14:39.943Z"
   },
   {
    "duration": 44,
    "start_time": "2021-08-26T19:14:39.962Z"
   },
   {
    "duration": 6,
    "start_time": "2021-08-26T19:14:40.008Z"
   },
   {
    "duration": 24,
    "start_time": "2021-08-26T19:14:40.016Z"
   },
   {
    "duration": 19,
    "start_time": "2021-08-26T19:14:40.043Z"
   },
   {
    "duration": 10,
    "start_time": "2021-08-26T19:14:40.065Z"
   },
   {
    "duration": 3,
    "start_time": "2021-08-26T19:15:04.668Z"
   },
   {
    "duration": 243,
    "start_time": "2021-08-26T19:15:04.678Z"
   },
   {
    "duration": 16,
    "start_time": "2021-08-26T19:15:04.924Z"
   },
   {
    "duration": 14,
    "start_time": "2021-08-26T19:15:04.943Z"
   },
   {
    "duration": 69,
    "start_time": "2021-08-26T19:15:04.960Z"
   },
   {
    "duration": 7,
    "start_time": "2021-08-26T19:15:05.033Z"
   },
   {
    "duration": 27,
    "start_time": "2021-08-26T19:15:05.044Z"
   },
   {
    "duration": 29,
    "start_time": "2021-08-26T19:15:05.073Z"
   },
   {
    "duration": 31,
    "start_time": "2021-08-26T19:15:05.105Z"
   },
   {
    "duration": 25,
    "start_time": "2021-08-26T19:15:05.139Z"
   },
   {
    "duration": 57,
    "start_time": "2021-08-26T19:15:05.167Z"
   },
   {
    "duration": 107,
    "start_time": "2021-08-26T19:15:05.227Z"
   },
   {
    "duration": 134,
    "start_time": "2021-08-26T19:15:05.336Z"
   },
   {
    "duration": 89,
    "start_time": "2021-08-26T19:15:05.473Z"
   },
   {
    "duration": 66,
    "start_time": "2021-08-26T19:15:05.564Z"
   },
   {
    "duration": 5,
    "start_time": "2021-08-26T19:15:05.632Z"
   },
   {
    "duration": 22,
    "start_time": "2021-08-26T19:15:05.639Z"
   },
   {
    "duration": 78,
    "start_time": "2021-08-26T19:15:05.663Z"
   },
   {
    "duration": 17,
    "start_time": "2021-08-26T19:15:05.743Z"
   },
   {
    "duration": 38,
    "start_time": "2021-08-26T19:15:05.763Z"
   },
   {
    "duration": 17,
    "start_time": "2021-08-26T19:15:05.804Z"
   },
   {
    "duration": 4,
    "start_time": "2021-08-26T19:15:05.824Z"
   },
   {
    "duration": 45,
    "start_time": "2021-08-26T19:15:05.830Z"
   },
   {
    "duration": 29,
    "start_time": "2021-08-26T19:15:05.881Z"
   },
   {
    "duration": 21,
    "start_time": "2021-08-26T19:15:05.915Z"
   },
   {
    "duration": 20,
    "start_time": "2021-08-26T19:15:05.939Z"
   },
   {
    "duration": 60,
    "start_time": "2021-08-26T19:15:05.962Z"
   },
   {
    "duration": 23,
    "start_time": "2021-08-26T19:15:06.025Z"
   },
   {
    "duration": 7,
    "start_time": "2021-08-26T19:15:06.050Z"
   },
   {
    "duration": 52,
    "start_time": "2021-08-26T19:15:06.060Z"
   },
   {
    "duration": 13,
    "start_time": "2021-08-26T19:15:06.115Z"
   },
   {
    "duration": 11,
    "start_time": "2021-08-26T19:15:06.131Z"
   },
   {
    "duration": 57,
    "start_time": "2021-08-26T19:15:06.145Z"
   },
   {
    "duration": 18,
    "start_time": "2021-08-26T19:15:06.205Z"
   },
   {
    "duration": 49,
    "start_time": "2021-08-26T19:15:06.225Z"
   },
   {
    "duration": 22,
    "start_time": "2021-08-26T19:15:06.276Z"
   },
   {
    "duration": 18,
    "start_time": "2021-08-26T19:15:06.301Z"
   },
   {
    "duration": 26,
    "start_time": "2021-08-26T19:15:06.321Z"
   },
   {
    "duration": 47,
    "start_time": "2021-08-26T19:15:06.350Z"
   },
   {
    "duration": 45,
    "start_time": "2021-08-26T19:15:06.400Z"
   },
   {
    "duration": 21,
    "start_time": "2021-08-26T19:15:06.448Z"
   },
   {
    "duration": 21,
    "start_time": "2021-08-26T19:17:48.733Z"
   },
   {
    "duration": 5,
    "start_time": "2021-08-26T19:18:12.455Z"
   },
   {
    "duration": 31,
    "start_time": "2021-08-26T19:18:21.446Z"
   },
   {
    "duration": 20,
    "start_time": "2021-08-26T19:18:23.029Z"
   },
   {
    "duration": 20,
    "start_time": "2021-08-26T19:18:23.598Z"
   },
   {
    "duration": 2364,
    "start_time": "2021-08-26T19:20:02.074Z"
   },
   {
    "duration": 361,
    "start_time": "2021-08-26T19:23:27.644Z"
   },
   {
    "duration": 456,
    "start_time": "2021-08-26T19:51:34.338Z"
   },
   {
    "duration": 515,
    "start_time": "2021-08-26T20:08:06.195Z"
   },
   {
    "duration": 243,
    "start_time": "2021-08-27T10:58:03.321Z"
   },
   {
    "duration": 200,
    "start_time": "2021-08-27T11:00:14.360Z"
   },
   {
    "duration": 187,
    "start_time": "2021-08-27T11:02:58.569Z"
   },
   {
    "duration": 187,
    "start_time": "2021-08-27T11:03:13.004Z"
   },
   {
    "duration": 546,
    "start_time": "2021-08-27T11:04:25.499Z"
   },
   {
    "duration": 178,
    "start_time": "2021-08-27T11:04:26.047Z"
   },
   {
    "duration": 17,
    "start_time": "2021-08-27T11:04:26.227Z"
   },
   {
    "duration": 11,
    "start_time": "2021-08-27T11:04:26.245Z"
   },
   {
    "duration": 24,
    "start_time": "2021-08-27T11:04:26.258Z"
   },
   {
    "duration": 10,
    "start_time": "2021-08-27T11:04:26.284Z"
   },
   {
    "duration": 20,
    "start_time": "2021-08-27T11:04:26.296Z"
   },
   {
    "duration": 5,
    "start_time": "2021-08-27T11:04:26.319Z"
   },
   {
    "duration": 24,
    "start_time": "2021-08-27T11:04:26.326Z"
   },
   {
    "duration": 49,
    "start_time": "2021-08-27T11:04:26.351Z"
   },
   {
    "duration": 22,
    "start_time": "2021-08-27T11:04:26.402Z"
   },
   {
    "duration": 65,
    "start_time": "2021-08-27T11:04:26.425Z"
   },
   {
    "duration": 76,
    "start_time": "2021-08-27T11:04:26.492Z"
   },
   {
    "duration": 64,
    "start_time": "2021-08-27T11:04:26.570Z"
   },
   {
    "duration": 58,
    "start_time": "2021-08-27T11:04:26.636Z"
   },
   {
    "duration": 4,
    "start_time": "2021-08-27T11:04:26.696Z"
   },
   {
    "duration": 15,
    "start_time": "2021-08-27T11:04:26.701Z"
   },
   {
    "duration": 46,
    "start_time": "2021-08-27T11:04:26.718Z"
   },
   {
    "duration": 27,
    "start_time": "2021-08-27T11:04:26.766Z"
   },
   {
    "duration": 13,
    "start_time": "2021-08-27T11:04:26.795Z"
   },
   {
    "duration": 11,
    "start_time": "2021-08-27T11:04:26.810Z"
   },
   {
    "duration": 3,
    "start_time": "2021-08-27T11:04:26.822Z"
   },
   {
    "duration": 18,
    "start_time": "2021-08-27T11:04:26.828Z"
   },
   {
    "duration": 41,
    "start_time": "2021-08-27T11:04:26.848Z"
   },
   {
    "duration": 17,
    "start_time": "2021-08-27T11:04:26.891Z"
   },
   {
    "duration": 14,
    "start_time": "2021-08-27T11:04:26.909Z"
   },
   {
    "duration": 13,
    "start_time": "2021-08-27T11:04:26.924Z"
   },
   {
    "duration": 12,
    "start_time": "2021-08-27T11:04:26.939Z"
   },
   {
    "duration": 4,
    "start_time": "2021-08-27T11:04:26.952Z"
   },
   {
    "duration": 239,
    "start_time": "2021-08-27T11:04:26.957Z"
   },
   {
    "duration": 1361,
    "start_time": "2021-08-27T11:04:25.837Z"
   },
   {
    "duration": 1359,
    "start_time": "2021-08-27T11:04:25.841Z"
   },
   {
    "duration": 1345,
    "start_time": "2021-08-27T11:04:25.856Z"
   },
   {
    "duration": 1342,
    "start_time": "2021-08-27T11:04:25.860Z"
   },
   {
    "duration": 1340,
    "start_time": "2021-08-27T11:04:25.863Z"
   },
   {
    "duration": 1340,
    "start_time": "2021-08-27T11:04:25.864Z"
   },
   {
    "duration": 1339,
    "start_time": "2021-08-27T11:04:25.866Z"
   },
   {
    "duration": 1338,
    "start_time": "2021-08-27T11:04:25.868Z"
   },
   {
    "duration": 1331,
    "start_time": "2021-08-27T11:04:25.876Z"
   },
   {
    "duration": 1330,
    "start_time": "2021-08-27T11:04:25.878Z"
   },
   {
    "duration": 1329,
    "start_time": "2021-08-27T11:04:25.880Z"
   },
   {
    "duration": 8,
    "start_time": "2021-08-27T11:05:02.912Z"
   },
   {
    "duration": 178,
    "start_time": "2021-08-27T11:06:19.207Z"
   },
   {
    "duration": 178,
    "start_time": "2021-08-27T11:06:34.719Z"
   },
   {
    "duration": 2,
    "start_time": "2021-08-27T11:06:43.311Z"
   },
   {
    "duration": 137,
    "start_time": "2021-08-27T11:06:43.315Z"
   },
   {
    "duration": 9,
    "start_time": "2021-08-27T11:06:43.454Z"
   },
   {
    "duration": 25,
    "start_time": "2021-08-27T11:06:43.465Z"
   },
   {
    "duration": 28,
    "start_time": "2021-08-27T11:06:43.492Z"
   },
   {
    "duration": 15,
    "start_time": "2021-08-27T11:06:43.522Z"
   },
   {
    "duration": 11,
    "start_time": "2021-08-27T11:06:43.540Z"
   },
   {
    "duration": 3,
    "start_time": "2021-08-27T11:06:43.553Z"
   },
   {
    "duration": 46,
    "start_time": "2021-08-27T11:06:43.558Z"
   },
   {
    "duration": 18,
    "start_time": "2021-08-27T11:06:43.606Z"
   },
   {
    "duration": 20,
    "start_time": "2021-08-27T11:06:43.625Z"
   },
   {
    "duration": 70,
    "start_time": "2021-08-27T11:06:43.646Z"
   },
   {
    "duration": 69,
    "start_time": "2021-08-27T11:06:43.718Z"
   },
   {
    "duration": 51,
    "start_time": "2021-08-27T11:06:43.789Z"
   },
   {
    "duration": 59,
    "start_time": "2021-08-27T11:06:43.842Z"
   },
   {
    "duration": 3,
    "start_time": "2021-08-27T11:06:43.903Z"
   },
   {
    "duration": 12,
    "start_time": "2021-08-27T11:06:43.907Z"
   },
   {
    "duration": 45,
    "start_time": "2021-08-27T11:06:43.920Z"
   },
   {
    "duration": 26,
    "start_time": "2021-08-27T11:06:43.968Z"
   },
   {
    "duration": 13,
    "start_time": "2021-08-27T11:06:43.996Z"
   },
   {
    "duration": 11,
    "start_time": "2021-08-27T11:06:44.010Z"
   },
   {
    "duration": 7,
    "start_time": "2021-08-27T11:06:44.023Z"
   },
   {
    "duration": 23,
    "start_time": "2021-08-27T11:06:44.031Z"
   },
   {
    "duration": 12,
    "start_time": "2021-08-27T11:06:44.056Z"
   },
   {
    "duration": 16,
    "start_time": "2021-08-27T11:06:44.095Z"
   },
   {
    "duration": 11,
    "start_time": "2021-08-27T11:06:44.113Z"
   },
   {
    "duration": 13,
    "start_time": "2021-08-27T11:06:44.126Z"
   },
   {
    "duration": 11,
    "start_time": "2021-08-27T11:06:44.140Z"
   },
   {
    "duration": 7,
    "start_time": "2021-08-27T11:06:44.153Z"
   },
   {
    "duration": 185,
    "start_time": "2021-08-27T11:06:44.186Z"
   },
   {
    "duration": 1359,
    "start_time": "2021-08-27T11:06:43.014Z"
   },
   {
    "duration": 1358,
    "start_time": "2021-08-27T11:06:43.017Z"
   },
   {
    "duration": 1356,
    "start_time": "2021-08-27T11:06:43.020Z"
   },
   {
    "duration": 1354,
    "start_time": "2021-08-27T11:06:43.024Z"
   },
   {
    "duration": 1352,
    "start_time": "2021-08-27T11:06:43.027Z"
   },
   {
    "duration": 1350,
    "start_time": "2021-08-27T11:06:43.030Z"
   },
   {
    "duration": 1340,
    "start_time": "2021-08-27T11:06:43.042Z"
   },
   {
    "duration": 1335,
    "start_time": "2021-08-27T11:06:43.048Z"
   },
   {
    "duration": 1335,
    "start_time": "2021-08-27T11:06:43.051Z"
   },
   {
    "duration": 1333,
    "start_time": "2021-08-27T11:06:43.055Z"
   },
   {
    "duration": 1331,
    "start_time": "2021-08-27T11:06:43.058Z"
   },
   {
    "duration": 10,
    "start_time": "2021-08-27T12:45:47.869Z"
   },
   {
    "duration": 9,
    "start_time": "2021-08-27T12:45:56.580Z"
   },
   {
    "duration": 184,
    "start_time": "2021-08-27T12:46:36.020Z"
   },
   {
    "duration": 3,
    "start_time": "2021-08-27T12:47:01.425Z"
   },
   {
    "duration": 155,
    "start_time": "2021-08-27T12:47:01.430Z"
   },
   {
    "duration": 9,
    "start_time": "2021-08-27T12:47:01.587Z"
   },
   {
    "duration": 18,
    "start_time": "2021-08-27T12:47:01.598Z"
   },
   {
    "duration": 29,
    "start_time": "2021-08-27T12:47:01.617Z"
   },
   {
    "duration": 18,
    "start_time": "2021-08-27T12:47:01.648Z"
   },
   {
    "duration": 25,
    "start_time": "2021-08-27T12:47:01.668Z"
   },
   {
    "duration": 3,
    "start_time": "2021-08-27T12:47:01.696Z"
   },
   {
    "duration": 31,
    "start_time": "2021-08-27T12:47:01.700Z"
   },
   {
    "duration": 28,
    "start_time": "2021-08-27T12:47:01.733Z"
   },
   {
    "duration": 34,
    "start_time": "2021-08-27T12:47:01.763Z"
   },
   {
    "duration": 59,
    "start_time": "2021-08-27T12:47:01.799Z"
   },
   {
    "duration": 75,
    "start_time": "2021-08-27T12:47:01.860Z"
   },
   {
    "duration": 55,
    "start_time": "2021-08-27T12:47:01.936Z"
   },
   {
    "duration": 37,
    "start_time": "2021-08-27T12:47:01.992Z"
   },
   {
    "duration": 8,
    "start_time": "2021-08-27T12:47:02.030Z"
   },
   {
    "duration": 23,
    "start_time": "2021-08-27T12:47:02.039Z"
   },
   {
    "duration": 45,
    "start_time": "2021-08-27T12:47:02.063Z"
   },
   {
    "duration": 14,
    "start_time": "2021-08-27T12:47:02.111Z"
   },
   {
    "duration": 17,
    "start_time": "2021-08-27T12:47:02.127Z"
   },
   {
    "duration": 11,
    "start_time": "2021-08-27T12:47:02.145Z"
   },
   {
    "duration": 3,
    "start_time": "2021-08-27T12:47:02.157Z"
   },
   {
    "duration": 34,
    "start_time": "2021-08-27T12:47:02.161Z"
   },
   {
    "duration": 23,
    "start_time": "2021-08-27T12:47:02.197Z"
   },
   {
    "duration": 12,
    "start_time": "2021-08-27T12:47:02.221Z"
   },
   {
    "duration": 11,
    "start_time": "2021-08-27T12:47:02.235Z"
   },
   {
    "duration": 15,
    "start_time": "2021-08-27T12:47:02.247Z"
   },
   {
    "duration": 29,
    "start_time": "2021-08-27T12:47:02.263Z"
   },
   {
    "duration": 7,
    "start_time": "2021-08-27T12:47:02.294Z"
   },
   {
    "duration": 16,
    "start_time": "2021-08-27T12:47:02.302Z"
   },
   {
    "duration": 14,
    "start_time": "2021-08-27T12:47:02.320Z"
   },
   {
    "duration": 39,
    "start_time": "2021-08-27T12:47:02.336Z"
   },
   {
    "duration": 30,
    "start_time": "2021-08-27T12:47:02.376Z"
   },
   {
    "duration": 12,
    "start_time": "2021-08-27T12:47:02.407Z"
   },
   {
    "duration": 17,
    "start_time": "2021-08-27T12:47:02.420Z"
   },
   {
    "duration": 11,
    "start_time": "2021-08-27T12:47:02.439Z"
   },
   {
    "duration": 7,
    "start_time": "2021-08-27T12:47:02.451Z"
   },
   {
    "duration": 4,
    "start_time": "2021-08-27T12:47:02.459Z"
   },
   {
    "duration": 6,
    "start_time": "2021-08-27T12:47:02.485Z"
   },
   {
    "duration": 11,
    "start_time": "2021-08-27T12:47:02.492Z"
   },
   {
    "duration": 4,
    "start_time": "2021-08-27T12:47:02.504Z"
   },
   {
    "duration": 17,
    "start_time": "2021-08-27T12:49:55.436Z"
   },
   {
    "duration": 7,
    "start_time": "2021-08-27T12:53:44.896Z"
   },
   {
    "duration": 6,
    "start_time": "2021-08-27T12:55:39.194Z"
   },
   {
    "duration": 13,
    "start_time": "2021-08-27T12:56:59.745Z"
   },
   {
    "duration": 217,
    "start_time": "2021-08-27T12:58:03.024Z"
   },
   {
    "duration": 19,
    "start_time": "2021-08-27T12:58:07.384Z"
   },
   {
    "duration": 16,
    "start_time": "2021-08-27T12:58:30.000Z"
   },
   {
    "duration": 21,
    "start_time": "2021-08-27T13:00:28.696Z"
   },
   {
    "duration": 203,
    "start_time": "2021-08-27T13:00:55.471Z"
   },
   {
    "duration": 39,
    "start_time": "2021-08-27T13:01:00.247Z"
   },
   {
    "duration": 210,
    "start_time": "2021-08-27T13:01:25.495Z"
   },
   {
    "duration": 59,
    "start_time": "2021-08-27T13:01:30.335Z"
   },
   {
    "duration": 26,
    "start_time": "2021-08-27T13:01:33.271Z"
   },
   {
    "duration": 24,
    "start_time": "2021-08-27T13:01:49.423Z"
   },
   {
    "duration": 181,
    "start_time": "2021-08-27T13:02:30.463Z"
   },
   {
    "duration": 4,
    "start_time": "2021-08-27T13:02:34.182Z"
   },
   {
    "duration": 204,
    "start_time": "2021-08-27T13:02:46.207Z"
   },
   {
    "duration": 22,
    "start_time": "2021-08-27T13:02:50.446Z"
   },
   {
    "duration": 12,
    "start_time": "2021-08-27T13:48:38.341Z"
   },
   {
    "duration": 12,
    "start_time": "2021-08-27T13:48:59.430Z"
   },
   {
    "duration": 276,
    "start_time": "2021-09-10T19:16:47.249Z"
   },
   {
    "duration": 243,
    "start_time": "2021-09-10T19:16:50.265Z"
   },
   {
    "duration": 247,
    "start_time": "2021-09-10T19:16:55.332Z"
   },
   {
    "duration": 239,
    "start_time": "2021-09-10T19:16:56.344Z"
   },
   {
    "duration": 273,
    "start_time": "2021-09-10T19:16:57.427Z"
   },
   {
    "duration": 256,
    "start_time": "2021-09-10T19:16:58.540Z"
   },
   {
    "duration": 245,
    "start_time": "2021-09-10T19:17:00.836Z"
   },
   {
    "duration": 247,
    "start_time": "2021-09-10T19:17:03.188Z"
   },
   {
    "duration": 240,
    "start_time": "2021-09-10T19:17:04.000Z"
   },
   {
    "duration": 581,
    "start_time": "2021-09-10T19:17:11.302Z"
   },
   {
    "duration": 143,
    "start_time": "2021-09-10T19:17:11.885Z"
   },
   {
    "duration": 16,
    "start_time": "2021-09-10T19:17:12.030Z"
   },
   {
    "duration": 8,
    "start_time": "2021-09-10T19:17:12.048Z"
   },
   {
    "duration": 39,
    "start_time": "2021-09-10T19:17:12.057Z"
   },
   {
    "duration": 5,
    "start_time": "2021-09-10T19:17:12.098Z"
   },
   {
    "duration": 4,
    "start_time": "2021-09-10T19:17:19.373Z"
   },
   {
    "duration": 4,
    "start_time": "2021-09-10T19:17:20.640Z"
   }
  ],
  "colab": {
   "collapsed_sections": [
    "E0vqbgi9ay0H",
    "VUC88oWjTJw2"
   ],
   "name": "yandex_music_project_2021.2.ipynb",
   "provenance": []
  },
  "kernelspec": {
   "display_name": "Python 3 (ipykernel)",
   "language": "python",
   "name": "python3"
  },
  "language_info": {
   "codemirror_mode": {
    "name": "ipython",
    "version": 3
   },
   "file_extension": ".py",
   "mimetype": "text/x-python",
   "name": "python",
   "nbconvert_exporter": "python",
   "pygments_lexer": "ipython3",
   "version": "3.9.7"
  },
  "toc": {
   "base_numbering": 1,
   "nav_menu": {},
   "number_sections": true,
   "sideBar": true,
   "skip_h1_title": true,
   "title_cell": "Table of Contents",
   "title_sidebar": "Contents",
   "toc_cell": false,
   "toc_position": {
    "height": "calc(100% - 180px)",
    "left": "10px",
    "top": "150px",
    "width": "235px"
   },
   "toc_section_display": true,
   "toc_window_display": true
  }
 },
 "nbformat": 4,
 "nbformat_minor": 1
}
