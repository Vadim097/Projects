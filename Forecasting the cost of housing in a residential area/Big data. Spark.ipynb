{
 "cells": [
  {
   "cell_type": "markdown",
   "id": "GEqQaHzsZ_bA",
   "metadata": {
    "id": "GEqQaHzsZ_bA"
   },
   "source": [
    "# Home value prediction\n",
    "\n",
    "This project indicate median cost of housing in California in 1990. The project considers two logistic regression models with different feature sets. A comparison of models was made and the best one was determined. The project implements a distributed computing approach based on the Hadoop ecosystem, namely Apache Spark. Apache Spark is a data processing framework that can quickly perform processing tasks on very large data sets, and can also distribute data processing tasks across multiple computers, either on its own or in tandem with other distributed computing tools. The main goal of the project is to show practical knowledge of Apache Spark."
   ]
  },
  {
   "cell_type": "markdown",
   "id": "5251b686",
   "metadata": {},
   "source": [
    "\n",
    "**Research Progress**\n",
    "\n",
    "  1. Data preparation\n",
    "  2. Model training\n",
    "  3. Analysis of results\n",
    "  4. Conclusions\n"
   ]
  },
  {
   "cell_type": "markdown",
   "id": "53871372",
   "metadata": {
    "id": "53871372"
   },
   "source": [
    "## Data Preprocessing"
   ]
  },
  {
   "cell_type": "markdown",
   "id": "d3ee0d43",
   "metadata": {},
   "source": [
    "It is no longer a secret that high-quality data pre-processing is one of the key factors for the successful operation of the model.\n",
    "Raw data can cause poor model results and, in some cases, the appearance of errors in this model. For these reasons, it is necessary to make a qualitative data preprocessing in the beginning.\n",
    "\n",
    "Real data often contains noise, gaps, duplicates, and may also be in an unusable format that cannot be passed to the model for further work. Good data preprocessing will improve the accuracy of predictions and the efficiency of the model."
   ]
  },
  {
   "cell_type": "markdown",
   "id": "17634c19",
   "metadata": {},
   "source": [
    "### Data review and analysis"
   ]
  },
  {
   "cell_type": "code",
   "execution_count": 1,
   "id": "df92e3ec",
   "metadata": {
    "id": "df92e3ec"
   },
   "outputs": [],
   "source": [
    "import pandas as pd\n",
    "import numpy as np\n",
    "import pyspark\n",
    "import pyspark.sql.functions as F\n",
    "\n",
    "from pyspark.sql import SparkSession\n",
    "from pyspark.sql.types import *\n",
    "from pyspark.sql.functions import *\n",
    "from pyspark.ml.feature import OneHotEncoder, StringIndexer, Imputer , VectorAssembler , StandardScaler\n",
    "from pyspark.ml.regression import LinearRegression\n",
    "from pyspark.ml.evaluation import RegressionEvaluator\n",
    "from pyspark.sql.functions import pandas_udf\n",
    "\n",
    "spark = SparkSession.builder \\\n",
    "                    .master(\"local\") \\\n",
    "                    .appName(\"Predict of cost California Housing\") \\\n",
    "                    .getOrCreate()"
   ]
  },
  {
   "cell_type": "code",
   "execution_count": 2,
   "id": "e0841663",
   "metadata": {
    "scrolled": false
   },
   "outputs": [
    {
     "name": "stdout",
     "output_type": "stream",
     "text": [
      "root\n",
      " |-- longitude: double (nullable = true)\n",
      " |-- latitude: double (nullable = true)\n",
      " |-- housing_median_age: double (nullable = true)\n",
      " |-- total_rooms: double (nullable = true)\n",
      " |-- total_bedrooms: double (nullable = true)\n",
      " |-- population: double (nullable = true)\n",
      " |-- households: double (nullable = true)\n",
      " |-- median_income: double (nullable = true)\n",
      " |-- median_house_value: double (nullable = true)\n",
      " |-- ocean_proximity: string (nullable = true)\n",
      "\n"
     ]
    }
   ],
   "source": [
    "df_housing = spark.read.load(r'C:\\Users\\Vadim\\Documents\\Datasets\\cal_housing.csv', format='csv', sep=',', inferschema=True, header='true')\n",
    "df_housing.printSchema() "
   ]
  },
  {
   "cell_type": "code",
   "execution_count": 3,
   "id": "2d6c8f32",
   "metadata": {
    "scrolled": true
   },
   "outputs": [
    {
     "name": "stdout",
     "output_type": "stream",
     "text": [
      "longitude 0\n",
      "latitude 0\n",
      "housing_median_age 0\n",
      "total_rooms 0\n",
      "total_bedrooms 0\n",
      "population 0\n",
      "households 0\n",
      "median_income 0\n",
      "median_house_value 0\n",
      "ocean_proximity 0\n"
     ]
    }
   ],
   "source": [
    "columns = df_housing.columns\n",
    "\n",
    "for column in columns:\n",
    "    check_col = F.col(column).cast(FloatType()).isin([None, np.nan])\n",
    "    print(column, df_housing.filter(check_col).count())"
   ]
  },
  {
   "cell_type": "code",
   "execution_count": 4,
   "id": "c6ff66e2",
   "metadata": {},
   "outputs": [
    {
     "name": "stdout",
     "output_type": "stream",
     "text": [
      "<class 'pandas.core.frame.DataFrame'>\n",
      "RangeIndex: 20640 entries, 0 to 20639\n",
      "Data columns (total 10 columns):\n",
      " #   Column              Non-Null Count  Dtype  \n",
      "---  ------              --------------  -----  \n",
      " 0   longitude           20640 non-null  float64\n",
      " 1   latitude            20640 non-null  float64\n",
      " 2   housing_median_age  20640 non-null  float64\n",
      " 3   total_rooms         20640 non-null  float64\n",
      " 4   total_bedrooms      20433 non-null  float64\n",
      " 5   population          20640 non-null  float64\n",
      " 6   households          20640 non-null  float64\n",
      " 7   median_income       20640 non-null  float64\n",
      " 8   median_house_value  20640 non-null  float64\n",
      " 9   ocean_proximity     20640 non-null  object \n",
      "dtypes: float64(9), object(1)\n",
      "memory usage: 1.6+ MB\n"
     ]
    }
   ],
   "source": [
    "df_housing.toPandas().info()"
   ]
  },
  {
   "cell_type": "code",
   "execution_count": 5,
   "id": "960d77e5",
   "metadata": {
    "scrolled": true
   },
   "outputs": [
    {
     "name": "stdout",
     "output_type": "stream",
     "text": [
      "               column    type\n",
      "0           longitude  double\n",
      "1            latitude  double\n",
      "2  housing_median_age  double\n",
      "3         total_rooms  double\n",
      "4      total_bedrooms  double\n",
      "5          population  double\n",
      "6          households  double\n",
      "7       median_income  double\n",
      "8  median_house_value  double\n",
      "9     ocean_proximity  string\n",
      "+---------+--------+------------------+-----------+--------------+----------+----------+-------------+------------------+---------------+\n",
      "|longitude|latitude|housing_median_age|total_rooms|total_bedrooms|population|households|median_income|median_house_value|ocean_proximity|\n",
      "+---------+--------+------------------+-----------+--------------+----------+----------+-------------+------------------+---------------+\n",
      "|  -122.23|   37.88|              41.0|      880.0|         129.0|     322.0|     126.0|       8.3252|          452600.0|       NEAR BAY|\n",
      "|  -122.22|   37.86|              21.0|     7099.0|        1106.0|    2401.0|    1138.0|       8.3014|          358500.0|       NEAR BAY|\n",
      "|  -122.24|   37.85|              52.0|     1467.0|         190.0|     496.0|     177.0|       7.2574|          352100.0|       NEAR BAY|\n",
      "|  -122.25|   37.85|              52.0|     1274.0|         235.0|     558.0|     219.0|       5.6431|          341300.0|       NEAR BAY|\n",
      "|  -122.25|   37.85|              52.0|     1627.0|         280.0|     565.0|     259.0|       3.8462|          342200.0|       NEAR BAY|\n",
      "|  -122.25|   37.85|              52.0|      919.0|         213.0|     413.0|     193.0|       4.0368|          269700.0|       NEAR BAY|\n",
      "|  -122.25|   37.84|              52.0|     2535.0|         489.0|    1094.0|     514.0|       3.6591|          299200.0|       NEAR BAY|\n",
      "|  -122.25|   37.84|              52.0|     3104.0|         687.0|    1157.0|     647.0|         3.12|          241400.0|       NEAR BAY|\n",
      "|  -122.26|   37.84|              42.0|     2555.0|         665.0|    1206.0|     595.0|       2.0804|          226700.0|       NEAR BAY|\n",
      "|  -122.25|   37.84|              52.0|     3549.0|         707.0|    1551.0|     714.0|       3.6912|          261100.0|       NEAR BAY|\n",
      "+---------+--------+------------------+-----------+--------------+----------+----------+-------------+------------------+---------------+\n",
      "only showing top 10 rows\n",
      "\n"
     ]
    }
   ],
   "source": [
    "print(pd.DataFrame(df_housing.dtypes, columns=['column', 'type']).head(10))\n",
    "df_housing.show(10)"
   ]
  },
  {
   "cell_type": "code",
   "execution_count": 6,
   "id": "7d7ce6d1",
   "metadata": {
    "scrolled": false
   },
   "outputs": [
    {
     "data": {
      "text/html": [
       "<div>\n",
       "<style scoped>\n",
       "    .dataframe tbody tr th:only-of-type {\n",
       "        vertical-align: middle;\n",
       "    }\n",
       "\n",
       "    .dataframe tbody tr th {\n",
       "        vertical-align: top;\n",
       "    }\n",
       "\n",
       "    .dataframe thead th {\n",
       "        text-align: right;\n",
       "    }\n",
       "</style>\n",
       "<table border=\"1\" class=\"dataframe\">\n",
       "  <thead>\n",
       "    <tr style=\"text-align: right;\">\n",
       "      <th></th>\n",
       "      <th>longitude</th>\n",
       "      <th>latitude</th>\n",
       "      <th>housing_median_age</th>\n",
       "      <th>total_rooms</th>\n",
       "      <th>total_bedrooms</th>\n",
       "      <th>population</th>\n",
       "      <th>households</th>\n",
       "      <th>median_income</th>\n",
       "      <th>median_house_value</th>\n",
       "    </tr>\n",
       "  </thead>\n",
       "  <tbody>\n",
       "    <tr>\n",
       "      <th>count</th>\n",
       "      <td>20640.000000</td>\n",
       "      <td>20640.000000</td>\n",
       "      <td>20640.000000</td>\n",
       "      <td>20640.000000</td>\n",
       "      <td>20433.000000</td>\n",
       "      <td>20640.000000</td>\n",
       "      <td>20640.000000</td>\n",
       "      <td>20640.000000</td>\n",
       "      <td>20640.000000</td>\n",
       "    </tr>\n",
       "    <tr>\n",
       "      <th>mean</th>\n",
       "      <td>-119.569704</td>\n",
       "      <td>35.631861</td>\n",
       "      <td>28.639486</td>\n",
       "      <td>2635.763081</td>\n",
       "      <td>537.870553</td>\n",
       "      <td>1425.476744</td>\n",
       "      <td>499.539680</td>\n",
       "      <td>3.870671</td>\n",
       "      <td>206855.816909</td>\n",
       "    </tr>\n",
       "    <tr>\n",
       "      <th>std</th>\n",
       "      <td>2.003532</td>\n",
       "      <td>2.135952</td>\n",
       "      <td>12.585558</td>\n",
       "      <td>2181.615252</td>\n",
       "      <td>421.385070</td>\n",
       "      <td>1132.462122</td>\n",
       "      <td>382.329753</td>\n",
       "      <td>1.899822</td>\n",
       "      <td>115395.615874</td>\n",
       "    </tr>\n",
       "    <tr>\n",
       "      <th>min</th>\n",
       "      <td>-124.350000</td>\n",
       "      <td>32.540000</td>\n",
       "      <td>1.000000</td>\n",
       "      <td>2.000000</td>\n",
       "      <td>1.000000</td>\n",
       "      <td>3.000000</td>\n",
       "      <td>1.000000</td>\n",
       "      <td>0.499900</td>\n",
       "      <td>14999.000000</td>\n",
       "    </tr>\n",
       "    <tr>\n",
       "      <th>25%</th>\n",
       "      <td>-121.800000</td>\n",
       "      <td>33.930000</td>\n",
       "      <td>18.000000</td>\n",
       "      <td>1447.750000</td>\n",
       "      <td>296.000000</td>\n",
       "      <td>787.000000</td>\n",
       "      <td>280.000000</td>\n",
       "      <td>2.563400</td>\n",
       "      <td>119600.000000</td>\n",
       "    </tr>\n",
       "    <tr>\n",
       "      <th>50%</th>\n",
       "      <td>-118.490000</td>\n",
       "      <td>34.260000</td>\n",
       "      <td>29.000000</td>\n",
       "      <td>2127.000000</td>\n",
       "      <td>435.000000</td>\n",
       "      <td>1166.000000</td>\n",
       "      <td>409.000000</td>\n",
       "      <td>3.534800</td>\n",
       "      <td>179700.000000</td>\n",
       "    </tr>\n",
       "    <tr>\n",
       "      <th>75%</th>\n",
       "      <td>-118.010000</td>\n",
       "      <td>37.710000</td>\n",
       "      <td>37.000000</td>\n",
       "      <td>3148.000000</td>\n",
       "      <td>647.000000</td>\n",
       "      <td>1725.000000</td>\n",
       "      <td>605.000000</td>\n",
       "      <td>4.743250</td>\n",
       "      <td>264725.000000</td>\n",
       "    </tr>\n",
       "    <tr>\n",
       "      <th>max</th>\n",
       "      <td>-114.310000</td>\n",
       "      <td>41.950000</td>\n",
       "      <td>52.000000</td>\n",
       "      <td>39320.000000</td>\n",
       "      <td>6445.000000</td>\n",
       "      <td>35682.000000</td>\n",
       "      <td>6082.000000</td>\n",
       "      <td>15.000100</td>\n",
       "      <td>500001.000000</td>\n",
       "    </tr>\n",
       "  </tbody>\n",
       "</table>\n",
       "</div>"
      ],
      "text/plain": [
       "          longitude      latitude  housing_median_age   total_rooms  \\\n",
       "count  20640.000000  20640.000000        20640.000000  20640.000000   \n",
       "mean    -119.569704     35.631861           28.639486   2635.763081   \n",
       "std        2.003532      2.135952           12.585558   2181.615252   \n",
       "min     -124.350000     32.540000            1.000000      2.000000   \n",
       "25%     -121.800000     33.930000           18.000000   1447.750000   \n",
       "50%     -118.490000     34.260000           29.000000   2127.000000   \n",
       "75%     -118.010000     37.710000           37.000000   3148.000000   \n",
       "max     -114.310000     41.950000           52.000000  39320.000000   \n",
       "\n",
       "       total_bedrooms    population    households  median_income  \\\n",
       "count    20433.000000  20640.000000  20640.000000   20640.000000   \n",
       "mean       537.870553   1425.476744    499.539680       3.870671   \n",
       "std        421.385070   1132.462122    382.329753       1.899822   \n",
       "min          1.000000      3.000000      1.000000       0.499900   \n",
       "25%        296.000000    787.000000    280.000000       2.563400   \n",
       "50%        435.000000   1166.000000    409.000000       3.534800   \n",
       "75%        647.000000   1725.000000    605.000000       4.743250   \n",
       "max       6445.000000  35682.000000   6082.000000      15.000100   \n",
       "\n",
       "       median_house_value  \n",
       "count        20640.000000  \n",
       "mean        206855.816909  \n",
       "std         115395.615874  \n",
       "min          14999.000000  \n",
       "25%         119600.000000  \n",
       "50%         179700.000000  \n",
       "75%         264725.000000  \n",
       "max         500001.000000  "
      ]
     },
     "execution_count": 6,
     "metadata": {},
     "output_type": "execute_result"
    }
   ],
   "source": [
    "df_housing.toPandas().describe()"
   ]
  },
  {
   "cell_type": "markdown",
   "id": "913a69c5",
   "metadata": {},
   "source": [
    "**Conclusion:**\n",
    "\n",
    "The dataset has 10 columns, 20640 rows. All columns except one represent a `double` data type. In the `ocean_proximity` column, the data type is `string`. In the future, for the model to work correctly, it will be necessary to convert this type to a numeric one. There are gaps in the `total_bedrooms` column. In the future, for the model to work correctly, gaps will also need to be processed."
   ]
  },
  {
   "cell_type": "code",
   "execution_count": 7,
   "id": "b77aafdc",
   "metadata": {
    "scrolled": true
   },
   "outputs": [
    {
     "name": "stdout",
     "output_type": "stream",
     "text": [
      "Количество домовладений:  20640\n",
      "Количество домовладений где медианная стоимость больше $500000: 965\n"
     ]
    }
   ],
   "source": [
    "print('Number of households: ', df_housing.select().count())\n",
    "print('Number of households with a median cost greater than $500,000:', df_housing.filter(F.col('median_house_value') > 500000).count())"
   ]
  },
  {
   "cell_type": "code",
   "execution_count": 8,
   "id": "4b09032d",
   "metadata": {
    "scrolled": false
   },
   "outputs": [
    {
     "data": {
      "text/plain": [
       "<AxesSubplot:xlabel='ocean_proximity', ylabel='avg_median_income'>"
      ]
     },
     "execution_count": 8,
     "metadata": {},
     "output_type": "execute_result"
    },
    {
     "data": {
      "image/png": "[encoded data removed]",
      "text/plain": [
       "<Figure size 432x288 with 1 Axes>"
      ]
     },
     "metadata": {
      "needs_background": "light"
     },
     "output_type": "display_data"
    }
   ],
   "source": [
    "import seaborn as sns\n",
    "\n",
    "df_wealthy = df_housing.groupBy('ocean_proximity').agg(F.avg('median_income')).toPandas()\n",
    "df_wealthy.columns = ['ocean_proximity', 'avg_median_income']\n",
    "sns.barplot(x=df_wealthy.ocean_proximity, y=df_wealthy.avg_median_income)"
   ]
  },
  {
   "cell_type": "markdown",
   "id": "41fb6466",
   "metadata": {},
   "source": [
    "People with high incomes prefer to settle in residential areas that are no more than an hour's drive from the ocean or near the bay."
   ]
  },
  {
   "cell_type": "code",
   "execution_count": 33,
   "id": "8b80109f",
   "metadata": {
    "scrolled": true
   },
   "outputs": [
    {
     "data": {
      "image/png": "[encoded data removed]",
      "text/plain": [
       "<Figure size 432x288 with 1 Axes>"
      ]
     },
     "metadata": {
      "needs_background": "light"
     },
     "output_type": "display_data"
    }
   ],
   "source": [
    "df_ages = df_housing.groupBy('housing_median_age', 'ocean_proximity').count().toPandas()\n",
    "sns.lineplot(data=df_ages, \n",
    "    x='housing_median_age', \n",
    "    y='count', \n",
    "    hue='ocean_proximity'\n",
    ");"
   ]
  },
  {
   "cell_type": "markdown",
   "id": "07f58fba",
   "metadata": {},
   "source": [
    "The graph shows that people under 20 are more likely to live in mainland California (INLAND) and within an hour's drive of the ocean. Older generations prefer to settle within an hour's drive to the ocean and near the bay."
   ]
  },
  {
   "cell_type": "markdown",
   "id": "4c86fbe7",
   "metadata": {},
   "source": [
    "Let's create several new columns with features for better model:"
   ]
  },
  {
   "cell_type": "code",
   "execution_count": 10,
   "id": "18bc72a9",
   "metadata": {},
   "outputs": [],
   "source": [
    "df_housing = df_housing.withColumn('rooms_per_household', F.col('total_rooms') / F.col('households'))\n",
    "df_housing = df_housing.withColumn('population_in_household', F.col('population') / F.col('households'))\n",
    "df_housing = df_housing.withColumn('bedroom_index', F.col('total_bedrooms') / F.col('total_rooms'))"
   ]
  },
  {
   "cell_type": "markdown",
   "id": "cc4a932e",
   "metadata": {},
   "source": [
    "Column with a random target feature for future validation of working models:Столбец с рандомным целевым признаком для будущей проверки на адекватность рабочих моделей:"
   ]
  },
  {
   "cell_type": "code",
   "execution_count": 12,
   "id": "0cd82d93",
   "metadata": {},
   "outputs": [],
   "source": [
    "df_housing = df_housing.withColumn(\"random_median_house_value\", lit(df_housing.groupBy().avg(\"median_house_value\").take(1)[0][0]))"
   ]
  },
  {
   "cell_type": "code",
   "execution_count": 13,
   "id": "295a03ac",
   "metadata": {},
   "outputs": [
    {
     "data": {
      "text/html": [
       "<div>\n",
       "<style scoped>\n",
       "    .dataframe tbody tr th:only-of-type {\n",
       "        vertical-align: middle;\n",
       "    }\n",
       "\n",
       "    .dataframe tbody tr th {\n",
       "        vertical-align: top;\n",
       "    }\n",
       "\n",
       "    .dataframe thead th {\n",
       "        text-align: right;\n",
       "    }\n",
       "</style>\n",
       "<table border=\"1\" class=\"dataframe\">\n",
       "  <thead>\n",
       "    <tr style=\"text-align: right;\">\n",
       "      <th></th>\n",
       "      <th>longitude</th>\n",
       "      <th>latitude</th>\n",
       "      <th>housing_median_age</th>\n",
       "      <th>total_rooms</th>\n",
       "      <th>total_bedrooms</th>\n",
       "      <th>population</th>\n",
       "      <th>households</th>\n",
       "      <th>median_income</th>\n",
       "      <th>median_house_value</th>\n",
       "      <th>ocean_proximity</th>\n",
       "      <th>rooms_per_household</th>\n",
       "      <th>population_in_household</th>\n",
       "      <th>bedroom_index</th>\n",
       "      <th>random_median_house_value</th>\n",
       "    </tr>\n",
       "  </thead>\n",
       "  <tbody>\n",
       "    <tr>\n",
       "      <th>0</th>\n",
       "      <td>-122.23</td>\n",
       "      <td>37.88</td>\n",
       "      <td>41.0</td>\n",
       "      <td>880.0</td>\n",
       "      <td>129.0</td>\n",
       "      <td>322.0</td>\n",
       "      <td>126.0</td>\n",
       "      <td>8.3252</td>\n",
       "      <td>452600.0</td>\n",
       "      <td>NEAR BAY</td>\n",
       "      <td>6.984127</td>\n",
       "      <td>2.555556</td>\n",
       "      <td>0.146591</td>\n",
       "      <td>206855.816909</td>\n",
       "    </tr>\n",
       "    <tr>\n",
       "      <th>1</th>\n",
       "      <td>-122.22</td>\n",
       "      <td>37.86</td>\n",
       "      <td>21.0</td>\n",
       "      <td>7099.0</td>\n",
       "      <td>1106.0</td>\n",
       "      <td>2401.0</td>\n",
       "      <td>1138.0</td>\n",
       "      <td>8.3014</td>\n",
       "      <td>358500.0</td>\n",
       "      <td>NEAR BAY</td>\n",
       "      <td>6.238137</td>\n",
       "      <td>2.109842</td>\n",
       "      <td>0.155797</td>\n",
       "      <td>206855.816909</td>\n",
       "    </tr>\n",
       "    <tr>\n",
       "      <th>2</th>\n",
       "      <td>-122.24</td>\n",
       "      <td>37.85</td>\n",
       "      <td>52.0</td>\n",
       "      <td>1467.0</td>\n",
       "      <td>190.0</td>\n",
       "      <td>496.0</td>\n",
       "      <td>177.0</td>\n",
       "      <td>7.2574</td>\n",
       "      <td>352100.0</td>\n",
       "      <td>NEAR BAY</td>\n",
       "      <td>8.288136</td>\n",
       "      <td>2.802260</td>\n",
       "      <td>0.129516</td>\n",
       "      <td>206855.816909</td>\n",
       "    </tr>\n",
       "    <tr>\n",
       "      <th>3</th>\n",
       "      <td>-122.25</td>\n",
       "      <td>37.85</td>\n",
       "      <td>52.0</td>\n",
       "      <td>1274.0</td>\n",
       "      <td>235.0</td>\n",
       "      <td>558.0</td>\n",
       "      <td>219.0</td>\n",
       "      <td>5.6431</td>\n",
       "      <td>341300.0</td>\n",
       "      <td>NEAR BAY</td>\n",
       "      <td>5.817352</td>\n",
       "      <td>2.547945</td>\n",
       "      <td>0.184458</td>\n",
       "      <td>206855.816909</td>\n",
       "    </tr>\n",
       "    <tr>\n",
       "      <th>4</th>\n",
       "      <td>-122.25</td>\n",
       "      <td>37.85</td>\n",
       "      <td>52.0</td>\n",
       "      <td>1627.0</td>\n",
       "      <td>280.0</td>\n",
       "      <td>565.0</td>\n",
       "      <td>259.0</td>\n",
       "      <td>3.8462</td>\n",
       "      <td>342200.0</td>\n",
       "      <td>NEAR BAY</td>\n",
       "      <td>6.281853</td>\n",
       "      <td>2.181467</td>\n",
       "      <td>0.172096</td>\n",
       "      <td>206855.816909</td>\n",
       "    </tr>\n",
       "  </tbody>\n",
       "</table>\n",
       "</div>"
      ],
      "text/plain": [
       "   longitude  latitude  housing_median_age  total_rooms  total_bedrooms  \\\n",
       "0    -122.23     37.88                41.0        880.0           129.0   \n",
       "1    -122.22     37.86                21.0       7099.0          1106.0   \n",
       "2    -122.24     37.85                52.0       1467.0           190.0   \n",
       "3    -122.25     37.85                52.0       1274.0           235.0   \n",
       "4    -122.25     37.85                52.0       1627.0           280.0   \n",
       "\n",
       "   population  households  median_income  median_house_value ocean_proximity  \\\n",
       "0       322.0       126.0         8.3252            452600.0        NEAR BAY   \n",
       "1      2401.0      1138.0         8.3014            358500.0        NEAR BAY   \n",
       "2       496.0       177.0         7.2574            352100.0        NEAR BAY   \n",
       "3       558.0       219.0         5.6431            341300.0        NEAR BAY   \n",
       "4       565.0       259.0         3.8462            342200.0        NEAR BAY   \n",
       "\n",
       "   rooms_per_household  population_in_household  bedroom_index  \\\n",
       "0             6.984127                 2.555556       0.146591   \n",
       "1             6.238137                 2.109842       0.155797   \n",
       "2             8.288136                 2.802260       0.129516   \n",
       "3             5.817352                 2.547945       0.184458   \n",
       "4             6.281853                 2.181467       0.172096   \n",
       "\n",
       "   random_median_house_value  \n",
       "0              206855.816909  \n",
       "1              206855.816909  \n",
       "2              206855.816909  \n",
       "3              206855.816909  \n",
       "4              206855.816909  "
      ]
     },
     "execution_count": 13,
     "metadata": {},
     "output_type": "execute_result"
    }
   ],
   "source": [
    "df_housing.toPandas().head(5)"
   ]
  },
  {
   "cell_type": "markdown",
   "id": "9805901d",
   "metadata": {},
   "source": [
    "### Processing missing values"
   ]
  },
  {
   "cell_type": "code",
   "execution_count": 14,
   "id": "5426abd8",
   "metadata": {
    "scrolled": true
   },
   "outputs": [],
   "source": [
    "imputer = Imputer(strategy='median', inputCol='total_bedrooms', outputCol='total_bedrooms')\n",
    "df_housing = imputer.fit(df_housing).transform(df_housing)"
   ]
  },
  {
   "cell_type": "code",
   "execution_count": 16,
   "id": "abddc622",
   "metadata": {},
   "outputs": [],
   "source": [
    "df_housing = df_housing.withColumn('bedroom_index', F.col('total_bedrooms') / F.col('total_rooms'))"
   ]
  },
  {
   "cell_type": "code",
   "execution_count": 17,
   "id": "954d3be7",
   "metadata": {
    "scrolled": false
   },
   "outputs": [
    {
     "name": "stdout",
     "output_type": "stream",
     "text": [
      "<class 'pandas.core.frame.DataFrame'>\n",
      "RangeIndex: 20640 entries, 0 to 20639\n",
      "Data columns (total 14 columns):\n",
      " #   Column                     Non-Null Count  Dtype  \n",
      "---  ------                     --------------  -----  \n",
      " 0   longitude                  20640 non-null  float64\n",
      " 1   latitude                   20640 non-null  float64\n",
      " 2   housing_median_age         20640 non-null  float64\n",
      " 3   total_rooms                20640 non-null  float64\n",
      " 4   total_bedrooms             20640 non-null  float64\n",
      " 5   population                 20640 non-null  float64\n",
      " 6   households                 20640 non-null  float64\n",
      " 7   median_income              20640 non-null  float64\n",
      " 8   median_house_value         20640 non-null  float64\n",
      " 9   ocean_proximity            20640 non-null  object \n",
      " 10  rooms_per_household        20640 non-null  float64\n",
      " 11  population_in_household    20640 non-null  float64\n",
      " 12  bedroom_index              20640 non-null  float64\n",
      " 13  random_median_house_value  20640 non-null  float64\n",
      "dtypes: float64(13), object(1)\n",
      "memory usage: 2.2+ MB\n"
     ]
    }
   ],
   "source": [
    "df_housing.toPandas().info()"
   ]
  },
  {
   "cell_type": "markdown",
   "id": "d750d71a",
   "metadata": {},
   "source": [
    "The gaps are filled✔️"
   ]
  },
  {
   "cell_type": "markdown",
   "id": "dc7bed44",
   "metadata": {},
   "source": [
    "### Transformation of categorical features"
   ]
  },
  {
   "cell_type": "code",
   "execution_count": 18,
   "id": "0d5d19de",
   "metadata": {
    "scrolled": true
   },
   "outputs": [
    {
     "data": {
      "text/html": [
       "<div>\n",
       "<style scoped>\n",
       "    .dataframe tbody tr th:only-of-type {\n",
       "        vertical-align: middle;\n",
       "    }\n",
       "\n",
       "    .dataframe tbody tr th {\n",
       "        vertical-align: top;\n",
       "    }\n",
       "\n",
       "    .dataframe thead th {\n",
       "        text-align: right;\n",
       "    }\n",
       "</style>\n",
       "<table border=\"1\" class=\"dataframe\">\n",
       "  <thead>\n",
       "    <tr style=\"text-align: right;\">\n",
       "      <th></th>\n",
       "      <th>longitude</th>\n",
       "      <th>latitude</th>\n",
       "      <th>housing_median_age</th>\n",
       "      <th>total_rooms</th>\n",
       "      <th>total_bedrooms</th>\n",
       "      <th>population</th>\n",
       "      <th>households</th>\n",
       "      <th>median_income</th>\n",
       "      <th>median_house_value</th>\n",
       "      <th>ocean_proximity</th>\n",
       "      <th>rooms_per_household</th>\n",
       "      <th>population_in_household</th>\n",
       "      <th>bedroom_index</th>\n",
       "      <th>random_median_house_value</th>\n",
       "      <th>ocean_proximity_Index</th>\n",
       "      <th>ocean_proximity_vec</th>\n",
       "    </tr>\n",
       "  </thead>\n",
       "  <tbody>\n",
       "    <tr>\n",
       "      <th>0</th>\n",
       "      <td>-122.23</td>\n",
       "      <td>37.88</td>\n",
       "      <td>41.0</td>\n",
       "      <td>880.0</td>\n",
       "      <td>129.0</td>\n",
       "      <td>322.0</td>\n",
       "      <td>126.0</td>\n",
       "      <td>8.3252</td>\n",
       "      <td>452600.0</td>\n",
       "      <td>NEAR BAY</td>\n",
       "      <td>6.984127</td>\n",
       "      <td>2.555556</td>\n",
       "      <td>0.146591</td>\n",
       "      <td>206855.816909</td>\n",
       "      <td>3.0</td>\n",
       "      <td>(0.0, 0.0, 0.0, 1.0)</td>\n",
       "    </tr>\n",
       "    <tr>\n",
       "      <th>1</th>\n",
       "      <td>-122.22</td>\n",
       "      <td>37.86</td>\n",
       "      <td>21.0</td>\n",
       "      <td>7099.0</td>\n",
       "      <td>1106.0</td>\n",
       "      <td>2401.0</td>\n",
       "      <td>1138.0</td>\n",
       "      <td>8.3014</td>\n",
       "      <td>358500.0</td>\n",
       "      <td>NEAR BAY</td>\n",
       "      <td>6.238137</td>\n",
       "      <td>2.109842</td>\n",
       "      <td>0.155797</td>\n",
       "      <td>206855.816909</td>\n",
       "      <td>3.0</td>\n",
       "      <td>(0.0, 0.0, 0.0, 1.0)</td>\n",
       "    </tr>\n",
       "    <tr>\n",
       "      <th>2</th>\n",
       "      <td>-122.24</td>\n",
       "      <td>37.85</td>\n",
       "      <td>52.0</td>\n",
       "      <td>1467.0</td>\n",
       "      <td>190.0</td>\n",
       "      <td>496.0</td>\n",
       "      <td>177.0</td>\n",
       "      <td>7.2574</td>\n",
       "      <td>352100.0</td>\n",
       "      <td>NEAR BAY</td>\n",
       "      <td>8.288136</td>\n",
       "      <td>2.802260</td>\n",
       "      <td>0.129516</td>\n",
       "      <td>206855.816909</td>\n",
       "      <td>3.0</td>\n",
       "      <td>(0.0, 0.0, 0.0, 1.0)</td>\n",
       "    </tr>\n",
       "    <tr>\n",
       "      <th>3</th>\n",
       "      <td>-122.25</td>\n",
       "      <td>37.85</td>\n",
       "      <td>52.0</td>\n",
       "      <td>1274.0</td>\n",
       "      <td>235.0</td>\n",
       "      <td>558.0</td>\n",
       "      <td>219.0</td>\n",
       "      <td>5.6431</td>\n",
       "      <td>341300.0</td>\n",
       "      <td>NEAR BAY</td>\n",
       "      <td>5.817352</td>\n",
       "      <td>2.547945</td>\n",
       "      <td>0.184458</td>\n",
       "      <td>206855.816909</td>\n",
       "      <td>3.0</td>\n",
       "      <td>(0.0, 0.0, 0.0, 1.0)</td>\n",
       "    </tr>\n",
       "    <tr>\n",
       "      <th>4</th>\n",
       "      <td>-122.25</td>\n",
       "      <td>37.85</td>\n",
       "      <td>52.0</td>\n",
       "      <td>1627.0</td>\n",
       "      <td>280.0</td>\n",
       "      <td>565.0</td>\n",
       "      <td>259.0</td>\n",
       "      <td>3.8462</td>\n",
       "      <td>342200.0</td>\n",
       "      <td>NEAR BAY</td>\n",
       "      <td>6.281853</td>\n",
       "      <td>2.181467</td>\n",
       "      <td>0.172096</td>\n",
       "      <td>206855.816909</td>\n",
       "      <td>3.0</td>\n",
       "      <td>(0.0, 0.0, 0.0, 1.0)</td>\n",
       "    </tr>\n",
       "  </tbody>\n",
       "</table>\n",
       "</div>"
      ],
      "text/plain": [
       "   longitude  latitude  housing_median_age  total_rooms  total_bedrooms  \\\n",
       "0    -122.23     37.88                41.0        880.0           129.0   \n",
       "1    -122.22     37.86                21.0       7099.0          1106.0   \n",
       "2    -122.24     37.85                52.0       1467.0           190.0   \n",
       "3    -122.25     37.85                52.0       1274.0           235.0   \n",
       "4    -122.25     37.85                52.0       1627.0           280.0   \n",
       "\n",
       "   population  households  median_income  median_house_value ocean_proximity  \\\n",
       "0       322.0       126.0         8.3252            452600.0        NEAR BAY   \n",
       "1      2401.0      1138.0         8.3014            358500.0        NEAR BAY   \n",
       "2       496.0       177.0         7.2574            352100.0        NEAR BAY   \n",
       "3       558.0       219.0         5.6431            341300.0        NEAR BAY   \n",
       "4       565.0       259.0         3.8462            342200.0        NEAR BAY   \n",
       "\n",
       "   rooms_per_household  population_in_household  bedroom_index  \\\n",
       "0             6.984127                 2.555556       0.146591   \n",
       "1             6.238137                 2.109842       0.155797   \n",
       "2             8.288136                 2.802260       0.129516   \n",
       "3             5.817352                 2.547945       0.184458   \n",
       "4             6.281853                 2.181467       0.172096   \n",
       "\n",
       "   random_median_house_value  ocean_proximity_Index   ocean_proximity_vec  \n",
       "0              206855.816909                    3.0  (0.0, 0.0, 0.0, 1.0)  \n",
       "1              206855.816909                    3.0  (0.0, 0.0, 0.0, 1.0)  \n",
       "2              206855.816909                    3.0  (0.0, 0.0, 0.0, 1.0)  \n",
       "3              206855.816909                    3.0  (0.0, 0.0, 0.0, 1.0)  \n",
       "4              206855.816909                    3.0  (0.0, 0.0, 0.0, 1.0)  "
      ]
     },
     "execution_count": 18,
     "metadata": {},
     "output_type": "execute_result"
    }
   ],
   "source": [
    "ocean_proximity_idexer = StringIndexer(inputCol=\"ocean_proximity\", outputCol=\"ocean_proximity_Index\")\n",
    "df_transformed = ocean_proximity_idexer.fit(df_housing).transform(df_housing)\n",
    "\n",
    "onehotencoder_ocean_proximity_vector = OneHotEncoder(inputCol=\"ocean_proximity_Index\", outputCol=\"ocean_proximity_vec\")\n",
    "vec_housing = onehotencoder_ocean_proximity_vector.fit(df_transformed).transform(df_transformed)\n",
    "vec_housing.toPandas().head(5)"
   ]
  },
  {
   "cell_type": "markdown",
   "id": "e9b76ef4",
   "metadata": {},
   "source": [
    "### Transformation of numerical features"
   ]
  },
  {
   "cell_type": "code",
   "execution_count": 19,
   "id": "4aba3d1d",
   "metadata": {
    "scrolled": true
   },
   "outputs": [],
   "source": [
    "numerical_cols = ['longitude', \n",
    "                  'latitude', \n",
    "                  'housing_median_age', \n",
    "                  'total_rooms',\n",
    "                  'total_bedrooms',\n",
    "                  'population', \n",
    "                  'households', \n",
    "                  'median_income',\n",
    "                  'rooms_per_household',\n",
    "                  'population_in_household',\n",
    "                  'bedroom_index']\n",
    "\n",
    "target = 'median_house_value'\n",
    "random_target = 'random_median_house_value'\n",
    "\n",
    "numerical_assembler = VectorAssembler(inputCols=numerical_cols, outputCol=\"numerical_features\")\n",
    "vec_housing = numerical_assembler.transform(vec_housing) \n",
    "\n",
    "standardScaler = StandardScaler(inputCol='numerical_features',  outputCol=\"numerical_features_scaled\")\n",
    "vec_housing = standardScaler.fit(vec_housing).transform(vec_housing) "
   ]
  },
  {
   "cell_type": "markdown",
   "id": "c50f5067",
   "metadata": {},
   "source": [
    "**Combining features into one vector for the ML algorithm**"
   ]
  },
  {
   "cell_type": "code",
   "execution_count": 20,
   "id": "aa9831ff",
   "metadata": {
    "scrolled": false
   },
   "outputs": [],
   "source": [
    "all_features = ['ocean_proximity_vec', 'numerical_features_scaled']\n",
    "\n",
    "\n",
    "final_assembler = VectorAssembler(inputCols=all_features, outputCol=\"features\") \n",
    "vec_housing2 = final_assembler.transform(vec_housing)"
   ]
  },
  {
   "cell_type": "code",
   "execution_count": 21,
   "id": "1688f516",
   "metadata": {
    "scrolled": true
   },
   "outputs": [
    {
     "name": "stdout",
     "output_type": "stream",
     "text": [
      "+-------------------+-------------------------+\n",
      "|ocean_proximity_vec|numerical_features_scaled|\n",
      "+-------------------+-------------------------+\n",
      "|      (4,[3],[1.0])|     [-61.007269596069...|\n",
      "|      (4,[3],[1.0])|     [-61.002278409814...|\n",
      "|      (4,[3],[1.0])|     [-61.012260782324...|\n",
      "|      (4,[3],[1.0])|     [-61.017251968579...|\n",
      "|      (4,[3],[1.0])|     [-61.017251968579...|\n",
      "+-------------------+-------------------------+\n",
      "only showing top 5 rows\n",
      "\n"
     ]
    }
   ],
   "source": [
    "vec_housing2.select(all_features).show(5) "
   ]
  },
  {
   "cell_type": "markdown",
   "id": "abb727b1",
   "metadata": {},
   "source": [
    "### Features sampling"
   ]
  },
  {
   "cell_type": "markdown",
   "id": "6455f134",
   "metadata": {},
   "source": [
    "**Sampling based on all features**"
   ]
  },
  {
   "cell_type": "code",
   "execution_count": 22,
   "id": "3e60b836",
   "metadata": {
    "scrolled": true
   },
   "outputs": [
    {
     "name": "stdout",
     "output_type": "stream",
     "text": [
      "15433 5207\n"
     ]
    }
   ],
   "source": [
    "RANDOM_SEED = 123456\n",
    "train_data, test_data = vec_housing2.randomSplit([.75,.25], seed=RANDOM_SEED)\n",
    "print(train_data.count(), test_data.count()) "
   ]
  },
  {
   "cell_type": "markdown",
   "id": "9f0a82f3",
   "metadata": {
    "id": "9f0a82f3"
   },
   "source": [
    "## Training models"
   ]
  },
  {
   "cell_type": "markdown",
   "id": "641d9b52",
   "metadata": {},
   "source": [
    "### Model trained on all features"
   ]
  },
  {
   "cell_type": "code",
   "execution_count": 23,
   "id": "bddb08c4",
   "metadata": {
    "id": "bddb08c4",
    "scrolled": false
   },
   "outputs": [],
   "source": [
    "lr = LinearRegression(labelCol=target, featuresCol=\"features\", regParam=0.1, solver=\"normal\")\n",
    "model = lr.fit(train_data)"
   ]
  },
  {
   "cell_type": "markdown",
   "id": "ab66265b",
   "metadata": {},
   "source": [
    "### Model trained on numerical features"
   ]
  },
  {
   "cell_type": "code",
   "execution_count": 24,
   "id": "5b2e8b86",
   "metadata": {
    "scrolled": false
   },
   "outputs": [],
   "source": [
    "lr_2 = LinearRegression(labelCol=target, featuresCol=\"numerical_features_scaled\", regParam=0.1, solver=\"normal\")\n",
    "model_2 = lr_2.fit(train_data)"
   ]
  },
  {
   "cell_type": "markdown",
   "id": "5f4e5158",
   "metadata": {},
   "source": [
    "### Random (random) model to test the sanity of the previous two models"
   ]
  },
  {
   "cell_type": "code",
   "execution_count": 25,
   "id": "6fdbfb49",
   "metadata": {},
   "outputs": [],
   "source": [
    "lr_3 = LinearRegression(labelCol=random_target, featuresCol=\"numerical_features_scaled\", regParam=0.1, solver=\"normal\")\n",
    "model_3 = lr_3.fit(train_data)"
   ]
  },
  {
   "cell_type": "markdown",
   "id": "b551ef67",
   "metadata": {},
   "source": [
    "## Analysis of results"
   ]
  },
  {
   "cell_type": "markdown",
   "id": "0c38f444",
   "metadata": {},
   "source": [
    "### Metrics RMSE, MAE, R2 of the model trained on all features"
   ]
  },
  {
   "cell_type": "code",
   "execution_count": 26,
   "id": "ddbbd32e",
   "metadata": {},
   "outputs": [],
   "source": [
    "predictions = model.transform(test_data)"
   ]
  },
  {
   "cell_type": "code",
   "execution_count": 27,
   "id": "a97f9378",
   "metadata": {
    "scrolled": false
   },
   "outputs": [
    {
     "name": "stdout",
     "output_type": "stream",
     "text": [
      "Root Mean Squared Error (RMSE) on test data = 66675.4\n",
      "Mean absolute error (MAE) on test data = 48510.5\n",
      "Coefficient of determination (R2) on test data = 0.664534\n"
     ]
    }
   ],
   "source": [
    "evaluator_rmse = RegressionEvaluator(labelCol=target, predictionCol=\"prediction\", metricName=\"rmse\")\n",
    "evaluator_mae = RegressionEvaluator(labelCol=target, predictionCol=\"prediction\", metricName=\"mae\")\n",
    "evaluator_r2 = RegressionEvaluator(labelCol=target, predictionCol=\"prediction\", metricName=\"r2\")\n",
    "rmse = evaluator_rmse.evaluate(predictions)\n",
    "mae = evaluator_mae.evaluate(predictions)\n",
    "R2 = evaluator_r2.evaluate(predictions)\n",
    "print(\"Root Mean Squared Error (RMSE) on test data = %g\" % rmse)\n",
    "print(\"Mean absolute error (MAE) on test data = %g\" % mae)\n",
    "print(\"Coefficient of determination (R2) on test data = %g\" % R2)"
   ]
  },
  {
   "cell_type": "markdown",
   "id": "129561a6",
   "metadata": {},
   "source": [
    "### Metrics RMSE, MAE, R2 of the model trained on numerical features"
   ]
  },
  {
   "cell_type": "code",
   "execution_count": 28,
   "id": "a36042bc",
   "metadata": {},
   "outputs": [],
   "source": [
    "predictions_2 = model_2.transform(test_data)"
   ]
  },
  {
   "cell_type": "code",
   "execution_count": 29,
   "id": "1d79c712",
   "metadata": {
    "scrolled": false
   },
   "outputs": [
    {
     "name": "stdout",
     "output_type": "stream",
     "text": [
      "Root Mean Squared Error (RMSE) on test data = 67253.2\n",
      "Mean absolute error (MAE) on test data = 49164.5\n",
      "Coefficient of determination (R2) on test data = 0.658694\n"
     ]
    }
   ],
   "source": [
    "evaluator_rmse = RegressionEvaluator(labelCol=target, predictionCol=\"prediction\", metricName=\"rmse\")\n",
    "evaluator_mae = RegressionEvaluator(labelCol=target, predictionCol=\"prediction\", metricName=\"mae\")\n",
    "evaluator_r2 = RegressionEvaluator(labelCol=target, predictionCol=\"prediction\", metricName=\"r2\")\n",
    "rmse_2 = evaluator_rmse.evaluate(predictions_2)\n",
    "mae = evaluator_mae.evaluate(predictions_2)\n",
    "R2 = evaluator_r2.evaluate(predictions_2)\n",
    "print(\"Root Mean Squared Error (RMSE) on test data = %g\" % rmse_2)\n",
    "print(\"Mean absolute error (MAE) on test data = %g\" % mae)\n",
    "print(\"Coefficient of determination (R2) on test data = %g\" % R2)"
   ]
  },
  {
   "cell_type": "markdown",
   "id": "64dce25a",
   "metadata": {},
   "source": [
    "### Metrics RMSE, MAE, R2 of the random model"
   ]
  },
  {
   "cell_type": "code",
   "execution_count": 30,
   "id": "3dafd3d1",
   "metadata": {},
   "outputs": [],
   "source": [
    "predictions_3 = model_3.transform(test_data)"
   ]
  },
  {
   "cell_type": "code",
   "execution_count": 31,
   "id": "f96b360f",
   "metadata": {
    "scrolled": false
   },
   "outputs": [
    {
     "name": "stdout",
     "output_type": "stream",
     "text": [
      "Root Mean Squared Error (RMSE) on test data = 115120\n",
      "Mean absolute error (MAE) on test data = 90764.2\n",
      "Coefficient of determination (R2) on test data = -4.6925e-05\n"
     ]
    }
   ],
   "source": [
    "evaluator_rmse = RegressionEvaluator(labelCol=target, predictionCol=\"prediction\", metricName=\"rmse\")\n",
    "evaluator_mae = RegressionEvaluator(labelCol=target, predictionCol=\"prediction\", metricName=\"mae\")\n",
    "evaluator_r2 = RegressionEvaluator(labelCol=target, predictionCol=\"prediction\", metricName=\"r2\")\n",
    "rmse_2 = evaluator_rmse.evaluate(predictions_3)\n",
    "mae = evaluator_mae.evaluate(predictions_3)\n",
    "R2 = evaluator_r2.evaluate(predictions_3)\n",
    "print(\"Root Mean Squared Error (RMSE) on test data = %g\" % rmse_2)\n",
    "print(\"Mean absolute error (MAE) on test data = %g\" % mae)\n",
    "print(\"Coefficient of determination (R2) on test data = %g\" % R2)"
   ]
  },
  {
   "cell_type": "markdown",
   "id": "1c7eb3ca",
   "metadata": {},
   "source": [
    "**The metrics of the working models are significantly superior in quality to the metrics of the random model.**\n",
    "- Root Mean Squared Error by 43%\n",
    "- Mean absolute error (MAE) by 46%\n",
    "- The coefficient of determination (R2) of the random model is zero, which means the model is of low significance.\n",
    "\n",
    "**Hence, it can be concluded that working models have passed the sanity test.**"
   ]
  },
  {
   "cell_type": "markdown",
   "id": "711da4e2",
   "metadata": {},
   "source": [
    "## General conclusion"
   ]
  },
  {
   "cell_type": "markdown",
   "id": "3c205c5a",
   "metadata": {},
   "source": [
    "During the development of the project, two linear regression models were built to predict the cost of home ownership in airplanes. The first model is based on categorical and numerical features, the second one is based only on numerical ones. The quality of the models was assessed using 3 metrics: root mean square error (RMSE), mean absolute error (MAE) and coefficient of determination (R2). The smaller the RMSE and MAE, the more accurate the model's predictions. The coefficient of determination close to unity also characterizes the best quality of the models.\n",
    "\n",
    "**Quality metrics of learning models on all features:**\n",
    "- Root mean square error (RMSE) = 66675.4\n",
    "- Mean absolute error (MAE) = 48510.5\n",
    "- Coefficient of determination (R2) = 0.664534\n",
    "\n",
    "**Quality metrics for learning models based on numerical features:**\n",
    "- Root mean square error (RMSE) for test data = 67253.2\n",
    "- Mean absolute error (MAE) on test data = 49164.5.\n",
    "- Coefficient of determination (R2) according to test data = 0.658694\n",
    "\n",
    "The model trained on all features turned out to be more efficient. This model has a mean square error less than 1%,\n",
    "the average absolute error is 1.3%, the coefficient of determination is 1% higher.\n",
    "Both models are superior in quality to a random model (if the model was made randomly) by 42%."
   ]
  },
  {
   "cell_type": "code",
   "execution_count": null,
   "id": "ab208f1c",
   "metadata": {},
   "outputs": [],
   "source": []
  }
 ],
 "metadata": {
  "ExecuteTimeLog": [
   {
    "duration": 16477,
    "start_time": "2022-04-22T14:26:22.520Z"
   },
   {
    "duration": 8940,
    "start_time": "2022-04-22T14:26:39.055Z"
   },
   {
    "duration": 55,
    "start_time": "2022-04-22T14:58:05.433Z"
   },
   {
    "duration": 6,
    "start_time": "2022-04-22T15:02:48.696Z"
   },
   {
    "duration": 5,
    "start_time": "2022-04-22T15:02:57.123Z"
   },
   {
    "duration": 5,
    "start_time": "2022-04-22T15:03:06.432Z"
   },
   {
    "duration": 853,
    "start_time": "2022-04-22T15:03:32.436Z"
   },
   {
    "duration": 1273,
    "start_time": "2022-04-22T15:03:55.623Z"
   },
   {
    "duration": 1765,
    "start_time": "2022-04-22T15:04:33.402Z"
   },
   {
    "duration": 4794,
    "start_time": "2022-04-22T15:05:35.791Z"
   },
   {
    "duration": 5882,
    "start_time": "2022-04-22T15:07:14.647Z"
   },
   {
    "duration": 3627,
    "start_time": "2022-04-22T15:07:33.082Z"
   },
   {
    "duration": 756,
    "start_time": "2022-04-22T15:08:21.903Z"
   },
   {
    "duration": 100,
    "start_time": "2022-04-22T15:09:08.068Z"
   },
   {
    "duration": 8847,
    "start_time": "2022-04-22T15:38:03.944Z"
   },
   {
    "duration": 994,
    "start_time": "2022-04-22T15:38:12.793Z"
   },
   {
    "duration": 73,
    "start_time": "2022-04-23T12:52:55.043Z"
   },
   {
    "duration": 22496,
    "start_time": "2022-04-23T12:53:02.824Z"
   },
   {
    "duration": 12408,
    "start_time": "2022-04-23T12:53:25.324Z"
   },
   {
    "duration": 8831,
    "start_time": "2022-04-23T12:53:37.793Z"
   },
   {
    "duration": 702,
    "start_time": "2022-04-23T12:53:46.694Z"
   },
   {
    "duration": 1520,
    "start_time": "2022-04-23T12:53:47.399Z"
   },
   {
    "duration": 1074,
    "start_time": "2022-04-23T12:53:48.921Z"
   },
   {
    "duration": 7958,
    "start_time": "2022-04-23T12:53:49.997Z"
   },
   {
    "duration": 4986,
    "start_time": "2022-04-23T12:53:57.958Z"
   },
   {
    "duration": 155,
    "start_time": "2022-04-23T12:54:02.947Z"
   },
   {
    "duration": 10057,
    "start_time": "2022-04-23T12:54:03.105Z"
   },
   {
    "duration": 1197,
    "start_time": "2022-04-23T12:54:13.165Z"
   },
   {
    "duration": 160,
    "start_time": "2022-04-23T12:54:14.364Z"
   },
   {
    "duration": 840,
    "start_time": "2022-04-23T12:54:29.482Z"
   },
   {
    "duration": 696,
    "start_time": "2022-04-23T12:54:38.878Z"
   },
   {
    "duration": 915,
    "start_time": "2022-04-23T12:55:14.656Z"
   },
   {
    "duration": 742,
    "start_time": "2022-04-23T13:53:23.430Z"
   },
   {
    "duration": 565,
    "start_time": "2022-04-23T13:54:03.502Z"
   },
   {
    "duration": 565,
    "start_time": "2022-04-23T13:54:12.131Z"
   },
   {
    "duration": 57,
    "start_time": "2022-04-23T14:30:13.357Z"
   },
   {
    "duration": 8830,
    "start_time": "2022-04-23T14:30:14.749Z"
   },
   {
    "duration": 730,
    "start_time": "2022-04-23T14:30:23.582Z"
   },
   {
    "duration": 609,
    "start_time": "2022-04-23T14:30:41.301Z"
   },
   {
    "duration": 6,
    "start_time": "2022-04-23T14:32:19.313Z"
   },
   {
    "duration": 12,
    "start_time": "2022-04-23T16:35:27.535Z"
   },
   {
    "duration": 173,
    "start_time": "2022-04-23T16:35:42.870Z"
   },
   {
    "duration": 17,
    "start_time": "2022-04-23T16:35:47.599Z"
   },
   {
    "duration": 759,
    "start_time": "2022-04-23T16:36:01.665Z"
   },
   {
    "duration": 38,
    "start_time": "2022-04-23T16:38:37.565Z"
   },
   {
    "duration": 31,
    "start_time": "2022-04-23T16:38:57.306Z"
   },
   {
    "duration": 24,
    "start_time": "2022-04-23T16:50:38.925Z"
   },
   {
    "duration": 24,
    "start_time": "2022-04-23T16:50:55.496Z"
   },
   {
    "duration": 46,
    "start_time": "2022-04-24T14:52:50.859Z"
   },
   {
    "duration": 16902,
    "start_time": "2022-04-24T14:53:10.214Z"
   },
   {
    "duration": 8721,
    "start_time": "2022-04-24T14:53:27.120Z"
   },
   {
    "duration": 6798,
    "start_time": "2022-04-24T14:53:35.843Z"
   },
   {
    "duration": 578,
    "start_time": "2022-04-24T14:53:42.643Z"
   },
   {
    "duration": 1101,
    "start_time": "2022-04-24T14:53:43.225Z"
   },
   {
    "duration": 821,
    "start_time": "2022-04-24T14:53:44.328Z"
   },
   {
    "duration": 6534,
    "start_time": "2022-04-24T14:53:45.208Z"
   },
   {
    "duration": 4214,
    "start_time": "2022-04-24T14:53:51.743Z"
   },
   {
    "duration": 76,
    "start_time": "2022-04-24T14:53:55.959Z"
   },
   {
    "duration": 4716,
    "start_time": "2022-04-24T14:53:56.037Z"
   },
   {
    "duration": 1083,
    "start_time": "2022-04-24T14:54:00.755Z"
   },
   {
    "duration": 1000,
    "start_time": "2022-04-24T14:54:01.840Z"
   },
   {
    "duration": 821,
    "start_time": "2022-04-24T14:54:02.842Z"
   },
   {
    "duration": 193,
    "start_time": "2022-04-24T14:54:03.665Z"
   },
   {
    "duration": 18,
    "start_time": "2022-04-24T14:54:52.987Z"
   },
   {
    "duration": 9,
    "start_time": "2022-04-24T14:56:17.394Z"
   },
   {
    "duration": 11,
    "start_time": "2022-04-24T15:02:56.118Z"
   },
   {
    "duration": 4,
    "start_time": "2022-04-24T15:04:04.552Z"
   },
   {
    "duration": 1456,
    "start_time": "2022-04-24T15:04:08.969Z"
   },
   {
    "duration": 46,
    "start_time": "2022-04-24T15:09:30.883Z"
   },
   {
    "duration": 20,
    "start_time": "2022-04-24T15:10:58.271Z"
   },
   {
    "duration": 20,
    "start_time": "2022-04-24T15:11:08.365Z"
   },
   {
    "duration": 470,
    "start_time": "2022-04-24T15:20:15.557Z"
   },
   {
    "duration": 393,
    "start_time": "2022-04-24T15:28:38.343Z"
   },
   {
    "duration": 1595,
    "start_time": "2022-04-24T15:28:48.840Z"
   },
   {
    "duration": 1007,
    "start_time": "2022-04-24T15:29:35.321Z"
   },
   {
    "duration": 941,
    "start_time": "2022-04-24T15:33:27.092Z"
   },
   {
    "duration": 1944,
    "start_time": "2022-04-24T15:33:45.955Z"
   },
   {
    "duration": 557,
    "start_time": "2022-04-24T15:52:09.373Z"
   },
   {
    "duration": 411,
    "start_time": "2022-04-24T15:52:14.339Z"
   },
   {
    "duration": 487,
    "start_time": "2022-04-24T15:52:34.085Z"
   },
   {
    "duration": 307,
    "start_time": "2022-04-24T15:52:48.068Z"
   },
   {
    "duration": 382,
    "start_time": "2022-04-24T15:54:22.150Z"
   },
   {
    "duration": 294,
    "start_time": "2022-04-24T15:54:26.880Z"
   },
   {
    "duration": 302,
    "start_time": "2022-04-24T15:54:51.291Z"
   },
   {
    "duration": 749,
    "start_time": "2022-04-24T15:56:09.714Z"
   },
   {
    "duration": 371,
    "start_time": "2022-04-24T15:57:42.999Z"
   },
   {
    "duration": 319,
    "start_time": "2022-04-24T15:57:48.305Z"
   },
   {
    "duration": 418,
    "start_time": "2022-04-24T15:58:03.661Z"
   },
   {
    "duration": 537,
    "start_time": "2022-04-24T15:58:12.907Z"
   },
   {
    "duration": 362,
    "start_time": "2022-04-24T15:58:42.328Z"
   },
   {
    "duration": 302,
    "start_time": "2022-04-24T16:00:04.167Z"
   },
   {
    "duration": 317,
    "start_time": "2022-04-24T16:00:18.452Z"
   },
   {
    "duration": 391,
    "start_time": "2022-04-24T16:00:28.047Z"
   },
   {
    "duration": 258,
    "start_time": "2022-04-24T16:01:42.119Z"
   },
   {
    "duration": 575,
    "start_time": "2022-04-24T16:01:48.681Z"
   },
   {
    "duration": 771,
    "start_time": "2022-04-24T16:02:17.306Z"
   },
   {
    "duration": 8,
    "start_time": "2022-04-24T16:04:43.051Z"
   },
   {
    "duration": 9,
    "start_time": "2022-04-24T16:09:25.781Z"
   },
   {
    "duration": 5,
    "start_time": "2022-04-24T16:09:30.700Z"
   },
   {
    "duration": 9,
    "start_time": "2022-04-24T16:18:56.747Z"
   },
   {
    "duration": 40,
    "start_time": "2022-04-24T16:19:18.654Z"
   },
   {
    "duration": 10,
    "start_time": "2022-04-24T16:19:21.596Z"
   },
   {
    "duration": 17,
    "start_time": "2022-04-24T16:22:41.805Z"
   },
   {
    "duration": 12,
    "start_time": "2022-04-24T16:23:30.812Z"
   },
   {
    "duration": 978,
    "start_time": "2022-04-24T16:27:47.263Z"
   },
   {
    "duration": 6,
    "start_time": "2022-04-24T16:27:55.625Z"
   },
   {
    "duration": 579,
    "start_time": "2022-04-24T16:28:07.243Z"
   },
   {
    "duration": 455,
    "start_time": "2022-04-24T16:28:16.681Z"
   },
   {
    "duration": 596,
    "start_time": "2022-04-24T16:28:46.128Z"
   },
   {
    "duration": 479,
    "start_time": "2022-04-24T16:28:47.815Z"
   },
   {
    "duration": 9,
    "start_time": "2022-04-24T16:28:59.467Z"
   },
   {
    "duration": 341,
    "start_time": "2022-04-24T16:28:59.852Z"
   },
   {
    "duration": 10,
    "start_time": "2022-04-24T16:29:05.983Z"
   },
   {
    "duration": 100,
    "start_time": "2022-04-24T16:32:13.456Z"
   },
   {
    "duration": 102,
    "start_time": "2022-04-24T16:32:14.576Z"
   },
   {
    "duration": 102,
    "start_time": "2022-04-24T16:32:53.508Z"
   },
   {
    "duration": 396,
    "start_time": "2022-04-24T16:32:58.929Z"
   },
   {
    "duration": 368,
    "start_time": "2022-04-24T16:35:53.569Z"
   },
   {
    "duration": 475,
    "start_time": "2022-04-24T16:35:53.963Z"
   },
   {
    "duration": 17,
    "start_time": "2022-04-24T16:39:54.719Z"
   },
   {
    "duration": 18,
    "start_time": "2022-04-24T16:40:04.275Z"
   },
   {
    "duration": 21,
    "start_time": "2022-04-24T16:40:08.314Z"
   },
   {
    "duration": 16424,
    "start_time": "2022-04-24T16:40:18.421Z"
   },
   {
    "duration": 8892,
    "start_time": "2022-04-24T16:40:34.850Z"
   },
   {
    "duration": 7084,
    "start_time": "2022-04-24T16:40:43.744Z"
   },
   {
    "duration": 586,
    "start_time": "2022-04-24T16:40:50.829Z"
   },
   {
    "duration": 1096,
    "start_time": "2022-04-24T16:40:51.419Z"
   },
   {
    "duration": 911,
    "start_time": "2022-04-24T16:40:52.518Z"
   },
   {
    "duration": 6480,
    "start_time": "2022-04-24T16:40:53.431Z"
   },
   {
    "duration": 4433,
    "start_time": "2022-04-24T16:40:59.913Z"
   },
   {
    "duration": 81,
    "start_time": "2022-04-24T16:41:04.347Z"
   },
   {
    "duration": 3961,
    "start_time": "2022-04-24T16:41:04.430Z"
   },
   {
    "duration": 1045,
    "start_time": "2022-04-24T16:41:08.393Z"
   },
   {
    "duration": 868,
    "start_time": "2022-04-24T16:41:09.440Z"
   },
   {
    "duration": 142,
    "start_time": "2022-04-24T16:41:14.041Z"
   },
   {
    "duration": 22,
    "start_time": "2022-04-24T16:41:18.314Z"
   },
   {
    "duration": 1191,
    "start_time": "2022-04-24T16:41:23.844Z"
   },
   {
    "duration": 153,
    "start_time": "2022-04-24T16:41:45.754Z"
   },
   {
    "duration": 111,
    "start_time": "2022-04-24T16:42:01.776Z"
   },
   {
    "duration": 18,
    "start_time": "2022-04-24T16:42:06.749Z"
   },
   {
    "duration": 119,
    "start_time": "2022-04-24T16:42:18.414Z"
   },
   {
    "duration": 112,
    "start_time": "2022-04-24T16:42:27.663Z"
   },
   {
    "duration": 675,
    "start_time": "2022-04-24T16:43:01.161Z"
   },
   {
    "duration": 18,
    "start_time": "2022-04-24T16:43:11.474Z"
   },
   {
    "duration": 184,
    "start_time": "2022-04-24T16:43:20.974Z"
   },
   {
    "duration": 18,
    "start_time": "2022-04-24T16:43:29.634Z"
   },
   {
    "duration": 19,
    "start_time": "2022-04-24T16:43:31.177Z"
   },
   {
    "duration": 434,
    "start_time": "2022-04-24T16:43:36.803Z"
   },
   {
    "duration": 778,
    "start_time": "2022-04-24T16:43:41.163Z"
   },
   {
    "duration": 16132,
    "start_time": "2022-04-24T16:43:49.881Z"
   },
   {
    "duration": 10497,
    "start_time": "2022-04-24T16:44:06.019Z"
   },
   {
    "duration": 6794,
    "start_time": "2022-04-24T16:44:16.518Z"
   },
   {
    "duration": 597,
    "start_time": "2022-04-24T16:44:23.314Z"
   },
   {
    "duration": 1136,
    "start_time": "2022-04-24T16:44:23.915Z"
   },
   {
    "duration": 896,
    "start_time": "2022-04-24T16:44:25.053Z"
   },
   {
    "duration": 6456,
    "start_time": "2022-04-24T16:44:25.951Z"
   },
   {
    "duration": 4258,
    "start_time": "2022-04-24T16:44:32.410Z"
   },
   {
    "duration": 63,
    "start_time": "2022-04-24T16:44:36.669Z"
   },
   {
    "duration": 4420,
    "start_time": "2022-04-24T16:44:36.733Z"
   },
   {
    "duration": 900,
    "start_time": "2022-04-24T16:44:41.155Z"
   },
   {
    "duration": 673,
    "start_time": "2022-04-24T16:44:42.057Z"
   },
   {
    "duration": 1587,
    "start_time": "2022-04-24T16:44:42.732Z"
   },
   {
    "duration": 1042,
    "start_time": "2022-04-24T16:44:44.323Z"
   },
   {
    "duration": 3416,
    "start_time": "2022-04-24T16:44:45.367Z"
   },
   {
    "duration": 16141,
    "start_time": "2022-04-24T18:08:52.983Z"
   },
   {
    "duration": 11001,
    "start_time": "2022-04-24T18:09:09.127Z"
   },
   {
    "duration": 6412,
    "start_time": "2022-04-24T18:09:20.130Z"
   },
   {
    "duration": 587,
    "start_time": "2022-04-24T18:09:26.544Z"
   },
   {
    "duration": 1016,
    "start_time": "2022-04-24T18:09:27.134Z"
   },
   {
    "duration": 887,
    "start_time": "2022-04-24T18:09:28.152Z"
   },
   {
    "duration": 6311,
    "start_time": "2022-04-24T18:09:29.108Z"
   },
   {
    "duration": 3742,
    "start_time": "2022-04-24T18:09:35.420Z"
   },
   {
    "duration": 70,
    "start_time": "2022-04-24T18:09:39.163Z"
   },
   {
    "duration": 4121,
    "start_time": "2022-04-24T18:09:39.235Z"
   },
   {
    "duration": 1091,
    "start_time": "2022-04-24T18:09:43.358Z"
   },
   {
    "duration": 636,
    "start_time": "2022-04-24T18:09:44.451Z"
   },
   {
    "duration": 1448,
    "start_time": "2022-04-24T18:09:45.090Z"
   },
   {
    "duration": 1081,
    "start_time": "2022-04-24T18:09:46.541Z"
   },
   {
    "duration": 3560,
    "start_time": "2022-04-24T18:09:47.624Z"
   },
   {
    "duration": 1248,
    "start_time": "2022-04-24T18:09:51.186Z"
   },
   {
    "duration": 3051,
    "start_time": "2022-04-24T18:10:09.305Z"
   },
   {
    "duration": 2524,
    "start_time": "2022-04-24T18:10:29.479Z"
   },
   {
    "duration": 196,
    "start_time": "2022-04-24T18:21:32.528Z"
   },
   {
    "duration": 107,
    "start_time": "2022-04-24T18:21:39.454Z"
   },
   {
    "duration": 16729,
    "start_time": "2022-04-24T18:21:57.597Z"
   },
   {
    "duration": 9503,
    "start_time": "2022-04-24T18:22:14.329Z"
   },
   {
    "duration": 6703,
    "start_time": "2022-04-24T18:22:23.834Z"
   },
   {
    "duration": 573,
    "start_time": "2022-04-24T18:22:30.540Z"
   },
   {
    "duration": 1119,
    "start_time": "2022-04-24T18:22:31.115Z"
   },
   {
    "duration": 796,
    "start_time": "2022-04-24T18:22:32.236Z"
   },
   {
    "duration": 6374,
    "start_time": "2022-04-24T18:22:33.034Z"
   },
   {
    "duration": 3994,
    "start_time": "2022-04-24T18:22:39.411Z"
   },
   {
    "duration": 37,
    "start_time": "2022-04-24T18:22:43.407Z"
   },
   {
    "duration": 4248,
    "start_time": "2022-04-24T18:22:43.507Z"
   },
   {
    "duration": 915,
    "start_time": "2022-04-24T18:22:47.757Z"
   },
   {
    "duration": 853,
    "start_time": "2022-04-24T18:22:48.673Z"
   },
   {
    "duration": 1491,
    "start_time": "2022-04-24T18:22:49.528Z"
   },
   {
    "duration": 872,
    "start_time": "2022-04-24T18:22:51.022Z"
   },
   {
    "duration": 3628,
    "start_time": "2022-04-24T18:22:51.895Z"
   },
   {
    "duration": 1397,
    "start_time": "2022-04-24T18:22:55.525Z"
   },
   {
    "duration": 416,
    "start_time": "2022-04-24T18:22:56.924Z"
   },
   {
    "duration": 15273,
    "start_time": "2022-04-24T18:29:29.373Z"
   },
   {
    "duration": 8483,
    "start_time": "2022-04-24T18:29:44.649Z"
   },
   {
    "duration": 5703,
    "start_time": "2022-04-24T18:29:53.134Z"
   },
   {
    "duration": 695,
    "start_time": "2022-04-24T18:29:58.838Z"
   },
   {
    "duration": 932,
    "start_time": "2022-04-24T18:29:59.609Z"
   },
   {
    "duration": 867,
    "start_time": "2022-04-24T18:30:00.543Z"
   },
   {
    "duration": 5902,
    "start_time": "2022-04-24T18:30:01.412Z"
   },
   {
    "duration": 3934,
    "start_time": "2022-04-24T18:30:07.316Z"
   },
   {
    "duration": 67,
    "start_time": "2022-04-24T18:30:11.252Z"
   },
   {
    "duration": 5308,
    "start_time": "2022-04-24T18:30:11.321Z"
   },
   {
    "duration": 1078,
    "start_time": "2022-04-24T18:30:16.631Z"
   },
   {
    "duration": 918,
    "start_time": "2022-04-24T18:30:17.712Z"
   },
   {
    "duration": 1391,
    "start_time": "2022-04-24T18:30:18.632Z"
   },
   {
    "duration": 933,
    "start_time": "2022-04-24T18:30:20.026Z"
   },
   {
    "duration": 3354,
    "start_time": "2022-04-24T18:30:20.960Z"
   },
   {
    "duration": 1114,
    "start_time": "2022-04-24T18:30:24.316Z"
   },
   {
    "duration": 476,
    "start_time": "2022-04-24T18:30:25.432Z"
   },
   {
    "duration": 153,
    "start_time": "2022-04-24T18:30:25.910Z"
   },
   {
    "duration": 11,
    "start_time": "2022-04-24T18:33:00.266Z"
   },
   {
    "duration": 1565,
    "start_time": "2022-04-24T18:37:47.938Z"
   },
   {
    "duration": 155,
    "start_time": "2022-04-24T18:38:15.047Z"
   },
   {
    "duration": 584,
    "start_time": "2022-04-24T18:38:29.295Z"
   },
   {
    "duration": 0,
    "start_time": "2022-04-24T18:38:29.881Z"
   },
   {
    "duration": 0,
    "start_time": "2022-04-24T18:38:29.882Z"
   },
   {
    "duration": 0,
    "start_time": "2022-04-24T18:38:29.883Z"
   },
   {
    "duration": 0,
    "start_time": "2022-04-24T18:38:29.885Z"
   },
   {
    "duration": 0,
    "start_time": "2022-04-24T18:38:29.886Z"
   },
   {
    "duration": 0,
    "start_time": "2022-04-24T18:38:29.887Z"
   },
   {
    "duration": 0,
    "start_time": "2022-04-24T18:38:29.888Z"
   },
   {
    "duration": 0,
    "start_time": "2022-04-24T18:38:29.890Z"
   },
   {
    "duration": 0,
    "start_time": "2022-04-24T18:38:29.891Z"
   },
   {
    "duration": 0,
    "start_time": "2022-04-24T18:38:29.906Z"
   },
   {
    "duration": 0,
    "start_time": "2022-04-24T18:38:29.908Z"
   },
   {
    "duration": 0,
    "start_time": "2022-04-24T18:38:29.909Z"
   },
   {
    "duration": 0,
    "start_time": "2022-04-24T18:38:29.911Z"
   },
   {
    "duration": 0,
    "start_time": "2022-04-24T18:38:29.912Z"
   },
   {
    "duration": 0,
    "start_time": "2022-04-24T18:38:29.913Z"
   },
   {
    "duration": 0,
    "start_time": "2022-04-24T18:38:29.915Z"
   },
   {
    "duration": 0,
    "start_time": "2022-04-24T18:38:29.916Z"
   },
   {
    "duration": 14944,
    "start_time": "2022-04-24T18:39:01.412Z"
   },
   {
    "duration": 8219,
    "start_time": "2022-04-24T18:39:16.409Z"
   },
   {
    "duration": 5189,
    "start_time": "2022-04-24T18:39:24.630Z"
   },
   {
    "duration": 488,
    "start_time": "2022-04-24T18:39:29.821Z"
   },
   {
    "duration": 995,
    "start_time": "2022-04-24T18:39:30.312Z"
   },
   {
    "duration": 916,
    "start_time": "2022-04-24T18:39:31.309Z"
   },
   {
    "duration": 5075,
    "start_time": "2022-04-24T18:39:32.227Z"
   },
   {
    "duration": 3447,
    "start_time": "2022-04-24T18:39:37.304Z"
   },
   {
    "duration": 70,
    "start_time": "2022-04-24T18:39:40.753Z"
   },
   {
    "duration": 4367,
    "start_time": "2022-04-24T18:39:40.825Z"
   },
   {
    "duration": 913,
    "start_time": "2022-04-24T18:39:45.194Z"
   },
   {
    "duration": 512,
    "start_time": "2022-04-24T18:39:46.109Z"
   },
   {
    "duration": 1115,
    "start_time": "2022-04-24T18:39:46.622Z"
   },
   {
    "duration": 770,
    "start_time": "2022-04-24T18:39:47.739Z"
   },
   {
    "duration": 2910,
    "start_time": "2022-04-24T18:39:48.511Z"
   },
   {
    "duration": 1003,
    "start_time": "2022-04-24T18:39:51.422Z"
   },
   {
    "duration": 322,
    "start_time": "2022-04-24T18:39:52.427Z"
   },
   {
    "duration": 113,
    "start_time": "2022-04-24T18:39:52.806Z"
   },
   {
    "duration": 12,
    "start_time": "2022-04-24T18:40:52.563Z"
   },
   {
    "duration": 6,
    "start_time": "2022-04-24T18:54:58.744Z"
   },
   {
    "duration": 8,
    "start_time": "2022-04-24T18:55:02.262Z"
   },
   {
    "duration": 9,
    "start_time": "2022-04-24T18:55:03.367Z"
   },
   {
    "duration": 15039,
    "start_time": "2022-04-24T19:38:00.669Z"
   },
   {
    "duration": 8238,
    "start_time": "2022-04-24T19:38:15.710Z"
   },
   {
    "duration": 5632,
    "start_time": "2022-04-24T19:38:24.008Z"
   },
   {
    "duration": 567,
    "start_time": "2022-04-24T19:38:29.642Z"
   },
   {
    "duration": 1021,
    "start_time": "2022-04-24T19:38:30.211Z"
   },
   {
    "duration": 1687,
    "start_time": "2022-04-24T19:38:31.234Z"
   },
   {
    "duration": 5254,
    "start_time": "2022-04-24T19:38:32.923Z"
   },
   {
    "duration": 3729,
    "start_time": "2022-04-24T19:38:38.178Z"
   },
   {
    "duration": 31,
    "start_time": "2022-04-24T19:38:41.909Z"
   },
   {
    "duration": 3956,
    "start_time": "2022-04-24T19:38:41.942Z"
   },
   {
    "duration": 931,
    "start_time": "2022-04-24T19:38:45.899Z"
   },
   {
    "duration": 595,
    "start_time": "2022-04-24T19:38:46.832Z"
   },
   {
    "duration": 1191,
    "start_time": "2022-04-24T19:38:47.429Z"
   },
   {
    "duration": 792,
    "start_time": "2022-04-24T19:38:48.622Z"
   },
   {
    "duration": 2861,
    "start_time": "2022-04-24T19:38:49.416Z"
   },
   {
    "duration": 1064,
    "start_time": "2022-04-24T19:38:52.278Z"
   },
   {
    "duration": 407,
    "start_time": "2022-04-24T19:38:53.408Z"
   },
   {
    "duration": 121,
    "start_time": "2022-04-24T19:38:53.816Z"
   },
   {
    "duration": 9,
    "start_time": "2022-04-24T19:39:12.120Z"
   },
   {
    "duration": 3,
    "start_time": "2022-04-24T19:39:28.087Z"
   },
   {
    "duration": 2,
    "start_time": "2022-04-24T19:39:30.731Z"
   },
   {
    "duration": 9,
    "start_time": "2022-04-24T19:39:48.698Z"
   },
   {
    "duration": 224,
    "start_time": "2022-04-24T19:41:02.718Z"
   },
   {
    "duration": 100,
    "start_time": "2022-04-24T19:41:34.846Z"
   },
   {
    "duration": 14864,
    "start_time": "2022-04-24T19:41:51.164Z"
   },
   {
    "duration": 7894,
    "start_time": "2022-04-24T19:42:06.031Z"
   },
   {
    "duration": 5822,
    "start_time": "2022-04-24T19:42:13.927Z"
   },
   {
    "duration": 1360,
    "start_time": "2022-04-24T19:42:19.750Z"
   },
   {
    "duration": 900,
    "start_time": "2022-04-24T19:42:21.113Z"
   },
   {
    "duration": 896,
    "start_time": "2022-04-24T19:42:22.014Z"
   },
   {
    "duration": 5352,
    "start_time": "2022-04-24T19:42:22.912Z"
   },
   {
    "duration": 3649,
    "start_time": "2022-04-24T19:42:28.266Z"
   },
   {
    "duration": 97,
    "start_time": "2022-04-24T19:42:31.917Z"
   },
   {
    "duration": 4415,
    "start_time": "2022-04-24T19:42:32.015Z"
   },
   {
    "duration": 1015,
    "start_time": "2022-04-24T19:42:36.432Z"
   },
   {
    "duration": 684,
    "start_time": "2022-04-24T19:42:37.449Z"
   },
   {
    "duration": 1185,
    "start_time": "2022-04-24T19:42:38.135Z"
   },
   {
    "duration": 848,
    "start_time": "2022-04-24T19:42:39.323Z"
   },
   {
    "duration": 3070,
    "start_time": "2022-04-24T19:42:40.173Z"
   },
   {
    "duration": 1077,
    "start_time": "2022-04-24T19:42:43.244Z"
   },
   {
    "duration": 96,
    "start_time": "2022-04-24T19:42:44.323Z"
   },
   {
    "duration": 1894,
    "start_time": "2022-04-24T19:42:44.420Z"
   },
   {
    "duration": 6,
    "start_time": "2022-04-24T19:46:22.000Z"
   },
   {
    "duration": 233,
    "start_time": "2022-04-24T19:56:25.972Z"
   },
   {
    "duration": 22,
    "start_time": "2022-04-24T19:57:06.875Z"
   },
   {
    "duration": 7,
    "start_time": "2022-04-24T19:57:18.968Z"
   },
   {
    "duration": 6,
    "start_time": "2022-04-24T19:57:23.253Z"
   },
   {
    "duration": 1748,
    "start_time": "2022-04-24T19:57:32.848Z"
   },
   {
    "duration": 1873,
    "start_time": "2022-04-24T19:58:02.509Z"
   },
   {
    "duration": 9,
    "start_time": "2022-04-24T19:58:12.534Z"
   },
   {
    "duration": 1400,
    "start_time": "2022-04-24T19:58:29.020Z"
   },
   {
    "duration": 107,
    "start_time": "2022-04-24T19:59:08.524Z"
   },
   {
    "duration": 105,
    "start_time": "2022-04-24T20:03:12.599Z"
   },
   {
    "duration": 15269,
    "start_time": "2022-04-24T20:03:20.961Z"
   },
   {
    "duration": 7284,
    "start_time": "2022-04-24T20:03:36.232Z"
   },
   {
    "duration": 5411,
    "start_time": "2022-04-24T20:03:43.517Z"
   },
   {
    "duration": 598,
    "start_time": "2022-04-24T20:03:48.931Z"
   },
   {
    "duration": 920,
    "start_time": "2022-04-24T20:03:49.532Z"
   },
   {
    "duration": 768,
    "start_time": "2022-04-24T20:03:50.454Z"
   },
   {
    "duration": 5600,
    "start_time": "2022-04-24T20:03:51.225Z"
   },
   {
    "duration": 3544,
    "start_time": "2022-04-24T20:03:56.826Z"
   },
   {
    "duration": 46,
    "start_time": "2022-04-24T20:04:00.371Z"
   },
   {
    "duration": 3773,
    "start_time": "2022-04-24T20:04:00.418Z"
   },
   {
    "duration": 939,
    "start_time": "2022-04-24T20:04:04.193Z"
   },
   {
    "duration": 589,
    "start_time": "2022-04-24T20:04:05.134Z"
   },
   {
    "duration": 1410,
    "start_time": "2022-04-24T20:04:05.725Z"
   },
   {
    "duration": 1024,
    "start_time": "2022-04-24T20:04:07.138Z"
   },
   {
    "duration": 3155,
    "start_time": "2022-04-24T20:04:08.164Z"
   },
   {
    "duration": 1118,
    "start_time": "2022-04-24T20:04:11.321Z"
   },
   {
    "duration": 88,
    "start_time": "2022-04-24T20:04:12.441Z"
   },
   {
    "duration": 209,
    "start_time": "2022-04-24T20:04:12.530Z"
   },
   {
    "duration": 0,
    "start_time": "2022-04-24T20:04:12.741Z"
   },
   {
    "duration": 981,
    "start_time": "2022-04-24T20:04:18.970Z"
   },
   {
    "duration": 1834,
    "start_time": "2022-04-24T20:05:37.396Z"
   },
   {
    "duration": 45,
    "start_time": "2022-04-24T20:05:46.614Z"
   },
   {
    "duration": 151,
    "start_time": "2022-04-24T20:06:34.760Z"
   },
   {
    "duration": 7,
    "start_time": "2022-04-24T20:06:51.523Z"
   },
   {
    "duration": 521,
    "start_time": "2022-04-24T20:06:58.875Z"
   },
   {
    "duration": 1977,
    "start_time": "2022-04-24T20:08:39.159Z"
   },
   {
    "duration": 9,
    "start_time": "2022-04-24T20:08:48.907Z"
   },
   {
    "duration": 8,
    "start_time": "2022-04-24T20:09:02.364Z"
   },
   {
    "duration": 4,
    "start_time": "2022-04-24T20:10:06.922Z"
   },
   {
    "duration": 351,
    "start_time": "2022-04-24T20:10:12.665Z"
   },
   {
    "duration": 234,
    "start_time": "2022-04-24T20:10:52.311Z"
   },
   {
    "duration": 9,
    "start_time": "2022-04-24T20:11:28.971Z"
   },
   {
    "duration": 464,
    "start_time": "2022-04-24T20:11:33.167Z"
   },
   {
    "duration": 1247,
    "start_time": "2022-04-24T20:11:38.689Z"
   },
   {
    "duration": 373,
    "start_time": "2022-04-24T20:55:53.338Z"
   },
   {
    "duration": 521,
    "start_time": "2022-04-24T20:57:28.234Z"
   },
   {
    "duration": 777,
    "start_time": "2022-04-24T21:13:38.678Z"
   },
   {
    "duration": 346,
    "start_time": "2022-04-24T21:15:57.162Z"
   },
   {
    "duration": 141,
    "start_time": "2022-04-24T21:20:44.775Z"
   },
   {
    "duration": 13,
    "start_time": "2022-04-24T21:20:54.598Z"
   },
   {
    "duration": 148,
    "start_time": "2022-04-24T21:21:02.097Z"
   },
   {
    "duration": 288,
    "start_time": "2022-04-24T21:22:00.443Z"
   },
   {
    "duration": 147,
    "start_time": "2022-04-24T21:22:08.468Z"
   },
   {
    "duration": 53,
    "start_time": "2022-04-25T11:54:41.116Z"
   },
   {
    "duration": 16542,
    "start_time": "2022-04-25T11:54:49.380Z"
   },
   {
    "duration": 9682,
    "start_time": "2022-04-25T11:55:05.926Z"
   },
   {
    "duration": 6484,
    "start_time": "2022-04-25T11:55:15.610Z"
   },
   {
    "duration": 517,
    "start_time": "2022-04-25T11:55:22.096Z"
   },
   {
    "duration": 1100,
    "start_time": "2022-04-25T11:55:22.616Z"
   },
   {
    "duration": 886,
    "start_time": "2022-04-25T11:55:23.718Z"
   },
   {
    "duration": 7225,
    "start_time": "2022-04-25T11:55:24.605Z"
   },
   {
    "duration": 4090,
    "start_time": "2022-04-25T11:55:31.832Z"
   },
   {
    "duration": 80,
    "start_time": "2022-04-25T11:55:35.924Z"
   },
   {
    "duration": 7511,
    "start_time": "2022-04-25T11:55:36.006Z"
   },
   {
    "duration": 1248,
    "start_time": "2022-04-25T11:55:43.518Z"
   },
   {
    "duration": 692,
    "start_time": "2022-04-25T11:55:44.768Z"
   },
   {
    "duration": 1741,
    "start_time": "2022-04-25T11:55:45.462Z"
   },
   {
    "duration": 786,
    "start_time": "2022-04-25T11:55:47.208Z"
   },
   {
    "duration": 3534,
    "start_time": "2022-04-25T11:55:47.997Z"
   },
   {
    "duration": 1373,
    "start_time": "2022-04-25T11:55:51.533Z"
   },
   {
    "duration": 88,
    "start_time": "2022-04-25T11:55:52.908Z"
   },
   {
    "duration": 611,
    "start_time": "2022-04-25T11:55:52.998Z"
   },
   {
    "duration": 1310,
    "start_time": "2022-04-25T11:55:53.611Z"
   },
   {
    "duration": 0,
    "start_time": "2022-04-25T11:55:54.923Z"
   },
   {
    "duration": 265,
    "start_time": "2022-04-25T11:58:06.840Z"
   },
   {
    "duration": 675,
    "start_time": "2022-04-25T11:59:22.154Z"
   },
   {
    "duration": 495,
    "start_time": "2022-04-25T12:08:02.130Z"
   },
   {
    "duration": 743,
    "start_time": "2022-04-25T12:08:04.894Z"
   },
   {
    "duration": 16285,
    "start_time": "2022-04-25T12:08:35.154Z"
   },
   {
    "duration": 8583,
    "start_time": "2022-04-25T12:08:51.442Z"
   },
   {
    "duration": 6375,
    "start_time": "2022-04-25T12:09:00.027Z"
   },
   {
    "duration": 602,
    "start_time": "2022-04-25T12:09:06.405Z"
   },
   {
    "duration": 1289,
    "start_time": "2022-04-25T12:09:07.010Z"
   },
   {
    "duration": 807,
    "start_time": "2022-04-25T12:09:08.301Z"
   },
   {
    "duration": 5993,
    "start_time": "2022-04-25T12:09:09.109Z"
   },
   {
    "duration": 3863,
    "start_time": "2022-04-25T12:09:15.104Z"
   },
   {
    "duration": 56,
    "start_time": "2022-04-25T12:09:18.968Z"
   },
   {
    "duration": 6830,
    "start_time": "2022-04-25T12:09:19.094Z"
   },
   {
    "duration": 1077,
    "start_time": "2022-04-25T12:09:25.926Z"
   },
   {
    "duration": 897,
    "start_time": "2022-04-25T12:09:27.005Z"
   },
   {
    "duration": 1403,
    "start_time": "2022-04-25T12:09:27.904Z"
   },
   {
    "duration": 938,
    "start_time": "2022-04-25T12:09:29.309Z"
   },
   {
    "duration": 14,
    "start_time": "2022-04-25T12:10:45.408Z"
   },
   {
    "duration": 585,
    "start_time": "2022-04-25T12:10:47.150Z"
   },
   {
    "duration": 3490,
    "start_time": "2022-04-25T12:10:59.869Z"
   },
   {
    "duration": 1149,
    "start_time": "2022-04-25T12:12:23.257Z"
   },
   {
    "duration": 16787,
    "start_time": "2022-04-25T12:32:54.536Z"
   },
   {
    "duration": 9306,
    "start_time": "2022-04-25T12:33:11.326Z"
   },
   {
    "duration": 6606,
    "start_time": "2022-04-25T12:33:20.693Z"
   },
   {
    "duration": 602,
    "start_time": "2022-04-25T12:33:27.302Z"
   },
   {
    "duration": 1237,
    "start_time": "2022-04-25T12:33:27.906Z"
   },
   {
    "duration": 968,
    "start_time": "2022-04-25T12:33:29.145Z"
   },
   {
    "duration": 6412,
    "start_time": "2022-04-25T12:33:30.115Z"
   },
   {
    "duration": 4405,
    "start_time": "2022-04-25T12:33:36.529Z"
   },
   {
    "duration": 79,
    "start_time": "2022-04-25T12:33:40.936Z"
   },
   {
    "duration": 7540,
    "start_time": "2022-04-25T12:33:41.017Z"
   },
   {
    "duration": 863,
    "start_time": "2022-04-25T12:33:48.559Z"
   },
   {
    "duration": 570,
    "start_time": "2022-04-25T12:33:49.424Z"
   },
   {
    "duration": 1505,
    "start_time": "2022-04-25T12:33:49.996Z"
   },
   {
    "duration": 16,
    "start_time": "2022-04-25T12:33:51.509Z"
   },
   {
    "duration": 973,
    "start_time": "2022-04-25T12:33:51.527Z"
   },
   {
    "duration": 4132,
    "start_time": "2022-04-25T12:33:52.503Z"
   },
   {
    "duration": 1474,
    "start_time": "2022-04-25T12:33:56.637Z"
   },
   {
    "duration": 88,
    "start_time": "2022-04-25T12:33:58.113Z"
   },
   {
    "duration": 428,
    "start_time": "2022-04-25T12:33:58.205Z"
   },
   {
    "duration": 3170,
    "start_time": "2022-04-25T12:33:58.635Z"
   },
   {
    "duration": 483,
    "start_time": "2022-04-25T12:34:01.811Z"
   },
   {
    "duration": 2459,
    "start_time": "2022-04-25T12:36:55.962Z"
   },
   {
    "duration": 10,
    "start_time": "2022-04-25T12:54:25.726Z"
   },
   {
    "duration": 8,
    "start_time": "2022-04-25T12:54:39.498Z"
   },
   {
    "duration": 338,
    "start_time": "2022-04-25T12:54:42.483Z"
   },
   {
    "duration": 241,
    "start_time": "2022-04-25T12:55:16.701Z"
   },
   {
    "duration": 311,
    "start_time": "2022-04-25T12:55:25.007Z"
   },
   {
    "duration": 249,
    "start_time": "2022-04-25T12:55:27.676Z"
   },
   {
    "duration": 15,
    "start_time": "2022-04-25T13:05:28.576Z"
   },
   {
    "duration": 35,
    "start_time": "2022-04-25T13:10:45.109Z"
   },
   {
    "duration": 185,
    "start_time": "2022-04-25T13:11:04.541Z"
   },
   {
    "duration": 1809,
    "start_time": "2022-04-25T13:11:51.442Z"
   },
   {
    "duration": 1514,
    "start_time": "2022-04-25T13:12:34.693Z"
   },
   {
    "duration": 26,
    "start_time": "2022-04-25T13:13:14.936Z"
   },
   {
    "duration": 170,
    "start_time": "2022-04-25T13:13:17.628Z"
   },
   {
    "duration": 1138,
    "start_time": "2022-04-25T13:13:20.483Z"
   },
   {
    "duration": 1657,
    "start_time": "2022-04-25T13:13:40.692Z"
   },
   {
    "duration": 10,
    "start_time": "2022-04-25T13:30:21.985Z"
   },
   {
    "duration": 18,
    "start_time": "2022-04-25T13:42:10.529Z"
   },
   {
    "duration": 195,
    "start_time": "2022-04-25T13:43:18.773Z"
   },
   {
    "duration": 1373,
    "start_time": "2022-04-25T13:43:37.386Z"
   },
   {
    "duration": 273,
    "start_time": "2022-04-25T13:43:40.055Z"
   },
   {
    "duration": 16441,
    "start_time": "2022-04-25T13:44:45.790Z"
   },
   {
    "duration": 9372,
    "start_time": "2022-04-25T13:45:02.235Z"
   },
   {
    "duration": 6220,
    "start_time": "2022-04-25T13:45:11.609Z"
   },
   {
    "duration": 565,
    "start_time": "2022-04-25T13:45:17.831Z"
   },
   {
    "duration": 1115,
    "start_time": "2022-04-25T13:45:18.404Z"
   },
   {
    "duration": 894,
    "start_time": "2022-04-25T13:45:19.520Z"
   },
   {
    "duration": 6382,
    "start_time": "2022-04-25T13:45:20.416Z"
   },
   {
    "duration": 4283,
    "start_time": "2022-04-25T13:45:26.800Z"
   },
   {
    "duration": 52,
    "start_time": "2022-04-25T13:45:31.084Z"
   },
   {
    "duration": 7428,
    "start_time": "2022-04-25T13:45:31.138Z"
   },
   {
    "duration": 1162,
    "start_time": "2022-04-25T13:45:38.568Z"
   },
   {
    "duration": 612,
    "start_time": "2022-04-25T13:45:39.732Z"
   },
   {
    "duration": 1463,
    "start_time": "2022-04-25T13:45:40.346Z"
   },
   {
    "duration": 15,
    "start_time": "2022-04-25T13:45:41.813Z"
   },
   {
    "duration": 1129,
    "start_time": "2022-04-25T13:45:41.903Z"
   },
   {
    "duration": 3718,
    "start_time": "2022-04-25T13:45:43.034Z"
   },
   {
    "duration": 1342,
    "start_time": "2022-04-25T13:45:46.753Z"
   },
   {
    "duration": 34,
    "start_time": "2022-04-25T13:45:48.097Z"
   },
   {
    "duration": 504,
    "start_time": "2022-04-25T13:45:48.133Z"
   },
   {
    "duration": 80,
    "start_time": "2022-04-25T13:45:48.639Z"
   },
   {
    "duration": 376,
    "start_time": "2022-04-25T13:45:48.721Z"
   },
   {
    "duration": 2420,
    "start_time": "2022-04-25T13:45:49.099Z"
   },
   {
    "duration": 1919,
    "start_time": "2022-04-25T13:45:51.521Z"
   },
   {
    "duration": 471,
    "start_time": "2022-04-25T13:45:53.441Z"
   },
   {
    "duration": 0,
    "start_time": "2022-04-25T13:45:53.914Z"
   },
   {
    "duration": 0,
    "start_time": "2022-04-25T13:45:53.915Z"
   },
   {
    "duration": 0,
    "start_time": "2022-04-25T13:45:53.917Z"
   },
   {
    "duration": 226,
    "start_time": "2022-04-25T13:47:16.216Z"
   },
   {
    "duration": 277,
    "start_time": "2022-04-25T13:47:43.285Z"
   },
   {
    "duration": 9,
    "start_time": "2022-04-25T13:48:32.638Z"
   },
   {
    "duration": 218,
    "start_time": "2022-04-25T13:48:38.716Z"
   },
   {
    "duration": 232,
    "start_time": "2022-04-25T13:48:46.950Z"
   },
   {
    "duration": 213,
    "start_time": "2022-04-25T13:50:11.809Z"
   },
   {
    "duration": 32,
    "start_time": "2022-04-25T13:52:30.264Z"
   },
   {
    "duration": 173,
    "start_time": "2022-04-25T13:52:31.360Z"
   },
   {
    "duration": 1029,
    "start_time": "2022-04-25T13:52:34.579Z"
   },
   {
    "duration": 1334,
    "start_time": "2022-04-25T13:52:37.332Z"
   },
   {
    "duration": 202,
    "start_time": "2022-04-25T13:52:42.365Z"
   },
   {
    "duration": 16625,
    "start_time": "2022-04-25T14:01:44.593Z"
   },
   {
    "duration": 9495,
    "start_time": "2022-04-25T14:02:01.221Z"
   },
   {
    "duration": 6492,
    "start_time": "2022-04-25T14:02:10.719Z"
   },
   {
    "duration": 513,
    "start_time": "2022-04-25T14:02:17.214Z"
   },
   {
    "duration": 1039,
    "start_time": "2022-04-25T14:02:17.794Z"
   },
   {
    "duration": 891,
    "start_time": "2022-04-25T14:02:18.835Z"
   },
   {
    "duration": 6266,
    "start_time": "2022-04-25T14:02:19.793Z"
   },
   {
    "duration": 3853,
    "start_time": "2022-04-25T14:02:26.060Z"
   },
   {
    "duration": 88,
    "start_time": "2022-04-25T14:02:29.915Z"
   },
   {
    "duration": 8061,
    "start_time": "2022-04-25T14:02:30.005Z"
   },
   {
    "duration": 1044,
    "start_time": "2022-04-25T14:02:38.068Z"
   },
   {
    "duration": 648,
    "start_time": "2022-04-25T14:02:39.114Z"
   },
   {
    "duration": 1652,
    "start_time": "2022-04-25T14:02:39.763Z"
   },
   {
    "duration": 78,
    "start_time": "2022-04-25T14:02:41.418Z"
   },
   {
    "duration": 766,
    "start_time": "2022-04-25T14:02:41.498Z"
   },
   {
    "duration": 3895,
    "start_time": "2022-04-25T14:02:42.265Z"
   },
   {
    "duration": 1348,
    "start_time": "2022-04-25T14:02:46.162Z"
   },
   {
    "duration": 81,
    "start_time": "2022-04-25T14:02:47.512Z"
   },
   {
    "duration": 427,
    "start_time": "2022-04-25T14:02:47.596Z"
   },
   {
    "duration": 169,
    "start_time": "2022-04-25T14:02:48.026Z"
   },
   {
    "duration": 302,
    "start_time": "2022-04-25T14:02:48.197Z"
   },
   {
    "duration": 2794,
    "start_time": "2022-04-25T14:02:48.501Z"
   },
   {
    "duration": 2202,
    "start_time": "2022-04-25T14:02:51.297Z"
   },
   {
    "duration": 2414,
    "start_time": "2022-04-25T14:02:53.500Z"
   },
   {
    "duration": 1896,
    "start_time": "2022-04-25T14:02:55.916Z"
   },
   {
    "duration": 85,
    "start_time": "2022-04-25T14:02:57.813Z"
   },
   {
    "duration": 336,
    "start_time": "2022-04-25T14:02:57.900Z"
   },
   {
    "duration": 1005,
    "start_time": "2022-04-25T14:06:06.088Z"
   },
   {
    "duration": 636,
    "start_time": "2022-04-25T14:07:49.157Z"
   },
   {
    "duration": 133,
    "start_time": "2022-04-25T14:08:23.041Z"
   },
   {
    "duration": 701,
    "start_time": "2022-04-25T14:08:25.908Z"
   },
   {
    "duration": 24,
    "start_time": "2022-04-25T14:09:39.082Z"
   },
   {
    "duration": 1065,
    "start_time": "2022-04-25T14:10:24.029Z"
   },
   {
    "duration": 1374,
    "start_time": "2022-04-25T15:15:36.637Z"
   },
   {
    "duration": 1736,
    "start_time": "2022-04-25T15:17:18.461Z"
   },
   {
    "duration": 1243,
    "start_time": "2022-04-25T15:18:53.529Z"
   },
   {
    "duration": 1028,
    "start_time": "2022-04-25T15:22:10.041Z"
   },
   {
    "duration": 942,
    "start_time": "2022-04-25T15:22:25.639Z"
   },
   {
    "duration": 1022,
    "start_time": "2022-04-25T15:22:32.934Z"
   },
   {
    "duration": 1192,
    "start_time": "2022-04-25T15:23:42.537Z"
   },
   {
    "duration": 662,
    "start_time": "2022-04-25T15:24:38.039Z"
   },
   {
    "duration": 1846,
    "start_time": "2022-04-25T15:25:48.484Z"
   },
   {
    "duration": 68,
    "start_time": "2022-04-25T20:04:02.571Z"
   },
   {
    "duration": 18207,
    "start_time": "2022-04-25T20:07:08.298Z"
   },
   {
    "duration": 10917,
    "start_time": "2022-04-25T20:07:26.509Z"
   },
   {
    "duration": 8989,
    "start_time": "2022-04-25T20:07:37.429Z"
   },
   {
    "duration": 1787,
    "start_time": "2022-04-25T20:07:46.420Z"
   },
   {
    "duration": 689,
    "start_time": "2022-04-25T20:07:48.212Z"
   },
   {
    "duration": 1626,
    "start_time": "2022-04-25T20:07:48.904Z"
   },
   {
    "duration": 1161,
    "start_time": "2022-04-25T20:07:50.533Z"
   },
   {
    "duration": 7870,
    "start_time": "2022-04-25T20:07:51.697Z"
   },
   {
    "duration": 5318,
    "start_time": "2022-04-25T20:07:59.569Z"
   },
   {
    "duration": 110,
    "start_time": "2022-04-25T20:08:04.893Z"
   },
   {
    "duration": 9841,
    "start_time": "2022-04-25T20:08:05.006Z"
   },
   {
    "duration": 1198,
    "start_time": "2022-04-25T20:08:14.850Z"
   },
   {
    "duration": 1949,
    "start_time": "2022-04-25T20:08:16.050Z"
   },
   {
    "duration": 88,
    "start_time": "2022-04-25T20:08:18.005Z"
   },
   {
    "duration": 1264,
    "start_time": "2022-04-25T20:08:18.095Z"
   },
   {
    "duration": 5042,
    "start_time": "2022-04-25T20:08:19.361Z"
   },
   {
    "duration": 1606,
    "start_time": "2022-04-25T20:08:24.405Z"
   },
   {
    "duration": 93,
    "start_time": "2022-04-25T20:08:26.014Z"
   },
   {
    "duration": 541,
    "start_time": "2022-04-25T20:08:26.110Z"
   },
   {
    "duration": 105,
    "start_time": "2022-04-25T20:08:26.694Z"
   },
   {
    "duration": 439,
    "start_time": "2022-04-25T20:08:26.801Z"
   },
   {
    "duration": 3278,
    "start_time": "2022-04-25T20:08:27.243Z"
   },
   {
    "duration": 3470,
    "start_time": "2022-04-25T20:08:30.524Z"
   },
   {
    "duration": 4626,
    "start_time": "2022-04-25T20:08:33.996Z"
   },
   {
    "duration": 3279,
    "start_time": "2022-04-25T20:08:38.624Z"
   },
   {
    "duration": 92,
    "start_time": "2022-04-25T20:08:41.906Z"
   },
   {
    "duration": 3628,
    "start_time": "2022-04-25T20:08:42.000Z"
   },
   {
    "duration": 30,
    "start_time": "2022-04-25T20:08:45.694Z"
   },
   {
    "duration": 3214,
    "start_time": "2022-04-25T20:08:45.793Z"
   },
   {
    "duration": 22072,
    "start_time": "2022-04-27T11:26:46.724Z"
   },
   {
    "duration": 16502,
    "start_time": "2022-04-27T11:27:08.804Z"
   },
   {
    "duration": 10595,
    "start_time": "2022-04-27T11:27:25.308Z"
   },
   {
    "duration": 1793,
    "start_time": "2022-04-27T11:27:35.905Z"
   },
   {
    "duration": 774,
    "start_time": "2022-04-27T11:27:37.701Z"
   },
   {
    "duration": 1227,
    "start_time": "2022-04-27T11:27:38.477Z"
   },
   {
    "duration": 1363,
    "start_time": "2022-04-27T11:27:39.707Z"
   },
   {
    "duration": 10000,
    "start_time": "2022-04-27T11:27:41.072Z"
   },
   {
    "duration": 6289,
    "start_time": "2022-04-27T11:27:51.079Z"
   },
   {
    "duration": 124,
    "start_time": "2022-04-27T11:27:57.370Z"
   },
   {
    "duration": 8757,
    "start_time": "2022-04-27T11:27:57.496Z"
   },
   {
    "duration": 1641,
    "start_time": "2022-04-27T11:28:06.256Z"
   },
   {
    "duration": 2492,
    "start_time": "2022-04-27T11:28:07.900Z"
   },
   {
    "duration": 34,
    "start_time": "2022-04-27T11:28:10.454Z"
   },
   {
    "duration": 1585,
    "start_time": "2022-04-27T11:28:10.492Z"
   },
   {
    "duration": 5910,
    "start_time": "2022-04-27T11:28:12.083Z"
   },
   {
    "duration": 20482,
    "start_time": "2022-04-27T11:29:40.216Z"
   },
   {
    "duration": 14290,
    "start_time": "2022-04-27T11:30:00.702Z"
   },
   {
    "duration": 9999,
    "start_time": "2022-04-27T11:30:14.995Z"
   },
   {
    "duration": 1658,
    "start_time": "2022-04-27T11:30:25.000Z"
   },
   {
    "duration": 600,
    "start_time": "2022-04-27T11:30:26.661Z"
   },
   {
    "duration": 1248,
    "start_time": "2022-04-27T11:30:27.264Z"
   },
   {
    "duration": 1389,
    "start_time": "2022-04-27T11:30:28.514Z"
   },
   {
    "duration": 10258,
    "start_time": "2022-04-27T11:30:29.905Z"
   },
   {
    "duration": 6832,
    "start_time": "2022-04-27T11:30:40.167Z"
   },
   {
    "duration": 101,
    "start_time": "2022-04-27T11:30:47.001Z"
   },
   {
    "duration": 8271,
    "start_time": "2022-04-27T11:30:47.153Z"
   },
   {
    "duration": 1406,
    "start_time": "2022-04-27T11:30:55.426Z"
   },
   {
    "duration": 2511,
    "start_time": "2022-04-27T11:30:56.853Z"
   },
   {
    "duration": 33,
    "start_time": "2022-04-27T11:30:59.373Z"
   },
   {
    "duration": 1344,
    "start_time": "2022-04-27T11:30:59.408Z"
   },
   {
    "duration": 6117,
    "start_time": "2022-04-27T11:31:00.757Z"
   },
   {
    "duration": 2391,
    "start_time": "2022-04-27T11:31:06.877Z"
   },
   {
    "duration": 78,
    "start_time": "2022-04-27T11:32:37.040Z"
   },
   {
    "duration": 460,
    "start_time": "2022-04-27T11:32:39.106Z"
   },
   {
    "duration": 4468,
    "start_time": "2022-04-27T11:34:16.191Z"
   },
   {
    "duration": 4475,
    "start_time": "2022-04-27T11:34:46.211Z"
   },
   {
    "duration": 5701,
    "start_time": "2022-04-27T11:37:01.710Z"
   },
   {
    "duration": 4170,
    "start_time": "2022-04-27T11:39:30.825Z"
   },
   {
    "duration": 44,
    "start_time": "2022-04-27T11:39:50.303Z"
   },
   {
    "duration": 3805,
    "start_time": "2022-04-27T11:40:07.097Z"
   },
   {
    "duration": 34,
    "start_time": "2022-04-27T11:41:18.187Z"
   },
   {
    "duration": 4520,
    "start_time": "2022-04-27T11:41:32.175Z"
   },
   {
    "duration": 234,
    "start_time": "2022-04-27T11:42:11.479Z"
   },
   {
    "duration": 41,
    "start_time": "2022-04-27T11:42:22.907Z"
   },
   {
    "duration": 6,
    "start_time": "2022-04-27T13:31:16.365Z"
   },
   {
    "duration": 18,
    "start_time": "2022-04-27T13:31:31.946Z"
   },
   {
    "duration": 11,
    "start_time": "2022-04-27T13:31:33.103Z"
   },
   {
    "duration": 107,
    "start_time": "2022-04-27T13:53:19.041Z"
   },
   {
    "duration": 177,
    "start_time": "2022-04-27T13:57:33.103Z"
   },
   {
    "duration": 110,
    "start_time": "2022-04-27T14:18:16.528Z"
   },
   {
    "duration": 99,
    "start_time": "2022-04-27T14:18:17.616Z"
   },
   {
    "duration": 27,
    "start_time": "2022-04-27T14:18:35.339Z"
   },
   {
    "duration": 19,
    "start_time": "2022-04-27T14:18:58.710Z"
   },
   {
    "duration": 23,
    "start_time": "2022-04-27T15:02:48.697Z"
   },
   {
    "duration": 21,
    "start_time": "2022-04-27T15:05:05.247Z"
   },
   {
    "duration": 176,
    "start_time": "2022-04-27T15:05:58.059Z"
   },
   {
    "duration": 24,
    "start_time": "2022-04-27T15:28:48.678Z"
   },
   {
    "duration": 22,
    "start_time": "2022-04-27T15:28:53.613Z"
   },
   {
    "duration": 148,
    "start_time": "2022-04-27T15:38:30.028Z"
   },
   {
    "duration": 17,
    "start_time": "2022-04-27T15:40:00.020Z"
   },
   {
    "duration": 149,
    "start_time": "2022-04-27T15:40:09.706Z"
   },
   {
    "duration": 172,
    "start_time": "2022-04-27T15:40:14.994Z"
   },
   {
    "duration": 203,
    "start_time": "2022-04-27T15:40:20.347Z"
   },
   {
    "duration": 20,
    "start_time": "2022-04-27T15:41:20.181Z"
   },
   {
    "duration": 132,
    "start_time": "2022-04-27T15:41:43.601Z"
   },
   {
    "duration": 128,
    "start_time": "2022-04-27T15:41:52.356Z"
   },
   {
    "duration": 17,
    "start_time": "2022-04-27T15:41:55.153Z"
   },
   {
    "duration": 151,
    "start_time": "2022-04-27T15:43:27.325Z"
   },
   {
    "duration": 119,
    "start_time": "2022-04-27T15:44:16.897Z"
   },
   {
    "duration": 146,
    "start_time": "2022-04-27T15:44:25.539Z"
   },
   {
    "duration": 98,
    "start_time": "2022-04-27T15:46:45.226Z"
   },
   {
    "duration": 89,
    "start_time": "2022-04-27T15:46:52.696Z"
   },
   {
    "duration": 41,
    "start_time": "2022-04-27T15:46:59.299Z"
   },
   {
    "duration": 33,
    "start_time": "2022-04-27T15:48:39.727Z"
   },
   {
    "duration": 715,
    "start_time": "2022-04-27T15:52:23.664Z"
   },
   {
    "duration": 5,
    "start_time": "2022-04-27T15:52:29.701Z"
   },
   {
    "duration": 90,
    "start_time": "2022-04-27T15:56:04.181Z"
   },
   {
    "duration": 130,
    "start_time": "2022-04-27T16:00:52.079Z"
   },
   {
    "duration": 11,
    "start_time": "2022-04-27T16:01:26.759Z"
   },
   {
    "duration": 11,
    "start_time": "2022-04-27T16:01:28.826Z"
   },
   {
    "duration": 18,
    "start_time": "2022-04-27T16:01:36.066Z"
   },
   {
    "duration": 327,
    "start_time": "2022-04-27T16:01:44.534Z"
   },
   {
    "duration": 786,
    "start_time": "2022-04-27T16:01:52.644Z"
   },
   {
    "duration": 18486,
    "start_time": "2022-04-27T16:12:02.094Z"
   },
   {
    "duration": 12291,
    "start_time": "2022-04-27T16:12:20.584Z"
   },
   {
    "duration": 8389,
    "start_time": "2022-04-27T16:12:32.878Z"
   },
   {
    "duration": 1384,
    "start_time": "2022-04-27T16:12:41.269Z"
   },
   {
    "duration": 696,
    "start_time": "2022-04-27T16:12:42.657Z"
   },
   {
    "duration": 1070,
    "start_time": "2022-04-27T16:12:43.355Z"
   },
   {
    "duration": 1045,
    "start_time": "2022-04-27T16:12:44.428Z"
   },
   {
    "duration": 7311,
    "start_time": "2022-04-27T16:12:45.476Z"
   },
   {
    "duration": 5223,
    "start_time": "2022-04-27T16:12:52.789Z"
   },
   {
    "duration": 138,
    "start_time": "2022-04-27T16:12:58.014Z"
   },
   {
    "duration": 6514,
    "start_time": "2022-04-27T16:12:58.155Z"
   },
   {
    "duration": 505,
    "start_time": "2022-04-27T16:13:04.672Z"
   },
   {
    "duration": 1389,
    "start_time": "2022-04-27T16:13:05.179Z"
   },
   {
    "duration": 2112,
    "start_time": "2022-04-27T16:13:06.572Z"
   },
   {
    "duration": 18,
    "start_time": "2022-04-27T16:13:08.752Z"
   },
   {
    "duration": 924,
    "start_time": "2022-04-27T16:13:08.774Z"
   },
   {
    "duration": 4927,
    "start_time": "2022-04-27T16:13:09.701Z"
   },
   {
    "duration": 1837,
    "start_time": "2022-04-27T16:13:14.630Z"
   },
   {
    "duration": 118,
    "start_time": "2022-04-27T16:13:16.469Z"
   },
   {
    "duration": 565,
    "start_time": "2022-04-27T16:13:16.590Z"
   },
   {
    "duration": 3795,
    "start_time": "2022-04-27T16:13:17.157Z"
   },
   {
    "duration": 5511,
    "start_time": "2022-04-27T16:13:20.955Z"
   },
   {
    "duration": 5492,
    "start_time": "2022-04-27T16:13:26.469Z"
   },
   {
    "duration": 3511,
    "start_time": "2022-04-27T16:13:31.963Z"
   },
   {
    "duration": 89,
    "start_time": "2022-04-27T16:13:35.477Z"
   },
   {
    "duration": 2882,
    "start_time": "2022-04-27T16:13:35.575Z"
   },
   {
    "duration": 98,
    "start_time": "2022-04-27T16:13:38.459Z"
   },
   {
    "duration": 2898,
    "start_time": "2022-04-27T16:13:38.559Z"
   },
   {
    "duration": 33,
    "start_time": "2022-04-27T16:13:41.460Z"
   },
   {
    "duration": 2371,
    "start_time": "2022-04-27T16:13:41.495Z"
   },
   {
    "duration": 159,
    "start_time": "2022-04-27T18:10:11.069Z"
   },
   {
    "duration": 25,
    "start_time": "2022-04-27T18:10:21.696Z"
   },
   {
    "duration": 29,
    "start_time": "2022-04-27T18:12:54.901Z"
   },
   {
    "duration": 19,
    "start_time": "2022-04-27T18:14:24.771Z"
   },
   {
    "duration": 19,
    "start_time": "2022-04-27T18:14:54.574Z"
   },
   {
    "duration": 86,
    "start_time": "2022-04-27T18:16:08.379Z"
   },
   {
    "duration": 54,
    "start_time": "2022-04-27T18:16:12.554Z"
   },
   {
    "duration": 22,
    "start_time": "2022-04-27T18:25:07.957Z"
   },
   {
    "duration": 30,
    "start_time": "2022-04-27T18:25:32.348Z"
   },
   {
    "duration": 17875,
    "start_time": "2022-04-27T18:25:50.621Z"
   },
   {
    "duration": 11482,
    "start_time": "2022-04-27T18:26:08.500Z"
   },
   {
    "duration": 8478,
    "start_time": "2022-04-27T18:26:19.985Z"
   },
   {
    "duration": 1313,
    "start_time": "2022-04-27T18:26:28.466Z"
   },
   {
    "duration": 690,
    "start_time": "2022-04-27T18:26:29.782Z"
   },
   {
    "duration": 1229,
    "start_time": "2022-04-27T18:26:30.474Z"
   },
   {
    "duration": 1081,
    "start_time": "2022-04-27T18:26:31.705Z"
   },
   {
    "duration": 7249,
    "start_time": "2022-04-27T18:26:32.853Z"
   },
   {
    "duration": 4762,
    "start_time": "2022-04-27T18:26:40.104Z"
   },
   {
    "duration": 109,
    "start_time": "2022-04-27T18:26:44.869Z"
   },
   {
    "duration": 6085,
    "start_time": "2022-04-27T18:26:44.980Z"
   },
   {
    "duration": 509,
    "start_time": "2022-04-27T18:26:51.067Z"
   },
   {
    "duration": 1571,
    "start_time": "2022-04-27T18:26:51.580Z"
   },
   {
    "duration": 3,
    "start_time": "2022-04-27T18:26:53.154Z"
   },
   {
    "duration": 3,
    "start_time": "2022-04-27T18:26:55.663Z"
   },
   {
    "duration": 4,
    "start_time": "2022-04-27T18:26:55.982Z"
   },
   {
    "duration": 273,
    "start_time": "2022-04-27T18:26:56.441Z"
   },
   {
    "duration": 34,
    "start_time": "2022-04-27T18:27:03.238Z"
   },
   {
    "duration": 24,
    "start_time": "2022-04-27T18:27:36.576Z"
   },
   {
    "duration": 3261,
    "start_time": "2022-04-27T18:27:46.927Z"
   },
   {
    "duration": 29,
    "start_time": "2022-04-27T18:32:13.683Z"
   },
   {
    "duration": 30,
    "start_time": "2022-04-27T18:32:18.244Z"
   },
   {
    "duration": 110,
    "start_time": "2022-04-27T18:32:28.764Z"
   },
   {
    "duration": 17,
    "start_time": "2022-04-27T18:33:14.703Z"
   },
   {
    "duration": 38,
    "start_time": "2022-04-27T18:33:26.725Z"
   },
   {
    "duration": 13,
    "start_time": "2022-04-27T18:36:08.393Z"
   },
   {
    "duration": 12,
    "start_time": "2022-04-27T18:36:16.381Z"
   },
   {
    "duration": 12,
    "start_time": "2022-04-27T18:36:24.761Z"
   },
   {
    "duration": 3250,
    "start_time": "2022-04-27T18:37:24.444Z"
   },
   {
    "duration": 2702,
    "start_time": "2022-04-27T18:37:41.579Z"
   },
   {
    "duration": 2282,
    "start_time": "2022-04-27T18:39:25.571Z"
   },
   {
    "duration": 5,
    "start_time": "2022-04-27T18:41:58.472Z"
   },
   {
    "duration": 204,
    "start_time": "2022-04-27T18:42:01.998Z"
   },
   {
    "duration": 13,
    "start_time": "2022-04-27T18:42:09.326Z"
   },
   {
    "duration": 238,
    "start_time": "2022-04-27T18:42:19.437Z"
   },
   {
    "duration": 892,
    "start_time": "2022-04-27T18:42:31.764Z"
   },
   {
    "duration": 165,
    "start_time": "2022-04-27T18:42:47.126Z"
   },
   {
    "duration": 639,
    "start_time": "2022-04-27T18:42:54.618Z"
   },
   {
    "duration": 269,
    "start_time": "2022-04-27T18:43:04.649Z"
   },
   {
    "duration": 27,
    "start_time": "2022-04-27T18:46:45.701Z"
   },
   {
    "duration": 2386,
    "start_time": "2022-04-27T18:46:53.718Z"
   },
   {
    "duration": 401,
    "start_time": "2022-04-27T18:47:13.480Z"
   },
   {
    "duration": 460,
    "start_time": "2022-04-27T18:47:22.618Z"
   },
   {
    "duration": 359,
    "start_time": "2022-04-27T18:47:31.210Z"
   },
   {
    "duration": 3007,
    "start_time": "2022-04-27T19:19:13.754Z"
   },
   {
    "duration": 18805,
    "start_time": "2022-04-27T19:22:33.909Z"
   },
   {
    "duration": 13567,
    "start_time": "2022-04-27T19:22:52.717Z"
   },
   {
    "duration": 8933,
    "start_time": "2022-04-27T19:23:06.351Z"
   },
   {
    "duration": 1278,
    "start_time": "2022-04-27T19:23:15.288Z"
   },
   {
    "duration": 590,
    "start_time": "2022-04-27T19:23:16.570Z"
   },
   {
    "duration": 1338,
    "start_time": "2022-04-27T19:23:17.163Z"
   },
   {
    "duration": 1180,
    "start_time": "2022-04-27T19:23:18.503Z"
   },
   {
    "duration": 8105,
    "start_time": "2022-04-27T19:23:19.753Z"
   },
   {
    "duration": 5818,
    "start_time": "2022-04-27T19:23:27.862Z"
   },
   {
    "duration": 83,
    "start_time": "2022-04-27T19:23:33.682Z"
   },
   {
    "duration": 5583,
    "start_time": "2022-04-27T19:23:33.768Z"
   },
   {
    "duration": 515,
    "start_time": "2022-04-27T19:23:39.354Z"
   },
   {
    "duration": 1418,
    "start_time": "2022-04-27T19:23:39.872Z"
   },
   {
    "duration": 2387,
    "start_time": "2022-04-27T19:23:41.294Z"
   },
   {
    "duration": 4,
    "start_time": "2022-04-27T19:23:43.751Z"
   },
   {
    "duration": 21,
    "start_time": "2022-04-27T19:23:43.758Z"
   },
   {
    "duration": 1317,
    "start_time": "2022-04-27T19:23:43.782Z"
   },
   {
    "duration": 5094,
    "start_time": "2022-04-27T19:23:45.101Z"
   },
   {
    "duration": 1768,
    "start_time": "2022-04-27T19:23:50.198Z"
   },
   {
    "duration": 100,
    "start_time": "2022-04-27T19:23:51.968Z"
   },
   {
    "duration": 526,
    "start_time": "2022-04-27T19:23:52.070Z"
   },
   {
    "duration": 4177,
    "start_time": "2022-04-27T19:23:52.599Z"
   },
   {
    "duration": 5076,
    "start_time": "2022-04-27T19:23:56.779Z"
   },
   {
    "duration": 4119,
    "start_time": "2022-04-27T19:24:01.857Z"
   },
   {
    "duration": 4082,
    "start_time": "2022-04-27T19:24:05.980Z"
   },
   {
    "duration": 99,
    "start_time": "2022-04-27T19:24:10.064Z"
   },
   {
    "duration": 4192,
    "start_time": "2022-04-27T19:24:10.166Z"
   },
   {
    "duration": 101,
    "start_time": "2022-04-27T19:24:14.361Z"
   },
   {
    "duration": 2936,
    "start_time": "2022-04-27T19:24:14.464Z"
   },
   {
    "duration": 77,
    "start_time": "2022-04-27T19:24:17.403Z"
   },
   {
    "duration": 2696,
    "start_time": "2022-04-27T19:24:17.483Z"
   },
   {
    "duration": 401,
    "start_time": "2022-04-27T19:31:44.683Z"
   },
   {
    "duration": 3834,
    "start_time": "2022-04-27T19:32:02.018Z"
   },
   {
    "duration": 36543,
    "start_time": "2022-04-28T12:15:30.606Z"
   },
   {
    "duration": 10695,
    "start_time": "2022-04-28T12:16:07.152Z"
   },
   {
    "duration": 8393,
    "start_time": "2022-04-28T12:16:17.848Z"
   },
   {
    "duration": 986,
    "start_time": "2022-04-28T12:16:26.244Z"
   },
   {
    "duration": 518,
    "start_time": "2022-04-28T12:16:27.232Z"
   },
   {
    "duration": 940,
    "start_time": "2022-04-28T12:16:27.751Z"
   },
   {
    "duration": 864,
    "start_time": "2022-04-28T12:16:28.693Z"
   },
   {
    "duration": 7149,
    "start_time": "2022-04-28T12:16:29.560Z"
   },
   {
    "duration": 3985,
    "start_time": "2022-04-28T12:16:36.711Z"
   },
   {
    "duration": 45,
    "start_time": "2022-04-28T12:16:40.699Z"
   },
   {
    "duration": 8859,
    "start_time": "2022-04-28T12:16:40.746Z"
   },
   {
    "duration": 437,
    "start_time": "2022-04-28T12:16:49.607Z"
   },
   {
    "duration": 1259,
    "start_time": "2022-04-28T12:16:50.046Z"
   },
   {
    "duration": 1621,
    "start_time": "2022-04-28T12:16:51.307Z"
   },
   {
    "duration": 2526,
    "start_time": "2022-04-28T12:16:52.929Z"
   },
   {
    "duration": 2669,
    "start_time": "2022-04-28T12:26:01.773Z"
   },
   {
    "duration": 37,
    "start_time": "2022-04-28T12:26:15.540Z"
   },
   {
    "duration": 2130,
    "start_time": "2022-04-28T12:26:19.907Z"
   },
   {
    "duration": 4,
    "start_time": "2022-04-28T12:32:46.667Z"
   },
   {
    "duration": 11,
    "start_time": "2022-04-28T12:32:49.710Z"
   },
   {
    "duration": 97,
    "start_time": "2022-04-28T12:33:05.397Z"
   },
   {
    "duration": 38,
    "start_time": "2022-04-28T12:34:40.302Z"
   },
   {
    "duration": 22,
    "start_time": "2022-04-28T12:35:10.885Z"
   },
   {
    "duration": 215,
    "start_time": "2022-04-28T12:35:20.122Z"
   },
   {
    "duration": 1779,
    "start_time": "2022-04-28T12:35:29.172Z"
   },
   {
    "duration": 7778,
    "start_time": "2022-04-28T12:35:38.336Z"
   },
   {
    "duration": 25,
    "start_time": "2022-04-28T12:46:28.091Z"
   },
   {
    "duration": 199,
    "start_time": "2022-04-28T12:46:36.389Z"
   },
   {
    "duration": 12,
    "start_time": "2022-04-28T12:46:42.967Z"
   },
   {
    "duration": 15,
    "start_time": "2022-04-28T12:46:59.399Z"
   },
   {
    "duration": 3,
    "start_time": "2022-04-28T12:47:36.186Z"
   },
   {
    "duration": 33,
    "start_time": "2022-04-28T12:47:38.844Z"
   },
   {
    "duration": 72,
    "start_time": "2022-04-28T12:50:55.871Z"
   },
   {
    "duration": 12258,
    "start_time": "2022-04-28T12:51:05.716Z"
   },
   {
    "duration": 4869,
    "start_time": "2022-04-28T12:53:09.622Z"
   },
   {
    "duration": 4996,
    "start_time": "2022-04-28T12:54:19.345Z"
   },
   {
    "duration": 3543,
    "start_time": "2022-04-28T12:54:31.931Z"
   },
   {
    "duration": 7451,
    "start_time": "2022-04-28T12:58:50.655Z"
   },
   {
    "duration": 6428,
    "start_time": "2022-04-28T12:59:03.415Z"
   },
   {
    "duration": 3598,
    "start_time": "2022-04-28T12:59:21.853Z"
   },
   {
    "duration": 3630,
    "start_time": "2022-04-28T13:00:27.738Z"
   },
   {
    "duration": 24466,
    "start_time": "2022-04-28T15:39:00.289Z"
   },
   {
    "duration": 12258,
    "start_time": "2022-04-28T15:39:24.758Z"
   },
   {
    "duration": 8663,
    "start_time": "2022-04-28T15:39:37.018Z"
   },
   {
    "duration": 1171,
    "start_time": "2022-04-28T15:39:45.683Z"
   },
   {
    "duration": 644,
    "start_time": "2022-04-28T15:39:46.858Z"
   },
   {
    "duration": 1338,
    "start_time": "2022-04-28T15:39:47.504Z"
   },
   {
    "duration": 1149,
    "start_time": "2022-04-28T15:39:48.845Z"
   },
   {
    "duration": 7590,
    "start_time": "2022-04-28T15:39:49.996Z"
   },
   {
    "duration": 5103,
    "start_time": "2022-04-28T15:39:57.588Z"
   },
   {
    "duration": 104,
    "start_time": "2022-04-28T15:40:02.693Z"
   },
   {
    "duration": 6348,
    "start_time": "2022-04-28T15:40:02.800Z"
   },
   {
    "duration": 443,
    "start_time": "2022-04-28T15:40:09.150Z"
   },
   {
    "duration": 1609,
    "start_time": "2022-04-28T15:40:09.596Z"
   },
   {
    "duration": 1693,
    "start_time": "2022-04-28T15:40:11.209Z"
   },
   {
    "duration": 965,
    "start_time": "2022-04-28T15:46:31.120Z"
   },
   {
    "duration": 4192,
    "start_time": "2022-04-28T15:49:41.531Z"
   },
   {
    "duration": 358,
    "start_time": "2022-04-28T15:49:45.726Z"
   },
   {
    "duration": 9179,
    "start_time": "2022-04-28T15:50:04.283Z"
   },
   {
    "duration": 19316,
    "start_time": "2022-04-28T15:50:55.093Z"
   },
   {
    "duration": 11487,
    "start_time": "2022-04-28T15:51:14.412Z"
   },
   {
    "duration": 8381,
    "start_time": "2022-04-28T15:51:25.901Z"
   },
   {
    "duration": 1303,
    "start_time": "2022-04-28T15:51:34.286Z"
   },
   {
    "duration": 617,
    "start_time": "2022-04-28T15:51:35.591Z"
   },
   {
    "duration": 1042,
    "start_time": "2022-04-28T15:51:36.211Z"
   },
   {
    "duration": 1148,
    "start_time": "2022-04-28T15:51:37.255Z"
   },
   {
    "duration": 8118,
    "start_time": "2022-04-28T15:51:38.405Z"
   },
   {
    "duration": 5548,
    "start_time": "2022-04-28T15:51:46.525Z"
   },
   {
    "duration": 110,
    "start_time": "2022-04-28T15:51:52.075Z"
   },
   {
    "duration": 6096,
    "start_time": "2022-04-28T15:51:52.187Z"
   },
   {
    "duration": 513,
    "start_time": "2022-04-28T15:51:58.285Z"
   },
   {
    "duration": 1430,
    "start_time": "2022-04-28T15:51:58.802Z"
   },
   {
    "duration": 4,
    "start_time": "2022-04-28T15:52:00.234Z"
   },
   {
    "duration": 3545,
    "start_time": "2022-04-28T15:52:00.240Z"
   },
   {
    "duration": 216,
    "start_time": "2022-04-28T15:52:03.788Z"
   },
   {
    "duration": 63,
    "start_time": "2022-04-28T15:52:06.628Z"
   },
   {
    "duration": 8147,
    "start_time": "2022-04-28T15:52:07.757Z"
   },
   {
    "duration": 27,
    "start_time": "2022-04-28T16:28:45.177Z"
   },
   {
    "duration": 311,
    "start_time": "2022-04-28T16:28:53.988Z"
   },
   {
    "duration": 88,
    "start_time": "2022-04-28T16:29:13.552Z"
   },
   {
    "duration": 381,
    "start_time": "2022-04-28T16:29:19.341Z"
   },
   {
    "duration": 329,
    "start_time": "2022-04-28T16:29:38.603Z"
   },
   {
    "duration": 32,
    "start_time": "2022-04-28T16:30:31.674Z"
   },
   {
    "duration": 301,
    "start_time": "2022-04-28T16:30:38.598Z"
   },
   {
    "duration": 11,
    "start_time": "2022-04-28T16:41:55.369Z"
   },
   {
    "duration": 12,
    "start_time": "2022-04-28T16:50:34.659Z"
   },
   {
    "duration": 11,
    "start_time": "2022-04-28T16:50:50.451Z"
   },
   {
    "duration": 218,
    "start_time": "2022-04-28T16:50:59.467Z"
   },
   {
    "duration": 11,
    "start_time": "2022-04-28T16:51:03.646Z"
   },
   {
    "duration": 37,
    "start_time": "2022-04-28T16:51:13.401Z"
   },
   {
    "duration": 32,
    "start_time": "2022-04-28T16:51:20.970Z"
   },
   {
    "duration": 19,
    "start_time": "2022-04-28T16:51:35.635Z"
   },
   {
    "duration": 20205,
    "start_time": "2022-04-28T16:52:00.882Z"
   },
   {
    "duration": 11897,
    "start_time": "2022-04-28T16:52:21.090Z"
   },
   {
    "duration": 8406,
    "start_time": "2022-04-28T16:52:32.990Z"
   },
   {
    "duration": 1499,
    "start_time": "2022-04-28T16:52:41.399Z"
   },
   {
    "duration": 597,
    "start_time": "2022-04-28T16:52:42.903Z"
   },
   {
    "duration": 1206,
    "start_time": "2022-04-28T16:52:43.503Z"
   },
   {
    "duration": 1103,
    "start_time": "2022-04-28T16:52:44.711Z"
   },
   {
    "duration": 8476,
    "start_time": "2022-04-28T16:52:45.817Z"
   },
   {
    "duration": 5896,
    "start_time": "2022-04-28T16:52:54.297Z"
   },
   {
    "duration": 112,
    "start_time": "2022-04-28T16:53:00.196Z"
   },
   {
    "duration": 6592,
    "start_time": "2022-04-28T16:53:00.382Z"
   },
   {
    "duration": 429,
    "start_time": "2022-04-28T16:53:06.976Z"
   },
   {
    "duration": 1374,
    "start_time": "2022-04-28T16:53:07.407Z"
   },
   {
    "duration": 3,
    "start_time": "2022-04-28T16:53:08.785Z"
   },
   {
    "duration": 237,
    "start_time": "2022-04-28T16:53:44.718Z"
   },
   {
    "duration": 9,
    "start_time": "2022-04-28T17:03:45.493Z"
   },
   {
    "duration": 3438,
    "start_time": "2022-04-28T17:07:08.251Z"
   },
   {
    "duration": 10,
    "start_time": "2022-04-28T17:07:15.025Z"
   },
   {
    "duration": 12,
    "start_time": "2022-04-28T17:08:03.205Z"
   },
   {
    "duration": 11,
    "start_time": "2022-04-28T17:08:47.102Z"
   },
   {
    "duration": 22,
    "start_time": "2022-04-28T17:08:56.897Z"
   },
   {
    "duration": 19,
    "start_time": "2022-04-28T17:09:22.877Z"
   },
   {
    "duration": 12,
    "start_time": "2022-04-28T17:09:54.489Z"
   },
   {
    "duration": 24,
    "start_time": "2022-04-28T17:10:09.299Z"
   },
   {
    "duration": 11,
    "start_time": "2022-04-28T17:10:11.501Z"
   },
   {
    "duration": 6,
    "start_time": "2022-04-28T17:11:03.435Z"
   },
   {
    "duration": 20,
    "start_time": "2022-04-28T17:11:14.876Z"
   },
   {
    "duration": 87,
    "start_time": "2022-04-28T17:11:27.451Z"
   },
   {
    "duration": 10,
    "start_time": "2022-04-28T17:11:43.495Z"
   },
   {
    "duration": 7,
    "start_time": "2022-04-28T17:11:54.120Z"
   },
   {
    "duration": 19,
    "start_time": "2022-04-28T17:12:15.443Z"
   },
   {
    "duration": 10,
    "start_time": "2022-04-28T17:13:16.858Z"
   },
   {
    "duration": 10,
    "start_time": "2022-04-28T17:13:19.063Z"
   },
   {
    "duration": 11,
    "start_time": "2022-04-28T17:13:40.659Z"
   },
   {
    "duration": 10,
    "start_time": "2022-04-28T17:13:56.524Z"
   },
   {
    "duration": 10,
    "start_time": "2022-04-28T17:14:10.407Z"
   },
   {
    "duration": 20,
    "start_time": "2022-04-28T17:14:13.966Z"
   },
   {
    "duration": 13,
    "start_time": "2022-04-28T17:14:18.321Z"
   },
   {
    "duration": 11,
    "start_time": "2022-04-28T17:16:32.669Z"
   },
   {
    "duration": 11,
    "start_time": "2022-04-28T17:16:38.090Z"
   },
   {
    "duration": 15,
    "start_time": "2022-04-28T17:16:43.872Z"
   },
   {
    "duration": 15,
    "start_time": "2022-04-28T17:16:46.211Z"
   },
   {
    "duration": 410,
    "start_time": "2022-04-28T17:17:16.646Z"
   },
   {
    "duration": 5,
    "start_time": "2022-04-28T17:18:06.734Z"
   },
   {
    "duration": 485,
    "start_time": "2022-04-28T17:18:11.715Z"
   },
   {
    "duration": 14,
    "start_time": "2022-04-28T17:20:20.942Z"
   },
   {
    "duration": 11,
    "start_time": "2022-04-28T17:20:36.263Z"
   },
   {
    "duration": 5,
    "start_time": "2022-04-28T17:20:44.771Z"
   },
   {
    "duration": 15,
    "start_time": "2022-04-28T17:20:46.514Z"
   },
   {
    "duration": 1668,
    "start_time": "2022-04-28T17:20:54.256Z"
   },
   {
    "duration": 9,
    "start_time": "2022-04-28T17:22:20.955Z"
   },
   {
    "duration": 106,
    "start_time": "2022-04-28T17:22:31.230Z"
   },
   {
    "duration": 7,
    "start_time": "2022-04-28T17:22:38.211Z"
   },
   {
    "duration": 3853,
    "start_time": "2022-04-28T17:26:29.431Z"
   },
   {
    "duration": 19269,
    "start_time": "2022-04-28T17:27:06.213Z"
   },
   {
    "duration": 12816,
    "start_time": "2022-04-28T17:27:25.486Z"
   },
   {
    "duration": 9401,
    "start_time": "2022-04-28T17:27:38.305Z"
   },
   {
    "duration": 1319,
    "start_time": "2022-04-28T17:27:47.708Z"
   },
   {
    "duration": 518,
    "start_time": "2022-04-28T17:27:49.085Z"
   },
   {
    "duration": 1234,
    "start_time": "2022-04-28T17:27:49.605Z"
   },
   {
    "duration": 1143,
    "start_time": "2022-04-28T17:27:50.842Z"
   },
   {
    "duration": 8479,
    "start_time": "2022-04-28T17:27:51.988Z"
   },
   {
    "duration": 6061,
    "start_time": "2022-04-28T17:28:00.470Z"
   },
   {
    "duration": 153,
    "start_time": "2022-04-28T17:28:06.534Z"
   },
   {
    "duration": 7098,
    "start_time": "2022-04-28T17:28:06.694Z"
   },
   {
    "duration": 505,
    "start_time": "2022-04-28T17:28:13.795Z"
   },
   {
    "duration": 1705,
    "start_time": "2022-04-28T17:28:14.303Z"
   },
   {
    "duration": 2173,
    "start_time": "2022-04-28T17:28:16.015Z"
   },
   {
    "duration": 212,
    "start_time": "2022-04-28T17:28:18.191Z"
   },
   {
    "duration": 14087,
    "start_time": "2022-04-28T17:28:18.406Z"
   },
   {
    "duration": 11791,
    "start_time": "2022-04-28T17:28:32.496Z"
   },
   {
    "duration": 16,
    "start_time": "2022-04-28T17:28:44.289Z"
   },
   {
    "duration": 1085,
    "start_time": "2022-04-28T17:28:44.307Z"
   },
   {
    "duration": 7832,
    "start_time": "2022-04-28T17:28:45.395Z"
   },
   {
    "duration": 1636,
    "start_time": "2022-04-28T17:28:53.283Z"
   },
   {
    "duration": 98,
    "start_time": "2022-04-28T17:28:54.921Z"
   },
   {
    "duration": 561,
    "start_time": "2022-04-28T17:28:55.022Z"
   },
   {
    "duration": 5118,
    "start_time": "2022-04-28T17:28:55.586Z"
   },
   {
    "duration": 10800,
    "start_time": "2022-04-28T17:29:00.706Z"
   },
   {
    "duration": 7287,
    "start_time": "2022-04-28T17:29:11.509Z"
   },
   {
    "duration": 7899,
    "start_time": "2022-04-28T17:29:18.798Z"
   },
   {
    "duration": 90,
    "start_time": "2022-04-28T17:29:26.701Z"
   },
   {
    "duration": 7590,
    "start_time": "2022-04-28T17:29:26.794Z"
   },
   {
    "duration": 96,
    "start_time": "2022-04-28T17:29:34.386Z"
   },
   {
    "duration": 6502,
    "start_time": "2022-04-28T17:29:34.484Z"
   },
   {
    "duration": 25,
    "start_time": "2022-04-28T17:29:40.988Z"
   },
   {
    "duration": 3580,
    "start_time": "2022-04-28T17:29:41.015Z"
   }
  ],
  "colab": {
   "name": "PySparkSprint.ipynb",
   "provenance": []
  },
  "kernelspec": {
   "display_name": "Python 3 (ipykernel)",
   "language": "python",
   "name": "python3"
  },
  "language_info": {
   "codemirror_mode": {
    "name": "ipython",
    "version": 3
   },
   "file_extension": ".py",
   "mimetype": "text/x-python",
   "name": "python",
   "nbconvert_exporter": "python",
   "pygments_lexer": "ipython3",
   "version": "3.9.7"
  },
  "toc": {
   "base_numbering": 1,
   "nav_menu": {},
   "number_sections": true,
   "sideBar": true,
   "skip_h1_title": true,
   "title_cell": "Table of Contents",
   "title_sidebar": "Contents",
   "toc_cell": false,
   "toc_position": {},
   "toc_section_display": true,
   "toc_window_display": false
  }
 },
 "nbformat": 4,
 "nbformat_minor": 5
}
