{
 "cells": [
  {
   "cell_type": "markdown",
   "metadata": {},
   "source": [
    "# Protection of clients of the insurance company"
   ]
  },
  {
   "cell_type": "markdown",
   "metadata": {},
   "source": [
    "Insurance company \"X\" wants to protect customer data. It is necessary to develop a method of data transformation so that it is difficult to recover personal information from them.\n",
    "\n",
    "There is no need to select the best model."
   ]
  },
  {
   "cell_type": "markdown",
   "metadata": {},
   "source": [
    "**Task of the project:**\n",
    "\n",
    "To protect the data so that the quality of the machine learning models does not deteriorate during the transformation."
   ]
  },
  {
   "cell_type": "markdown",
   "metadata": {},
   "source": [
    "**Objective of the project:**\n",
    "\n",
    "- Check the hypothesis. The features are multiplied by an invertible matrix. The quality of the linear regression will not change.\n",
    "- Suggest a data encryption algorithm. Program this algorithm using matrix operations. Check that the quality of the linear regression from sklearn is the same before and after the transformation by applying the R2 metric."
   ]
  },
  {
   "cell_type": "markdown",
   "metadata": {},
   "source": [
    "**Decision progress**\n",
    "\n",
    "1. Download and review data\n",
    "2. Testing the hypothesis. The features are multiplied by an invertible matrix. Will the quality of the linear regression change.\n",
    "3. Choice of data encryption algorithm. Rationale for this algorithm.\n",
    "4. Comparison of two models (before and after feature encryption) using the R2 metric.\n",
    "5. Conclusions"
   ]
  },
  {
   "cell_type": "markdown",
   "metadata": {},
   "source": [
    "## Loading data"
   ]
  },
  {
   "cell_type": "code",
   "execution_count": 1,
   "metadata": {},
   "outputs": [],
   "source": [
    "import pandas as pd\n",
    "import numpy as np\n",
    "\n",
    "from sklearn.model_selection import train_test_split\n",
    "from sklearn.preprocessing import StandardScaler\n",
    "from sklearn.pipeline import Pipeline\n",
    "from sklearn.linear_model import LinearRegression\n",
    "from sklearn.metrics import r2_score"
   ]
  },
  {
   "cell_type": "code",
   "execution_count": 2,
   "metadata": {},
   "outputs": [],
   "source": [
    "clients_insurance = pd.read_csv(r'C:\\Users\\Vadim\\Documents\\Datasets\\insurance.csv')"
   ]
  },
  {
   "cell_type": "code",
   "execution_count": 3,
   "metadata": {
    "scrolled": false
   },
   "outputs": [
    {
     "name": "stdout",
     "output_type": "stream",
     "text": [
      "<class 'pandas.core.frame.DataFrame'>\n",
      "RangeIndex: 5000 entries, 0 to 4999\n",
      "Data columns (total 5 columns):\n",
      " #   Column             Non-Null Count  Dtype  \n",
      "---  ------             --------------  -----  \n",
      " 0   Пол                5000 non-null   int64  \n",
      " 1   Возраст            5000 non-null   float64\n",
      " 2   Зарплата           5000 non-null   float64\n",
      " 3   Члены семьи        5000 non-null   int64  \n",
      " 4   Страховые выплаты  5000 non-null   int64  \n",
      "dtypes: float64(2), int64(3)\n",
      "memory usage: 195.4 KB\n"
     ]
    }
   ],
   "source": [
    "clients_insurance.info()"
   ]
  },
  {
   "cell_type": "code",
   "execution_count": 4,
   "metadata": {
    "scrolled": true
   },
   "outputs": [
    {
     "data": {
      "text/html": [
       "<div>\n",
       "<style scoped>\n",
       "    .dataframe tbody tr th:only-of-type {\n",
       "        vertical-align: middle;\n",
       "    }\n",
       "\n",
       "    .dataframe tbody tr th {\n",
       "        vertical-align: top;\n",
       "    }\n",
       "\n",
       "    .dataframe thead th {\n",
       "        text-align: right;\n",
       "    }\n",
       "</style>\n",
       "<table border=\"1\" class=\"dataframe\">\n",
       "  <thead>\n",
       "    <tr style=\"text-align: right;\">\n",
       "      <th></th>\n",
       "      <th>Пол</th>\n",
       "      <th>Возраст</th>\n",
       "      <th>Зарплата</th>\n",
       "      <th>Члены семьи</th>\n",
       "      <th>Страховые выплаты</th>\n",
       "    </tr>\n",
       "  </thead>\n",
       "  <tbody>\n",
       "    <tr>\n",
       "      <th>count</th>\n",
       "      <td>5000.000000</td>\n",
       "      <td>5000.000000</td>\n",
       "      <td>5000.000000</td>\n",
       "      <td>5000.000000</td>\n",
       "      <td>5000.000000</td>\n",
       "    </tr>\n",
       "    <tr>\n",
       "      <th>mean</th>\n",
       "      <td>0.499000</td>\n",
       "      <td>30.952800</td>\n",
       "      <td>39916.360000</td>\n",
       "      <td>1.194200</td>\n",
       "      <td>0.148000</td>\n",
       "    </tr>\n",
       "    <tr>\n",
       "      <th>std</th>\n",
       "      <td>0.500049</td>\n",
       "      <td>8.440807</td>\n",
       "      <td>9900.083569</td>\n",
       "      <td>1.091387</td>\n",
       "      <td>0.463183</td>\n",
       "    </tr>\n",
       "    <tr>\n",
       "      <th>min</th>\n",
       "      <td>0.000000</td>\n",
       "      <td>18.000000</td>\n",
       "      <td>5300.000000</td>\n",
       "      <td>0.000000</td>\n",
       "      <td>0.000000</td>\n",
       "    </tr>\n",
       "    <tr>\n",
       "      <th>25%</th>\n",
       "      <td>0.000000</td>\n",
       "      <td>24.000000</td>\n",
       "      <td>33300.000000</td>\n",
       "      <td>0.000000</td>\n",
       "      <td>0.000000</td>\n",
       "    </tr>\n",
       "    <tr>\n",
       "      <th>50%</th>\n",
       "      <td>0.000000</td>\n",
       "      <td>30.000000</td>\n",
       "      <td>40200.000000</td>\n",
       "      <td>1.000000</td>\n",
       "      <td>0.000000</td>\n",
       "    </tr>\n",
       "    <tr>\n",
       "      <th>75%</th>\n",
       "      <td>1.000000</td>\n",
       "      <td>37.000000</td>\n",
       "      <td>46600.000000</td>\n",
       "      <td>2.000000</td>\n",
       "      <td>0.000000</td>\n",
       "    </tr>\n",
       "    <tr>\n",
       "      <th>max</th>\n",
       "      <td>1.000000</td>\n",
       "      <td>65.000000</td>\n",
       "      <td>79000.000000</td>\n",
       "      <td>6.000000</td>\n",
       "      <td>5.000000</td>\n",
       "    </tr>\n",
       "  </tbody>\n",
       "</table>\n",
       "</div>"
      ],
      "text/plain": [
       "               Пол      Возраст      Зарплата  Члены семьи  Страховые выплаты\n",
       "count  5000.000000  5000.000000   5000.000000  5000.000000        5000.000000\n",
       "mean      0.499000    30.952800  39916.360000     1.194200           0.148000\n",
       "std       0.500049     8.440807   9900.083569     1.091387           0.463183\n",
       "min       0.000000    18.000000   5300.000000     0.000000           0.000000\n",
       "25%       0.000000    24.000000  33300.000000     0.000000           0.000000\n",
       "50%       0.000000    30.000000  40200.000000     1.000000           0.000000\n",
       "75%       1.000000    37.000000  46600.000000     2.000000           0.000000\n",
       "max       1.000000    65.000000  79000.000000     6.000000           5.000000"
      ]
     },
     "execution_count": 4,
     "metadata": {},
     "output_type": "execute_result"
    }
   ],
   "source": [
    "clients_insurance.describe()"
   ]
  },
  {
   "cell_type": "code",
   "execution_count": 5,
   "metadata": {},
   "outputs": [],
   "source": [
    "clients_insurance.columns = ['sex', 'age', 'salary', 'number of family members', 'insurance payments']"
   ]
  },
  {
   "cell_type": "code",
   "execution_count": 6,
   "metadata": {
    "scrolled": true
   },
   "outputs": [
    {
     "data": {
      "text/html": [
       "<div>\n",
       "<style scoped>\n",
       "    .dataframe tbody tr th:only-of-type {\n",
       "        vertical-align: middle;\n",
       "    }\n",
       "\n",
       "    .dataframe tbody tr th {\n",
       "        vertical-align: top;\n",
       "    }\n",
       "\n",
       "    .dataframe thead th {\n",
       "        text-align: right;\n",
       "    }\n",
       "</style>\n",
       "<table border=\"1\" class=\"dataframe\">\n",
       "  <thead>\n",
       "    <tr style=\"text-align: right;\">\n",
       "      <th></th>\n",
       "      <th>sex</th>\n",
       "      <th>age</th>\n",
       "      <th>salary</th>\n",
       "      <th>number of family members</th>\n",
       "      <th>insurance payments</th>\n",
       "    </tr>\n",
       "  </thead>\n",
       "  <tbody>\n",
       "    <tr>\n",
       "      <th>0</th>\n",
       "      <td>1</td>\n",
       "      <td>41.0</td>\n",
       "      <td>49600.0</td>\n",
       "      <td>1</td>\n",
       "      <td>0</td>\n",
       "    </tr>\n",
       "    <tr>\n",
       "      <th>1</th>\n",
       "      <td>0</td>\n",
       "      <td>46.0</td>\n",
       "      <td>38000.0</td>\n",
       "      <td>1</td>\n",
       "      <td>1</td>\n",
       "    </tr>\n",
       "    <tr>\n",
       "      <th>2</th>\n",
       "      <td>0</td>\n",
       "      <td>29.0</td>\n",
       "      <td>21000.0</td>\n",
       "      <td>0</td>\n",
       "      <td>0</td>\n",
       "    </tr>\n",
       "    <tr>\n",
       "      <th>3</th>\n",
       "      <td>0</td>\n",
       "      <td>21.0</td>\n",
       "      <td>41700.0</td>\n",
       "      <td>2</td>\n",
       "      <td>0</td>\n",
       "    </tr>\n",
       "    <tr>\n",
       "      <th>4</th>\n",
       "      <td>1</td>\n",
       "      <td>28.0</td>\n",
       "      <td>26100.0</td>\n",
       "      <td>0</td>\n",
       "      <td>0</td>\n",
       "    </tr>\n",
       "  </tbody>\n",
       "</table>\n",
       "</div>"
      ],
      "text/plain": [
       "   sex   age   salary  number of family members  insurance payments\n",
       "0    1  41.0  49600.0                         1                   0\n",
       "1    0  46.0  38000.0                         1                   1\n",
       "2    0  29.0  21000.0                         0                   0\n",
       "3    0  21.0  41700.0                         2                   0\n",
       "4    1  28.0  26100.0                         0                   0"
      ]
     },
     "execution_count": 6,
     "metadata": {},
     "output_type": "execute_result"
    }
   ],
   "source": [
    "clients_insurance.head(5)"
   ]
  },
  {
   "cell_type": "code",
   "execution_count": 7,
   "metadata": {
    "scrolled": true
   },
   "outputs": [
    {
     "data": {
      "text/plain": [
       "False    4847\n",
       "True      153\n",
       "dtype: int64"
      ]
     },
     "execution_count": 7,
     "metadata": {},
     "output_type": "execute_result"
    }
   ],
   "source": [
    "clients_insurance.duplicated().value_counts()"
   ]
  },
  {
   "cell_type": "code",
   "execution_count": 8,
   "metadata": {},
   "outputs": [],
   "source": [
    "def uniqu(tab):\n",
    "    for column in tab.columns:\n",
    "        print('Unique value of the column:', column)\n",
    "        print(tab[column].unique())\n",
    "        print('----------------------------------------------------------------------')"
   ]
  },
  {
   "cell_type": "code",
   "execution_count": 9,
   "metadata": {
    "scrolled": true
   },
   "outputs": [
    {
     "name": "stdout",
     "output_type": "stream",
     "text": [
      "Unique value of the column: sex\n",
      "[1 0]\n",
      "----------------------------------------------------------------------\n",
      "Unique value of the column: age\n",
      "[41. 46. 29. 21. 28. 43. 39. 25. 36. 32. 38. 23. 40. 34. 26. 42. 27. 33.\n",
      " 47. 30. 19. 31. 22. 20. 24. 18. 37. 48. 45. 44. 52. 49. 35. 56. 65. 55.\n",
      " 57. 54. 50. 53. 51. 58. 59. 60. 61. 62.]\n",
      "----------------------------------------------------------------------\n",
      "Unique value of the column: salary\n",
      "[49600. 38000. 21000. 41700. 26100. 41000. 39700. 38600. 49700. 51700.\n",
      " 36600. 29300. 39500. 55000. 43700. 23300. 48900. 33200. 36900. 43500.\n",
      " 36100. 26600. 48700. 40400. 38400. 34600. 34800. 36800. 42200. 46300.\n",
      " 30300. 51000. 28100. 64800. 30400. 45300. 38300. 49500. 19400. 40200.\n",
      " 31700. 69200. 33100. 31600. 34500. 38700. 39600. 42400. 34900. 30500.\n",
      " 24200. 49900. 14300. 47000. 44800. 43800. 42700. 35400. 57200. 29600.\n",
      " 37400. 48100. 33700. 61800. 39400. 15600. 52600. 37600. 52500. 32700.\n",
      " 51600. 60900. 41800. 47400. 26500. 45900. 35700. 34300. 26700. 25700.\n",
      " 33300. 31100. 31500. 42100. 37300. 42500. 27300. 46800. 33500. 44300.\n",
      " 41600. 53900. 40100. 44600. 45000. 32000. 38200. 33000. 38500. 51800.\n",
      " 33800. 46400. 43200. 31800. 50200. 35100. 30700. 45800. 49300. 42800.\n",
      " 33600. 50300. 34000. 36400. 44900. 43600. 54600. 52800. 29700. 39000.\n",
      " 44100. 31900. 37700. 35200. 43100. 51300. 47500. 40800. 26800. 64900.\n",
      " 35900. 31200. 39900. 43300. 33900. 40700. 44700. 53400. 30600. 56000.\n",
      " 35600. 55200. 40600. 48300. 50800. 41200. 44200. 44400. 40500. 39800.\n",
      " 16600. 48400. 25100. 23100. 32100. 31000. 42900. 46700. 26000. 55900.\n",
      " 52000. 41500. 49400. 60300. 45600. 49000. 37500. 21900. 45100. 47900.\n",
      " 54300. 32400. 41300. 44500. 23200. 37900. 48000. 52100. 45700. 29900.\n",
      " 42600. 45200. 36000. 46500. 23800. 30200. 24400. 32800. 29000. 43400.\n",
      " 51500. 61700. 45400. 50700. 36200. 41900. 27900. 47200. 48800. 55100.\n",
      " 48200. 35500. 35000. 43900. 40000. 22000. 40300. 36300. 49800. 25600.\n",
      " 42300. 54900. 25500. 32900. 36700. 38900. 24700. 28800. 22900. 47300.\n",
      " 14500. 28700. 44000. 34100. 53000. 59300. 28500. 47100. 41400. 58900.\n",
      " 17500. 54200. 43000. 29800. 20000. 13800. 27500. 67700. 28000. 37100.\n",
      "  8900. 14600. 56200. 38800. 27700. 50500. 58400. 34700. 34400. 49100.\n",
      " 50900. 28200. 61500. 32500. 25900.  9800. 28300. 41100. 62000. 32600.\n",
      " 37200. 53800. 24000. 53600. 54800. 59600. 20200. 21700. 29200. 38100.\n",
      " 20700. 32300. 21200. 62100. 54000. 24500. 51900. 47800. 56100. 55300.\n",
      " 58100. 28900. 39100. 58000. 27200. 24600. 30100. 57100. 60100. 22200.\n",
      " 47700. 24900. 37800. 52700. 34200. 18700. 42000. 26300. 22600. 30900.\n",
      " 35800. 30800. 51100. 53300. 46200. 24100. 54700. 51200. 62300. 51400.\n",
      " 40900. 23400. 35300. 55800. 33400. 21300. 30000. 56700. 46900.  5300.\n",
      " 39200. 57500. 31300. 53700. 21600. 50000. 36500. 16400. 15900. 65100.\n",
      " 59900. 63200. 26200. 61200. 48500. 32200. 29100. 50100. 22700. 28600.\n",
      " 23500. 23700. 19600. 17800. 50600. 57900. 22500. 22100. 58300. 64100.\n",
      " 25000. 60400. 59100. 37000. 62400. 29500. 25800. 25400. 26900. 21500.\n",
      " 52200. 46600. 57300. 46100. 19300. 18900. 31400. 28400. 29400. 17600.\n",
      " 13900. 52400. 11300. 46000. 60500. 58700. 58200. 24800. 63700. 60600.\n",
      " 20400. 26400. 55600. 57000. 45500. 48600. 57600. 52900. 62800. 17000.\n",
      " 56500. 52300. 18400. 63300. 12900. 27000. 55700. 39300. 27800. 18300.\n",
      " 56300. 59800. 24300. 14400. 13400. 17900. 47600. 54500. 54400. 23900.\n",
      " 13000. 19900. 55400. 22800. 61000. 57400. 23000. 20500. 53200. 18100.\n",
      " 25300. 59500. 18200. 50400. 21100. 20900. 27400. 17300. 60700. 70600.\n",
      " 17700. 19700. 49200. 63100. 59200. 14700. 53100. 21800. 68000. 16500.\n",
      " 71400. 10000. 55500. 54100. 56400. 20600. 66300. 18800. 11000. 66100.\n",
      " 27100. 57800. 53500. 19200. 58500. 64000. 63600. 23600. 25200. 19100.\n",
      " 18600. 57700. 62700. 56600. 21400. 58800. 68400. 17100. 13300. 68500.\n",
      " 56900. 64400. 27600. 67200. 16200. 58600. 62200. 16000. 79000. 22300.\n",
      " 11200. 71600. 61300. 70500. 67100. 59000. 13500. 16700. 15700. 60000.\n",
      " 17400. 63400. 61900. 65200. 62600. 14100. 20100. 63800. 15100. 70000.\n",
      " 60200. 20300. 65900. 15200. 63500. 13200. 68900. 12200.  6000. 74800.\n",
      " 59700. 10800. 19000. 10600. 69400. 15000. 75200. 62500. 16300. 20800.\n",
      "  7400. 65300. 61400. 56800.]\n",
      "----------------------------------------------------------------------\n",
      "Unique value of the column: number of family members\n",
      "[1 0 2 4 3 5 6]\n",
      "----------------------------------------------------------------------\n",
      "Unique value of the column: insurance payments\n",
      "[0 1 2 3 5 4]\n",
      "----------------------------------------------------------------------\n"
     ]
    }
   ],
   "source": [
    "uniqu(clients_insurance)"
   ]
  },
  {
   "cell_type": "markdown",
   "metadata": {},
   "source": [
    "## Matrix multiplication"
   ]
  },
  {
   "cell_type": "markdown",
   "metadata": {},
   "source": [
    "Designations:\n",
    "\n",
    "- $X$ - feature matrix\n",
    "\n",
    "- $y$ — target feature vector\n",
    "\n",
    "- $P$ is the matrix by which features are multiplied\n",
    "\n",
    "- $w$ — vector of linear regression weights (zero element equals shift)"
   ]
  },
  {
   "cell_type": "markdown",
   "metadata": {},
   "source": [
    "Predictions:\n",
    "\n",
    "$$\n",
    "a = Xw\n",
    "$$\n",
    "\n",
    "Learning objective:\n",
    "\n",
    "$$\n",
    "w = \\arg\\min_w MSE(Xw, y)\n",
    "$$\n",
    "\n",
    "Learning formula:\n",
    "\n",
    "$$\n",
    "w = (X^T X)^{-1} X^T y\n",
    "$$"
   ]
  },
  {
   "cell_type": "markdown",
   "metadata": {},
   "source": [
    "**Question:** Features are multiplied by an invertible matrix. Will the quality of linear regression change?\n",
    "\n",
    "**Hypothesis:** The quality of the linear regression will not change.\n",
    "\n",
    "**Rationale:**\n",
    "\n",
    "We multiply the feature matrix by the reversible matrix. We take Q as an invertible matrix, then:\n",
    "\n",
    "$$ a1 = XQw $$\n",
    "\n",
    "Linear regression weights:\n",
    "\n",
    "$$ w = ((XQ)^T (XQ))^{-1} (XQ)^T y $$\n",
    "\n",
    "Substitute the weights in the predictions:\n",
    "\n",
    "$$ a1 = XQ((XQ)^T (XQ))^{-1} (XQ)^T y $$\n",
    "\n",
    "$$ a1 = XQ(XQ)^{-1} ((XQ)^T)^{-1} (XQ)^T y $$\n",
    "\n",
    "$$ a1 = XQQ^{-1}(X)^{-1} ((XQ)^T)^{-1} (XQ)^T y $$\n",
    "\n",
    "Since $$ QQ^{-1} = E = 1 $$\n",
    "\n",
    "Then $$ a1 = XEX^{-1} ((XQ)^T)^{-1} (XQ)^T y = XX^{-1} (X^T)^{-1} (Q^T )^{-1} X^T Q^T y $$\n",
    "\n",
    "$$ a1 = X (X^TX)^{-1} E X^T y = X (X^TX)^{-1} X^T y = X w = a $$\n",
    "\n",
    "Therefore, we can conclude that the multiplication of features by the inverse matrix does not affect the quality of linear regression."
   ]
  },
  {
   "cell_type": "markdown",
   "metadata": {},
   "source": [
    "**Checking the calculation of linear regression coefficients**"
   ]
  },
  {
   "cell_type": "code",
   "execution_count": 10,
   "metadata": {},
   "outputs": [],
   "source": [
    "features = clients_insurance.drop('insurance payments',axis=1)\n",
    "target = clients_insurance['insurance payments']"
   ]
  },
  {
   "cell_type": "code",
   "execution_count": 11,
   "metadata": {
    "scrolled": false
   },
   "outputs": [
    {
     "data": {
      "text/plain": [
       "array([ 7.92580543e-03,  3.57083050e-02, -1.70080492e-07, -1.35676623e-02])"
      ]
     },
     "metadata": {},
     "output_type": "display_data"
    },
    {
     "data": {
      "text/plain": [
       "array([ 7.92580543e-03,  3.57083050e-02, -1.70080492e-07, -1.35676623e-02])"
      ]
     },
     "execution_count": 11,
     "metadata": {},
     "output_type": "execute_result"
    }
   ],
   "source": [
    "X = np.concatenate((np.ones((features.shape[0], 1)), features), axis=1)\n",
    "y = target\n",
    "w = np.linalg.inv(X.T @ X) @ X.T @ y\n",
    "display(w[1:])\n",
    "model = LinearRegression()\n",
    "model.fit(features, target)\n",
    "model.coef_"
   ]
  },
  {
   "cell_type": "markdown",
   "metadata": {},
   "source": [
    "The coefficients calculated manually are completely the same as the coefficients calculated using the sklearn library."
   ]
  },
  {
   "cell_type": "markdown",
   "metadata": {},
   "source": [
    "## Conversion algorithm"
   ]
  },
  {
   "cell_type": "markdown",
   "metadata": {},
   "source": [
    "**Algorithm**\n",
    "\n",
    "Based on the above formulas, the feature encryption algorithm in the formula for calculating model predictions will be the multiplication of the feature matrix by the reversible matrix."
   ]
  },
  {
   "cell_type": "markdown",
   "metadata": {},
   "source": [
    "**Rationale**\n",
    "\n",
    "For the algorithm to run correctly, two conditions must be met:\n",
    "- the width of the feature matrix coincides with the length of the second\n",
    "- the determinant of an invertible matrix is not equal to zero (otherwise the matrix is irreversible)"
   ]
  },
  {
   "cell_type": "markdown",
   "metadata": {},
   "source": [
    "## Algorithm check"
   ]
  },
  {
   "cell_type": "markdown",
   "metadata": {},
   "source": [
    "We will check by comparing the quality of models before and after feature encryption. We will evaluate the models using the metric R2."
   ]
  },
  {
   "cell_type": "code",
   "execution_count": 12,
   "metadata": {},
   "outputs": [],
   "source": [
    "features_train, features_test, target_train, target_test = train_test_split(\n",
    "    features, target, test_size=0.25, random_state=7072020)"
   ]
  },
  {
   "cell_type": "code",
   "execution_count": 13,
   "metadata": {},
   "outputs": [
    {
     "name": "stdout",
     "output_type": "stream",
     "text": [
      "R2 = 0.4184108151220888\n"
     ]
    }
   ],
   "source": [
    "regressor = LinearRegression()\n",
    "scaller = StandardScaler()\n",
    "pipeline = Pipeline([(\"standard_scaller\", scaller),(\"linear_regression\", regressor)])\n",
    "pipeline.fit(features_train, target_train)\n",
    "Score = r2_score(target_test, pipeline.predict(features_test))\n",
    "print(\"R2 =\", Score)"
   ]
  },
  {
   "cell_type": "markdown",
   "metadata": {},
   "source": [
    "Feature Encryption Feature:"
   ]
  },
  {
   "cell_type": "code",
   "execution_count": 17,
   "metadata": {},
   "outputs": [],
   "source": [
    "def encryption_features(features):\n",
    "    encrypted_features = features\n",
    "    n = features.shape[1]\n",
    "    np.random.seed(7072020)\n",
    "    encrypted_matrix = np.random.randint(1, 10, (n,n))   # creating an invertible matrix\n",
    "    det = np.linalg.det(encrypted_matrix)   \n",
    "    while det == 0:   # we exclude the possibility of equality of the matrix determinant to zero (in this case, the matrix is irreversible)\n",
    "        np.random.seed(7072021)\n",
    "        encrypted_matrix = np.random.randint(1, 10, (n,n))\n",
    "        det = np.linalg.det(encrypted_matrix)\n",
    "    encrypted_features = encrypted_features @ encrypted_matrix\n",
    "    return encrypted_features, encrypted_matrix   # function returns encoded features and invertible matrix"
   ]
  },
  {
   "cell_type": "code",
   "execution_count": 18,
   "metadata": {
    "scrolled": true
   },
   "outputs": [
    {
     "data": {
      "text/html": [
       "<div>\n",
       "<style scoped>\n",
       "    .dataframe tbody tr th:only-of-type {\n",
       "        vertical-align: middle;\n",
       "    }\n",
       "\n",
       "    .dataframe tbody tr th {\n",
       "        vertical-align: top;\n",
       "    }\n",
       "\n",
       "    .dataframe thead th {\n",
       "        text-align: right;\n",
       "    }\n",
       "</style>\n",
       "<table border=\"1\" class=\"dataframe\">\n",
       "  <thead>\n",
       "    <tr style=\"text-align: right;\">\n",
       "      <th></th>\n",
       "      <th>sex</th>\n",
       "      <th>age</th>\n",
       "      <th>salary</th>\n",
       "      <th>number of family members</th>\n",
       "    </tr>\n",
       "  </thead>\n",
       "  <tbody>\n",
       "    <tr>\n",
       "      <th>0</th>\n",
       "      <td>1</td>\n",
       "      <td>41.0</td>\n",
       "      <td>49600.0</td>\n",
       "      <td>1</td>\n",
       "    </tr>\n",
       "    <tr>\n",
       "      <th>1</th>\n",
       "      <td>0</td>\n",
       "      <td>46.0</td>\n",
       "      <td>38000.0</td>\n",
       "      <td>1</td>\n",
       "    </tr>\n",
       "    <tr>\n",
       "      <th>2</th>\n",
       "      <td>0</td>\n",
       "      <td>29.0</td>\n",
       "      <td>21000.0</td>\n",
       "      <td>0</td>\n",
       "    </tr>\n",
       "    <tr>\n",
       "      <th>3</th>\n",
       "      <td>0</td>\n",
       "      <td>21.0</td>\n",
       "      <td>41700.0</td>\n",
       "      <td>2</td>\n",
       "    </tr>\n",
       "    <tr>\n",
       "      <th>4</th>\n",
       "      <td>1</td>\n",
       "      <td>28.0</td>\n",
       "      <td>26100.0</td>\n",
       "      <td>0</td>\n",
       "    </tr>\n",
       "  </tbody>\n",
       "</table>\n",
       "</div>"
      ],
      "text/plain": [
       "   sex   age   salary  number of family members\n",
       "0    1  41.0  49600.0                         1\n",
       "1    0  46.0  38000.0                         1\n",
       "2    0  29.0  21000.0                         0\n",
       "3    0  21.0  41700.0                         2\n",
       "4    1  28.0  26100.0                         0"
      ]
     },
     "metadata": {},
     "output_type": "display_data"
    },
    {
     "data": {
      "text/html": [
       "<div>\n",
       "<style scoped>\n",
       "    .dataframe tbody tr th:only-of-type {\n",
       "        vertical-align: middle;\n",
       "    }\n",
       "\n",
       "    .dataframe tbody tr th {\n",
       "        vertical-align: top;\n",
       "    }\n",
       "\n",
       "    .dataframe thead th {\n",
       "        text-align: right;\n",
       "    }\n",
       "</style>\n",
       "<table border=\"1\" class=\"dataframe\">\n",
       "  <thead>\n",
       "    <tr style=\"text-align: right;\">\n",
       "      <th></th>\n",
       "      <th>0</th>\n",
       "      <th>1</th>\n",
       "      <th>2</th>\n",
       "      <th>3</th>\n",
       "    </tr>\n",
       "  </thead>\n",
       "  <tbody>\n",
       "    <tr>\n",
       "      <th>0</th>\n",
       "      <td>397184.0</td>\n",
       "      <td>49981.0</td>\n",
       "      <td>99373.0</td>\n",
       "      <td>248097.0</td>\n",
       "    </tr>\n",
       "    <tr>\n",
       "      <th>1</th>\n",
       "      <td>304422.0</td>\n",
       "      <td>38421.0</td>\n",
       "      <td>76185.0</td>\n",
       "      <td>190101.0</td>\n",
       "    </tr>\n",
       "    <tr>\n",
       "      <th>2</th>\n",
       "      <td>168261.0</td>\n",
       "      <td>21261.0</td>\n",
       "      <td>42116.0</td>\n",
       "      <td>105058.0</td>\n",
       "    </tr>\n",
       "    <tr>\n",
       "      <th>3</th>\n",
       "      <td>333805.0</td>\n",
       "      <td>41903.0</td>\n",
       "      <td>83486.0</td>\n",
       "      <td>208560.0</td>\n",
       "    </tr>\n",
       "    <tr>\n",
       "      <th>4</th>\n",
       "      <td>209059.0</td>\n",
       "      <td>26357.0</td>\n",
       "      <td>52320.0</td>\n",
       "      <td>130562.0</td>\n",
       "    </tr>\n",
       "  </tbody>\n",
       "</table>\n",
       "</div>"
      ],
      "text/plain": [
       "          0        1        2         3\n",
       "0  397184.0  49981.0  99373.0  248097.0\n",
       "1  304422.0  38421.0  76185.0  190101.0\n",
       "2  168261.0  21261.0  42116.0  105058.0\n",
       "3  333805.0  41903.0  83486.0  208560.0\n",
       "4  209059.0  26357.0  52320.0  130562.0"
      ]
     },
     "metadata": {},
     "output_type": "display_data"
    },
    {
     "data": {
      "text/plain": [
       "array([[7, 5, 8, 6],\n",
       "       [9, 9, 4, 2],\n",
       "       [8, 1, 2, 5],\n",
       "       [8, 7, 1, 9]])"
      ]
     },
     "execution_count": 18,
     "metadata": {},
     "output_type": "execute_result"
    }
   ],
   "source": [
    "display(features.head())\n",
    "encrypted_features, encrypted_matrix = encryption_features(features)\n",
    "display(encrypted_features.head())\n",
    "encrypted_matrix"
   ]
  },
  {
   "cell_type": "markdown",
   "metadata": {},
   "source": [
    "Now the data is encrypted. Retrain the model and check the R2 metric."
   ]
  },
  {
   "cell_type": "code",
   "execution_count": 19,
   "metadata": {},
   "outputs": [],
   "source": [
    "features_train, features_test, target_train, target_test = train_test_split(\n",
    "    encrypted_features, target, test_size=0.25, random_state=7072020)"
   ]
  },
  {
   "cell_type": "code",
   "execution_count": 20,
   "metadata": {
    "scrolled": true
   },
   "outputs": [
    {
     "name": "stdout",
     "output_type": "stream",
     "text": [
      "R2 = 0.4184108151220888\n"
     ]
    }
   ],
   "source": [
    "regressor = LinearRegression()\n",
    "scaller = StandardScaler()\n",
    "pipeline = Pipeline([(\"standard_scaller\", scaller),(\"linear_regression\", regressor)])\n",
    "pipeline.fit(features_train, target_train)\n",
    "Score_encrypted = r2_score(target_test, pipeline.predict(features_test))\n",
    "print(\"R2 =\", Score)"
   ]
  },
  {
   "cell_type": "code",
   "execution_count": 21,
   "metadata": {
    "scrolled": false
   },
   "outputs": [
    {
     "data": {
      "text/html": [
       "<div>\n",
       "<style scoped>\n",
       "    .dataframe tbody tr th:only-of-type {\n",
       "        vertical-align: middle;\n",
       "    }\n",
       "\n",
       "    .dataframe tbody tr th {\n",
       "        vertical-align: top;\n",
       "    }\n",
       "\n",
       "    .dataframe thead th {\n",
       "        text-align: right;\n",
       "    }\n",
       "</style>\n",
       "<table border=\"1\" class=\"dataframe\">\n",
       "  <thead>\n",
       "    <tr style=\"text-align: right;\">\n",
       "      <th></th>\n",
       "      <th>R2</th>\n",
       "    </tr>\n",
       "  </thead>\n",
       "  <tbody>\n",
       "    <tr>\n",
       "      <th>Linear Regression</th>\n",
       "      <td>0.418411</td>\n",
       "    </tr>\n",
       "    <tr>\n",
       "      <th>Linear Regression on Transformed Features</th>\n",
       "      <td>0.418411</td>\n",
       "    </tr>\n",
       "  </tbody>\n",
       "</table>\n",
       "</div>"
      ],
      "text/plain": [
       "                                                 R2\n",
       "Linear Regression                          0.418411\n",
       "Linear Regression on Transformed Features  0.418411"
      ]
     },
     "execution_count": 21,
     "metadata": {},
     "output_type": "execute_result"
    }
   ],
   "source": [
    "result = pd.DataFrame(data= [Score,\n",
    "                      Score_encrypted], \n",
    "                     columns=['R2'], \n",
    "                     index=['Linear Regression',\n",
    "                            'Linear Regression on Transformed Features'])\n",
    "result"
   ]
  },
  {
   "cell_type": "markdown",
   "metadata": {},
   "source": [
    "## Conclusion"
   ]
  },
  {
   "cell_type": "markdown",
   "metadata": {},
   "source": [
    "During the study, the hypothesis was tested: if the feature matrix is multiplied by an invertible matrix, then the quality of linear regression does not change. The hypothesis was tested through a data encryption algorithm that describes this hypothesis. Then the model was compared before and after encryption. The models were compared using the R2 metric.\n",
    "\n",
    "**This hypothesis is confirmed. The quality of the models has not changed. Simply multiplying the feature matrix by the reversible matrix does not change the quality of the model, which opens up a great way to encrypt data.**"
   ]
  }
 ],
 "metadata": {
  "ExecuteTimeLog": [
   {
    "duration": 60,
    "start_time": "2022-05-20T12:42:11.450Z"
   },
   {
    "duration": 436,
    "start_time": "2022-05-20T12:42:12.650Z"
   },
   {
    "duration": 52,
    "start_time": "2022-05-20T12:42:13.089Z"
   },
   {
    "duration": 19,
    "start_time": "2022-05-20T12:42:18.535Z"
   },
   {
    "duration": 17,
    "start_time": "2022-05-20T12:46:30.108Z"
   },
   {
    "duration": 14,
    "start_time": "2022-05-20T12:46:30.694Z"
   },
   {
    "duration": 17,
    "start_time": "2022-05-20T12:46:40.557Z"
   },
   {
    "duration": 16,
    "start_time": "2022-05-20T12:46:40.796Z"
   },
   {
    "duration": 12,
    "start_time": "2022-05-20T12:46:52.387Z"
   },
   {
    "duration": 28,
    "start_time": "2022-05-20T12:50:04.475Z"
   },
   {
    "duration": 28,
    "start_time": "2022-05-20T12:50:08.904Z"
   },
   {
    "duration": 27,
    "start_time": "2022-05-20T12:52:45.718Z"
   },
   {
    "duration": 36,
    "start_time": "2022-05-20T12:53:13.609Z"
   },
   {
    "duration": 30,
    "start_time": "2022-05-20T12:53:16.351Z"
   },
   {
    "duration": 33,
    "start_time": "2022-05-20T12:53:25.767Z"
   },
   {
    "duration": 28,
    "start_time": "2022-05-20T12:53:43.812Z"
   },
   {
    "duration": 10,
    "start_time": "2022-05-20T12:53:57.513Z"
   },
   {
    "duration": 23,
    "start_time": "2022-05-20T12:54:03.819Z"
   },
   {
    "duration": 9,
    "start_time": "2022-05-20T12:54:12.727Z"
   },
   {
    "duration": 8,
    "start_time": "2022-05-20T12:54:15.981Z"
   },
   {
    "duration": 7,
    "start_time": "2022-05-20T12:54:42.228Z"
   },
   {
    "duration": 8,
    "start_time": "2022-05-20T12:54:44.329Z"
   },
   {
    "duration": 3,
    "start_time": "2022-05-20T13:02:47.735Z"
   },
   {
    "duration": 10,
    "start_time": "2022-05-20T13:02:57.398Z"
   },
   {
    "duration": 6,
    "start_time": "2022-05-20T13:20:57.087Z"
   },
   {
    "duration": 3,
    "start_time": "2022-05-20T13:21:32.094Z"
   },
   {
    "duration": 958,
    "start_time": "2022-05-20T13:22:09.882Z"
   },
   {
    "duration": 14,
    "start_time": "2022-05-20T13:33:15.010Z"
   },
   {
    "duration": 11,
    "start_time": "2022-05-20T13:34:29.906Z"
   },
   {
    "duration": 12,
    "start_time": "2022-05-20T13:34:32.342Z"
   },
   {
    "duration": 3,
    "start_time": "2022-05-20T14:16:32.588Z"
   },
   {
    "duration": 9,
    "start_time": "2022-05-20T14:16:33.683Z"
   },
   {
    "duration": 4,
    "start_time": "2022-05-20T14:18:06.209Z"
   },
   {
    "duration": 9,
    "start_time": "2022-05-20T14:18:08.031Z"
   },
   {
    "duration": 3,
    "start_time": "2022-05-20T14:18:15.896Z"
   },
   {
    "duration": 9,
    "start_time": "2022-05-20T14:18:16.288Z"
   },
   {
    "duration": 3,
    "start_time": "2022-05-20T14:18:22.474Z"
   },
   {
    "duration": 10,
    "start_time": "2022-05-20T14:18:22.922Z"
   },
   {
    "duration": 3,
    "start_time": "2022-05-20T14:18:33.187Z"
   },
   {
    "duration": 10,
    "start_time": "2022-05-20T14:18:33.428Z"
   },
   {
    "duration": 5,
    "start_time": "2022-05-20T14:18:55.269Z"
   },
   {
    "duration": 10,
    "start_time": "2022-05-20T14:18:55.503Z"
   },
   {
    "duration": 3,
    "start_time": "2022-05-20T14:19:09.093Z"
   },
   {
    "duration": 18,
    "start_time": "2022-05-20T14:19:09.356Z"
   },
   {
    "duration": 4,
    "start_time": "2022-05-20T14:19:26.270Z"
   },
   {
    "duration": 11,
    "start_time": "2022-05-20T14:19:26.548Z"
   },
   {
    "duration": 4,
    "start_time": "2022-05-20T14:19:32.589Z"
   },
   {
    "duration": 11,
    "start_time": "2022-05-20T14:19:32.856Z"
   },
   {
    "duration": 5,
    "start_time": "2022-05-20T14:19:38.182Z"
   },
   {
    "duration": 14,
    "start_time": "2022-05-20T14:19:38.399Z"
   },
   {
    "duration": 3,
    "start_time": "2022-05-20T14:19:55.505Z"
   },
   {
    "duration": 13,
    "start_time": "2022-05-20T14:19:55.755Z"
   },
   {
    "duration": 3,
    "start_time": "2022-05-20T14:21:17.016Z"
   },
   {
    "duration": 9,
    "start_time": "2022-05-20T14:21:17.387Z"
   },
   {
    "duration": 3,
    "start_time": "2022-05-20T14:21:50.061Z"
   },
   {
    "duration": 11,
    "start_time": "2022-05-20T14:21:50.294Z"
   },
   {
    "duration": 2,
    "start_time": "2022-05-20T14:22:21.952Z"
   },
   {
    "duration": 10,
    "start_time": "2022-05-20T14:22:22.243Z"
   },
   {
    "duration": 5,
    "start_time": "2022-05-20T14:26:23.961Z"
   },
   {
    "duration": 4,
    "start_time": "2022-05-20T14:26:35.075Z"
   },
   {
    "duration": 4,
    "start_time": "2022-05-20T14:26:47.615Z"
   },
   {
    "duration": 5,
    "start_time": "2022-05-20T14:27:15.104Z"
   },
   {
    "duration": 4,
    "start_time": "2022-05-20T14:27:21.437Z"
   },
   {
    "duration": 7,
    "start_time": "2022-05-20T14:27:25.365Z"
   },
   {
    "duration": 4,
    "start_time": "2022-05-20T14:27:38.467Z"
   },
   {
    "duration": 5,
    "start_time": "2022-05-20T14:28:09.005Z"
   },
   {
    "duration": 5,
    "start_time": "2022-05-20T14:28:12.264Z"
   },
   {
    "duration": 4,
    "start_time": "2022-05-20T15:02:30.804Z"
   },
   {
    "duration": 4,
    "start_time": "2022-05-20T15:02:39.791Z"
   },
   {
    "duration": 4,
    "start_time": "2022-05-20T15:02:54.537Z"
   },
   {
    "duration": 6,
    "start_time": "2022-05-20T15:03:47.388Z"
   },
   {
    "duration": 39,
    "start_time": "2022-05-20T15:03:58.702Z"
   },
   {
    "duration": 9,
    "start_time": "2022-05-20T15:04:11.905Z"
   },
   {
    "duration": 5,
    "start_time": "2022-05-20T15:04:16.451Z"
   },
   {
    "duration": 81,
    "start_time": "2022-05-21T13:24:41.616Z"
   },
   {
    "duration": 1135,
    "start_time": "2022-05-21T13:24:49.031Z"
   },
   {
    "duration": 63,
    "start_time": "2022-05-21T13:24:52.763Z"
   },
   {
    "duration": 60,
    "start_time": "2022-05-21T13:24:52.996Z"
   },
   {
    "duration": 31,
    "start_time": "2022-05-21T13:24:53.197Z"
   },
   {
    "duration": 9,
    "start_time": "2022-05-21T13:24:53.391Z"
   },
   {
    "duration": 8,
    "start_time": "2022-05-21T13:24:53.602Z"
   },
   {
    "duration": 3,
    "start_time": "2022-05-21T13:24:53.811Z"
   },
   {
    "duration": 10,
    "start_time": "2022-05-21T13:24:53.999Z"
   },
   {
    "duration": 9,
    "start_time": "2022-05-21T13:24:56.652Z"
   },
   {
    "duration": 12,
    "start_time": "2022-05-21T13:24:57.311Z"
   },
   {
    "duration": 5,
    "start_time": "2022-05-21T13:25:01.206Z"
   },
   {
    "duration": 9,
    "start_time": "2022-05-21T13:25:18.922Z"
   },
   {
    "duration": 12,
    "start_time": "2022-05-21T13:25:54.616Z"
   },
   {
    "duration": 4,
    "start_time": "2022-05-21T13:27:27.185Z"
   },
   {
    "duration": 16,
    "start_time": "2022-05-21T13:27:39.904Z"
   },
   {
    "duration": 33,
    "start_time": "2022-05-21T15:15:53.697Z"
   },
   {
    "duration": 63,
    "start_time": "2022-05-21T15:15:57.204Z"
   },
   {
    "duration": 20,
    "start_time": "2022-05-21T15:16:05.208Z"
   },
   {
    "duration": 16,
    "start_time": "2022-05-21T15:16:22.097Z"
   },
   {
    "duration": 16,
    "start_time": "2022-05-21T15:16:27.521Z"
   },
   {
    "duration": 865,
    "start_time": "2022-05-21T15:16:55.322Z"
   },
   {
    "duration": 18,
    "start_time": "2022-05-21T15:16:56.189Z"
   },
   {
    "duration": 66,
    "start_time": "2022-05-21T15:16:56.209Z"
   },
   {
    "duration": 34,
    "start_time": "2022-05-21T15:16:56.277Z"
   },
   {
    "duration": 9,
    "start_time": "2022-05-21T15:16:56.313Z"
   },
   {
    "duration": 9,
    "start_time": "2022-05-21T15:16:56.323Z"
   },
   {
    "duration": 23,
    "start_time": "2022-05-21T15:16:56.334Z"
   },
   {
    "duration": 17,
    "start_time": "2022-05-21T15:16:56.362Z"
   },
   {
    "duration": 6,
    "start_time": "2022-05-21T15:16:56.380Z"
   },
   {
    "duration": 14,
    "start_time": "2022-05-21T15:16:56.387Z"
   },
   {
    "duration": 69,
    "start_time": "2022-05-21T15:16:56.403Z"
   },
   {
    "duration": 5,
    "start_time": "2022-05-21T15:16:58.490Z"
   },
   {
    "duration": 12,
    "start_time": "2022-05-21T15:16:58.803Z"
   },
   {
    "duration": 5,
    "start_time": "2022-05-21T15:30:57.299Z"
   },
   {
    "duration": 30,
    "start_time": "2022-05-21T15:30:58.160Z"
   },
   {
    "duration": 4,
    "start_time": "2022-05-21T15:31:32.725Z"
   },
   {
    "duration": 4,
    "start_time": "2022-05-21T15:31:38.439Z"
   },
   {
    "duration": 4,
    "start_time": "2022-05-21T15:32:00.286Z"
   },
   {
    "duration": 6,
    "start_time": "2022-05-21T15:35:54.368Z"
   },
   {
    "duration": 12,
    "start_time": "2022-05-21T15:36:40.368Z"
   },
   {
    "duration": 28,
    "start_time": "2022-05-21T15:39:56.174Z"
   },
   {
    "duration": 893,
    "start_time": "2022-05-21T15:40:47.708Z"
   },
   {
    "duration": 19,
    "start_time": "2022-05-21T15:40:48.603Z"
   },
   {
    "duration": 56,
    "start_time": "2022-05-21T15:40:48.624Z"
   },
   {
    "duration": 31,
    "start_time": "2022-05-21T15:40:48.682Z"
   },
   {
    "duration": 8,
    "start_time": "2022-05-21T15:40:48.715Z"
   },
   {
    "duration": 8,
    "start_time": "2022-05-21T15:40:48.724Z"
   },
   {
    "duration": 4,
    "start_time": "2022-05-21T15:40:48.733Z"
   },
   {
    "duration": 11,
    "start_time": "2022-05-21T15:40:48.759Z"
   },
   {
    "duration": 7,
    "start_time": "2022-05-21T15:40:48.772Z"
   },
   {
    "duration": 20,
    "start_time": "2022-05-21T15:40:48.781Z"
   },
   {
    "duration": 11,
    "start_time": "2022-05-21T15:40:48.858Z"
   },
   {
    "duration": 100,
    "start_time": "2022-05-21T15:40:48.875Z"
   },
   {
    "duration": 3,
    "start_time": "2022-05-21T15:40:48.977Z"
   },
   {
    "duration": 18,
    "start_time": "2022-05-21T15:40:48.982Z"
   },
   {
    "duration": 5,
    "start_time": "2022-05-21T15:40:49.001Z"
   },
   {
    "duration": 12,
    "start_time": "2022-05-21T15:40:49.007Z"
   },
   {
    "duration": 7,
    "start_time": "2022-05-21T15:40:49.021Z"
   },
   {
    "duration": 58,
    "start_time": "2022-05-22T12:02:47.581Z"
   },
   {
    "duration": 1037,
    "start_time": "2022-05-22T12:02:56.884Z"
   },
   {
    "duration": 99,
    "start_time": "2022-05-22T12:02:57.923Z"
   },
   {
    "duration": 70,
    "start_time": "2022-05-22T12:02:58.023Z"
   },
   {
    "duration": 32,
    "start_time": "2022-05-22T12:02:58.096Z"
   },
   {
    "duration": 8,
    "start_time": "2022-05-22T12:02:58.130Z"
   },
   {
    "duration": 9,
    "start_time": "2022-05-22T12:02:58.140Z"
   },
   {
    "duration": 4,
    "start_time": "2022-05-22T12:02:58.150Z"
   },
   {
    "duration": 45,
    "start_time": "2022-05-22T12:02:58.155Z"
   },
   {
    "duration": 4,
    "start_time": "2022-05-22T12:02:58.202Z"
   },
   {
    "duration": 89,
    "start_time": "2022-05-22T12:02:58.210Z"
   },
   {
    "duration": 8,
    "start_time": "2022-05-22T12:02:58.302Z"
   },
   {
    "duration": 14,
    "start_time": "2022-05-22T12:02:58.395Z"
   },
   {
    "duration": 113,
    "start_time": "2022-05-22T12:03:00.282Z"
   },
   {
    "duration": 3,
    "start_time": "2022-05-22T12:03:52.361Z"
   },
   {
    "duration": 21,
    "start_time": "2022-05-22T12:03:57.424Z"
   },
   {
    "duration": 4,
    "start_time": "2022-05-22T12:10:39.069Z"
   },
   {
    "duration": 6,
    "start_time": "2022-05-22T12:10:43.765Z"
   },
   {
    "duration": 5,
    "start_time": "2022-05-22T12:11:02.687Z"
   },
   {
    "duration": 6,
    "start_time": "2022-05-22T12:11:12.184Z"
   },
   {
    "duration": 27,
    "start_time": "2022-05-22T12:11:13.382Z"
   },
   {
    "duration": 4,
    "start_time": "2022-05-22T12:11:14.172Z"
   },
   {
    "duration": 4,
    "start_time": "2022-05-22T12:11:18.585Z"
   },
   {
    "duration": 5,
    "start_time": "2022-05-22T12:11:19.973Z"
   },
   {
    "duration": 22,
    "start_time": "2022-05-22T12:11:20.473Z"
   },
   {
    "duration": 5,
    "start_time": "2022-05-22T12:11:21.376Z"
   },
   {
    "duration": 5,
    "start_time": "2022-05-22T12:11:22.240Z"
   },
   {
    "duration": 5,
    "start_time": "2022-05-22T12:11:22.965Z"
   },
   {
    "duration": 21,
    "start_time": "2022-05-22T12:11:23.489Z"
   },
   {
    "duration": 5,
    "start_time": "2022-05-22T12:11:23.982Z"
   },
   {
    "duration": 5,
    "start_time": "2022-05-22T12:11:24.799Z"
   },
   {
    "duration": 5,
    "start_time": "2022-05-22T12:11:25.674Z"
   },
   {
    "duration": 6,
    "start_time": "2022-05-22T12:11:26.471Z"
   },
   {
    "duration": 6,
    "start_time": "2022-05-22T12:11:28.940Z"
   },
   {
    "duration": 4,
    "start_time": "2022-05-22T12:11:32.729Z"
   },
   {
    "duration": 4,
    "start_time": "2022-05-22T12:11:34.017Z"
   },
   {
    "duration": 7,
    "start_time": "2022-05-22T12:11:36.304Z"
   },
   {
    "duration": 5,
    "start_time": "2022-05-22T12:11:41.374Z"
   },
   {
    "duration": 5,
    "start_time": "2022-05-22T12:11:42.277Z"
   },
   {
    "duration": 6,
    "start_time": "2022-05-22T12:11:43.364Z"
   },
   {
    "duration": 5,
    "start_time": "2022-05-22T12:11:44.475Z"
   },
   {
    "duration": 6,
    "start_time": "2022-05-22T12:11:45.399Z"
   },
   {
    "duration": 4,
    "start_time": "2022-05-22T12:11:46.315Z"
   },
   {
    "duration": 11,
    "start_time": "2022-05-22T12:11:47.321Z"
   },
   {
    "duration": 7,
    "start_time": "2022-05-22T12:11:49.091Z"
   },
   {
    "duration": 6,
    "start_time": "2022-05-22T12:11:50.722Z"
   },
   {
    "duration": 5,
    "start_time": "2022-05-22T12:11:51.677Z"
   },
   {
    "duration": 6,
    "start_time": "2022-05-22T12:12:01.476Z"
   },
   {
    "duration": 5,
    "start_time": "2022-05-22T12:12:11.012Z"
   },
   {
    "duration": 5,
    "start_time": "2022-05-22T12:12:17.120Z"
   },
   {
    "duration": 5,
    "start_time": "2022-05-22T12:12:18.768Z"
   },
   {
    "duration": 5,
    "start_time": "2022-05-22T12:12:19.877Z"
   },
   {
    "duration": 9,
    "start_time": "2022-05-22T12:12:20.897Z"
   },
   {
    "duration": 5,
    "start_time": "2022-05-22T12:12:41.028Z"
   },
   {
    "duration": 10,
    "start_time": "2022-05-22T12:12:46.401Z"
   },
   {
    "duration": 5,
    "start_time": "2022-05-22T12:12:47.613Z"
   },
   {
    "duration": 13,
    "start_time": "2022-05-22T12:14:03.534Z"
   },
   {
    "duration": 5,
    "start_time": "2022-05-22T12:14:25.376Z"
   },
   {
    "duration": 4,
    "start_time": "2022-05-22T12:15:14.738Z"
   },
   {
    "duration": 3,
    "start_time": "2022-05-22T12:15:15.762Z"
   },
   {
    "duration": 21,
    "start_time": "2022-05-22T12:15:16.406Z"
   },
   {
    "duration": 5,
    "start_time": "2022-05-22T12:15:17.237Z"
   },
   {
    "duration": 4,
    "start_time": "2022-05-22T12:15:17.976Z"
   },
   {
    "duration": 13,
    "start_time": "2022-05-22T12:15:18.264Z"
   },
   {
    "duration": 5,
    "start_time": "2022-05-22T12:16:29.964Z"
   },
   {
    "duration": 5,
    "start_time": "2022-05-22T12:16:31.035Z"
   },
   {
    "duration": 5,
    "start_time": "2022-05-22T12:16:31.774Z"
   },
   {
    "duration": 4,
    "start_time": "2022-05-22T12:16:32.523Z"
   },
   {
    "duration": 4,
    "start_time": "2022-05-22T12:16:33.228Z"
   },
   {
    "duration": 6,
    "start_time": "2022-05-22T12:16:36.014Z"
   },
   {
    "duration": 4,
    "start_time": "2022-05-22T12:16:37.578Z"
   },
   {
    "duration": 13,
    "start_time": "2022-05-22T12:16:38.199Z"
   },
   {
    "duration": 4,
    "start_time": "2022-05-22T12:16:38.837Z"
   },
   {
    "duration": 5,
    "start_time": "2022-05-22T12:16:42.474Z"
   },
   {
    "duration": 8,
    "start_time": "2022-05-22T12:16:43.293Z"
   },
   {
    "duration": 3,
    "start_time": "2022-05-22T12:16:43.953Z"
   },
   {
    "duration": 3,
    "start_time": "2022-05-22T12:16:44.581Z"
   },
   {
    "duration": 3,
    "start_time": "2022-05-22T12:16:45.231Z"
   },
   {
    "duration": 3,
    "start_time": "2022-05-22T12:16:45.931Z"
   },
   {
    "duration": 7,
    "start_time": "2022-05-22T12:16:49.307Z"
   },
   {
    "duration": 6,
    "start_time": "2022-05-22T12:16:49.995Z"
   },
   {
    "duration": 5,
    "start_time": "2022-05-22T12:16:50.621Z"
   },
   {
    "duration": 6,
    "start_time": "2022-05-22T12:16:52.996Z"
   },
   {
    "duration": 4,
    "start_time": "2022-05-22T12:16:53.621Z"
   },
   {
    "duration": 4,
    "start_time": "2022-05-22T12:16:54.323Z"
   },
   {
    "duration": 4,
    "start_time": "2022-05-22T12:16:54.878Z"
   },
   {
    "duration": 5,
    "start_time": "2022-05-22T12:16:55.489Z"
   },
   {
    "duration": 18,
    "start_time": "2022-05-22T12:16:55.912Z"
   },
   {
    "duration": 4,
    "start_time": "2022-05-22T12:16:57.023Z"
   },
   {
    "duration": 5,
    "start_time": "2022-05-22T12:16:57.721Z"
   },
   {
    "duration": 5,
    "start_time": "2022-05-22T12:16:58.272Z"
   },
   {
    "duration": 5,
    "start_time": "2022-05-22T12:16:58.837Z"
   },
   {
    "duration": 4,
    "start_time": "2022-05-22T12:16:59.427Z"
   },
   {
    "duration": 13,
    "start_time": "2022-05-22T12:17:00.216Z"
   },
   {
    "duration": 6,
    "start_time": "2022-05-22T12:17:00.877Z"
   },
   {
    "duration": 5,
    "start_time": "2022-05-22T12:17:01.436Z"
   },
   {
    "duration": 5,
    "start_time": "2022-05-22T12:17:02.284Z"
   },
   {
    "duration": 4,
    "start_time": "2022-05-22T12:17:02.889Z"
   },
   {
    "duration": 4,
    "start_time": "2022-05-22T12:17:03.877Z"
   },
   {
    "duration": 5,
    "start_time": "2022-05-22T12:17:04.576Z"
   },
   {
    "duration": 3,
    "start_time": "2022-05-22T12:17:05.175Z"
   },
   {
    "duration": 5,
    "start_time": "2022-05-22T12:17:05.812Z"
   },
   {
    "duration": 4,
    "start_time": "2022-05-22T12:17:06.347Z"
   },
   {
    "duration": 5,
    "start_time": "2022-05-22T12:17:07.024Z"
   },
   {
    "duration": 11,
    "start_time": "2022-05-22T12:17:07.599Z"
   },
   {
    "duration": 4,
    "start_time": "2022-05-22T12:17:08.077Z"
   },
   {
    "duration": 9,
    "start_time": "2022-05-22T12:17:09.593Z"
   },
   {
    "duration": 4,
    "start_time": "2022-05-22T12:17:10.083Z"
   },
   {
    "duration": 5,
    "start_time": "2022-05-22T12:17:12.726Z"
   },
   {
    "duration": 5,
    "start_time": "2022-05-22T12:17:15.088Z"
   },
   {
    "duration": 6,
    "start_time": "2022-05-22T12:17:49.676Z"
   },
   {
    "duration": 5,
    "start_time": "2022-05-22T12:17:50.708Z"
   },
   {
    "duration": 5,
    "start_time": "2022-05-22T12:17:51.281Z"
   },
   {
    "duration": 5,
    "start_time": "2022-05-22T12:17:51.779Z"
   },
   {
    "duration": 5,
    "start_time": "2022-05-22T12:17:52.277Z"
   },
   {
    "duration": 5,
    "start_time": "2022-05-22T12:17:52.781Z"
   },
   {
    "duration": 5,
    "start_time": "2022-05-22T12:17:53.309Z"
   },
   {
    "duration": 7,
    "start_time": "2022-05-22T12:17:53.792Z"
   },
   {
    "duration": 4,
    "start_time": "2022-05-22T12:17:54.313Z"
   },
   {
    "duration": 4,
    "start_time": "2022-05-22T12:17:55.032Z"
   },
   {
    "duration": 5,
    "start_time": "2022-05-22T12:17:55.572Z"
   },
   {
    "duration": 5,
    "start_time": "2022-05-22T12:17:55.991Z"
   },
   {
    "duration": 5,
    "start_time": "2022-05-22T12:17:56.682Z"
   },
   {
    "duration": 6,
    "start_time": "2022-05-22T12:17:57.237Z"
   },
   {
    "duration": 5,
    "start_time": "2022-05-22T12:17:57.719Z"
   },
   {
    "duration": 5,
    "start_time": "2022-05-22T12:17:58.228Z"
   },
   {
    "duration": 4,
    "start_time": "2022-05-22T12:17:58.733Z"
   },
   {
    "duration": 4,
    "start_time": "2022-05-22T12:17:59.267Z"
   },
   {
    "duration": 6,
    "start_time": "2022-05-22T12:17:59.779Z"
   },
   {
    "duration": 6,
    "start_time": "2022-05-22T12:18:00.272Z"
   },
   {
    "duration": 5,
    "start_time": "2022-05-22T12:18:00.718Z"
   },
   {
    "duration": 4,
    "start_time": "2022-05-22T12:18:01.168Z"
   },
   {
    "duration": 5,
    "start_time": "2022-05-22T12:18:01.606Z"
   },
   {
    "duration": 5,
    "start_time": "2022-05-22T12:18:02.208Z"
   },
   {
    "duration": 4,
    "start_time": "2022-05-22T12:18:02.758Z"
   },
   {
    "duration": 5,
    "start_time": "2022-05-22T12:18:03.235Z"
   },
   {
    "duration": 5,
    "start_time": "2022-05-22T12:18:03.769Z"
   },
   {
    "duration": 5,
    "start_time": "2022-05-22T12:18:04.314Z"
   },
   {
    "duration": 5,
    "start_time": "2022-05-22T12:18:04.880Z"
   },
   {
    "duration": 5,
    "start_time": "2022-05-22T12:18:05.380Z"
   },
   {
    "duration": 4,
    "start_time": "2022-05-22T12:18:05.914Z"
   },
   {
    "duration": 4,
    "start_time": "2022-05-22T12:18:06.371Z"
   },
   {
    "duration": 5,
    "start_time": "2022-05-22T12:18:06.936Z"
   },
   {
    "duration": 9,
    "start_time": "2022-05-22T12:18:07.393Z"
   },
   {
    "duration": 4,
    "start_time": "2022-05-22T12:18:07.964Z"
   },
   {
    "duration": 11,
    "start_time": "2022-05-22T12:18:08.401Z"
   },
   {
    "duration": 6,
    "start_time": "2022-05-22T12:18:08.909Z"
   },
   {
    "duration": 5,
    "start_time": "2022-05-22T12:18:09.374Z"
   },
   {
    "duration": 5,
    "start_time": "2022-05-22T12:18:09.875Z"
   },
   {
    "duration": 5,
    "start_time": "2022-05-22T12:18:10.561Z"
   },
   {
    "duration": 4,
    "start_time": "2022-05-22T12:18:11.231Z"
   },
   {
    "duration": 5,
    "start_time": "2022-05-22T12:18:12.331Z"
   },
   {
    "duration": 4,
    "start_time": "2022-05-22T12:18:12.837Z"
   },
   {
    "duration": 4,
    "start_time": "2022-05-22T12:18:13.336Z"
   },
   {
    "duration": 5,
    "start_time": "2022-05-22T12:18:13.920Z"
   },
   {
    "duration": 4,
    "start_time": "2022-05-22T12:18:14.484Z"
   },
   {
    "duration": 5,
    "start_time": "2022-05-22T12:18:15.070Z"
   },
   {
    "duration": 5,
    "start_time": "2022-05-22T12:18:15.567Z"
   },
   {
    "duration": 8,
    "start_time": "2022-05-22T12:18:16.089Z"
   },
   {
    "duration": 4,
    "start_time": "2022-05-22T12:18:16.585Z"
   },
   {
    "duration": 6,
    "start_time": "2022-05-22T12:18:17.124Z"
   },
   {
    "duration": 7,
    "start_time": "2022-05-22T12:18:17.605Z"
   },
   {
    "duration": 6,
    "start_time": "2022-05-22T12:18:18.828Z"
   },
   {
    "duration": 5,
    "start_time": "2022-05-22T12:18:19.225Z"
   },
   {
    "duration": 5,
    "start_time": "2022-05-22T12:18:19.635Z"
   },
   {
    "duration": 4,
    "start_time": "2022-05-22T12:18:20.084Z"
   },
   {
    "duration": 6,
    "start_time": "2022-05-22T12:18:20.718Z"
   },
   {
    "duration": 4,
    "start_time": "2022-05-22T12:18:21.235Z"
   },
   {
    "duration": 5,
    "start_time": "2022-05-22T12:18:21.677Z"
   },
   {
    "duration": 6,
    "start_time": "2022-05-22T12:18:22.080Z"
   },
   {
    "duration": 6,
    "start_time": "2022-05-22T12:18:22.572Z"
   },
   {
    "duration": 5,
    "start_time": "2022-05-22T12:18:23.169Z"
   },
   {
    "duration": 5,
    "start_time": "2022-05-22T12:18:23.638Z"
   },
   {
    "duration": 5,
    "start_time": "2022-05-22T12:18:24.141Z"
   },
   {
    "duration": 5,
    "start_time": "2022-05-22T12:18:24.718Z"
   },
   {
    "duration": 5,
    "start_time": "2022-05-22T12:18:25.222Z"
   },
   {
    "duration": 3,
    "start_time": "2022-05-22T12:18:25.768Z"
   },
   {
    "duration": 5,
    "start_time": "2022-05-22T12:18:26.208Z"
   },
   {
    "duration": 4,
    "start_time": "2022-05-22T12:18:26.772Z"
   },
   {
    "duration": 4,
    "start_time": "2022-05-22T12:18:27.272Z"
   },
   {
    "duration": 4,
    "start_time": "2022-05-22T12:18:27.781Z"
   },
   {
    "duration": 16,
    "start_time": "2022-05-22T12:18:28.193Z"
   },
   {
    "duration": 5,
    "start_time": "2022-05-22T12:18:28.706Z"
   },
   {
    "duration": 3,
    "start_time": "2022-05-22T12:18:29.141Z"
   },
   {
    "duration": 3,
    "start_time": "2022-05-22T12:18:29.576Z"
   },
   {
    "duration": 7,
    "start_time": "2022-05-22T12:18:30.018Z"
   },
   {
    "duration": 4,
    "start_time": "2022-05-22T12:18:30.412Z"
   },
   {
    "duration": 4,
    "start_time": "2022-05-22T12:18:30.777Z"
   },
   {
    "duration": 3,
    "start_time": "2022-05-22T12:18:31.327Z"
   },
   {
    "duration": 4,
    "start_time": "2022-05-22T12:18:31.778Z"
   },
   {
    "duration": 6,
    "start_time": "2022-05-22T12:18:32.185Z"
   },
   {
    "duration": 4,
    "start_time": "2022-05-22T12:18:32.786Z"
   },
   {
    "duration": 7,
    "start_time": "2022-05-22T12:18:33.223Z"
   },
   {
    "duration": 7,
    "start_time": "2022-05-22T12:19:10.095Z"
   },
   {
    "duration": 4,
    "start_time": "2022-05-22T12:19:11.573Z"
   },
   {
    "duration": 4,
    "start_time": "2022-05-22T12:19:12.074Z"
   },
   {
    "duration": 8,
    "start_time": "2022-05-22T12:19:12.517Z"
   },
   {
    "duration": 3,
    "start_time": "2022-05-22T12:19:13.035Z"
   },
   {
    "duration": 4,
    "start_time": "2022-05-22T12:20:06.862Z"
   },
   {
    "duration": 4,
    "start_time": "2022-05-22T12:21:54.315Z"
   },
   {
    "duration": 5,
    "start_time": "2022-05-22T12:21:57.784Z"
   },
   {
    "duration": 4,
    "start_time": "2022-05-22T12:21:59.280Z"
   },
   {
    "duration": 964,
    "start_time": "2022-05-22T12:23:23.774Z"
   },
   {
    "duration": 29,
    "start_time": "2022-05-22T12:23:24.740Z"
   },
   {
    "duration": 74,
    "start_time": "2022-05-22T12:23:24.771Z"
   },
   {
    "duration": 36,
    "start_time": "2022-05-22T12:23:24.847Z"
   },
   {
    "duration": 19,
    "start_time": "2022-05-22T12:23:24.885Z"
   },
   {
    "duration": 21,
    "start_time": "2022-05-22T12:23:24.906Z"
   },
   {
    "duration": 4,
    "start_time": "2022-05-22T12:23:24.929Z"
   },
   {
    "duration": 18,
    "start_time": "2022-05-22T12:23:24.935Z"
   },
   {
    "duration": 7,
    "start_time": "2022-05-22T12:23:24.955Z"
   },
   {
    "duration": 50,
    "start_time": "2022-05-22T12:23:24.965Z"
   },
   {
    "duration": 101,
    "start_time": "2022-05-22T12:23:25.023Z"
   },
   {
    "duration": 14,
    "start_time": "2022-05-22T12:23:25.126Z"
   },
   {
    "duration": 7,
    "start_time": "2022-05-22T12:23:25.142Z"
   },
   {
    "duration": 57,
    "start_time": "2022-05-22T12:23:25.150Z"
   },
   {
    "duration": 6,
    "start_time": "2022-05-22T12:23:25.209Z"
   },
   {
    "duration": 15,
    "start_time": "2022-05-22T12:23:25.216Z"
   },
   {
    "duration": 7,
    "start_time": "2022-05-22T12:23:25.233Z"
   },
   {
    "duration": 111,
    "start_time": "2022-05-22T12:25:45.868Z"
   },
   {
    "duration": 897,
    "start_time": "2022-05-22T12:25:51.441Z"
   },
   {
    "duration": 28,
    "start_time": "2022-05-22T12:25:52.340Z"
   },
   {
    "duration": 71,
    "start_time": "2022-05-22T12:25:52.370Z"
   },
   {
    "duration": 31,
    "start_time": "2022-05-22T12:25:52.443Z"
   },
   {
    "duration": 8,
    "start_time": "2022-05-22T12:25:52.476Z"
   },
   {
    "duration": 10,
    "start_time": "2022-05-22T12:25:52.494Z"
   },
   {
    "duration": 18,
    "start_time": "2022-05-22T12:25:52.506Z"
   },
   {
    "duration": 16,
    "start_time": "2022-05-22T12:25:52.526Z"
   },
   {
    "duration": 4,
    "start_time": "2022-05-22T12:25:52.544Z"
   },
   {
    "duration": 51,
    "start_time": "2022-05-22T12:25:52.550Z"
   },
   {
    "duration": 93,
    "start_time": "2022-05-22T12:25:52.603Z"
   },
   {
    "duration": 27,
    "start_time": "2022-05-22T12:25:52.698Z"
   },
   {
    "duration": 4,
    "start_time": "2022-05-22T12:25:52.727Z"
   },
   {
    "duration": 124,
    "start_time": "2022-05-22T12:25:52.733Z"
   },
   {
    "duration": 0,
    "start_time": "2022-05-22T12:25:52.859Z"
   },
   {
    "duration": 0,
    "start_time": "2022-05-22T12:25:52.860Z"
   },
   {
    "duration": 0,
    "start_time": "2022-05-22T12:25:52.861Z"
   },
   {
    "duration": 17,
    "start_time": "2022-05-22T12:26:01.012Z"
   },
   {
    "duration": 8,
    "start_time": "2022-05-22T12:28:17.685Z"
   },
   {
    "duration": 9,
    "start_time": "2022-05-22T12:28:24.071Z"
   },
   {
    "duration": 10,
    "start_time": "2022-05-22T12:28:51.754Z"
   },
   {
    "duration": 9,
    "start_time": "2022-05-22T12:29:06.195Z"
   },
   {
    "duration": 9,
    "start_time": "2022-05-22T12:29:09.316Z"
   },
   {
    "duration": 3,
    "start_time": "2022-05-22T12:34:20.578Z"
   },
   {
    "duration": 8,
    "start_time": "2022-05-22T12:34:36.910Z"
   },
   {
    "duration": 13,
    "start_time": "2022-05-22T12:34:53.531Z"
   },
   {
    "duration": 1080,
    "start_time": "2022-05-22T12:35:06.992Z"
   },
   {
    "duration": 31,
    "start_time": "2022-05-22T12:35:08.074Z"
   },
   {
    "duration": 69,
    "start_time": "2022-05-22T12:35:08.107Z"
   },
   {
    "duration": 47,
    "start_time": "2022-05-22T12:35:08.179Z"
   },
   {
    "duration": 11,
    "start_time": "2022-05-22T12:35:08.228Z"
   },
   {
    "duration": 16,
    "start_time": "2022-05-22T12:35:08.240Z"
   },
   {
    "duration": 5,
    "start_time": "2022-05-22T12:35:08.258Z"
   },
   {
    "duration": 29,
    "start_time": "2022-05-22T12:35:08.265Z"
   },
   {
    "duration": 5,
    "start_time": "2022-05-22T12:35:08.297Z"
   },
   {
    "duration": 19,
    "start_time": "2022-05-22T12:35:08.305Z"
   },
   {
    "duration": 14,
    "start_time": "2022-05-22T12:35:08.396Z"
   },
   {
    "duration": 100,
    "start_time": "2022-05-22T12:35:08.412Z"
   },
   {
    "duration": 5,
    "start_time": "2022-05-22T12:35:08.515Z"
   },
   {
    "duration": 7,
    "start_time": "2022-05-22T12:35:10.419Z"
   },
   {
    "duration": 5,
    "start_time": "2022-05-22T12:35:10.826Z"
   },
   {
    "duration": 119,
    "start_time": "2022-05-22T12:35:11.277Z"
   },
   {
    "duration": 19,
    "start_time": "2022-05-22T12:35:56.211Z"
   },
   {
    "duration": 24,
    "start_time": "2022-05-22T12:36:04.572Z"
   },
   {
    "duration": 17,
    "start_time": "2022-05-22T12:36:07.323Z"
   },
   {
    "duration": 5,
    "start_time": "2022-05-22T12:36:17.570Z"
   },
   {
    "duration": 3,
    "start_time": "2022-05-22T12:36:59.275Z"
   },
   {
    "duration": 8,
    "start_time": "2022-05-22T12:37:07.941Z"
   },
   {
    "duration": 912,
    "start_time": "2022-05-22T12:39:04.301Z"
   },
   {
    "duration": 30,
    "start_time": "2022-05-22T12:39:05.216Z"
   },
   {
    "duration": 83,
    "start_time": "2022-05-22T12:39:05.248Z"
   },
   {
    "duration": 37,
    "start_time": "2022-05-22T12:39:05.333Z"
   },
   {
    "duration": 22,
    "start_time": "2022-05-22T12:39:05.375Z"
   },
   {
    "duration": 10,
    "start_time": "2022-05-22T12:39:05.399Z"
   },
   {
    "duration": 18,
    "start_time": "2022-05-22T12:39:05.410Z"
   },
   {
    "duration": 20,
    "start_time": "2022-05-22T12:39:05.431Z"
   },
   {
    "duration": 13,
    "start_time": "2022-05-22T12:39:05.453Z"
   },
   {
    "duration": 38,
    "start_time": "2022-05-22T12:39:05.471Z"
   },
   {
    "duration": 7,
    "start_time": "2022-05-22T12:39:05.514Z"
   },
   {
    "duration": 30,
    "start_time": "2022-05-22T12:39:05.595Z"
   },
   {
    "duration": 5,
    "start_time": "2022-05-22T12:39:05.627Z"
   },
   {
    "duration": 73,
    "start_time": "2022-05-22T12:39:05.634Z"
   },
   {
    "duration": 6,
    "start_time": "2022-05-22T12:39:05.708Z"
   },
   {
    "duration": 17,
    "start_time": "2022-05-22T12:39:05.715Z"
   },
   {
    "duration": 12,
    "start_time": "2022-05-22T12:39:05.734Z"
   },
   {
    "duration": 4,
    "start_time": "2022-05-22T12:40:06.783Z"
   },
   {
    "duration": 12,
    "start_time": "2022-05-22T12:40:11.576Z"
   },
   {
    "duration": 8,
    "start_time": "2022-05-22T12:40:14.267Z"
   }
  ],
  "kernelspec": {
   "display_name": "Python 3 (ipykernel)",
   "language": "python",
   "name": "python3"
  },
  "language_info": {
   "codemirror_mode": {
    "name": "ipython",
    "version": 3
   },
   "file_extension": ".py",
   "mimetype": "text/x-python",
   "name": "python",
   "nbconvert_exporter": "python",
   "pygments_lexer": "ipython3",
   "version": "3.9.7"
  },
  "toc": {
   "base_numbering": 1,
   "nav_menu": {},
   "number_sections": true,
   "sideBar": true,
   "skip_h1_title": true,
   "title_cell": "Содержание",
   "title_sidebar": "Contents",
   "toc_cell": false,
   "toc_position": {},
   "toc_section_display": true,
   "toc_window_display": true
  }
 },
 "nbformat": 4,
 "nbformat_minor": 2
}
