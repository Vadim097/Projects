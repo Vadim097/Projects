{
 "cells": [
  {
   "cell_type": "markdown",
   "metadata": {},
   "source": [
    "# Acceptance of the most profitable oil production region"
   ]
  },
  {
   "cell_type": "markdown",
   "metadata": {},
   "source": [
    "Oil company G is looking for a location for a new oil well.\n",
    "\n",
    "There are oil samples in three regions: in each 10,000 deposits, where the quality of oil and the volume of its reserves were measured. It is necessary to choose the deposit with the highest volume of reserves. The number of fields depends on the company's budget and the cost of developing one well.\n",
    "\n",
    "**Survey target** \n",
    "\n",
    "To build a machine learning model that will help determine the region where mining will bring the greatest profit.\n",
    "\n",
    "**Research progress**\n",
    "\n",
    " 1. Data review\n",
    " 2. Data preprocessing\n",
    " 3. Train and validate the model\n",
    " 4. Calculation of profit and loss hazard\n"
   ]
  },
  {
   "cell_type": "markdown",
   "metadata": {},
   "source": [
    "## Data review"
   ]
  },
  {
   "cell_type": "code",
   "execution_count": 1,
   "metadata": {},
   "outputs": [],
   "source": [
    "import pandas as pd\n",
    "import numpy as np\n",
    "import matplotlib.pyplot as plt\n",
    "import seaborn as sns\n",
    "\n",
    "from sklearn.linear_model import LinearRegression\n",
    "from sklearn.model_selection import train_test_split\n",
    "from sklearn.model_selection import GridSearchCV\n",
    "from scipy import stats as st\n",
    "from sklearn.model_selection import RandomizedSearchCV\n",
    "from sklearn.metrics import mean_squared_error\n",
    "from sklearn.metrics import f1_score\n",
    "from sklearn.metrics import roc_curve\n",
    "from sklearn.metrics import roc_auc_score\n",
    "from sklearn.preprocessing import StandardScaler\n",
    "from sklearn.utils import shuffle\n",
    "from numpy import math\n",
    "\n",
    "import warnings\n",
    "warnings.filterwarnings(\"ignore\", category=FutureWarning)\n",
    "warnings.filterwarnings(\"ignore\", category=UserWarning)"
   ]
  },
  {
   "cell_type": "code",
   "execution_count": 2,
   "metadata": {},
   "outputs": [],
   "source": [
    "geo_data_1 = pd.read_csv(r'C:\\Users\\Vadim\\Documents\\Datasets\\geo_data_0.csv')  # данные геологоразведки 1 региона\n",
    "geo_data_2 = pd.read_csv(r'C:\\Users\\Vadim\\Documents\\Datasets\\geo_data_1.csv')  # данные геологоразведки 2 региона\n",
    "geo_data_3 = pd.read_csv(r'C:\\Users\\Vadim\\Documents\\Datasets\\geo_data_2.csv')  # данные геологоразведки 3 региона"
   ]
  },
  {
   "cell_type": "code",
   "execution_count": 3,
   "metadata": {
    "scrolled": true
   },
   "outputs": [
    {
     "name": "stdout",
     "output_type": "stream",
     "text": [
      "<class 'pandas.core.frame.DataFrame'>\n",
      "RangeIndex: 100000 entries, 0 to 99999\n",
      "Data columns (total 5 columns):\n",
      " #   Column   Non-Null Count   Dtype  \n",
      "---  ------   --------------   -----  \n",
      " 0   id       100000 non-null  object \n",
      " 1   f0       100000 non-null  float64\n",
      " 2   f1       100000 non-null  float64\n",
      " 3   f2       100000 non-null  float64\n",
      " 4   product  100000 non-null  float64\n",
      "dtypes: float64(4), object(1)\n",
      "memory usage: 3.8+ MB\n"
     ]
    },
    {
     "data": {
      "text/plain": [
       "None"
      ]
     },
     "metadata": {},
     "output_type": "display_data"
    },
    {
     "data": {
      "text/html": [
       "<div>\n",
       "<style scoped>\n",
       "    .dataframe tbody tr th:only-of-type {\n",
       "        vertical-align: middle;\n",
       "    }\n",
       "\n",
       "    .dataframe tbody tr th {\n",
       "        vertical-align: top;\n",
       "    }\n",
       "\n",
       "    .dataframe thead th {\n",
       "        text-align: right;\n",
       "    }\n",
       "</style>\n",
       "<table border=\"1\" class=\"dataframe\">\n",
       "  <thead>\n",
       "    <tr style=\"text-align: right;\">\n",
       "      <th></th>\n",
       "      <th>id</th>\n",
       "      <th>f0</th>\n",
       "      <th>f1</th>\n",
       "      <th>f2</th>\n",
       "      <th>product</th>\n",
       "    </tr>\n",
       "  </thead>\n",
       "  <tbody>\n",
       "    <tr>\n",
       "      <th>0</th>\n",
       "      <td>txEyH</td>\n",
       "      <td>0.705745</td>\n",
       "      <td>-0.497823</td>\n",
       "      <td>1.221170</td>\n",
       "      <td>105.280062</td>\n",
       "    </tr>\n",
       "    <tr>\n",
       "      <th>1</th>\n",
       "      <td>2acmU</td>\n",
       "      <td>1.334711</td>\n",
       "      <td>-0.340164</td>\n",
       "      <td>4.365080</td>\n",
       "      <td>73.037750</td>\n",
       "    </tr>\n",
       "    <tr>\n",
       "      <th>2</th>\n",
       "      <td>409Wp</td>\n",
       "      <td>1.022732</td>\n",
       "      <td>0.151990</td>\n",
       "      <td>1.419926</td>\n",
       "      <td>85.265647</td>\n",
       "    </tr>\n",
       "    <tr>\n",
       "      <th>3</th>\n",
       "      <td>iJLyR</td>\n",
       "      <td>-0.032172</td>\n",
       "      <td>0.139033</td>\n",
       "      <td>2.978566</td>\n",
       "      <td>168.620776</td>\n",
       "    </tr>\n",
       "    <tr>\n",
       "      <th>4</th>\n",
       "      <td>Xdl7t</td>\n",
       "      <td>1.988431</td>\n",
       "      <td>0.155413</td>\n",
       "      <td>4.751769</td>\n",
       "      <td>154.036647</td>\n",
       "    </tr>\n",
       "  </tbody>\n",
       "</table>\n",
       "</div>"
      ],
      "text/plain": [
       "      id        f0        f1        f2     product\n",
       "0  txEyH  0.705745 -0.497823  1.221170  105.280062\n",
       "1  2acmU  1.334711 -0.340164  4.365080   73.037750\n",
       "2  409Wp  1.022732  0.151990  1.419926   85.265647\n",
       "3  iJLyR -0.032172  0.139033  2.978566  168.620776\n",
       "4  Xdl7t  1.988431  0.155413  4.751769  154.036647"
      ]
     },
     "metadata": {},
     "output_type": "display_data"
    },
    {
     "data": {
      "text/html": [
       "<div>\n",
       "<style scoped>\n",
       "    .dataframe tbody tr th:only-of-type {\n",
       "        vertical-align: middle;\n",
       "    }\n",
       "\n",
       "    .dataframe tbody tr th {\n",
       "        vertical-align: top;\n",
       "    }\n",
       "\n",
       "    .dataframe thead th {\n",
       "        text-align: right;\n",
       "    }\n",
       "</style>\n",
       "<table border=\"1\" class=\"dataframe\">\n",
       "  <thead>\n",
       "    <tr style=\"text-align: right;\">\n",
       "      <th></th>\n",
       "      <th>f0</th>\n",
       "      <th>f1</th>\n",
       "      <th>f2</th>\n",
       "      <th>product</th>\n",
       "    </tr>\n",
       "  </thead>\n",
       "  <tbody>\n",
       "    <tr>\n",
       "      <th>count</th>\n",
       "      <td>100000.000000</td>\n",
       "      <td>100000.000000</td>\n",
       "      <td>100000.000000</td>\n",
       "      <td>100000.000000</td>\n",
       "    </tr>\n",
       "    <tr>\n",
       "      <th>mean</th>\n",
       "      <td>0.500419</td>\n",
       "      <td>0.250143</td>\n",
       "      <td>2.502647</td>\n",
       "      <td>92.500000</td>\n",
       "    </tr>\n",
       "    <tr>\n",
       "      <th>std</th>\n",
       "      <td>0.871832</td>\n",
       "      <td>0.504433</td>\n",
       "      <td>3.248248</td>\n",
       "      <td>44.288691</td>\n",
       "    </tr>\n",
       "    <tr>\n",
       "      <th>min</th>\n",
       "      <td>-1.408605</td>\n",
       "      <td>-0.848218</td>\n",
       "      <td>-12.088328</td>\n",
       "      <td>0.000000</td>\n",
       "    </tr>\n",
       "    <tr>\n",
       "      <th>25%</th>\n",
       "      <td>-0.072580</td>\n",
       "      <td>-0.200881</td>\n",
       "      <td>0.287748</td>\n",
       "      <td>56.497507</td>\n",
       "    </tr>\n",
       "    <tr>\n",
       "      <th>50%</th>\n",
       "      <td>0.502360</td>\n",
       "      <td>0.250252</td>\n",
       "      <td>2.515969</td>\n",
       "      <td>91.849972</td>\n",
       "    </tr>\n",
       "    <tr>\n",
       "      <th>75%</th>\n",
       "      <td>1.073581</td>\n",
       "      <td>0.700646</td>\n",
       "      <td>4.715088</td>\n",
       "      <td>128.564089</td>\n",
       "    </tr>\n",
       "    <tr>\n",
       "      <th>max</th>\n",
       "      <td>2.362331</td>\n",
       "      <td>1.343769</td>\n",
       "      <td>16.003790</td>\n",
       "      <td>185.364347</td>\n",
       "    </tr>\n",
       "  </tbody>\n",
       "</table>\n",
       "</div>"
      ],
      "text/plain": [
       "                  f0             f1             f2        product\n",
       "count  100000.000000  100000.000000  100000.000000  100000.000000\n",
       "mean        0.500419       0.250143       2.502647      92.500000\n",
       "std         0.871832       0.504433       3.248248      44.288691\n",
       "min        -1.408605      -0.848218     -12.088328       0.000000\n",
       "25%        -0.072580      -0.200881       0.287748      56.497507\n",
       "50%         0.502360       0.250252       2.515969      91.849972\n",
       "75%         1.073581       0.700646       4.715088     128.564089\n",
       "max         2.362331       1.343769      16.003790     185.364347"
      ]
     },
     "metadata": {},
     "output_type": "display_data"
    },
    {
     "data": {
      "text/plain": [
       "False    100000\n",
       "dtype: int64"
      ]
     },
     "metadata": {},
     "output_type": "display_data"
    },
    {
     "name": "stdout",
     "output_type": "stream",
     "text": [
      "=========================================================\n",
      "<class 'pandas.core.frame.DataFrame'>\n",
      "RangeIndex: 100000 entries, 0 to 99999\n",
      "Data columns (total 5 columns):\n",
      " #   Column   Non-Null Count   Dtype  \n",
      "---  ------   --------------   -----  \n",
      " 0   id       100000 non-null  object \n",
      " 1   f0       100000 non-null  float64\n",
      " 2   f1       100000 non-null  float64\n",
      " 3   f2       100000 non-null  float64\n",
      " 4   product  100000 non-null  float64\n",
      "dtypes: float64(4), object(1)\n",
      "memory usage: 3.8+ MB\n"
     ]
    },
    {
     "data": {
      "text/plain": [
       "None"
      ]
     },
     "metadata": {},
     "output_type": "display_data"
    },
    {
     "data": {
      "text/html": [
       "<div>\n",
       "<style scoped>\n",
       "    .dataframe tbody tr th:only-of-type {\n",
       "        vertical-align: middle;\n",
       "    }\n",
       "\n",
       "    .dataframe tbody tr th {\n",
       "        vertical-align: top;\n",
       "    }\n",
       "\n",
       "    .dataframe thead th {\n",
       "        text-align: right;\n",
       "    }\n",
       "</style>\n",
       "<table border=\"1\" class=\"dataframe\">\n",
       "  <thead>\n",
       "    <tr style=\"text-align: right;\">\n",
       "      <th></th>\n",
       "      <th>id</th>\n",
       "      <th>f0</th>\n",
       "      <th>f1</th>\n",
       "      <th>f2</th>\n",
       "      <th>product</th>\n",
       "    </tr>\n",
       "  </thead>\n",
       "  <tbody>\n",
       "    <tr>\n",
       "      <th>0</th>\n",
       "      <td>kBEdx</td>\n",
       "      <td>-15.001348</td>\n",
       "      <td>-8.276000</td>\n",
       "      <td>-0.005876</td>\n",
       "      <td>3.179103</td>\n",
       "    </tr>\n",
       "    <tr>\n",
       "      <th>1</th>\n",
       "      <td>62mP7</td>\n",
       "      <td>14.272088</td>\n",
       "      <td>-3.475083</td>\n",
       "      <td>0.999183</td>\n",
       "      <td>26.953261</td>\n",
       "    </tr>\n",
       "    <tr>\n",
       "      <th>2</th>\n",
       "      <td>vyE1P</td>\n",
       "      <td>6.263187</td>\n",
       "      <td>-5.948386</td>\n",
       "      <td>5.001160</td>\n",
       "      <td>134.766305</td>\n",
       "    </tr>\n",
       "    <tr>\n",
       "      <th>3</th>\n",
       "      <td>KcrkZ</td>\n",
       "      <td>-13.081196</td>\n",
       "      <td>-11.506057</td>\n",
       "      <td>4.999415</td>\n",
       "      <td>137.945408</td>\n",
       "    </tr>\n",
       "    <tr>\n",
       "      <th>4</th>\n",
       "      <td>AHL4O</td>\n",
       "      <td>12.702195</td>\n",
       "      <td>-8.147433</td>\n",
       "      <td>5.004363</td>\n",
       "      <td>134.766305</td>\n",
       "    </tr>\n",
       "  </tbody>\n",
       "</table>\n",
       "</div>"
      ],
      "text/plain": [
       "      id         f0         f1        f2     product\n",
       "0  kBEdx -15.001348  -8.276000 -0.005876    3.179103\n",
       "1  62mP7  14.272088  -3.475083  0.999183   26.953261\n",
       "2  vyE1P   6.263187  -5.948386  5.001160  134.766305\n",
       "3  KcrkZ -13.081196 -11.506057  4.999415  137.945408\n",
       "4  AHL4O  12.702195  -8.147433  5.004363  134.766305"
      ]
     },
     "metadata": {},
     "output_type": "display_data"
    },
    {
     "data": {
      "text/html": [
       "<div>\n",
       "<style scoped>\n",
       "    .dataframe tbody tr th:only-of-type {\n",
       "        vertical-align: middle;\n",
       "    }\n",
       "\n",
       "    .dataframe tbody tr th {\n",
       "        vertical-align: top;\n",
       "    }\n",
       "\n",
       "    .dataframe thead th {\n",
       "        text-align: right;\n",
       "    }\n",
       "</style>\n",
       "<table border=\"1\" class=\"dataframe\">\n",
       "  <thead>\n",
       "    <tr style=\"text-align: right;\">\n",
       "      <th></th>\n",
       "      <th>f0</th>\n",
       "      <th>f1</th>\n",
       "      <th>f2</th>\n",
       "      <th>product</th>\n",
       "    </tr>\n",
       "  </thead>\n",
       "  <tbody>\n",
       "    <tr>\n",
       "      <th>count</th>\n",
       "      <td>100000.000000</td>\n",
       "      <td>100000.000000</td>\n",
       "      <td>100000.000000</td>\n",
       "      <td>100000.000000</td>\n",
       "    </tr>\n",
       "    <tr>\n",
       "      <th>mean</th>\n",
       "      <td>1.141296</td>\n",
       "      <td>-4.796579</td>\n",
       "      <td>2.494541</td>\n",
       "      <td>68.825000</td>\n",
       "    </tr>\n",
       "    <tr>\n",
       "      <th>std</th>\n",
       "      <td>8.965932</td>\n",
       "      <td>5.119872</td>\n",
       "      <td>1.703572</td>\n",
       "      <td>45.944423</td>\n",
       "    </tr>\n",
       "    <tr>\n",
       "      <th>min</th>\n",
       "      <td>-31.609576</td>\n",
       "      <td>-26.358598</td>\n",
       "      <td>-0.018144</td>\n",
       "      <td>0.000000</td>\n",
       "    </tr>\n",
       "    <tr>\n",
       "      <th>25%</th>\n",
       "      <td>-6.298551</td>\n",
       "      <td>-8.267985</td>\n",
       "      <td>1.000021</td>\n",
       "      <td>26.953261</td>\n",
       "    </tr>\n",
       "    <tr>\n",
       "      <th>50%</th>\n",
       "      <td>1.153055</td>\n",
       "      <td>-4.813172</td>\n",
       "      <td>2.011479</td>\n",
       "      <td>57.085625</td>\n",
       "    </tr>\n",
       "    <tr>\n",
       "      <th>75%</th>\n",
       "      <td>8.621015</td>\n",
       "      <td>-1.332816</td>\n",
       "      <td>3.999904</td>\n",
       "      <td>107.813044</td>\n",
       "    </tr>\n",
       "    <tr>\n",
       "      <th>max</th>\n",
       "      <td>29.421755</td>\n",
       "      <td>18.734063</td>\n",
       "      <td>5.019721</td>\n",
       "      <td>137.945408</td>\n",
       "    </tr>\n",
       "  </tbody>\n",
       "</table>\n",
       "</div>"
      ],
      "text/plain": [
       "                  f0             f1             f2        product\n",
       "count  100000.000000  100000.000000  100000.000000  100000.000000\n",
       "mean        1.141296      -4.796579       2.494541      68.825000\n",
       "std         8.965932       5.119872       1.703572      45.944423\n",
       "min       -31.609576     -26.358598      -0.018144       0.000000\n",
       "25%        -6.298551      -8.267985       1.000021      26.953261\n",
       "50%         1.153055      -4.813172       2.011479      57.085625\n",
       "75%         8.621015      -1.332816       3.999904     107.813044\n",
       "max        29.421755      18.734063       5.019721     137.945408"
      ]
     },
     "metadata": {},
     "output_type": "display_data"
    },
    {
     "data": {
      "text/plain": [
       "False    100000\n",
       "dtype: int64"
      ]
     },
     "metadata": {},
     "output_type": "display_data"
    },
    {
     "name": "stdout",
     "output_type": "stream",
     "text": [
      "=========================================================\n",
      "<class 'pandas.core.frame.DataFrame'>\n",
      "RangeIndex: 100000 entries, 0 to 99999\n",
      "Data columns (total 5 columns):\n",
      " #   Column   Non-Null Count   Dtype  \n",
      "---  ------   --------------   -----  \n",
      " 0   id       100000 non-null  object \n",
      " 1   f0       100000 non-null  float64\n",
      " 2   f1       100000 non-null  float64\n",
      " 3   f2       100000 non-null  float64\n",
      " 4   product  100000 non-null  float64\n",
      "dtypes: float64(4), object(1)\n",
      "memory usage: 3.8+ MB\n"
     ]
    },
    {
     "data": {
      "text/plain": [
       "None"
      ]
     },
     "metadata": {},
     "output_type": "display_data"
    },
    {
     "data": {
      "text/html": [
       "<div>\n",
       "<style scoped>\n",
       "    .dataframe tbody tr th:only-of-type {\n",
       "        vertical-align: middle;\n",
       "    }\n",
       "\n",
       "    .dataframe tbody tr th {\n",
       "        vertical-align: top;\n",
       "    }\n",
       "\n",
       "    .dataframe thead th {\n",
       "        text-align: right;\n",
       "    }\n",
       "</style>\n",
       "<table border=\"1\" class=\"dataframe\">\n",
       "  <thead>\n",
       "    <tr style=\"text-align: right;\">\n",
       "      <th></th>\n",
       "      <th>id</th>\n",
       "      <th>f0</th>\n",
       "      <th>f1</th>\n",
       "      <th>f2</th>\n",
       "      <th>product</th>\n",
       "    </tr>\n",
       "  </thead>\n",
       "  <tbody>\n",
       "    <tr>\n",
       "      <th>0</th>\n",
       "      <td>fwXo0</td>\n",
       "      <td>-1.146987</td>\n",
       "      <td>0.963328</td>\n",
       "      <td>-0.828965</td>\n",
       "      <td>27.758673</td>\n",
       "    </tr>\n",
       "    <tr>\n",
       "      <th>1</th>\n",
       "      <td>WJtFt</td>\n",
       "      <td>0.262778</td>\n",
       "      <td>0.269839</td>\n",
       "      <td>-2.530187</td>\n",
       "      <td>56.069697</td>\n",
       "    </tr>\n",
       "    <tr>\n",
       "      <th>2</th>\n",
       "      <td>ovLUW</td>\n",
       "      <td>0.194587</td>\n",
       "      <td>0.289035</td>\n",
       "      <td>-5.586433</td>\n",
       "      <td>62.871910</td>\n",
       "    </tr>\n",
       "    <tr>\n",
       "      <th>3</th>\n",
       "      <td>q6cA6</td>\n",
       "      <td>2.236060</td>\n",
       "      <td>-0.553760</td>\n",
       "      <td>0.930038</td>\n",
       "      <td>114.572842</td>\n",
       "    </tr>\n",
       "    <tr>\n",
       "      <th>4</th>\n",
       "      <td>WPMUX</td>\n",
       "      <td>-0.515993</td>\n",
       "      <td>1.716266</td>\n",
       "      <td>5.899011</td>\n",
       "      <td>149.600746</td>\n",
       "    </tr>\n",
       "  </tbody>\n",
       "</table>\n",
       "</div>"
      ],
      "text/plain": [
       "      id        f0        f1        f2     product\n",
       "0  fwXo0 -1.146987  0.963328 -0.828965   27.758673\n",
       "1  WJtFt  0.262778  0.269839 -2.530187   56.069697\n",
       "2  ovLUW  0.194587  0.289035 -5.586433   62.871910\n",
       "3  q6cA6  2.236060 -0.553760  0.930038  114.572842\n",
       "4  WPMUX -0.515993  1.716266  5.899011  149.600746"
      ]
     },
     "metadata": {},
     "output_type": "display_data"
    },
    {
     "data": {
      "text/html": [
       "<div>\n",
       "<style scoped>\n",
       "    .dataframe tbody tr th:only-of-type {\n",
       "        vertical-align: middle;\n",
       "    }\n",
       "\n",
       "    .dataframe tbody tr th {\n",
       "        vertical-align: top;\n",
       "    }\n",
       "\n",
       "    .dataframe thead th {\n",
       "        text-align: right;\n",
       "    }\n",
       "</style>\n",
       "<table border=\"1\" class=\"dataframe\">\n",
       "  <thead>\n",
       "    <tr style=\"text-align: right;\">\n",
       "      <th></th>\n",
       "      <th>f0</th>\n",
       "      <th>f1</th>\n",
       "      <th>f2</th>\n",
       "      <th>product</th>\n",
       "    </tr>\n",
       "  </thead>\n",
       "  <tbody>\n",
       "    <tr>\n",
       "      <th>count</th>\n",
       "      <td>100000.000000</td>\n",
       "      <td>100000.000000</td>\n",
       "      <td>100000.000000</td>\n",
       "      <td>100000.000000</td>\n",
       "    </tr>\n",
       "    <tr>\n",
       "      <th>mean</th>\n",
       "      <td>0.002023</td>\n",
       "      <td>-0.002081</td>\n",
       "      <td>2.495128</td>\n",
       "      <td>95.000000</td>\n",
       "    </tr>\n",
       "    <tr>\n",
       "      <th>std</th>\n",
       "      <td>1.732045</td>\n",
       "      <td>1.730417</td>\n",
       "      <td>3.473445</td>\n",
       "      <td>44.749921</td>\n",
       "    </tr>\n",
       "    <tr>\n",
       "      <th>min</th>\n",
       "      <td>-8.760004</td>\n",
       "      <td>-7.084020</td>\n",
       "      <td>-11.970335</td>\n",
       "      <td>0.000000</td>\n",
       "    </tr>\n",
       "    <tr>\n",
       "      <th>25%</th>\n",
       "      <td>-1.162288</td>\n",
       "      <td>-1.174820</td>\n",
       "      <td>0.130359</td>\n",
       "      <td>59.450441</td>\n",
       "    </tr>\n",
       "    <tr>\n",
       "      <th>50%</th>\n",
       "      <td>0.009424</td>\n",
       "      <td>-0.009482</td>\n",
       "      <td>2.484236</td>\n",
       "      <td>94.925613</td>\n",
       "    </tr>\n",
       "    <tr>\n",
       "      <th>75%</th>\n",
       "      <td>1.158535</td>\n",
       "      <td>1.163678</td>\n",
       "      <td>4.858794</td>\n",
       "      <td>130.595027</td>\n",
       "    </tr>\n",
       "    <tr>\n",
       "      <th>max</th>\n",
       "      <td>7.238262</td>\n",
       "      <td>7.844801</td>\n",
       "      <td>16.739402</td>\n",
       "      <td>190.029838</td>\n",
       "    </tr>\n",
       "  </tbody>\n",
       "</table>\n",
       "</div>"
      ],
      "text/plain": [
       "                  f0             f1             f2        product\n",
       "count  100000.000000  100000.000000  100000.000000  100000.000000\n",
       "mean        0.002023      -0.002081       2.495128      95.000000\n",
       "std         1.732045       1.730417       3.473445      44.749921\n",
       "min        -8.760004      -7.084020     -11.970335       0.000000\n",
       "25%        -1.162288      -1.174820       0.130359      59.450441\n",
       "50%         0.009424      -0.009482       2.484236      94.925613\n",
       "75%         1.158535       1.163678       4.858794     130.595027\n",
       "max         7.238262       7.844801      16.739402     190.029838"
      ]
     },
     "metadata": {},
     "output_type": "display_data"
    },
    {
     "data": {
      "text/plain": [
       "False    100000\n",
       "dtype: int64"
      ]
     },
     "metadata": {},
     "output_type": "display_data"
    },
    {
     "name": "stdout",
     "output_type": "stream",
     "text": [
      "=========================================================\n"
     ]
    },
    {
     "data": {
      "image/png": "[encoded data removed]",
      "text/plain": [
       "<Figure size 360x360 with 1 Axes>"
      ]
     },
     "metadata": {
      "needs_background": "light"
     },
     "output_type": "display_data"
    },
    {
     "data": {
      "image/png": "[encoded data removed]",
      "text/plain": [
       "<Figure size 360x360 with 1 Axes>"
      ]
     },
     "metadata": {
      "needs_background": "light"
     },
     "output_type": "display_data"
    },
    {
     "data": {
      "image/png": "[encoded data removed]",
      "text/plain": [
       "<Figure size 360x360 with 1 Axes>"
      ]
     },
     "metadata": {
      "needs_background": "light"
     },
     "output_type": "display_data"
    }
   ],
   "source": [
    "list_ = [geo_data_1, geo_data_2, geo_data_3]\n",
    "for i in list_:\n",
    "    display(i.info())\n",
    "    display(i.head(5))\n",
    "    display(i.describe())\n",
    "    display(i.duplicated().value_counts())\n",
    "    display(_=sns.catplot(y='product', kind=\"violin\", data=i, orient='v')) \n",
    "    print(\"=========================================================\")"
   ]
  },
  {
   "cell_type": "code",
   "execution_count": 4,
   "metadata": {},
   "outputs": [
    {
     "data": {
      "text/plain": [
       "10"
      ]
     },
     "execution_count": 4,
     "metadata": {},
     "output_type": "execute_result"
    }
   ],
   "source": [
    "geo_data_1['id'].duplicated().sum()  # duplicates in id column"
   ]
  },
  {
   "cell_type": "code",
   "execution_count": 5,
   "metadata": {
    "scrolled": false
   },
   "outputs": [
    {
     "data": {
      "text/html": [
       "<div>\n",
       "<style scoped>\n",
       "    .dataframe tbody tr th:only-of-type {\n",
       "        vertical-align: middle;\n",
       "    }\n",
       "\n",
       "    .dataframe tbody tr th {\n",
       "        vertical-align: top;\n",
       "    }\n",
       "\n",
       "    .dataframe thead th {\n",
       "        text-align: right;\n",
       "    }\n",
       "</style>\n",
       "<table border=\"1\" class=\"dataframe\">\n",
       "  <thead>\n",
       "    <tr style=\"text-align: right;\">\n",
       "      <th></th>\n",
       "      <th>id</th>\n",
       "      <th>f0</th>\n",
       "      <th>f1</th>\n",
       "      <th>f2</th>\n",
       "      <th>product</th>\n",
       "    </tr>\n",
       "  </thead>\n",
       "  <tbody>\n",
       "    <tr>\n",
       "      <th>3389</th>\n",
       "      <td>A5aEY</td>\n",
       "      <td>-0.039949</td>\n",
       "      <td>0.156872</td>\n",
       "      <td>0.209861</td>\n",
       "      <td>89.249364</td>\n",
       "    </tr>\n",
       "    <tr>\n",
       "      <th>51970</th>\n",
       "      <td>A5aEY</td>\n",
       "      <td>-0.180335</td>\n",
       "      <td>0.935548</td>\n",
       "      <td>-2.094773</td>\n",
       "      <td>33.020205</td>\n",
       "    </tr>\n",
       "  </tbody>\n",
       "</table>\n",
       "</div>"
      ],
      "text/plain": [
       "          id        f0        f1        f2    product\n",
       "3389   A5aEY -0.039949  0.156872  0.209861  89.249364\n",
       "51970  A5aEY -0.180335  0.935548 -2.094773  33.020205"
      ]
     },
     "execution_count": 5,
     "metadata": {},
     "output_type": "execute_result"
    }
   ],
   "source": [
    "geo_data_1[geo_data_1['id'] == 'A5aEY']  "
   ]
  },
  {
   "cell_type": "markdown",
   "metadata": {},
   "source": [
    "**Conclusions**\n",
    "\n",
    "Tables contain such data types as float64 and object. There are no gaps in the data, but there are duplicates. Duplicates occur in the id column. The id column contains the names of the wells. Apparently, these duplicates are erroneously named wells whose names coincided.\n"
   ]
  },
  {
   "cell_type": "markdown",
   "metadata": {},
   "source": [
    "## Data preprocessing"
   ]
  },
  {
   "cell_type": "code",
   "execution_count": 6,
   "metadata": {
    "scrolled": true
   },
   "outputs": [],
   "source": [
    "geo_data_1 = geo_data_1.drop_duplicates(subset='id') # remove lines containing duplicates\n",
    "geo_data_1 = geo_data_1.dropna()\n",
    "\n",
    "geo_data_2 = geo_data_2.drop_duplicates(subset='id')\n",
    "geo_data_2 = geo_data_2.dropna()\n",
    "\n",
    "geo_data_3 = geo_data_3.drop_duplicates(subset='id')\n",
    "geo_data_3 = geo_data_3.dropna()\n"
   ]
  },
  {
   "cell_type": "code",
   "execution_count": 7,
   "metadata": {},
   "outputs": [
    {
     "name": "stdout",
     "output_type": "stream",
     "text": [
      "<class 'pandas.core.frame.DataFrame'>\n",
      "Int64Index: 99990 entries, 0 to 99999\n",
      "Data columns (total 5 columns):\n",
      " #   Column   Non-Null Count  Dtype  \n",
      "---  ------   --------------  -----  \n",
      " 0   id       99990 non-null  object \n",
      " 1   f0       99990 non-null  float64\n",
      " 2   f1       99990 non-null  float64\n",
      " 3   f2       99990 non-null  float64\n",
      " 4   product  99990 non-null  float64\n",
      "dtypes: float64(4), object(1)\n",
      "memory usage: 4.6+ MB\n",
      "<class 'pandas.core.frame.DataFrame'>\n",
      "Int64Index: 99996 entries, 0 to 99999\n",
      "Data columns (total 5 columns):\n",
      " #   Column   Non-Null Count  Dtype  \n",
      "---  ------   --------------  -----  \n",
      " 0   id       99996 non-null  object \n",
      " 1   f0       99996 non-null  float64\n",
      " 2   f1       99996 non-null  float64\n",
      " 3   f2       99996 non-null  float64\n",
      " 4   product  99996 non-null  float64\n",
      "dtypes: float64(4), object(1)\n",
      "memory usage: 4.6+ MB\n",
      "<class 'pandas.core.frame.DataFrame'>\n",
      "Int64Index: 99996 entries, 0 to 99999\n",
      "Data columns (total 5 columns):\n",
      " #   Column   Non-Null Count  Dtype  \n",
      "---  ------   --------------  -----  \n",
      " 0   id       99996 non-null  object \n",
      " 1   f0       99996 non-null  float64\n",
      " 2   f1       99996 non-null  float64\n",
      " 3   f2       99996 non-null  float64\n",
      " 4   product  99996 non-null  float64\n",
      "dtypes: float64(4), object(1)\n",
      "memory usage: 4.6+ MB\n"
     ]
    }
   ],
   "source": [
    "geo_data_1.info()\n",
    "geo_data_2.info()\n",
    "geo_data_3.info()"
   ]
  },
  {
   "cell_type": "markdown",
   "metadata": {},
   "source": [
    "**Conclusions:**\n",
    "\n",
    "Data cleared. Next, you can proceed to preparing the data for loading into the model."
   ]
  },
  {
   "cell_type": "markdown",
   "metadata": {},
   "source": [
    "## Train and validate the model"
   ]
  },
  {
   "cell_type": "markdown",
   "metadata": {},
   "source": [
    "### Preparing data for train and test sets"
   ]
  },
  {
   "cell_type": "markdown",
   "metadata": {},
   "source": [
    "For model predictions, the id column does not carry useful information, therefore, you can get rid of it:"
   ]
  },
  {
   "cell_type": "code",
   "execution_count": 8,
   "metadata": {
    "scrolled": true
   },
   "outputs": [],
   "source": [
    "geo_data_1 = geo_data_1.drop(['id'], axis=1)\n",
    "geo_data_2 = geo_data_2.drop(['id'], axis=1)\n",
    "geo_data_3 = geo_data_3.drop(['id'], axis=1)"
   ]
  },
  {
   "cell_type": "code",
   "execution_count": 10,
   "metadata": {},
   "outputs": [],
   "source": [
    "features_1 = geo_data_1.drop(['product'], axis=1)  # extract features (1 region)\n",
    "target_1 = geo_data_1['product']  # extract the target feature (1 region)\n",
    "\n",
    "features_train_1, features_valid_1, target_train_1, target_valid_1 = train_test_split(\n",
    "    features_1, target_1, test_size=0.25, random_state=12345)  # division of data into training and test samples (1 region)\n",
    "#-------------------------------------------------------------------------------------------\n",
    "features_2 = geo_data_2.drop(['product'], axis=1)  # extract features (region 2)\n",
    "target_2 = geo_data_2['product']  # extract the target feature (region 2)\n",
    "\n",
    "features_train_2, features_valid_2, target_train_2, target_valid_2 = train_test_split(\n",
    "    features_2, target_2, test_size=0.25, random_state=12345)  # division of data into training and test samples (region 2) \n",
    "#-------------------------------------------------------------------------------------------\n",
    "features_3 = geo_data_3.drop(['product'], axis=1)  # extract features (region 3)\n",
    "target_3 = geo_data_3['product']  # extract the target feature (region 3)\n",
    "\n",
    "features_train_3, features_valid_3, target_train_3, target_valid_3 = train_test_split(\n",
    "    features_3, target_3, test_size=0.25, random_state=12345)  # division of data into training and test samples (region 3)"
   ]
  },
  {
   "cell_type": "markdown",
   "metadata": {},
   "source": [
    "### Feature scaling"
   ]
  },
  {
   "cell_type": "code",
   "execution_count": 11,
   "metadata": {},
   "outputs": [],
   "source": [
    "numeric = ['f0', 'f1', 'f2']  # list of columns with scalable features\n",
    "\n",
    "scaler = StandardScaler()  # object of the StandardScaler structure for subsequent tuning on the training data\n",
    "# feature scaling (1 region)\n",
    "features_train_1.loc[:, numeric] = scaler.fit_transform(features_train_1.loc[:, numeric]) \n",
    "features_valid_1.loc[:, numeric] = scaler.transform(features_valid_1.loc[:, numeric]) \n",
    "# feature scaling (2 region )\n",
    "features_train_2.loc[:, numeric] = scaler.fit_transform(features_train_2.loc[:, numeric])\n",
    "features_valid_2.loc[:, numeric] = scaler.transform(features_valid_2.loc[:, numeric])\n",
    "# feature scaling (3 region )\n",
    "features_train_3.loc[:, numeric] = scaler.fit_transform(features_train_3.loc[:, numeric])\n",
    "features_valid_3.loc[:, numeric] = scaler.transform(features_valid_3.loc[:, numeric])\n",
    "\n",
    "pd.options.mode.chained_assignment = None"
   ]
  },
  {
   "cell_type": "markdown",
   "metadata": {},
   "source": [
    "### Model Training"
   ]
  },
  {
   "cell_type": "code",
   "execution_count": 12,
   "metadata": {},
   "outputs": [],
   "source": [
    "def model_LR(features_train, target_train, features_valid, target_valid, n):\n",
    "    model = LinearRegression()\n",
    "    model.fit(features_train, target_train)  # training the model on the training set\n",
    "    predicted_valid = model.predict(features_valid)  # validation set prediction\n",
    "    mse = mean_squared_error(target_valid, predicted_valid)\n",
    "    rmse = mse**0.5\n",
    "    return print('Mean square error (', n, 'region):', rmse)"
   ]
  },
  {
   "cell_type": "code",
   "execution_count": 13,
   "metadata": {
    "scrolled": false
   },
   "outputs": [
    {
     "name": "stdout",
     "output_type": "stream",
     "text": [
      "Mean square error ( 1 region): 37.853527328872964\n",
      "Mean square error ( 2 region): 0.8920592647717033\n",
      "Mean square error ( 3 region): 40.07585073246016\n"
     ]
    }
   ],
   "source": [
    "model_LR(features_train_1, target_train_1, features_valid_1, target_valid_1, 1)\n",
    "model_LR(features_train_2, target_train_2, features_valid_2, target_valid_2, 2)\n",
    "model_LR(features_train_3, target_train_3, features_valid_3, target_valid_3, 3)"
   ]
  },
  {
   "cell_type": "markdown",
   "metadata": {},
   "source": [
    "- Mean square error ( 1 region): 37.853527328872964\n",
    "- Mean square error ( 2 region): 0.8920592647717033\n",
    "- Mean square error ( 3 region): 40.07585073246016"
   ]
  },
  {
   "cell_type": "markdown",
   "metadata": {},
   "source": [
    "Checking the model for sanity:"
   ]
  },
  {
   "cell_type": "code",
   "execution_count": 14,
   "metadata": {},
   "outputs": [],
   "source": [
    "def random_model_LR(target_valid, n):\n",
    "    random_predictions = pd.Series(target_valid.mean(), index=target_valid.index)\n",
    "    random_mse = mean_squared_error(target_valid, random_predictions)\n",
    "    random_rmse = random_mse**0.5\n",
    "    return print('Root mean square error of a random model (', n, 'region):', random_rmse)"
   ]
  },
  {
   "cell_type": "code",
   "execution_count": 15,
   "metadata": {},
   "outputs": [
    {
     "name": "stdout",
     "output_type": "stream",
     "text": [
      "Root mean square error of a random model ( 1 region): 44.376978128447675\n",
      "Root mean square error of a random model ( 2 region): 45.900724096155486\n",
      "Root mean square error of a random model ( 3 region): 44.68240847149314\n"
     ]
    }
   ],
   "source": [
    "random_model_LR(target_valid_1, 1)\n",
    "random_model_LR(target_valid_2, 2)\n",
    "random_model_LR(target_valid_3, 3)"
   ]
  },
  {
   "cell_type": "markdown",
   "metadata": {},
   "source": [
    "- Root mean square error of a random model ( 1 region): 44.376978128447675\n",
    "- Root mean square error of a random model ( 2 region): 45.900724096155486\n",
    "- Root mean square error of a random model ( 3 region): 44.68240847149314"
   ]
  },
  {
   "cell_type": "markdown",
   "metadata": {},
   "source": [
    "**Conclusions:**\n",
    "\n",
    "The root mean square error of all three models is less than the errors of random such models. Predictions can be considered successful."
   ]
  },
  {
   "cell_type": "markdown",
   "metadata": {},
   "source": [
    "## Calculation of the average stock of raw materials in the region"
   ]
  },
  {
   "cell_type": "code",
   "execution_count": 16,
   "metadata": {},
   "outputs": [],
   "source": [
    "def model_LR(features_train, target_train, features_valid):\n",
    "    model = LinearRegression()\n",
    "    model.fit(features_train, target_train)  \n",
    "    predicted_valid = model.predict(features_valid)\n",
    "    return predicted_valid"
   ]
  },
  {
   "cell_type": "code",
   "execution_count": 17,
   "metadata": {},
   "outputs": [
    {
     "name": "stdout",
     "output_type": "stream",
     "text": [
      "Average stock of predicted raw materials (1 region): 92.78915638280621\n",
      "Average stock of predicted raw materials (2 region): 69.1783195703043\n",
      "Average stock of predicted raw materials (3 region): 94.86572480562035\n"
     ]
    }
   ],
   "source": [
    "predicted_valid_1 = model_LR(features_train_1, target_train_1, features_valid_1)\n",
    "predicted_valid_2 = model_LR(features_train_2, target_train_2, features_valid_2)\n",
    "predicted_valid_3 = model_LR(features_train_3, target_train_3, features_valid_3)\n",
    "mean_prod_1 = predicted_valid_1.mean()\n",
    "mean_prod_2 = predicted_valid_2.mean()\n",
    "mean_prod_3 = predicted_valid_3.mean()\n",
    "print('Average stock of predicted raw materials (1 region):', mean_prod_1)\n",
    "print('Average stock of predicted raw materials (2 region):', mean_prod_2)\n",
    "print('Average stock of predicted raw materials (3 region):', mean_prod_3)"
   ]
  },
  {
   "cell_type": "markdown",
   "metadata": {},
   "source": [
    "**Average amount of raw materials in a well for each region:**\n",
    "- Average stock of predicted raw materials (1 region): 92.78915638280621\n",
    "- Average stock of predicted raw materials (2 region): 69.1783195703043\n",
    "- Average stock of predicted raw materials (3 region): 94.86572480562035"
   ]
  },
  {
   "cell_type": "markdown",
   "metadata": {},
   "source": [
    "**Conclusions:**\n",
    "\n",
    "In the 2nd region, the minimum amount of raw materials. 1st and 3rd are almost the same. In the 3rd region, the maximum"
   ]
  },
  {
   "cell_type": "markdown",
   "metadata": {},
   "source": [
    "## Calculation of profit and loss hazard"
   ]
  },
  {
   "cell_type": "code",
   "execution_count": 32,
   "metadata": {},
   "outputs": [
    {
     "name": "stdout",
     "output_type": "stream",
     "text": [
      "The minimum required number of barrels per well: 111.111 thousand barrels\n"
     ]
    }
   ],
   "source": [
    "BUDGET = 10**10  # USD well development budget\n",
    "BARREL = 450  # USD revenue per barrel\n",
    "N_WELL = 200  # number of developed wells\n",
    "BUDGET_PER_WELL = BUDGET / N_WELL  # expencese per well\n",
    "MIN_BARRELS_PER_WELL = BUDGET_PER_WELL / (BARREL*1000)  # volume of raw materials for break-even development of a new well\n",
    "# in thousand barrels\n",
    "print('The minimum required number of barrels per well:', round(MIN_BARRELS_PER_WELL, 3), 'thousand barrels')"
   ]
  },
  {
   "cell_type": "markdown",
   "metadata": {},
   "source": [
    "*111 thousand barrels are needed to pay off one well, which is slightly more than the predicted average stock of raw materials in a well in each of the 3 regions.*"
   ]
  },
  {
   "cell_type": "markdown",
   "metadata": {},
   "source": [
    "**Function for calculating profit from 200 wells:**"
   ]
  },
  {
   "cell_type": "code",
   "execution_count": 23,
   "metadata": {},
   "outputs": [],
   "source": [
    "def well_profit(BARREL, subsample_predicted_valid_1, target_valid_1):\n",
    "    predicted_valid_1_n200 = subsample_predicted_valid_1.nlargest(200)  # selection of the top 200 predictions\n",
    "    target_subsample = target_valid_1[predicted_valid_1_n200.index]  # selection of target characteristic values\n",
    "    \n",
    "# according to the sample indices of the top 200 model predictions\n",
    "\n",
    "    return BARREL*1000*target_subsample.sum() - BUDGET # multiply by 1000 k in target_subsample\n",
    "# the volume of raw materials is given in thousand barrels"
   ]
  },
  {
   "cell_type": "code",
   "execution_count": 24,
   "metadata": {},
   "outputs": [],
   "source": [
    "def statistic(target_valid, predicted_valid, BARREL):\n",
    "    target_valid = target_valid.reset_index(drop=True)\n",
    "    state = np.random.RandomState(12345)\n",
    "\n",
    "    values = []\n",
    "\n",
    "    for i in range(1000):  # bootstrap for 1000 subsamples\n",
    "        subsample_predicted_valid = pd.Series(predicted_valid).sample(n=500, replace=False, random_state=state)   \n",
    "        values.append(well_profit(BARREL, subsample_predicted_valid, target_valid))\n",
    "\n",
    "    values = pd.Series(values)\n",
    "    values_neg = values[values < 0]\n",
    "        \n",
    "    lower = values.quantile(0.025).round()\n",
    "    upper = values.quantile(0.975).round()\n",
    "\n",
    "    loss_hazard = '{:.2%}'.format(values_neg.count() / values.count())  # loss hazard\n",
    "\n",
    "\n",
    "    df_statistics = pd.DataFrame(   # 95%-й confidence interval of volumes of raw materials in the region\n",
    "        [{ '95%-й confidence interval': [lower, upper], 'Average profit for 200 best wells': values.mean(), 'loss hazard': loss_hazard },\n",
    "        ])\n",
    "    df_statistics = df_statistics.transpose().style.set_properties(**{'text-align': 'center'})\n",
    "    display(df_statistics)\n",
    "\n",
    "    plt.xlabel('Profit values', fontsize=12) # histogram of frequencies of distribution \n",
    "    plt.ylabel('Value frequency', fontsize=12) # of volumes of raw materials for 1000 subsamples\n",
    "    values.hist().set_title('Profit distribution histogram for \\n bootstrap (1000 subsamples)', fontsize=14);"
   ]
  },
  {
   "cell_type": "markdown",
   "metadata": {},
   "source": [
    "### Key metrics for the 1st region"
   ]
  },
  {
   "cell_type": "code",
   "execution_count": 25,
   "metadata": {
    "scrolled": true
   },
   "outputs": [
    {
     "data": {
      "text/html": [
       "<style type=\"text/css\">\n",
       "#T_350bc_row0_col0, #T_350bc_row1_col0, #T_350bc_row2_col0 {\n",
       "  text-align: center;\n",
       "}\n",
       "</style>\n",
       "<table id=\"T_350bc_\">\n",
       "  <thead>\n",
       "    <tr>\n",
       "      <th class=\"blank level0\" >&nbsp;</th>\n",
       "      <th class=\"col_heading level0 col0\" >0</th>\n",
       "    </tr>\n",
       "  </thead>\n",
       "  <tbody>\n",
       "    <tr>\n",
       "      <th id=\"T_350bc_level0_row0\" class=\"row_heading level0 row0\" >95%-й confidence interval</th>\n",
       "      <td id=\"T_350bc_row0_col0\" class=\"data row0 col0\" >[-113097032.0, 930676532.0]</td>\n",
       "    </tr>\n",
       "    <tr>\n",
       "      <th id=\"T_350bc_level0_row1\" class=\"row_heading level0 row1\" >Average profit for 200 best wells</th>\n",
       "      <td id=\"T_350bc_row1_col0\" class=\"data row1 col0\" >405834113.060329</td>\n",
       "    </tr>\n",
       "    <tr>\n",
       "      <th id=\"T_350bc_level0_row2\" class=\"row_heading level0 row2\" >loss hazard</th>\n",
       "      <td id=\"T_350bc_row2_col0\" class=\"data row2 col0\" >6.60%</td>\n",
       "    </tr>\n",
       "  </tbody>\n",
       "</table>\n"
      ],
      "text/plain": [
       "<pandas.io.formats.style.Styler at 0x227c8f62220>"
      ]
     },
     "metadata": {},
     "output_type": "display_data"
    },
    {
     "data": {
      "image/png": "[encoded data removed]",
      "text/plain": [
       "<Figure size 432x288 with 1 Axes>"
      ]
     },
     "metadata": {
      "needs_background": "light"
     },
     "output_type": "display_data"
    }
   ],
   "source": [
    "statistic(target_valid_1, predicted_valid_1, BARREL) "
   ]
  },
  {
   "cell_type": "markdown",
   "metadata": {},
   "source": [
    "### Key metrics for the 2nd region"
   ]
  },
  {
   "cell_type": "code",
   "execution_count": 26,
   "metadata": {
    "scrolled": false
   },
   "outputs": [
    {
     "data": {
      "text/html": [
       "<style type=\"text/css\">\n",
       "#T_d6d7b_row0_col0, #T_d6d7b_row1_col0, #T_d6d7b_row2_col0 {\n",
       "  text-align: center;\n",
       "}\n",
       "</style>\n",
       "<table id=\"T_d6d7b_\">\n",
       "  <thead>\n",
       "    <tr>\n",
       "      <th class=\"blank level0\" >&nbsp;</th>\n",
       "      <th class=\"col_heading level0 col0\" >0</th>\n",
       "    </tr>\n",
       "  </thead>\n",
       "  <tbody>\n",
       "    <tr>\n",
       "      <th id=\"T_d6d7b_level0_row0\" class=\"row_heading level0 row0\" >95%-й confidence interval</th>\n",
       "      <td id=\"T_d6d7b_row0_col0\" class=\"data row0 col0\" >[94561756.0, 896586620.0]</td>\n",
       "    </tr>\n",
       "    <tr>\n",
       "      <th id=\"T_d6d7b_level0_row1\" class=\"row_heading level0 row1\" >Average profit for 200 best wells</th>\n",
       "      <td id=\"T_d6d7b_row1_col0\" class=\"data row1 col0\" >476062069.491400</td>\n",
       "    </tr>\n",
       "    <tr>\n",
       "      <th id=\"T_d6d7b_level0_row2\" class=\"row_heading level0 row2\" >loss hazard</th>\n",
       "      <td id=\"T_d6d7b_row2_col0\" class=\"data row2 col0\" >0.50%</td>\n",
       "    </tr>\n",
       "  </tbody>\n",
       "</table>\n"
      ],
      "text/plain": [
       "<pandas.io.formats.style.Styler at 0x227c9c9e130>"
      ]
     },
     "metadata": {},
     "output_type": "display_data"
    },
    {
     "data": {
      "image/png": "[encoded data removed]",
      "text/plain": [
       "<Figure size 432x288 with 1 Axes>"
      ]
     },
     "metadata": {
      "needs_background": "light"
     },
     "output_type": "display_data"
    }
   ],
   "source": [
    "statistic(target_valid_2, predicted_valid_2, BARREL)"
   ]
  },
  {
   "cell_type": "markdown",
   "metadata": {},
   "source": [
    "### Key metrics for the 3rd region"
   ]
  },
  {
   "cell_type": "code",
   "execution_count": 27,
   "metadata": {
    "scrolled": true
   },
   "outputs": [
    {
     "data": {
      "text/html": [
       "<style type=\"text/css\">\n",
       "#T_e210c_row0_col0, #T_e210c_row1_col0, #T_e210c_row2_col0 {\n",
       "  text-align: center;\n",
       "}\n",
       "</style>\n",
       "<table id=\"T_e210c_\">\n",
       "  <thead>\n",
       "    <tr>\n",
       "      <th class=\"blank level0\" >&nbsp;</th>\n",
       "      <th class=\"col_heading level0 col0\" >0</th>\n",
       "    </tr>\n",
       "  </thead>\n",
       "  <tbody>\n",
       "    <tr>\n",
       "      <th id=\"T_e210c_level0_row0\" class=\"row_heading level0 row0\" >95%-й confidence interval</th>\n",
       "      <td id=\"T_e210c_row0_col0\" class=\"data row0 col0\" >[-185261881.0, 868235358.0]</td>\n",
       "    </tr>\n",
       "    <tr>\n",
       "      <th id=\"T_e210c_level0_row1\" class=\"row_heading level0 row1\" >Average profit for 200 best wells</th>\n",
       "      <td id=\"T_e210c_row1_col0\" class=\"data row1 col0\" >337622065.049881</td>\n",
       "    </tr>\n",
       "    <tr>\n",
       "      <th id=\"T_e210c_level0_row2\" class=\"row_heading level0 row2\" >loss hazard</th>\n",
       "      <td id=\"T_e210c_row2_col0\" class=\"data row2 col0\" >10.30%</td>\n",
       "    </tr>\n",
       "  </tbody>\n",
       "</table>\n"
      ],
      "text/plain": [
       "<pandas.io.formats.style.Styler at 0x227cb75afd0>"
      ]
     },
     "metadata": {},
     "output_type": "display_data"
    },
    {
     "data": {
      "image/png": "[encoded data removed]",
      "text/plain": [
       "<Figure size 432x288 with 1 Axes>"
      ]
     },
     "metadata": {
      "needs_background": "light"
     },
     "output_type": "display_data"
    }
   ],
   "source": [
    "statistic(target_valid_3, predicted_valid_3, BARREL)"
   ]
  },
  {
   "cell_type": "markdown",
   "metadata": {},
   "source": [
    "**Conclusion: The 2nd region proved to be the best among the three regions**\n",
    "- This region has the lowest risk of loss: 0.50%, which is 13 times lower than the 1st region and 20 times lower than the 3rd.\n",
    "- The average profit for 200 wells was 478 million dollars, which is 71 million more than in 1 and 139 million more than in the 3rd.\n",
    "- 95% confidence interval is in the range from 94 million to 896 million [94561756.0, 896586620.0], i.e. the probability that the average profit will be in this range is 95%."
   ]
  },
  {
   "cell_type": "code",
   "execution_count": null,
   "metadata": {},
   "outputs": [],
   "source": []
  }
 ],
 "metadata": {
  "ExecuteTimeLog": [
   {
    "duration": 784,
    "start_time": "2022-01-19T10:45:18.544Z"
   },
   {
    "duration": 170,
    "start_time": "2022-01-19T10:45:41.978Z"
   },
   {
    "duration": 27,
    "start_time": "2022-01-19T10:45:49.386Z"
   },
   {
    "duration": 82,
    "start_time": "2022-01-19T11:09:07.503Z"
   },
   {
    "duration": 86,
    "start_time": "2022-01-19T11:10:00.849Z"
   },
   {
    "duration": 351,
    "start_time": "2022-01-19T11:10:04.881Z"
   },
   {
    "duration": 442,
    "start_time": "2022-01-19T11:10:37.737Z"
   },
   {
    "duration": 314,
    "start_time": "2022-01-19T11:10:38.961Z"
   },
   {
    "duration": 369,
    "start_time": "2022-01-19T11:26:31.835Z"
   },
   {
    "duration": 315,
    "start_time": "2022-01-19T11:26:38.356Z"
   },
   {
    "duration": 400,
    "start_time": "2022-01-19T11:28:21.578Z"
   },
   {
    "duration": 399,
    "start_time": "2022-01-19T11:29:01.804Z"
   },
   {
    "duration": 108,
    "start_time": "2022-01-19T11:29:39.868Z"
   },
   {
    "duration": 524,
    "start_time": "2022-01-19T11:29:47.476Z"
   },
   {
    "duration": 401,
    "start_time": "2022-01-19T11:29:58.578Z"
   },
   {
    "duration": 91,
    "start_time": "2022-01-19T11:30:08.635Z"
   },
   {
    "duration": 420,
    "start_time": "2022-01-19T11:30:14.745Z"
   },
   {
    "duration": 412,
    "start_time": "2022-01-19T11:31:45.283Z"
   },
   {
    "duration": 419,
    "start_time": "2022-01-19T11:31:54.658Z"
   },
   {
    "duration": 430,
    "start_time": "2022-01-19T11:32:02.266Z"
   },
   {
    "duration": 5,
    "start_time": "2022-01-19T12:00:35.358Z"
   },
   {
    "duration": 1340,
    "start_time": "2022-01-19T12:00:45.892Z"
   },
   {
    "duration": 823,
    "start_time": "2022-01-19T12:00:47.235Z"
   },
   {
    "duration": 437,
    "start_time": "2022-01-19T12:00:48.065Z"
   },
   {
    "duration": 4,
    "start_time": "2022-01-19T12:00:48.505Z"
   },
   {
    "duration": 92,
    "start_time": "2022-01-19T12:01:31.071Z"
   },
   {
    "duration": 85,
    "start_time": "2022-01-19T12:01:34.870Z"
   },
   {
    "duration": 82,
    "start_time": "2022-01-19T12:01:39.248Z"
   },
   {
    "duration": 313,
    "start_time": "2022-01-19T12:03:34.241Z"
   },
   {
    "duration": 1346,
    "start_time": "2022-01-19T12:03:39.802Z"
   },
   {
    "duration": 805,
    "start_time": "2022-01-19T12:03:41.151Z"
   },
   {
    "duration": 435,
    "start_time": "2022-01-19T12:03:41.959Z"
   },
   {
    "duration": 351,
    "start_time": "2022-01-19T12:03:42.396Z"
   },
   {
    "duration": 11,
    "start_time": "2022-01-19T12:03:55.031Z"
   },
   {
    "duration": 1392,
    "start_time": "2022-01-19T12:04:22.299Z"
   },
   {
    "duration": 437,
    "start_time": "2022-01-19T12:04:23.693Z"
   },
   {
    "duration": 422,
    "start_time": "2022-01-19T12:04:24.137Z"
   },
   {
    "duration": 22,
    "start_time": "2022-01-19T12:04:24.562Z"
   },
   {
    "duration": 332,
    "start_time": "2022-01-19T12:04:44.906Z"
   },
   {
    "duration": 1331,
    "start_time": "2022-01-19T12:04:56.194Z"
   },
   {
    "duration": 805,
    "start_time": "2022-01-19T12:04:59.014Z"
   },
   {
    "duration": 462,
    "start_time": "2022-01-19T12:04:59.821Z"
   },
   {
    "duration": 51,
    "start_time": "2022-01-19T12:05:00.287Z"
   },
   {
    "duration": 17,
    "start_time": "2022-01-19T12:05:00.341Z"
   },
   {
    "duration": 11,
    "start_time": "2022-01-19T12:05:24.290Z"
   },
   {
    "duration": 25,
    "start_time": "2022-01-19T12:05:25.011Z"
   },
   {
    "duration": 9,
    "start_time": "2022-01-19T12:05:45.779Z"
   },
   {
    "duration": 17,
    "start_time": "2022-01-19T12:05:46.448Z"
   },
   {
    "duration": 29,
    "start_time": "2022-01-19T12:06:10.042Z"
   },
   {
    "duration": 16,
    "start_time": "2022-01-19T12:06:10.956Z"
   },
   {
    "duration": 1832,
    "start_time": "2022-01-19T12:06:20.075Z"
   },
   {
    "duration": 625,
    "start_time": "2022-01-19T12:06:21.911Z"
   },
   {
    "duration": 464,
    "start_time": "2022-01-19T12:06:22.540Z"
   },
   {
    "duration": 41,
    "start_time": "2022-01-19T12:06:23.006Z"
   },
   {
    "duration": 23,
    "start_time": "2022-01-19T12:06:23.050Z"
   },
   {
    "duration": 17,
    "start_time": "2022-01-19T12:06:36.466Z"
   },
   {
    "duration": 62,
    "start_time": "2022-01-19T12:07:14.633Z"
   },
   {
    "duration": 52,
    "start_time": "2022-01-19T12:07:28.713Z"
   },
   {
    "duration": 1326,
    "start_time": "2022-01-19T12:07:43.808Z"
   },
   {
    "duration": 441,
    "start_time": "2022-01-19T12:07:45.136Z"
   },
   {
    "duration": 436,
    "start_time": "2022-01-19T12:07:45.580Z"
   },
   {
    "duration": 56,
    "start_time": "2022-01-19T12:07:46.018Z"
   },
   {
    "duration": 293,
    "start_time": "2022-01-19T12:09:05.619Z"
   },
   {
    "duration": 1320,
    "start_time": "2022-01-19T12:09:20.725Z"
   },
   {
    "duration": 901,
    "start_time": "2022-01-19T12:09:22.048Z"
   },
   {
    "duration": 439,
    "start_time": "2022-01-19T12:09:22.953Z"
   },
   {
    "duration": 70,
    "start_time": "2022-01-19T12:09:23.394Z"
   },
   {
    "duration": 16,
    "start_time": "2022-01-19T12:09:23.466Z"
   },
   {
    "duration": 29,
    "start_time": "2022-01-19T12:09:35.827Z"
   },
   {
    "duration": 488,
    "start_time": "2022-01-19T12:09:44.543Z"
   },
   {
    "duration": 37,
    "start_time": "2022-01-19T12:09:49.705Z"
   },
   {
    "duration": 18,
    "start_time": "2022-01-19T12:09:51.113Z"
   },
   {
    "duration": 12,
    "start_time": "2022-01-19T12:09:58.305Z"
   },
   {
    "duration": 19,
    "start_time": "2022-01-19T12:09:58.793Z"
   },
   {
    "duration": 1283,
    "start_time": "2022-01-19T12:10:18.749Z"
   },
   {
    "duration": 432,
    "start_time": "2022-01-19T12:10:20.035Z"
   },
   {
    "duration": 423,
    "start_time": "2022-01-19T12:10:20.470Z"
   },
   {
    "duration": 9,
    "start_time": "2022-01-19T12:10:20.896Z"
   },
   {
    "duration": 33,
    "start_time": "2022-01-19T12:10:20.907Z"
   },
   {
    "duration": 10,
    "start_time": "2022-01-19T12:10:37.292Z"
   },
   {
    "duration": 12,
    "start_time": "2022-01-19T12:11:56.633Z"
   },
   {
    "duration": 16,
    "start_time": "2022-01-19T12:11:58.921Z"
   },
   {
    "duration": 107,
    "start_time": "2022-01-19T12:12:57.370Z"
   },
   {
    "duration": 402,
    "start_time": "2022-01-19T12:13:15.744Z"
   },
   {
    "duration": 9,
    "start_time": "2022-01-19T12:13:34.112Z"
   },
   {
    "duration": 4,
    "start_time": "2022-01-19T12:43:25.514Z"
   },
   {
    "duration": 459,
    "start_time": "2022-01-19T12:43:25.520Z"
   },
   {
    "duration": 407,
    "start_time": "2022-01-19T12:43:25.982Z"
   },
   {
    "duration": 9,
    "start_time": "2022-01-19T12:43:26.391Z"
   },
   {
    "duration": 35,
    "start_time": "2022-01-19T12:43:26.403Z"
   },
   {
    "duration": 1340,
    "start_time": "2022-01-19T12:43:41.508Z"
   },
   {
    "duration": 482,
    "start_time": "2022-01-19T12:43:42.851Z"
   },
   {
    "duration": 452,
    "start_time": "2022-01-19T12:43:43.341Z"
   },
   {
    "duration": 9,
    "start_time": "2022-01-19T12:43:43.795Z"
   },
   {
    "duration": 38,
    "start_time": "2022-01-19T12:43:43.806Z"
   },
   {
    "duration": 6,
    "start_time": "2022-01-19T12:44:28.180Z"
   },
   {
    "duration": 11,
    "start_time": "2022-01-19T12:44:29.979Z"
   },
   {
    "duration": 418,
    "start_time": "2022-01-19T12:44:52.331Z"
   },
   {
    "duration": 1324,
    "start_time": "2022-01-19T12:45:09.096Z"
   },
   {
    "duration": 442,
    "start_time": "2022-01-19T12:45:10.423Z"
   },
   {
    "duration": 443,
    "start_time": "2022-01-19T12:45:10.868Z"
   },
   {
    "duration": 26,
    "start_time": "2022-01-19T12:45:11.315Z"
   },
   {
    "duration": 11,
    "start_time": "2022-01-19T12:45:43.310Z"
   },
   {
    "duration": 439,
    "start_time": "2022-01-19T12:45:57.886Z"
   },
   {
    "duration": 1248,
    "start_time": "2022-01-19T12:46:15.674Z"
   },
   {
    "duration": 446,
    "start_time": "2022-01-19T12:46:16.925Z"
   },
   {
    "duration": 432,
    "start_time": "2022-01-19T12:46:17.374Z"
   },
   {
    "duration": 35,
    "start_time": "2022-01-19T12:46:17.809Z"
   },
   {
    "duration": 10,
    "start_time": "2022-01-19T12:46:17.846Z"
   },
   {
    "duration": 11,
    "start_time": "2022-01-19T12:46:27.342Z"
   },
   {
    "duration": 10,
    "start_time": "2022-01-19T12:46:42.270Z"
   },
   {
    "duration": 12,
    "start_time": "2022-01-19T12:46:45.478Z"
   },
   {
    "duration": 432,
    "start_time": "2022-01-19T12:49:11.085Z"
   },
   {
    "duration": 194,
    "start_time": "2022-01-19T12:49:38.206Z"
   },
   {
    "duration": 3,
    "start_time": "2022-01-19T12:49:54.220Z"
   },
   {
    "duration": 506,
    "start_time": "2022-01-19T12:49:54.231Z"
   },
   {
    "duration": 455,
    "start_time": "2022-01-19T12:49:54.743Z"
   },
   {
    "duration": 14,
    "start_time": "2022-01-19T12:49:58.213Z"
   },
   {
    "duration": 19,
    "start_time": "2022-01-19T12:50:03.574Z"
   },
   {
    "duration": 233,
    "start_time": "2022-01-19T13:07:46.502Z"
   },
   {
    "duration": 283,
    "start_time": "2022-01-19T13:08:30.542Z"
   },
   {
    "duration": 8,
    "start_time": "2022-01-19T13:08:55.422Z"
   },
   {
    "duration": 18,
    "start_time": "2022-01-19T13:13:15.572Z"
   },
   {
    "duration": 319,
    "start_time": "2022-01-19T13:16:05.675Z"
   },
   {
    "duration": 14,
    "start_time": "2022-01-19T13:16:29.387Z"
   },
   {
    "duration": 1571,
    "start_time": "2022-01-19T13:17:35.442Z"
   },
   {
    "duration": 491,
    "start_time": "2022-01-19T13:17:37.016Z"
   },
   {
    "duration": 461,
    "start_time": "2022-01-19T13:17:37.513Z"
   },
   {
    "duration": 12,
    "start_time": "2022-01-19T13:17:37.976Z"
   },
   {
    "duration": 21,
    "start_time": "2022-01-19T13:17:37.990Z"
   },
   {
    "duration": 35,
    "start_time": "2022-01-19T13:17:38.013Z"
   },
   {
    "duration": 11,
    "start_time": "2022-01-19T13:18:20.543Z"
   },
   {
    "duration": 11,
    "start_time": "2022-01-19T13:31:53.585Z"
   },
   {
    "duration": 11,
    "start_time": "2022-01-19T13:31:57.224Z"
   },
   {
    "duration": 11,
    "start_time": "2022-01-19T13:32:06.688Z"
   },
   {
    "duration": 10,
    "start_time": "2022-01-19T13:32:24.776Z"
   },
   {
    "duration": 12,
    "start_time": "2022-01-19T13:32:48.159Z"
   },
   {
    "duration": 11,
    "start_time": "2022-01-19T13:32:57.424Z"
   },
   {
    "duration": 399,
    "start_time": "2022-01-19T13:34:14.928Z"
   },
   {
    "duration": 1580,
    "start_time": "2022-01-19T13:34:22.793Z"
   },
   {
    "duration": 433,
    "start_time": "2022-01-19T13:34:24.376Z"
   },
   {
    "duration": 434,
    "start_time": "2022-01-19T13:34:24.812Z"
   },
   {
    "duration": 12,
    "start_time": "2022-01-19T13:34:25.249Z"
   },
   {
    "duration": 74,
    "start_time": "2022-01-19T13:34:25.264Z"
   },
   {
    "duration": 23,
    "start_time": "2022-01-19T13:34:25.340Z"
   },
   {
    "duration": 13,
    "start_time": "2022-01-19T13:34:25.366Z"
   },
   {
    "duration": 15,
    "start_time": "2022-01-19T13:34:44.709Z"
   },
   {
    "duration": 16,
    "start_time": "2022-01-19T13:35:17.421Z"
   },
   {
    "duration": 11,
    "start_time": "2022-01-19T13:35:49.076Z"
   },
   {
    "duration": 48,
    "start_time": "2022-01-19T14:08:49.712Z"
   },
   {
    "duration": 15,
    "start_time": "2022-01-19T14:09:05.447Z"
   },
   {
    "duration": 448,
    "start_time": "2022-01-19T14:11:01.495Z"
   },
   {
    "duration": 48,
    "start_time": "2022-01-19T14:22:31.867Z"
   },
   {
    "duration": 42,
    "start_time": "2022-01-19T14:22:33.242Z"
   },
   {
    "duration": 42,
    "start_time": "2022-01-19T14:22:34.770Z"
   },
   {
    "duration": 42,
    "start_time": "2022-01-19T14:22:44.235Z"
   },
   {
    "duration": 43,
    "start_time": "2022-01-19T14:22:49.530Z"
   },
   {
    "duration": 7,
    "start_time": "2022-01-19T14:26:32.729Z"
   },
   {
    "duration": 263,
    "start_time": "2022-01-19T14:27:00.281Z"
   },
   {
    "duration": 406,
    "start_time": "2022-01-19T14:29:37.249Z"
   },
   {
    "duration": 14,
    "start_time": "2022-01-19T14:29:44.335Z"
   },
   {
    "duration": 456,
    "start_time": "2022-01-19T14:32:12.559Z"
   },
   {
    "duration": 28,
    "start_time": "2022-01-19T14:32:16.423Z"
   },
   {
    "duration": 508,
    "start_time": "2022-01-19T14:35:37.198Z"
   },
   {
    "duration": 6,
    "start_time": "2022-01-19T14:36:15.046Z"
   },
   {
    "duration": 17,
    "start_time": "2022-01-19T14:36:24.221Z"
   },
   {
    "duration": 16,
    "start_time": "2022-01-19T14:36:32.405Z"
   },
   {
    "duration": 18,
    "start_time": "2022-01-19T14:38:46.949Z"
   },
   {
    "duration": 85,
    "start_time": "2022-01-19T14:47:35.297Z"
   },
   {
    "duration": 15,
    "start_time": "2022-01-19T14:47:37.426Z"
   },
   {
    "duration": 17,
    "start_time": "2022-01-19T14:47:44.456Z"
   },
   {
    "duration": 18,
    "start_time": "2022-01-19T14:48:17.289Z"
   },
   {
    "duration": 8,
    "start_time": "2022-01-19T14:51:05.081Z"
   },
   {
    "duration": 8,
    "start_time": "2022-01-19T17:05:30.685Z"
   },
   {
    "duration": 21,
    "start_time": "2022-01-19T17:06:36.997Z"
   },
   {
    "duration": 7,
    "start_time": "2022-01-19T17:06:37.349Z"
   },
   {
    "duration": 1051,
    "start_time": "2022-01-19T17:08:29.445Z"
   },
   {
    "duration": 149,
    "start_time": "2022-01-19T17:08:39.989Z"
   },
   {
    "duration": 14,
    "start_time": "2022-01-19T17:11:05.068Z"
   },
   {
    "duration": 237,
    "start_time": "2022-01-20T15:31:57.945Z"
   },
   {
    "duration": 1015,
    "start_time": "2022-01-20T15:32:05.675Z"
   },
   {
    "duration": 345,
    "start_time": "2022-01-20T15:32:06.692Z"
   },
   {
    "duration": 489,
    "start_time": "2022-01-20T15:32:07.039Z"
   },
   {
    "duration": 431,
    "start_time": "2022-01-20T15:34:32.345Z"
   },
   {
    "duration": 421,
    "start_time": "2022-01-20T15:34:58.633Z"
   },
   {
    "duration": 451,
    "start_time": "2022-01-20T15:39:17.663Z"
   },
   {
    "duration": 272,
    "start_time": "2022-01-20T15:39:27.336Z"
   },
   {
    "duration": 2196,
    "start_time": "2022-01-20T15:39:38.368Z"
   },
   {
    "duration": 2262,
    "start_time": "2022-01-20T16:02:19.835Z"
   },
   {
    "duration": 2781,
    "start_time": "2022-01-20T16:03:01.018Z"
   },
   {
    "duration": 2222,
    "start_time": "2022-01-20T16:05:18.009Z"
   },
   {
    "duration": 11,
    "start_time": "2022-01-20T16:10:14.304Z"
   },
   {
    "duration": 43,
    "start_time": "2022-01-20T16:10:14.889Z"
   },
   {
    "duration": 38,
    "start_time": "2022-01-20T16:10:15.233Z"
   },
   {
    "duration": 29,
    "start_time": "2022-01-20T16:10:15.490Z"
   },
   {
    "duration": 9,
    "start_time": "2022-01-20T16:10:15.721Z"
   },
   {
    "duration": 4,
    "start_time": "2022-01-20T16:12:50.141Z"
   },
   {
    "duration": 3,
    "start_time": "2022-01-20T16:13:00.669Z"
   },
   {
    "duration": 207,
    "start_time": "2022-01-20T16:13:52.677Z"
   },
   {
    "duration": 211,
    "start_time": "2022-01-20T16:14:11.868Z"
   },
   {
    "duration": 9,
    "start_time": "2022-01-20T16:15:17.883Z"
   },
   {
    "duration": 211,
    "start_time": "2022-01-20T16:15:39.059Z"
   },
   {
    "duration": 192,
    "start_time": "2022-01-20T16:17:14.387Z"
   },
   {
    "duration": 8,
    "start_time": "2022-01-20T16:17:25.050Z"
   },
   {
    "duration": 269,
    "start_time": "2022-01-20T16:17:42.161Z"
   },
   {
    "duration": 191,
    "start_time": "2022-01-20T16:17:53.543Z"
   },
   {
    "duration": 198,
    "start_time": "2022-01-20T16:17:57.821Z"
   },
   {
    "duration": 206,
    "start_time": "2022-01-20T16:18:01.377Z"
   },
   {
    "duration": 220,
    "start_time": "2022-01-20T16:18:09.678Z"
   },
   {
    "duration": 182,
    "start_time": "2022-01-20T16:18:13.913Z"
   },
   {
    "duration": 267,
    "start_time": "2022-01-20T16:18:16.697Z"
   },
   {
    "duration": 209,
    "start_time": "2022-01-20T16:19:13.228Z"
   },
   {
    "duration": 230,
    "start_time": "2022-01-20T16:19:31.258Z"
   },
   {
    "duration": 215,
    "start_time": "2022-01-20T16:19:37.185Z"
   },
   {
    "duration": 309,
    "start_time": "2022-01-20T16:19:41.514Z"
   },
   {
    "duration": 9,
    "start_time": "2022-01-20T16:19:45.521Z"
   },
   {
    "duration": 4828,
    "start_time": "2022-01-20T16:38:17.817Z"
   },
   {
    "duration": 1957,
    "start_time": "2022-01-20T16:38:55.646Z"
   },
   {
    "duration": 5402,
    "start_time": "2022-01-20T16:39:06.214Z"
   },
   {
    "duration": 204,
    "start_time": "2022-01-20T16:40:06.110Z"
   },
   {
    "duration": 1078,
    "start_time": "2022-01-20T16:40:48.491Z"
   },
   {
    "duration": 323,
    "start_time": "2022-01-20T16:40:49.570Z"
   },
   {
    "duration": 2102,
    "start_time": "2022-01-20T16:40:49.895Z"
   },
   {
    "duration": 59,
    "start_time": "2022-01-20T16:40:51.999Z"
   },
   {
    "duration": 11,
    "start_time": "2022-01-20T16:40:52.060Z"
   },
   {
    "duration": 54,
    "start_time": "2022-01-20T16:40:52.073Z"
   },
   {
    "duration": 36,
    "start_time": "2022-01-20T16:40:52.128Z"
   },
   {
    "duration": 150,
    "start_time": "2022-01-20T16:40:52.167Z"
   },
   {
    "duration": 102,
    "start_time": "2022-01-20T16:40:52.319Z"
   },
   {
    "duration": 8,
    "start_time": "2022-01-20T16:40:52.513Z"
   },
   {
    "duration": 5052,
    "start_time": "2022-01-20T16:41:45.559Z"
   },
   {
    "duration": 219,
    "start_time": "2022-01-20T16:42:04.351Z"
   },
   {
    "duration": 5941,
    "start_time": "2022-01-20T16:42:16.238Z"
   },
   {
    "duration": 5308,
    "start_time": "2022-01-20T16:44:02.742Z"
   },
   {
    "duration": 5041,
    "start_time": "2022-01-20T16:44:23.047Z"
   },
   {
    "duration": 1007,
    "start_time": "2022-01-20T16:44:40.871Z"
   },
   {
    "duration": 336,
    "start_time": "2022-01-20T16:44:41.880Z"
   },
   {
    "duration": 2157,
    "start_time": "2022-01-20T16:44:42.218Z"
   },
   {
    "duration": 50,
    "start_time": "2022-01-20T16:44:44.436Z"
   },
   {
    "duration": 30,
    "start_time": "2022-01-20T16:44:44.488Z"
   },
   {
    "duration": 13,
    "start_time": "2022-01-20T16:44:51.585Z"
   },
   {
    "duration": 415,
    "start_time": "2022-01-20T16:46:35.176Z"
   },
   {
    "duration": 15,
    "start_time": "2022-01-20T16:46:45.904Z"
   },
   {
    "duration": 195,
    "start_time": "2022-01-20T16:47:09.990Z"
   },
   {
    "duration": 998,
    "start_time": "2022-01-20T16:47:38.886Z"
   },
   {
    "duration": 218,
    "start_time": "2022-01-20T16:48:00.695Z"
   },
   {
    "duration": 19,
    "start_time": "2022-01-20T16:48:25.051Z"
   },
   {
    "duration": 17,
    "start_time": "2022-01-20T16:48:48.878Z"
   },
   {
    "duration": 21,
    "start_time": "2022-01-20T16:48:54.926Z"
   },
   {
    "duration": 17,
    "start_time": "2022-01-20T16:49:37.462Z"
   },
   {
    "duration": 218,
    "start_time": "2022-01-20T17:43:36.272Z"
   },
   {
    "duration": 201,
    "start_time": "2022-01-20T17:43:45.730Z"
   },
   {
    "duration": 217,
    "start_time": "2022-01-20T17:43:46.873Z"
   },
   {
    "duration": 2249,
    "start_time": "2022-01-20T17:47:15.579Z"
   },
   {
    "duration": 2127,
    "start_time": "2022-01-20T17:48:04.778Z"
   },
   {
    "duration": 15,
    "start_time": "2022-01-20T17:48:48.704Z"
   },
   {
    "duration": 13,
    "start_time": "2022-01-20T17:49:17.944Z"
   },
   {
    "duration": 13,
    "start_time": "2022-01-20T17:49:40.602Z"
   },
   {
    "duration": 16,
    "start_time": "2022-01-20T17:50:23.416Z"
   },
   {
    "duration": 8,
    "start_time": "2022-01-20T17:50:43.406Z"
   },
   {
    "duration": 13,
    "start_time": "2022-01-20T17:50:52.976Z"
   },
   {
    "duration": 3525,
    "start_time": "2022-01-20T17:50:54.929Z"
   },
   {
    "duration": 2676,
    "start_time": "2022-01-20T17:51:12.027Z"
   },
   {
    "duration": 1064,
    "start_time": "2022-01-20T17:51:23.323Z"
   },
   {
    "duration": 330,
    "start_time": "2022-01-20T17:51:24.389Z"
   },
   {
    "duration": 2244,
    "start_time": "2022-01-20T17:51:24.721Z"
   },
   {
    "duration": 16,
    "start_time": "2022-01-20T17:51:26.967Z"
   },
   {
    "duration": 13,
    "start_time": "2022-01-20T17:51:27.012Z"
   },
   {
    "duration": 13,
    "start_time": "2022-01-20T17:51:27.028Z"
   },
   {
    "duration": 2802,
    "start_time": "2022-01-20T17:51:27.042Z"
   },
   {
    "duration": 2500,
    "start_time": "2022-01-20T17:51:44.158Z"
   },
   {
    "duration": 5,
    "start_time": "2022-01-20T17:51:53.137Z"
   },
   {
    "duration": 2728,
    "start_time": "2022-01-20T17:52:04.541Z"
   },
   {
    "duration": 87,
    "start_time": "2022-01-20T17:52:07.184Z"
   },
   {
    "duration": 1083,
    "start_time": "2022-01-20T17:52:15.599Z"
   },
   {
    "duration": 324,
    "start_time": "2022-01-20T17:52:16.684Z"
   },
   {
    "duration": 2195,
    "start_time": "2022-01-20T17:52:17.010Z"
   },
   {
    "duration": 11,
    "start_time": "2022-01-20T17:52:19.231Z"
   },
   {
    "duration": 13,
    "start_time": "2022-01-20T17:52:19.244Z"
   },
   {
    "duration": 20,
    "start_time": "2022-01-20T17:52:21.404Z"
   },
   {
    "duration": 10,
    "start_time": "2022-01-20T17:52:23.029Z"
   },
   {
    "duration": 10,
    "start_time": "2022-01-20T17:52:31.620Z"
   },
   {
    "duration": 947,
    "start_time": "2022-01-20T17:53:02.099Z"
   },
   {
    "duration": 20,
    "start_time": "2022-01-20T17:53:06.340Z"
   },
   {
    "duration": 28,
    "start_time": "2022-01-20T17:54:57.068Z"
   },
   {
    "duration": 10,
    "start_time": "2022-01-20T17:54:59.071Z"
   },
   {
    "duration": 55,
    "start_time": "2022-01-20T17:55:59.051Z"
   },
   {
    "duration": 52,
    "start_time": "2022-01-20T17:56:00.702Z"
   },
   {
    "duration": 10,
    "start_time": "2022-01-20T17:56:01.012Z"
   },
   {
    "duration": 35,
    "start_time": "2022-01-20T17:56:05.276Z"
   },
   {
    "duration": 12,
    "start_time": "2022-01-20T17:56:05.515Z"
   },
   {
    "duration": 189,
    "start_time": "2022-01-20T17:56:19.227Z"
   },
   {
    "duration": 14,
    "start_time": "2022-01-20T17:56:23.914Z"
   },
   {
    "duration": 10,
    "start_time": "2022-01-20T17:56:30.187Z"
   },
   {
    "duration": 19,
    "start_time": "2022-01-20T17:57:00.188Z"
   },
   {
    "duration": 10,
    "start_time": "2022-01-20T17:57:10.958Z"
   },
   {
    "duration": 15,
    "start_time": "2022-01-20T17:57:20.843Z"
   },
   {
    "duration": 12,
    "start_time": "2022-01-20T17:57:21.526Z"
   },
   {
    "duration": 85,
    "start_time": "2022-01-20T17:58:17.321Z"
   },
   {
    "duration": 31,
    "start_time": "2022-01-20T18:05:35.463Z"
   },
   {
    "duration": 12,
    "start_time": "2022-01-20T18:05:42.807Z"
   },
   {
    "duration": 23,
    "start_time": "2022-01-20T18:05:58.552Z"
   },
   {
    "duration": 10,
    "start_time": "2022-01-20T18:09:27.581Z"
   },
   {
    "duration": 247,
    "start_time": "2022-01-20T18:09:47.598Z"
   },
   {
    "duration": 4,
    "start_time": "2022-01-20T18:09:50.932Z"
   },
   {
    "duration": 345,
    "start_time": "2022-01-20T18:09:50.938Z"
   },
   {
    "duration": 2144,
    "start_time": "2022-01-20T18:09:51.285Z"
   },
   {
    "duration": 17,
    "start_time": "2022-01-20T18:09:53.431Z"
   },
   {
    "duration": 19,
    "start_time": "2022-01-20T18:09:53.450Z"
   },
   {
    "duration": 91,
    "start_time": "2022-01-20T18:09:53.471Z"
   },
   {
    "duration": 29,
    "start_time": "2022-01-20T18:09:53.563Z"
   },
   {
    "duration": 29,
    "start_time": "2022-01-20T18:09:53.593Z"
   },
   {
    "duration": 9,
    "start_time": "2022-01-20T18:09:53.624Z"
   },
   {
    "duration": 49,
    "start_time": "2022-01-20T18:09:53.635Z"
   },
   {
    "duration": 51,
    "start_time": "2022-01-20T18:09:53.685Z"
   },
   {
    "duration": 178,
    "start_time": "2022-01-20T18:09:53.738Z"
   },
   {
    "duration": 103,
    "start_time": "2022-01-20T18:09:53.918Z"
   },
   {
    "duration": 91,
    "start_time": "2022-01-20T18:09:54.023Z"
   },
   {
    "duration": 4,
    "start_time": "2022-01-20T18:11:24.924Z"
   },
   {
    "duration": 8,
    "start_time": "2022-01-20T18:12:48.940Z"
   },
   {
    "duration": 6,
    "start_time": "2022-01-20T18:13:10.588Z"
   },
   {
    "duration": 6,
    "start_time": "2022-01-20T18:13:21.899Z"
   },
   {
    "duration": 8,
    "start_time": "2022-01-20T18:13:57.844Z"
   },
   {
    "duration": 9,
    "start_time": "2022-01-20T18:25:56.047Z"
   },
   {
    "duration": 245,
    "start_time": "2022-01-20T18:51:07.525Z"
   },
   {
    "duration": 3,
    "start_time": "2022-01-20T18:51:12.821Z"
   },
   {
    "duration": 193,
    "start_time": "2022-01-20T18:51:13.093Z"
   },
   {
    "duration": 3,
    "start_time": "2022-01-20T18:55:03.828Z"
   },
   {
    "duration": 207,
    "start_time": "2022-01-20T18:55:09.517Z"
   },
   {
    "duration": 3,
    "start_time": "2022-01-20T18:55:27.171Z"
   },
   {
    "duration": 2,
    "start_time": "2022-01-20T19:08:43.495Z"
   },
   {
    "duration": 4,
    "start_time": "2022-01-20T19:08:49.095Z"
   },
   {
    "duration": 4,
    "start_time": "2022-01-20T19:09:02.847Z"
   },
   {
    "duration": 5,
    "start_time": "2022-01-20T19:10:22.718Z"
   },
   {
    "duration": 5,
    "start_time": "2022-01-20T19:11:21.398Z"
   },
   {
    "duration": 3,
    "start_time": "2022-01-20T19:11:34.078Z"
   },
   {
    "duration": 5,
    "start_time": "2022-01-21T14:52:34.445Z"
   },
   {
    "duration": 482,
    "start_time": "2022-01-21T14:52:35.406Z"
   },
   {
    "duration": 1659,
    "start_time": "2022-01-21T14:53:00.711Z"
   },
   {
    "duration": 435,
    "start_time": "2022-01-21T14:53:06.860Z"
   },
   {
    "duration": 1579,
    "start_time": "2022-01-21T14:53:16.097Z"
   },
   {
    "duration": 529,
    "start_time": "2022-01-21T14:53:17.680Z"
   },
   {
    "duration": 3587,
    "start_time": "2022-01-21T14:53:18.211Z"
   },
   {
    "duration": 26,
    "start_time": "2022-01-21T14:53:21.802Z"
   },
   {
    "duration": 48,
    "start_time": "2022-01-21T14:53:21.830Z"
   },
   {
    "duration": 171,
    "start_time": "2022-01-21T14:53:21.882Z"
   },
   {
    "duration": 56,
    "start_time": "2022-01-21T14:53:22.056Z"
   },
   {
    "duration": 33,
    "start_time": "2022-01-21T14:53:22.115Z"
   },
   {
    "duration": 34,
    "start_time": "2022-01-21T14:53:22.151Z"
   },
   {
    "duration": 64,
    "start_time": "2022-01-21T14:53:22.187Z"
   },
   {
    "duration": 79,
    "start_time": "2022-01-21T14:53:22.253Z"
   },
   {
    "duration": 148,
    "start_time": "2022-01-21T14:53:22.334Z"
   },
   {
    "duration": 94,
    "start_time": "2022-01-21T14:53:22.488Z"
   },
   {
    "duration": 106,
    "start_time": "2022-01-21T14:53:22.593Z"
   },
   {
    "duration": 7,
    "start_time": "2022-01-21T14:53:22.701Z"
   },
   {
    "duration": 5,
    "start_time": "2022-01-21T14:53:22.711Z"
   },
   {
    "duration": 7439,
    "start_time": "2022-01-21T14:53:22.718Z"
   },
   {
    "duration": 6111,
    "start_time": "2022-01-21T14:55:21.230Z"
   },
   {
    "duration": 925,
    "start_time": "2022-01-21T14:55:43.317Z"
   },
   {
    "duration": 5,
    "start_time": "2022-01-21T14:55:49.214Z"
   },
   {
    "duration": 6,
    "start_time": "2022-01-21T14:56:17.406Z"
   },
   {
    "duration": 12,
    "start_time": "2022-01-21T14:56:34.682Z"
   },
   {
    "duration": 12,
    "start_time": "2022-01-21T14:56:45.039Z"
   },
   {
    "duration": 17,
    "start_time": "2022-01-21T14:56:58.381Z"
   },
   {
    "duration": 27,
    "start_time": "2022-01-21T14:57:32.359Z"
   },
   {
    "duration": 14,
    "start_time": "2022-01-21T14:57:54.118Z"
   },
   {
    "duration": 12,
    "start_time": "2022-01-21T14:58:19.014Z"
   },
   {
    "duration": 9,
    "start_time": "2022-01-21T14:58:33.917Z"
   },
   {
    "duration": 11,
    "start_time": "2022-01-21T14:58:37.397Z"
   },
   {
    "duration": 13,
    "start_time": "2022-01-21T14:58:54.606Z"
   },
   {
    "duration": 5999,
    "start_time": "2022-01-21T15:00:09.341Z"
   },
   {
    "duration": 13,
    "start_time": "2022-01-21T15:00:15.614Z"
   },
   {
    "duration": 19,
    "start_time": "2022-01-21T15:00:47.478Z"
   },
   {
    "duration": 14,
    "start_time": "2022-01-21T15:00:49.987Z"
   },
   {
    "duration": 5684,
    "start_time": "2022-01-21T15:01:13.029Z"
   },
   {
    "duration": 12,
    "start_time": "2022-01-21T15:01:18.715Z"
   },
   {
    "duration": 8,
    "start_time": "2022-01-21T15:02:08.310Z"
   },
   {
    "duration": 12,
    "start_time": "2022-01-21T15:02:27.743Z"
   },
   {
    "duration": 8,
    "start_time": "2022-01-21T15:04:07.157Z"
   },
   {
    "duration": 8,
    "start_time": "2022-01-21T15:04:38.013Z"
   },
   {
    "duration": 12281,
    "start_time": "2022-01-21T15:06:40.709Z"
   },
   {
    "duration": 13,
    "start_time": "2022-01-21T15:07:28.452Z"
   },
   {
    "duration": 14,
    "start_time": "2022-01-21T15:10:17.701Z"
   },
   {
    "duration": 16,
    "start_time": "2022-01-21T15:11:40.085Z"
   },
   {
    "duration": 442,
    "start_time": "2022-01-21T15:12:52.435Z"
   },
   {
    "duration": 9,
    "start_time": "2022-01-21T15:13:05.226Z"
   },
   {
    "duration": 339,
    "start_time": "2022-01-21T15:13:12.620Z"
   },
   {
    "duration": 8,
    "start_time": "2022-01-21T15:13:26.212Z"
   },
   {
    "duration": 6,
    "start_time": "2022-01-21T15:13:35.611Z"
   },
   {
    "duration": 15,
    "start_time": "2022-01-21T15:13:48.478Z"
   },
   {
    "duration": 7,
    "start_time": "2022-01-21T15:14:06.347Z"
   },
   {
    "duration": 8,
    "start_time": "2022-01-21T15:14:09.635Z"
   },
   {
    "duration": 109,
    "start_time": "2022-01-21T15:14:14.173Z"
   },
   {
    "duration": 8,
    "start_time": "2022-01-21T15:14:18.243Z"
   },
   {
    "duration": 15,
    "start_time": "2022-01-21T15:14:30.532Z"
   },
   {
    "duration": 8,
    "start_time": "2022-01-21T15:14:35.826Z"
   },
   {
    "duration": 9590,
    "start_time": "2022-01-21T15:15:23.965Z"
   },
   {
    "duration": 11780,
    "start_time": "2022-01-21T15:15:36.330Z"
   },
   {
    "duration": 8,
    "start_time": "2022-01-21T16:29:30.526Z"
   },
   {
    "duration": 5,
    "start_time": "2022-01-21T16:29:40.149Z"
   },
   {
    "duration": 9,
    "start_time": "2022-01-21T16:29:45.469Z"
   },
   {
    "duration": 7,
    "start_time": "2022-01-21T16:30:01.092Z"
   },
   {
    "duration": 330,
    "start_time": "2022-01-21T16:30:14.990Z"
   },
   {
    "duration": 10,
    "start_time": "2022-01-21T16:30:19.326Z"
   },
   {
    "duration": 39,
    "start_time": "2022-01-21T16:30:34.573Z"
   },
   {
    "duration": 23,
    "start_time": "2022-01-21T16:30:36.405Z"
   },
   {
    "duration": 15,
    "start_time": "2022-01-21T16:30:52.949Z"
   },
   {
    "duration": 7,
    "start_time": "2022-01-21T16:31:15.645Z"
   },
   {
    "duration": 4928,
    "start_time": "2022-01-21T16:31:20.324Z"
   },
   {
    "duration": 8025,
    "start_time": "2022-01-21T16:31:29.240Z"
   },
   {
    "duration": 1382,
    "start_time": "2022-01-21T16:31:52.390Z"
   },
   {
    "duration": 8,
    "start_time": "2022-01-21T16:31:54.308Z"
   },
   {
    "duration": 1381,
    "start_time": "2022-01-21T16:32:11.539Z"
   },
   {
    "duration": 9,
    "start_time": "2022-01-21T16:32:45.620Z"
   },
   {
    "duration": 303,
    "start_time": "2022-01-21T16:35:18.955Z"
   },
   {
    "duration": 19,
    "start_time": "2022-01-21T16:35:22.907Z"
   },
   {
    "duration": 18,
    "start_time": "2022-01-21T16:35:30.443Z"
   },
   {
    "duration": 8,
    "start_time": "2022-01-21T16:37:36.154Z"
   },
   {
    "duration": 1964,
    "start_time": "2022-01-21T16:38:41.227Z"
   },
   {
    "duration": 2851,
    "start_time": "2022-01-21T16:38:47.682Z"
   },
   {
    "duration": 4625,
    "start_time": "2022-01-21T16:38:52.730Z"
   },
   {
    "duration": 6,
    "start_time": "2022-01-21T16:43:25.081Z"
   },
   {
    "duration": 6,
    "start_time": "2022-01-21T16:43:47.551Z"
   },
   {
    "duration": 6,
    "start_time": "2022-01-21T16:44:24.432Z"
   },
   {
    "duration": 8593,
    "start_time": "2022-01-21T16:44:44.216Z"
   },
   {
    "duration": 8517,
    "start_time": "2022-01-21T16:45:07.015Z"
   },
   {
    "duration": 1377,
    "start_time": "2022-01-21T16:45:30.900Z"
   },
   {
    "duration": 6,
    "start_time": "2022-01-21T16:45:34.438Z"
   },
   {
    "duration": 8374,
    "start_time": "2022-01-21T16:45:42.838Z"
   },
   {
    "duration": 7,
    "start_time": "2022-01-21T16:45:56.439Z"
   },
   {
    "duration": 12,
    "start_time": "2022-01-21T16:46:32.063Z"
   },
   {
    "duration": 8,
    "start_time": "2022-01-21T16:50:17.764Z"
   },
   {
    "duration": 12,
    "start_time": "2022-01-21T16:52:13.453Z"
   },
   {
    "duration": 12,
    "start_time": "2022-01-21T16:53:22.355Z"
   },
   {
    "duration": 309,
    "start_time": "2022-01-21T16:58:00.676Z"
   },
   {
    "duration": 10591,
    "start_time": "2022-01-21T16:58:11.466Z"
   },
   {
    "duration": 311,
    "start_time": "2022-01-21T17:09:40.351Z"
   },
   {
    "duration": 3904,
    "start_time": "2022-01-21T17:10:02.783Z"
   },
   {
    "duration": 7,
    "start_time": "2022-01-21T17:10:09.788Z"
   },
   {
    "duration": 3779,
    "start_time": "2022-01-21T17:20:34.585Z"
   },
   {
    "duration": 7,
    "start_time": "2022-01-21T17:20:38.367Z"
   },
   {
    "duration": 9,
    "start_time": "2022-01-21T17:21:27.265Z"
   },
   {
    "duration": 7,
    "start_time": "2022-01-21T17:21:58.870Z"
   },
   {
    "duration": 6,
    "start_time": "2022-01-21T17:22:07.088Z"
   },
   {
    "duration": 9,
    "start_time": "2022-01-21T17:22:13.720Z"
   },
   {
    "duration": 9,
    "start_time": "2022-01-21T17:22:23.528Z"
   },
   {
    "duration": 6,
    "start_time": "2022-01-21T17:22:32.711Z"
   },
   {
    "duration": 6,
    "start_time": "2022-01-21T17:22:33.600Z"
   },
   {
    "duration": 10,
    "start_time": "2022-01-21T17:22:36.991Z"
   },
   {
    "duration": 9,
    "start_time": "2022-01-21T17:22:40.096Z"
   },
   {
    "duration": 10,
    "start_time": "2022-01-21T17:23:10.872Z"
   },
   {
    "duration": 7,
    "start_time": "2022-01-21T17:24:01.392Z"
   },
   {
    "duration": 397,
    "start_time": "2022-01-21T17:24:04.191Z"
   },
   {
    "duration": 7,
    "start_time": "2022-01-21T17:24:06.399Z"
   },
   {
    "duration": 9,
    "start_time": "2022-01-21T17:24:41.569Z"
   },
   {
    "duration": 6,
    "start_time": "2022-01-21T17:24:44.255Z"
   },
   {
    "duration": 8,
    "start_time": "2022-01-21T17:24:51.943Z"
   },
   {
    "duration": 9,
    "start_time": "2022-01-21T17:24:54.439Z"
   },
   {
    "duration": 8,
    "start_time": "2022-01-21T17:25:45.631Z"
   },
   {
    "duration": 395,
    "start_time": "2022-01-21T17:26:12.238Z"
   },
   {
    "duration": 7,
    "start_time": "2022-01-21T17:26:32.095Z"
   },
   {
    "duration": 6,
    "start_time": "2022-01-21T18:02:58.801Z"
   },
   {
    "duration": 298,
    "start_time": "2022-01-21T18:04:42.897Z"
   },
   {
    "duration": 289,
    "start_time": "2022-01-21T18:04:46.439Z"
   },
   {
    "duration": 392,
    "start_time": "2022-01-21T18:04:53.423Z"
   },
   {
    "duration": 296,
    "start_time": "2022-01-21T18:04:56.294Z"
   },
   {
    "duration": 285,
    "start_time": "2022-01-21T18:05:04.015Z"
   },
   {
    "duration": 407,
    "start_time": "2022-01-21T18:05:10.423Z"
   },
   {
    "duration": 6,
    "start_time": "2022-01-21T18:05:17.536Z"
   },
   {
    "duration": 7,
    "start_time": "2022-01-21T18:05:23.414Z"
   },
   {
    "duration": 8,
    "start_time": "2022-01-21T18:06:50.062Z"
   },
   {
    "duration": 8,
    "start_time": "2022-01-21T18:06:51.047Z"
   },
   {
    "duration": 286,
    "start_time": "2022-01-21T18:11:07.653Z"
   },
   {
    "duration": 383,
    "start_time": "2022-01-21T18:12:02.245Z"
   },
   {
    "duration": 287,
    "start_time": "2022-01-21T18:12:12.870Z"
   },
   {
    "duration": 12,
    "start_time": "2022-01-21T18:13:08.364Z"
   },
   {
    "duration": 18,
    "start_time": "2022-01-21T18:13:18.748Z"
   },
   {
    "duration": 20,
    "start_time": "2022-01-21T18:13:36.070Z"
   },
   {
    "duration": 12,
    "start_time": "2022-01-21T18:13:55.604Z"
   },
   {
    "duration": 20,
    "start_time": "2022-01-21T18:13:59.132Z"
   },
   {
    "duration": 1562,
    "start_time": "2022-01-21T18:14:18.944Z"
   },
   {
    "duration": 466,
    "start_time": "2022-01-21T18:14:20.509Z"
   },
   {
    "duration": 3322,
    "start_time": "2022-01-21T18:14:20.979Z"
   },
   {
    "duration": 24,
    "start_time": "2022-01-21T18:14:24.304Z"
   },
   {
    "duration": 40,
    "start_time": "2022-01-21T18:14:24.330Z"
   },
   {
    "duration": 145,
    "start_time": "2022-01-21T18:14:24.372Z"
   },
   {
    "duration": 54,
    "start_time": "2022-01-21T18:14:24.520Z"
   },
   {
    "duration": 32,
    "start_time": "2022-01-21T18:14:24.577Z"
   },
   {
    "duration": 13,
    "start_time": "2022-01-21T18:14:24.613Z"
   },
   {
    "duration": 83,
    "start_time": "2022-01-21T18:14:24.629Z"
   },
   {
    "duration": 70,
    "start_time": "2022-01-21T18:14:24.715Z"
   },
   {
    "duration": 185,
    "start_time": "2022-01-21T18:14:24.787Z"
   },
   {
    "duration": 190,
    "start_time": "2022-01-21T18:14:24.975Z"
   },
   {
    "duration": 22,
    "start_time": "2022-01-21T18:14:25.168Z"
   },
   {
    "duration": 7,
    "start_time": "2022-01-21T18:14:25.193Z"
   },
   {
    "duration": 6,
    "start_time": "2022-01-21T18:14:25.202Z"
   },
   {
    "duration": 3732,
    "start_time": "2022-01-21T18:14:25.210Z"
   },
   {
    "duration": 33,
    "start_time": "2022-01-21T18:14:28.944Z"
   },
   {
    "duration": 8,
    "start_time": "2022-01-21T18:14:28.980Z"
   },
   {
    "duration": 11,
    "start_time": "2022-01-21T18:14:28.991Z"
   },
   {
    "duration": 7,
    "start_time": "2022-01-21T18:14:29.005Z"
   },
   {
    "duration": 11,
    "start_time": "2022-01-21T18:14:52.564Z"
   },
   {
    "duration": 23,
    "start_time": "2022-01-21T18:15:52.232Z"
   },
   {
    "duration": 20,
    "start_time": "2022-01-21T18:16:12.713Z"
   },
   {
    "duration": 340,
    "start_time": "2022-01-22T10:19:19.577Z"
   },
   {
    "duration": 1539,
    "start_time": "2022-01-22T10:19:32.549Z"
   },
   {
    "duration": 1667,
    "start_time": "2022-01-22T10:19:34.090Z"
   },
   {
    "duration": 3850,
    "start_time": "2022-01-22T10:19:35.761Z"
   },
   {
    "duration": 47,
    "start_time": "2022-01-22T10:19:39.615Z"
   },
   {
    "duration": 27,
    "start_time": "2022-01-22T10:19:39.664Z"
   },
   {
    "duration": 166,
    "start_time": "2022-01-22T10:19:39.693Z"
   },
   {
    "duration": 41,
    "start_time": "2022-01-22T10:19:39.862Z"
   },
   {
    "duration": 54,
    "start_time": "2022-01-22T10:19:39.906Z"
   },
   {
    "duration": 13,
    "start_time": "2022-01-22T10:19:39.964Z"
   },
   {
    "duration": 82,
    "start_time": "2022-01-22T10:19:39.980Z"
   },
   {
    "duration": 69,
    "start_time": "2022-01-22T10:19:40.064Z"
   },
   {
    "duration": 199,
    "start_time": "2022-01-22T10:19:40.137Z"
   },
   {
    "duration": 105,
    "start_time": "2022-01-22T10:19:40.340Z"
   },
   {
    "duration": 21,
    "start_time": "2022-01-22T10:19:40.448Z"
   },
   {
    "duration": 8,
    "start_time": "2022-01-22T10:19:40.472Z"
   },
   {
    "duration": 4,
    "start_time": "2022-01-22T10:19:40.483Z"
   },
   {
    "duration": 545,
    "start_time": "2022-01-22T10:19:40.534Z"
   },
   {
    "duration": 1688,
    "start_time": "2022-01-22T10:19:39.395Z"
   },
   {
    "duration": 1688,
    "start_time": "2022-01-22T10:19:39.397Z"
   },
   {
    "duration": 1690,
    "start_time": "2022-01-22T10:19:39.398Z"
   },
   {
    "duration": 1691,
    "start_time": "2022-01-22T10:19:39.399Z"
   },
   {
    "duration": 15376,
    "start_time": "2022-01-22T10:19:57.226Z"
   },
   {
    "duration": 16,
    "start_time": "2022-01-22T10:20:26.938Z"
   },
   {
    "duration": 7,
    "start_time": "2022-01-22T10:21:23.705Z"
   },
   {
    "duration": 8,
    "start_time": "2022-01-22T10:21:50.672Z"
   },
   {
    "duration": 20,
    "start_time": "2022-01-22T10:21:53.361Z"
   },
   {
    "duration": 7,
    "start_time": "2022-01-22T10:22:01.560Z"
   },
   {
    "duration": 6,
    "start_time": "2022-01-22T10:22:02.267Z"
   },
   {
    "duration": 7,
    "start_time": "2022-01-22T10:23:34.541Z"
   },
   {
    "duration": 10,
    "start_time": "2022-01-22T10:26:47.131Z"
   },
   {
    "duration": 266,
    "start_time": "2022-01-22T10:27:12.136Z"
   },
   {
    "duration": 10412,
    "start_time": "2022-01-22T10:27:17.066Z"
   },
   {
    "duration": 6,
    "start_time": "2022-01-22T10:31:17.132Z"
   },
   {
    "duration": 5,
    "start_time": "2022-01-22T10:35:14.860Z"
   },
   {
    "duration": 5,
    "start_time": "2022-01-22T10:45:40.398Z"
   },
   {
    "duration": 8840,
    "start_time": "2022-01-22T10:45:41.752Z"
   },
   {
    "duration": 15,
    "start_time": "2022-01-22T10:45:50.595Z"
   },
   {
    "duration": 25,
    "start_time": "2022-01-22T10:45:50.613Z"
   },
   {
    "duration": 14,
    "start_time": "2022-01-22T10:46:09.017Z"
   },
   {
    "duration": 4,
    "start_time": "2022-01-22T10:47:45.616Z"
   },
   {
    "duration": 532,
    "start_time": "2022-01-22T10:47:56.038Z"
   },
   {
    "duration": 272,
    "start_time": "2022-01-22T10:47:56.688Z"
   },
   {
    "duration": 498,
    "start_time": "2022-01-22T10:48:02.160Z"
   },
   {
    "duration": 4,
    "start_time": "2022-01-22T10:48:11.817Z"
   },
   {
    "duration": 550,
    "start_time": "2022-01-22T10:48:15.278Z"
   },
   {
    "duration": 4,
    "start_time": "2022-01-22T10:49:05.856Z"
   },
   {
    "duration": 8913,
    "start_time": "2022-01-22T10:49:06.472Z"
   },
   {
    "duration": 254,
    "start_time": "2022-01-22T10:49:15.388Z"
   },
   {
    "duration": 7,
    "start_time": "2022-01-22T10:50:04.062Z"
   },
   {
    "duration": 9118,
    "start_time": "2022-01-22T10:50:22.975Z"
   },
   {
    "duration": 257,
    "start_time": "2022-01-22T10:50:32.096Z"
   },
   {
    "duration": 16,
    "start_time": "2022-01-22T10:50:33.023Z"
   },
   {
    "duration": 517,
    "start_time": "2022-01-22T10:50:44.726Z"
   },
   {
    "duration": 9,
    "start_time": "2022-01-22T10:50:46.089Z"
   },
   {
    "duration": 546,
    "start_time": "2022-01-22T10:50:46.406Z"
   },
   {
    "duration": 5,
    "start_time": "2022-01-22T10:53:17.917Z"
   },
   {
    "duration": 500,
    "start_time": "2022-01-22T10:53:18.829Z"
   },
   {
    "duration": 512,
    "start_time": "2022-01-22T10:54:56.061Z"
   },
   {
    "duration": 5,
    "start_time": "2022-01-22T10:55:11.052Z"
   },
   {
    "duration": 484,
    "start_time": "2022-01-22T10:55:11.864Z"
   },
   {
    "duration": 4,
    "start_time": "2022-01-22T10:58:02.788Z"
   },
   {
    "duration": 470,
    "start_time": "2022-01-22T10:58:03.556Z"
   },
   {
    "duration": 4,
    "start_time": "2022-01-22T10:58:48.485Z"
   },
   {
    "duration": 3051,
    "start_time": "2022-01-22T10:58:49.355Z"
   },
   {
    "duration": 4,
    "start_time": "2022-01-22T10:59:01.446Z"
   },
   {
    "duration": 510,
    "start_time": "2022-01-22T10:59:02.046Z"
   },
   {
    "duration": 4,
    "start_time": "2022-01-22T11:00:37.195Z"
   },
   {
    "duration": 547,
    "start_time": "2022-01-22T11:00:37.739Z"
   },
   {
    "duration": 536,
    "start_time": "2022-01-22T11:00:43.715Z"
   },
   {
    "duration": 6,
    "start_time": "2022-01-22T11:34:06.999Z"
   },
   {
    "duration": 4127,
    "start_time": "2022-01-22T11:34:07.557Z"
   },
   {
    "duration": 4,
    "start_time": "2022-01-22T11:36:29.197Z"
   },
   {
    "duration": 3149,
    "start_time": "2022-01-22T11:36:29.876Z"
   },
   {
    "duration": 8,
    "start_time": "2022-01-22T11:36:35.973Z"
   },
   {
    "duration": 5,
    "start_time": "2022-01-22T11:37:20.586Z"
   },
   {
    "duration": 11817,
    "start_time": "2022-01-22T11:37:21.108Z"
   },
   {
    "duration": 18,
    "start_time": "2022-01-22T11:37:37.116Z"
   },
   {
    "duration": 8,
    "start_time": "2022-01-22T11:39:06.941Z"
   },
   {
    "duration": 7,
    "start_time": "2022-01-22T11:39:10.700Z"
   },
   {
    "duration": 15,
    "start_time": "2022-01-22T11:40:04.403Z"
   },
   {
    "duration": 8,
    "start_time": "2022-01-22T11:40:05.843Z"
   },
   {
    "duration": 6,
    "start_time": "2022-01-22T11:40:12.348Z"
   },
   {
    "duration": 7,
    "start_time": "2022-01-22T11:40:12.627Z"
   },
   {
    "duration": 4,
    "start_time": "2022-01-22T11:40:47.281Z"
   },
   {
    "duration": 6,
    "start_time": "2022-01-22T11:40:56.707Z"
   },
   {
    "duration": 8,
    "start_time": "2022-01-22T11:41:03.444Z"
   },
   {
    "duration": 496,
    "start_time": "2022-01-22T11:41:41.011Z"
   },
   {
    "duration": 7,
    "start_time": "2022-01-22T11:42:33.637Z"
   },
   {
    "duration": 503,
    "start_time": "2022-01-22T11:42:34.675Z"
   },
   {
    "duration": 4,
    "start_time": "2022-01-22T11:43:02.778Z"
   },
   {
    "duration": 8,
    "start_time": "2022-01-22T11:43:39.042Z"
   },
   {
    "duration": 9268,
    "start_time": "2022-01-22T11:43:40.170Z"
   },
   {
    "duration": 14,
    "start_time": "2022-01-22T11:43:50.802Z"
   },
   {
    "duration": 268,
    "start_time": "2022-01-22T11:44:19.578Z"
   },
   {
    "duration": 8,
    "start_time": "2022-01-22T11:44:23.986Z"
   },
   {
    "duration": 10465,
    "start_time": "2022-01-22T11:45:02.146Z"
   },
   {
    "duration": 9537,
    "start_time": "2022-01-22T11:56:26.327Z"
   },
   {
    "duration": 6,
    "start_time": "2022-01-22T11:57:00.406Z"
   },
   {
    "duration": 9252,
    "start_time": "2022-01-22T11:57:05.655Z"
   },
   {
    "duration": 9242,
    "start_time": "2022-01-22T12:02:49.133Z"
   },
   {
    "duration": 4,
    "start_time": "2022-01-22T12:04:48.787Z"
   },
   {
    "duration": 5,
    "start_time": "2022-01-22T12:05:29.283Z"
   },
   {
    "duration": 536,
    "start_time": "2022-01-22T12:05:30.202Z"
   },
   {
    "duration": 4,
    "start_time": "2022-01-22T12:19:26.245Z"
   },
   {
    "duration": 594,
    "start_time": "2022-01-22T12:19:27.134Z"
   },
   {
    "duration": 4,
    "start_time": "2022-01-22T12:19:35.150Z"
   },
   {
    "duration": 711,
    "start_time": "2022-01-22T12:19:35.885Z"
   },
   {
    "duration": 4,
    "start_time": "2022-01-22T12:22:44.307Z"
   },
   {
    "duration": 545,
    "start_time": "2022-01-22T12:22:44.931Z"
   },
   {
    "duration": 4,
    "start_time": "2022-01-22T12:23:02.419Z"
   },
   {
    "duration": 498,
    "start_time": "2022-01-22T12:23:02.700Z"
   },
   {
    "duration": 5,
    "start_time": "2022-01-22T12:23:09.428Z"
   },
   {
    "duration": 491,
    "start_time": "2022-01-22T12:23:09.723Z"
   },
   {
    "duration": 4,
    "start_time": "2022-01-22T14:45:52.107Z"
   },
   {
    "duration": 613,
    "start_time": "2022-01-22T14:45:52.835Z"
   },
   {
    "duration": 7,
    "start_time": "2022-01-22T14:49:39.737Z"
   },
   {
    "duration": 7,
    "start_time": "2022-01-22T14:49:42.610Z"
   },
   {
    "duration": 4,
    "start_time": "2022-01-22T14:50:24.962Z"
   },
   {
    "duration": 465,
    "start_time": "2022-01-22T14:50:25.675Z"
   },
   {
    "duration": 9,
    "start_time": "2022-01-22T14:50:29.370Z"
   },
   {
    "duration": 9,
    "start_time": "2022-01-22T15:07:06.707Z"
   },
   {
    "duration": 8,
    "start_time": "2022-01-22T15:07:20.539Z"
   },
   {
    "duration": 1487,
    "start_time": "2022-01-23T11:21:33.912Z"
   },
   {
    "duration": 464,
    "start_time": "2022-01-23T11:21:35.402Z"
   },
   {
    "duration": 3254,
    "start_time": "2022-01-23T11:21:35.870Z"
   },
   {
    "duration": 22,
    "start_time": "2022-01-23T11:21:39.127Z"
   },
   {
    "duration": 33,
    "start_time": "2022-01-23T11:21:39.152Z"
   },
   {
    "duration": 149,
    "start_time": "2022-01-23T11:21:39.187Z"
   },
   {
    "duration": 49,
    "start_time": "2022-01-23T11:21:39.339Z"
   },
   {
    "duration": 32,
    "start_time": "2022-01-23T11:21:39.392Z"
   },
   {
    "duration": 13,
    "start_time": "2022-01-23T11:21:39.427Z"
   },
   {
    "duration": 70,
    "start_time": "2022-01-23T11:21:39.442Z"
   },
   {
    "duration": 74,
    "start_time": "2022-01-23T11:21:39.514Z"
   },
   {
    "duration": 285,
    "start_time": "2022-01-23T11:21:39.590Z"
   },
   {
    "duration": 99,
    "start_time": "2022-01-23T11:21:39.878Z"
   },
   {
    "duration": 15,
    "start_time": "2022-01-23T11:21:39.979Z"
   },
   {
    "duration": 75,
    "start_time": "2022-01-23T11:21:39.997Z"
   },
   {
    "duration": 5,
    "start_time": "2022-01-23T11:21:40.075Z"
   },
   {
    "duration": 744,
    "start_time": "2022-01-23T11:21:40.082Z"
   },
   {
    "duration": -75,
    "start_time": "2022-01-23T11:21:40.904Z"
   },
   {
    "duration": -76,
    "start_time": "2022-01-23T11:21:40.906Z"
   },
   {
    "duration": -76,
    "start_time": "2022-01-23T11:21:40.908Z"
   },
   {
    "duration": -75,
    "start_time": "2022-01-23T11:21:40.909Z"
   },
   {
    "duration": -75,
    "start_time": "2022-01-23T11:21:40.910Z"
   },
   {
    "duration": 4,
    "start_time": "2022-01-23T11:21:52.596Z"
   },
   {
    "duration": 564,
    "start_time": "2022-01-23T11:21:53.038Z"
   },
   {
    "duration": 554,
    "start_time": "2022-01-23T11:22:23.191Z"
   },
   {
    "duration": 283,
    "start_time": "2022-01-23T11:39:54.966Z"
   },
   {
    "duration": 1555,
    "start_time": "2022-01-23T11:40:04.039Z"
   },
   {
    "duration": 554,
    "start_time": "2022-01-23T11:40:05.597Z"
   },
   {
    "duration": 3493,
    "start_time": "2022-01-23T11:40:06.154Z"
   },
   {
    "duration": 27,
    "start_time": "2022-01-23T11:40:09.649Z"
   },
   {
    "duration": 23,
    "start_time": "2022-01-23T11:40:09.679Z"
   },
   {
    "duration": 170,
    "start_time": "2022-01-23T11:40:09.705Z"
   },
   {
    "duration": 47,
    "start_time": "2022-01-23T11:40:09.878Z"
   },
   {
    "duration": 56,
    "start_time": "2022-01-23T11:40:09.930Z"
   },
   {
    "duration": 13,
    "start_time": "2022-01-23T11:40:09.990Z"
   },
   {
    "duration": 87,
    "start_time": "2022-01-23T11:40:10.006Z"
   },
   {
    "duration": 74,
    "start_time": "2022-01-23T11:40:10.096Z"
   },
   {
    "duration": 299,
    "start_time": "2022-01-23T11:40:10.173Z"
   },
   {
    "duration": 101,
    "start_time": "2022-01-23T11:40:10.475Z"
   },
   {
    "duration": 19,
    "start_time": "2022-01-23T11:40:10.578Z"
   },
   {
    "duration": 8,
    "start_time": "2022-01-23T11:40:10.600Z"
   },
   {
    "duration": 63,
    "start_time": "2022-01-23T11:40:10.610Z"
   },
   {
    "duration": 667,
    "start_time": "2022-01-23T11:40:10.675Z"
   },
   {
    "duration": -81,
    "start_time": "2022-01-23T11:40:11.426Z"
   },
   {
    "duration": -81,
    "start_time": "2022-01-23T11:40:11.428Z"
   },
   {
    "duration": -80,
    "start_time": "2022-01-23T11:40:11.429Z"
   },
   {
    "duration": -79,
    "start_time": "2022-01-23T11:40:11.430Z"
   },
   {
    "duration": -79,
    "start_time": "2022-01-23T11:40:11.431Z"
   },
   {
    "duration": 716,
    "start_time": "2022-01-23T11:40:14.200Z"
   },
   {
    "duration": 273,
    "start_time": "2022-01-23T11:40:15.335Z"
   },
   {
    "duration": 268,
    "start_time": "2022-01-23T11:40:16.528Z"
   },
   {
    "duration": 4,
    "start_time": "2022-01-23T11:40:33.032Z"
   },
   {
    "duration": 540,
    "start_time": "2022-01-23T11:40:33.912Z"
   },
   {
    "duration": 550,
    "start_time": "2022-01-23T11:40:36.496Z"
   },
   {
    "duration": 955,
    "start_time": "2022-01-23T11:40:38.313Z"
   },
   {
    "duration": -51,
    "start_time": "2022-01-23T11:40:39.322Z"
   },
   {
    "duration": 337,
    "start_time": "2022-01-23T11:40:39.696Z"
   },
   {
    "duration": 301,
    "start_time": "2022-01-23T11:40:42.616Z"
   },
   {
    "duration": 265,
    "start_time": "2022-01-23T11:40:59.048Z"
   },
   {
    "duration": 5,
    "start_time": "2022-01-23T11:42:04.344Z"
   },
   {
    "duration": 556,
    "start_time": "2022-01-23T11:42:05.280Z"
   },
   {
    "duration": 4,
    "start_time": "2022-01-23T11:42:25.472Z"
   },
   {
    "duration": 282,
    "start_time": "2022-01-23T11:42:31.887Z"
   },
   {
    "duration": 6,
    "start_time": "2022-01-23T11:42:44.807Z"
   },
   {
    "duration": 318,
    "start_time": "2022-01-23T11:42:45.752Z"
   },
   {
    "duration": 7,
    "start_time": "2022-01-23T11:43:00.999Z"
   },
   {
    "duration": 6,
    "start_time": "2022-01-23T11:43:13.023Z"
   },
   {
    "duration": 8,
    "start_time": "2022-01-23T11:43:13.502Z"
   },
   {
    "duration": 1073,
    "start_time": "2022-01-23T11:43:49.966Z"
   },
   {
    "duration": 6,
    "start_time": "2022-01-23T11:44:55.959Z"
   },
   {
    "duration": 650,
    "start_time": "2022-01-23T11:44:57.415Z"
   },
   {
    "duration": 5,
    "start_time": "2022-01-23T11:45:00.094Z"
   },
   {
    "duration": 7,
    "start_time": "2022-01-23T11:45:02.086Z"
   },
   {
    "duration": 7,
    "start_time": "2022-01-23T11:46:42.998Z"
   },
   {
    "duration": 8,
    "start_time": "2022-01-23T11:47:15.230Z"
   },
   {
    "duration": 273,
    "start_time": "2022-01-23T11:47:35.310Z"
   },
   {
    "duration": 6,
    "start_time": "2022-01-23T11:47:49.845Z"
   },
   {
    "duration": 7,
    "start_time": "2022-01-23T11:47:50.101Z"
   },
   {
    "duration": 9,
    "start_time": "2022-01-23T11:49:15.173Z"
   },
   {
    "duration": 6,
    "start_time": "2022-01-23T11:53:42.043Z"
   },
   {
    "duration": 8,
    "start_time": "2022-01-23T11:53:43.659Z"
   },
   {
    "duration": 16,
    "start_time": "2022-01-23T11:54:42.962Z"
   },
   {
    "duration": 7,
    "start_time": "2022-01-23T11:54:54.875Z"
   },
   {
    "duration": 4,
    "start_time": "2022-01-23T11:56:07.906Z"
   },
   {
    "duration": 513,
    "start_time": "2022-01-23T11:56:22.922Z"
   },
   {
    "duration": 304,
    "start_time": "2022-01-23T12:01:14.920Z"
   },
   {
    "duration": 4,
    "start_time": "2022-01-23T12:01:31.536Z"
   },
   {
    "duration": 533,
    "start_time": "2022-01-23T12:01:32.216Z"
   },
   {
    "duration": 332,
    "start_time": "2022-01-23T12:01:35.440Z"
   },
   {
    "duration": 281,
    "start_time": "2022-01-23T12:03:57.695Z"
   },
   {
    "duration": 5,
    "start_time": "2022-01-23T12:03:59.568Z"
   },
   {
    "duration": 8,
    "start_time": "2022-01-23T12:04:00.215Z"
   },
   {
    "duration": 5,
    "start_time": "2022-01-23T12:04:22.016Z"
   },
   {
    "duration": 6,
    "start_time": "2022-01-23T12:05:00.175Z"
   },
   {
    "duration": 6,
    "start_time": "2022-01-23T12:05:03.815Z"
   },
   {
    "duration": 8,
    "start_time": "2022-01-23T12:05:04.375Z"
   },
   {
    "duration": 4,
    "start_time": "2022-01-23T12:05:06.736Z"
   },
   {
    "duration": 5,
    "start_time": "2022-01-23T12:05:33.982Z"
   },
   {
    "duration": 546,
    "start_time": "2022-01-23T12:05:35.598Z"
   },
   {
    "duration": 272,
    "start_time": "2022-01-23T12:10:42.292Z"
   },
   {
    "duration": 6,
    "start_time": "2022-01-23T12:10:59.934Z"
   },
   {
    "duration": 5,
    "start_time": "2022-01-23T12:11:01.580Z"
   },
   {
    "duration": 6,
    "start_time": "2022-01-23T12:11:03.484Z"
   },
   {
    "duration": 7,
    "start_time": "2022-01-23T12:11:03.901Z"
   },
   {
    "duration": 10,
    "start_time": "2022-01-23T12:11:05.244Z"
   },
   {
    "duration": 7,
    "start_time": "2022-01-23T12:12:05.044Z"
   },
   {
    "duration": 8,
    "start_time": "2022-01-23T12:12:07.948Z"
   },
   {
    "duration": 4,
    "start_time": "2022-01-23T12:13:17.620Z"
   },
   {
    "duration": 538,
    "start_time": "2022-01-23T12:13:18.139Z"
   },
   {
    "duration": 7,
    "start_time": "2022-01-23T12:14:14.219Z"
   },
   {
    "duration": 5,
    "start_time": "2022-01-23T12:14:15.380Z"
   },
   {
    "duration": 6,
    "start_time": "2022-01-23T12:15:22.354Z"
   },
   {
    "duration": 7,
    "start_time": "2022-01-23T12:15:22.690Z"
   },
   {
    "duration": 4,
    "start_time": "2022-01-23T12:17:12.098Z"
   },
   {
    "duration": 4041,
    "start_time": "2022-01-23T12:17:12.377Z"
   },
   {
    "duration": 12,
    "start_time": "2022-01-23T12:19:05.017Z"
   },
   {
    "duration": 3950,
    "start_time": "2022-01-23T12:19:31.768Z"
   },
   {
    "duration": 7,
    "start_time": "2022-01-23T12:19:36.448Z"
   },
   {
    "duration": 4,
    "start_time": "2022-01-23T12:29:24.565Z"
   },
   {
    "duration": 8718,
    "start_time": "2022-01-23T12:29:24.956Z"
   },
   {
    "duration": 8,
    "start_time": "2022-01-23T12:29:33.677Z"
   },
   {
    "duration": 4,
    "start_time": "2022-01-23T12:29:39.837Z"
   },
   {
    "duration": 3931,
    "start_time": "2022-01-23T12:29:40.276Z"
   },
   {
    "duration": 7,
    "start_time": "2022-01-23T12:29:44.209Z"
   },
   {
    "duration": 12,
    "start_time": "2022-01-23T12:30:18.254Z"
   },
   {
    "duration": 19,
    "start_time": "2022-01-23T12:30:27.203Z"
   },
   {
    "duration": 14,
    "start_time": "2022-01-23T12:30:29.868Z"
   },
   {
    "duration": 12,
    "start_time": "2022-01-23T12:30:50.261Z"
   },
   {
    "duration": 6,
    "start_time": "2022-01-23T12:31:19.148Z"
   },
   {
    "duration": 3772,
    "start_time": "2022-01-23T12:31:36.165Z"
   },
   {
    "duration": 12,
    "start_time": "2022-01-23T12:31:43.219Z"
   },
   {
    "duration": 7,
    "start_time": "2022-01-23T12:33:39.635Z"
   },
   {
    "duration": 5,
    "start_time": "2022-01-23T12:38:28.594Z"
   },
   {
    "duration": 6,
    "start_time": "2022-01-23T12:38:31.658Z"
   },
   {
    "duration": 4,
    "start_time": "2022-01-23T12:39:25.377Z"
   },
   {
    "duration": 9190,
    "start_time": "2022-01-23T12:39:25.720Z"
   },
   {
    "duration": 6,
    "start_time": "2022-01-23T12:39:34.912Z"
   },
   {
    "duration": 4,
    "start_time": "2022-01-23T12:39:43.009Z"
   },
   {
    "duration": 3875,
    "start_time": "2022-01-23T12:39:43.465Z"
   },
   {
    "duration": 7,
    "start_time": "2022-01-23T12:39:47.342Z"
   },
   {
    "duration": 3989,
    "start_time": "2022-01-23T12:41:33.505Z"
   },
   {
    "duration": 9,
    "start_time": "2022-01-23T12:46:58.118Z"
   },
   {
    "duration": 3869,
    "start_time": "2022-01-23T12:47:17.053Z"
   },
   {
    "duration": 7,
    "start_time": "2022-01-23T12:47:21.901Z"
   },
   {
    "duration": 5,
    "start_time": "2022-01-23T12:49:46.196Z"
   },
   {
    "duration": 3984,
    "start_time": "2022-01-23T12:49:48.812Z"
   },
   {
    "duration": 7,
    "start_time": "2022-01-23T12:49:54.355Z"
   },
   {
    "duration": 8,
    "start_time": "2022-01-23T12:51:09.236Z"
   },
   {
    "duration": 11,
    "start_time": "2022-01-23T12:55:20.203Z"
   },
   {
    "duration": 88,
    "start_time": "2022-01-23T12:55:49.915Z"
   },
   {
    "duration": 10,
    "start_time": "2022-01-23T12:55:54.002Z"
   },
   {
    "duration": 3992,
    "start_time": "2022-01-23T12:56:03.642Z"
   },
   {
    "duration": 8,
    "start_time": "2022-01-23T13:02:42.262Z"
   },
   {
    "duration": 5,
    "start_time": "2022-01-23T13:12:07.228Z"
   },
   {
    "duration": 3902,
    "start_time": "2022-01-23T13:12:08.141Z"
   },
   {
    "duration": 7,
    "start_time": "2022-01-23T13:12:13.859Z"
   },
   {
    "duration": 3858,
    "start_time": "2022-01-23T13:23:23.440Z"
   },
   {
    "duration": 3894,
    "start_time": "2022-01-23T13:26:40.894Z"
   },
   {
    "duration": 3914,
    "start_time": "2022-01-23T13:27:21.583Z"
   },
   {
    "duration": 3983,
    "start_time": "2022-01-23T13:27:28.998Z"
   },
   {
    "duration": 4284,
    "start_time": "2022-01-23T13:28:49.302Z"
   },
   {
    "duration": 273,
    "start_time": "2022-01-23T14:04:58.952Z"
   },
   {
    "duration": 4372,
    "start_time": "2022-01-23T14:15:47.417Z"
   },
   {
    "duration": 6234,
    "start_time": "2022-01-23T14:16:15.889Z"
   },
   {
    "duration": 2074,
    "start_time": "2022-01-23T14:16:52.932Z"
   },
   {
    "duration": 656,
    "start_time": "2022-01-23T14:16:55.009Z"
   },
   {
    "duration": 3339,
    "start_time": "2022-01-23T14:16:55.670Z"
   },
   {
    "duration": 23,
    "start_time": "2022-01-23T14:16:59.012Z"
   },
   {
    "duration": 34,
    "start_time": "2022-01-23T14:16:59.037Z"
   },
   {
    "duration": 145,
    "start_time": "2022-01-23T14:16:59.073Z"
   },
   {
    "duration": 54,
    "start_time": "2022-01-23T14:16:59.221Z"
   },
   {
    "duration": 31,
    "start_time": "2022-01-23T14:16:59.277Z"
   },
   {
    "duration": 13,
    "start_time": "2022-01-23T14:16:59.312Z"
   },
   {
    "duration": 81,
    "start_time": "2022-01-23T14:16:59.327Z"
   },
   {
    "duration": 62,
    "start_time": "2022-01-23T14:16:59.411Z"
   },
   {
    "duration": 200,
    "start_time": "2022-01-23T14:16:59.475Z"
   },
   {
    "duration": 99,
    "start_time": "2022-01-23T14:16:59.678Z"
   },
   {
    "duration": 108,
    "start_time": "2022-01-23T14:16:59.779Z"
   },
   {
    "duration": 6,
    "start_time": "2022-01-23T14:16:59.890Z"
   },
   {
    "duration": 7,
    "start_time": "2022-01-23T14:16:59.898Z"
   },
   {
    "duration": 4413,
    "start_time": "2022-01-23T14:16:59.907Z"
   },
   {
    "duration": -126,
    "start_time": "2022-01-23T14:17:04.448Z"
   },
   {
    "duration": -133,
    "start_time": "2022-01-23T14:17:04.457Z"
   },
   {
    "duration": 4256,
    "start_time": "2022-01-23T14:17:57.528Z"
   },
   {
    "duration": 4248,
    "start_time": "2022-01-23T14:18:06.559Z"
   },
   {
    "duration": 4078,
    "start_time": "2022-01-23T14:18:14.112Z"
   },
   {
    "duration": 3943,
    "start_time": "2022-01-23T14:18:40.536Z"
   },
   {
    "duration": 1245,
    "start_time": "2022-01-24T10:12:56.627Z"
   },
   {
    "duration": 661,
    "start_time": "2022-01-24T10:12:57.875Z"
   },
   {
    "duration": 3308,
    "start_time": "2022-01-24T10:12:58.540Z"
   },
   {
    "duration": 23,
    "start_time": "2022-01-24T10:13:01.851Z"
   },
   {
    "duration": 34,
    "start_time": "2022-01-24T10:13:01.877Z"
   },
   {
    "duration": 134,
    "start_time": "2022-01-24T10:13:01.914Z"
   },
   {
    "duration": 38,
    "start_time": "2022-01-24T10:13:02.050Z"
   },
   {
    "duration": 37,
    "start_time": "2022-01-24T10:13:02.091Z"
   },
   {
    "duration": 11,
    "start_time": "2022-01-24T10:13:02.131Z"
   },
   {
    "duration": 70,
    "start_time": "2022-01-24T10:13:02.145Z"
   },
   {
    "duration": 57,
    "start_time": "2022-01-24T10:13:02.218Z"
   },
   {
    "duration": 139,
    "start_time": "2022-01-24T10:13:02.278Z"
   },
   {
    "duration": 203,
    "start_time": "2022-01-24T10:13:02.419Z"
   },
   {
    "duration": 48,
    "start_time": "2022-01-24T10:13:02.624Z"
   },
   {
    "duration": 8,
    "start_time": "2022-01-24T10:13:02.675Z"
   },
   {
    "duration": 4,
    "start_time": "2022-01-24T10:13:04.910Z"
   },
   {
    "duration": 911,
    "start_time": "2022-01-24T10:13:06.765Z"
   },
   {
    "duration": 2639,
    "start_time": "2022-01-24T10:13:25.893Z"
   },
   {
    "duration": 6,
    "start_time": "2022-01-24T10:15:55.565Z"
   },
   {
    "duration": 290,
    "start_time": "2022-01-24T10:16:03.292Z"
   },
   {
    "duration": 222,
    "start_time": "2022-01-24T10:16:08.317Z"
   },
   {
    "duration": 260,
    "start_time": "2022-01-24T10:18:01.979Z"
   },
   {
    "duration": 209,
    "start_time": "2022-01-24T10:18:05.748Z"
   },
   {
    "duration": 448,
    "start_time": "2022-01-24T10:18:10.695Z"
   },
   {
    "duration": 2795,
    "start_time": "2022-01-24T10:39:36.267Z"
   },
   {
    "duration": 2848,
    "start_time": "2022-01-24T10:40:45.467Z"
   },
   {
    "duration": 2738,
    "start_time": "2022-01-24T10:44:46.008Z"
   },
   {
    "duration": 13,
    "start_time": "2022-01-24T10:45:05.001Z"
   },
   {
    "duration": 291,
    "start_time": "2022-01-24T10:45:15.769Z"
   },
   {
    "duration": 206,
    "start_time": "2022-01-24T10:45:54.185Z"
   },
   {
    "duration": 613,
    "start_time": "2022-01-24T10:46:21.241Z"
   },
   {
    "duration": 3315,
    "start_time": "2022-01-24T10:46:59.512Z"
   },
   {
    "duration": 2592,
    "start_time": "2022-01-24T10:47:34.721Z"
   },
   {
    "duration": 2781,
    "start_time": "2022-01-24T10:48:28.487Z"
   },
   {
    "duration": 2590,
    "start_time": "2022-01-24T10:49:08.247Z"
   },
   {
    "duration": 5,
    "start_time": "2022-01-24T10:58:11.195Z"
   },
   {
    "duration": 249,
    "start_time": "2022-01-24T10:58:29.011Z"
   },
   {
    "duration": 267,
    "start_time": "2022-01-24T10:58:34.611Z"
   },
   {
    "duration": 319,
    "start_time": "2022-01-24T10:58:36.723Z"
   },
   {
    "duration": 5,
    "start_time": "2022-01-24T10:58:39.179Z"
   },
   {
    "duration": 2910,
    "start_time": "2022-01-24T11:32:40.316Z"
   },
   {
    "duration": 2903,
    "start_time": "2022-01-24T11:32:56.797Z"
   },
   {
    "duration": 2800,
    "start_time": "2022-01-24T11:35:05.669Z"
   },
   {
    "duration": 2855,
    "start_time": "2022-01-24T11:35:22.900Z"
   },
   {
    "duration": 2855,
    "start_time": "2022-01-24T11:36:30.052Z"
   },
   {
    "duration": 3107,
    "start_time": "2022-01-24T11:43:12.272Z"
   },
   {
    "duration": 475,
    "start_time": "2022-01-24T11:43:39.490Z"
   },
   {
    "duration": 2900,
    "start_time": "2022-01-24T11:43:44.873Z"
   },
   {
    "duration": 2923,
    "start_time": "2022-01-24T11:44:03.650Z"
   },
   {
    "duration": 86,
    "start_time": "2022-01-24T11:51:33.095Z"
   },
   {
    "duration": 152,
    "start_time": "2022-01-24T11:51:39.456Z"
   },
   {
    "duration": 85,
    "start_time": "2022-01-24T11:52:28.936Z"
   },
   {
    "duration": 110,
    "start_time": "2022-01-24T11:53:05.072Z"
   },
   {
    "duration": 96,
    "start_time": "2022-01-24T11:53:21.000Z"
   },
   {
    "duration": 90,
    "start_time": "2022-01-24T11:53:26.577Z"
   },
   {
    "duration": 2821,
    "start_time": "2022-01-24T11:54:14.496Z"
   },
   {
    "duration": 4399,
    "start_time": "2022-01-24T11:54:53.312Z"
   },
   {
    "duration": 4332,
    "start_time": "2022-01-24T11:55:05.375Z"
   },
   {
    "duration": 4275,
    "start_time": "2022-01-24T11:56:45.990Z"
   },
   {
    "duration": 2996,
    "start_time": "2022-01-24T11:57:06.702Z"
   },
   {
    "duration": 582,
    "start_time": "2022-01-24T11:57:18.766Z"
   },
   {
    "duration": 3108,
    "start_time": "2022-01-24T11:57:27.229Z"
   },
   {
    "duration": 3107,
    "start_time": "2022-01-24T11:58:43.925Z"
   },
   {
    "duration": 2802,
    "start_time": "2022-01-24T11:59:14.292Z"
   },
   {
    "duration": 2762,
    "start_time": "2022-01-24T11:59:55.270Z"
   },
   {
    "duration": 2874,
    "start_time": "2022-01-24T12:00:19.472Z"
   },
   {
    "duration": 2959,
    "start_time": "2022-01-24T12:01:37.305Z"
   },
   {
    "duration": 2982,
    "start_time": "2022-01-24T12:05:17.776Z"
   },
   {
    "duration": 2863,
    "start_time": "2022-01-24T12:11:31.286Z"
   },
   {
    "duration": 2960,
    "start_time": "2022-01-24T12:11:51.055Z"
   },
   {
    "duration": 2742,
    "start_time": "2022-01-24T12:12:06.485Z"
   },
   {
    "duration": 2773,
    "start_time": "2022-01-24T12:12:14.565Z"
   },
   {
    "duration": 3289,
    "start_time": "2022-01-24T12:12:22.622Z"
   },
   {
    "duration": 4698,
    "start_time": "2022-01-24T12:13:03.774Z"
   },
   {
    "duration": 4415,
    "start_time": "2022-01-24T12:13:34.165Z"
   },
   {
    "duration": 2869,
    "start_time": "2022-01-24T12:13:48.309Z"
   },
   {
    "duration": 2782,
    "start_time": "2022-01-24T12:13:54.645Z"
   },
   {
    "duration": 4555,
    "start_time": "2022-01-24T12:15:10.621Z"
   },
   {
    "duration": 2781,
    "start_time": "2022-01-24T12:15:53.517Z"
   },
   {
    "duration": 2794,
    "start_time": "2022-01-24T12:18:58.754Z"
   },
   {
    "duration": 2894,
    "start_time": "2022-01-24T12:22:04.562Z"
   },
   {
    "duration": 2781,
    "start_time": "2022-01-24T12:22:13.312Z"
   },
   {
    "duration": 3011,
    "start_time": "2022-01-24T12:23:53.778Z"
   },
   {
    "duration": 4622,
    "start_time": "2022-01-24T12:24:02.777Z"
   },
   {
    "duration": 4321,
    "start_time": "2022-01-24T12:28:26.766Z"
   },
   {
    "duration": 2892,
    "start_time": "2022-01-24T12:28:48.039Z"
   },
   {
    "duration": 4814,
    "start_time": "2022-01-24T12:28:56.623Z"
   },
   {
    "duration": 4567,
    "start_time": "2022-01-24T12:29:13.335Z"
   },
   {
    "duration": 3034,
    "start_time": "2022-01-24T12:31:49.285Z"
   },
   {
    "duration": 4641,
    "start_time": "2022-01-24T12:32:05.422Z"
   },
   {
    "duration": 3024,
    "start_time": "2022-01-24T12:32:31.862Z"
   },
   {
    "duration": 2862,
    "start_time": "2022-01-24T12:34:33.028Z"
   },
   {
    "duration": 2982,
    "start_time": "2022-01-24T12:34:49.100Z"
   },
   {
    "duration": 2903,
    "start_time": "2022-01-24T12:42:08.912Z"
   },
   {
    "duration": 2867,
    "start_time": "2022-01-24T12:43:47.487Z"
   },
   {
    "duration": 3237,
    "start_time": "2022-01-24T15:06:00.089Z"
   },
   {
    "duration": 2945,
    "start_time": "2022-01-24T15:06:04.499Z"
   },
   {
    "duration": 2876,
    "start_time": "2022-01-24T15:06:40.411Z"
   },
   {
    "duration": 2949,
    "start_time": "2022-01-24T15:06:55.635Z"
   },
   {
    "duration": 2891,
    "start_time": "2022-01-24T15:07:23.482Z"
   },
   {
    "duration": 1347,
    "start_time": "2022-01-24T15:07:43.932Z"
   },
   {
    "duration": 438,
    "start_time": "2022-01-24T15:07:45.281Z"
   },
   {
    "duration": 2889,
    "start_time": "2022-01-24T15:07:45.722Z"
   },
   {
    "duration": 25,
    "start_time": "2022-01-24T15:07:48.614Z"
   },
   {
    "duration": 19,
    "start_time": "2022-01-24T15:07:48.641Z"
   },
   {
    "duration": 141,
    "start_time": "2022-01-24T15:07:48.662Z"
   },
   {
    "duration": 55,
    "start_time": "2022-01-24T15:07:48.808Z"
   },
   {
    "duration": 65,
    "start_time": "2022-01-24T15:07:48.867Z"
   },
   {
    "duration": 11,
    "start_time": "2022-01-24T15:07:48.934Z"
   },
   {
    "duration": 81,
    "start_time": "2022-01-24T15:07:48.951Z"
   },
   {
    "duration": 46,
    "start_time": "2022-01-24T15:07:49.034Z"
   },
   {
    "duration": 143,
    "start_time": "2022-01-24T15:07:49.081Z"
   },
   {
    "duration": 95,
    "start_time": "2022-01-24T15:07:49.312Z"
   },
   {
    "duration": 25,
    "start_time": "2022-01-24T15:07:49.410Z"
   },
   {
    "duration": 7,
    "start_time": "2022-01-24T15:07:49.437Z"
   },
   {
    "duration": 10,
    "start_time": "2022-01-24T15:07:49.447Z"
   },
   {
    "duration": 3766,
    "start_time": "2022-01-24T15:07:49.460Z"
   },
   {
    "duration": 3071,
    "start_time": "2022-01-24T15:07:53.229Z"
   },
   {
    "duration": 3045,
    "start_time": "2022-01-24T15:07:56.301Z"
   },
   {
    "duration": 5,
    "start_time": "2022-01-24T15:13:21.061Z"
   },
   {
    "duration": 2849,
    "start_time": "2022-01-24T15:22:05.168Z"
   },
   {
    "duration": 2660,
    "start_time": "2022-01-24T15:22:43.994Z"
   },
   {
    "duration": 3,
    "start_time": "2022-01-24T15:22:59.465Z"
   },
   {
    "duration": 6,
    "start_time": "2022-01-24T15:23:16.576Z"
   },
   {
    "duration": 6,
    "start_time": "2022-01-24T15:24:34.253Z"
   },
   {
    "duration": 8,
    "start_time": "2022-01-24T15:24:56.728Z"
   },
   {
    "duration": 2601,
    "start_time": "2022-01-24T15:25:43.657Z"
   },
   {
    "duration": 2689,
    "start_time": "2022-01-24T15:26:45.168Z"
   },
   {
    "duration": 2766,
    "start_time": "2022-01-24T15:27:38.295Z"
   },
   {
    "duration": 1180,
    "start_time": "2022-01-25T12:41:35.310Z"
   },
   {
    "duration": 4279,
    "start_time": "2022-01-25T12:41:36.491Z"
   },
   {
    "duration": 2885,
    "start_time": "2022-01-25T12:41:40.772Z"
   },
   {
    "duration": 17,
    "start_time": "2022-01-25T12:41:43.659Z"
   },
   {
    "duration": 19,
    "start_time": "2022-01-25T12:41:43.678Z"
   },
   {
    "duration": 108,
    "start_time": "2022-01-25T12:41:43.698Z"
   },
   {
    "duration": 35,
    "start_time": "2022-01-25T12:41:43.808Z"
   },
   {
    "duration": 34,
    "start_time": "2022-01-25T12:41:43.846Z"
   },
   {
    "duration": 9,
    "start_time": "2022-01-25T12:41:43.882Z"
   },
   {
    "duration": 30,
    "start_time": "2022-01-25T12:41:50.441Z"
   },
   {
    "duration": 3,
    "start_time": "2022-01-25T12:42:46.953Z"
   },
   {
    "duration": 105,
    "start_time": "2022-01-25T12:44:14.818Z"
   },
   {
    "duration": 3,
    "start_time": "2022-01-25T12:45:35.273Z"
   },
   {
    "duration": 108,
    "start_time": "2022-01-25T12:45:36.344Z"
   },
   {
    "duration": 1640,
    "start_time": "2022-01-25T12:46:05.336Z"
   },
   {
    "duration": 4,
    "start_time": "2022-01-25T12:46:21.257Z"
   },
   {
    "duration": 863,
    "start_time": "2022-01-25T12:46:21.591Z"
   },
   {
    "duration": 347,
    "start_time": "2022-01-25T12:46:44.616Z"
   },
   {
    "duration": 4,
    "start_time": "2022-01-25T12:47:56.961Z"
   },
   {
    "duration": 761,
    "start_time": "2022-01-25T12:47:57.671Z"
   },
   {
    "duration": 1184,
    "start_time": "2022-01-25T12:48:07.101Z"
   },
   {
    "duration": 348,
    "start_time": "2022-01-25T12:48:08.287Z"
   },
   {
    "duration": 2613,
    "start_time": "2022-01-25T12:48:08.637Z"
   },
   {
    "duration": 18,
    "start_time": "2022-01-25T12:48:11.251Z"
   },
   {
    "duration": 18,
    "start_time": "2022-01-25T12:48:11.270Z"
   },
   {
    "duration": 92,
    "start_time": "2022-01-25T12:48:11.290Z"
   },
   {
    "duration": 29,
    "start_time": "2022-01-25T12:48:11.384Z"
   },
   {
    "duration": 32,
    "start_time": "2022-01-25T12:48:11.417Z"
   },
   {
    "duration": 8,
    "start_time": "2022-01-25T12:48:11.451Z"
   },
   {
    "duration": 8,
    "start_time": "2022-01-25T12:48:11.461Z"
   },
   {
    "duration": 24,
    "start_time": "2022-01-25T12:48:11.470Z"
   },
   {
    "duration": 110,
    "start_time": "2022-01-25T12:48:46.342Z"
   },
   {
    "duration": 3,
    "start_time": "2022-01-25T12:48:53.879Z"
   },
   {
    "duration": 19,
    "start_time": "2022-01-25T12:48:54.961Z"
   },
   {
    "duration": 112,
    "start_time": "2022-01-25T12:49:28.663Z"
   },
   {
    "duration": 3,
    "start_time": "2022-01-25T12:49:35.375Z"
   },
   {
    "duration": 4,
    "start_time": "2022-01-25T12:49:47.550Z"
   },
   {
    "duration": 18,
    "start_time": "2022-01-25T12:49:48.006Z"
   },
   {
    "duration": 42,
    "start_time": "2022-01-25T12:50:22.883Z"
   },
   {
    "duration": 3,
    "start_time": "2022-01-25T13:02:58.377Z"
   },
   {
    "duration": 11,
    "start_time": "2022-01-25T13:03:04.489Z"
   },
   {
    "duration": 36,
    "start_time": "2022-01-25T13:03:15.873Z"
   },
   {
    "duration": 8,
    "start_time": "2022-01-25T13:03:24.752Z"
   },
   {
    "duration": 3,
    "start_time": "2022-01-25T13:04:29.788Z"
   },
   {
    "duration": 16,
    "start_time": "2022-01-25T13:05:00.702Z"
   },
   {
    "duration": 28,
    "start_time": "2022-01-25T13:05:25.128Z"
   },
   {
    "duration": 5,
    "start_time": "2022-01-25T13:29:01.937Z"
   },
   {
    "duration": 68,
    "start_time": "2022-01-25T13:29:04.776Z"
   },
   {
    "duration": 11,
    "start_time": "2022-01-25T13:29:26.134Z"
   },
   {
    "duration": 39,
    "start_time": "2022-01-25T13:30:17.312Z"
   },
   {
    "duration": 110,
    "start_time": "2022-01-25T15:45:17.642Z"
   },
   {
    "duration": 5,
    "start_time": "2022-01-25T15:45:36.681Z"
   },
   {
    "duration": 403,
    "start_time": "2022-01-25T15:46:05.458Z"
   },
   {
    "duration": 4,
    "start_time": "2022-01-25T15:46:15.881Z"
   },
   {
    "duration": 341,
    "start_time": "2022-01-25T15:46:15.887Z"
   },
   {
    "duration": 2750,
    "start_time": "2022-01-25T15:46:16.230Z"
   },
   {
    "duration": 15,
    "start_time": "2022-01-25T15:46:18.982Z"
   },
   {
    "duration": 27,
    "start_time": "2022-01-25T15:46:18.999Z"
   },
   {
    "duration": 91,
    "start_time": "2022-01-25T15:46:19.028Z"
   },
   {
    "duration": 41,
    "start_time": "2022-01-25T15:46:19.121Z"
   },
   {
    "duration": 22,
    "start_time": "2022-01-25T15:46:19.164Z"
   },
   {
    "duration": 9,
    "start_time": "2022-01-25T15:46:19.187Z"
   },
   {
    "duration": 54,
    "start_time": "2022-01-25T15:46:19.198Z"
   },
   {
    "duration": 33,
    "start_time": "2022-01-25T15:46:19.254Z"
   },
   {
    "duration": 142,
    "start_time": "2022-01-25T15:46:19.289Z"
   },
   {
    "duration": 14,
    "start_time": "2022-01-25T15:46:19.433Z"
   },
   {
    "duration": 121,
    "start_time": "2022-01-25T15:46:19.528Z"
   },
   {
    "duration": 7,
    "start_time": "2022-01-25T15:46:19.651Z"
   },
   {
    "duration": 4,
    "start_time": "2022-01-25T15:46:19.660Z"
   },
   {
    "duration": 3128,
    "start_time": "2022-01-25T15:46:19.666Z"
   },
   {
    "duration": 5,
    "start_time": "2022-01-25T15:46:22.796Z"
   },
   {
    "duration": 6,
    "start_time": "2022-01-25T15:46:29.464Z"
   },
   {
    "duration": 656,
    "start_time": "2022-01-25T15:46:30.296Z"
   },
   {
    "duration": 5,
    "start_time": "2022-01-25T15:47:02.865Z"
   },
   {
    "duration": 5,
    "start_time": "2022-01-25T15:47:15.153Z"
   },
   {
    "duration": 2248,
    "start_time": "2022-01-25T15:47:16.041Z"
   },
   {
    "duration": 2341,
    "start_time": "2022-01-25T15:48:00.567Z"
   },
   {
    "duration": 2247,
    "start_time": "2022-01-25T15:48:24.535Z"
   },
   {
    "duration": 4,
    "start_time": "2022-01-25T15:55:50.420Z"
   },
   {
    "duration": 18,
    "start_time": "2022-01-25T15:56:03.381Z"
   },
   {
    "duration": 3,
    "start_time": "2022-01-25T15:56:27.980Z"
   },
   {
    "duration": 846,
    "start_time": "2022-01-25T15:56:31.404Z"
   },
   {
    "duration": 3,
    "start_time": "2022-01-25T15:56:38.356Z"
   },
   {
    "duration": 13,
    "start_time": "2022-01-25T15:56:39.844Z"
   },
   {
    "duration": 4,
    "start_time": "2022-01-25T15:57:02.371Z"
   },
   {
    "duration": 13,
    "start_time": "2022-01-25T15:57:02.947Z"
   },
   {
    "duration": 5,
    "start_time": "2022-01-25T15:57:20.052Z"
   },
   {
    "duration": 15,
    "start_time": "2022-01-25T15:57:20.467Z"
   },
   {
    "duration": 3,
    "start_time": "2022-01-25T15:57:45.556Z"
   },
   {
    "duration": 39,
    "start_time": "2022-01-25T15:57:45.812Z"
   },
   {
    "duration": 119,
    "start_time": "2022-01-25T15:58:02.324Z"
   },
   {
    "duration": 3,
    "start_time": "2022-01-25T15:58:37.141Z"
   },
   {
    "duration": 674,
    "start_time": "2022-01-25T15:58:37.595Z"
   },
   {
    "duration": 313,
    "start_time": "2022-01-25T15:59:33.443Z"
   },
   {
    "duration": 5,
    "start_time": "2022-01-25T15:59:35.283Z"
   },
   {
    "duration": 299,
    "start_time": "2022-01-25T15:59:35.540Z"
   },
   {
    "duration": 3,
    "start_time": "2022-01-25T16:01:15.637Z"
   },
   {
    "duration": 720,
    "start_time": "2022-01-25T16:01:16.059Z"
   },
   {
    "duration": 4,
    "start_time": "2022-01-25T16:01:25.474Z"
   },
   {
    "duration": 4,
    "start_time": "2022-01-25T16:01:55.010Z"
   },
   {
    "duration": 86,
    "start_time": "2022-01-25T16:01:55.250Z"
   },
   {
    "duration": 4,
    "start_time": "2022-01-25T16:02:06.642Z"
   },
   {
    "duration": 120,
    "start_time": "2022-01-25T16:02:06.914Z"
   },
   {
    "duration": 3,
    "start_time": "2022-01-25T16:04:53.178Z"
   },
   {
    "duration": 3,
    "start_time": "2022-01-25T16:05:36.049Z"
   },
   {
    "duration": 5,
    "start_time": "2022-01-25T16:05:49.433Z"
   },
   {
    "duration": 8,
    "start_time": "2022-01-25T16:06:01.057Z"
   },
   {
    "duration": 8,
    "start_time": "2022-01-25T16:06:06.768Z"
   },
   {
    "duration": 4,
    "start_time": "2022-01-25T16:15:06.973Z"
   },
   {
    "duration": 131,
    "start_time": "2022-01-25T16:17:49.820Z"
   },
   {
    "duration": 103,
    "start_time": "2022-01-25T16:20:33.579Z"
   },
   {
    "duration": 4,
    "start_time": "2022-01-25T16:20:51.610Z"
   },
   {
    "duration": 928,
    "start_time": "2022-01-25T16:21:07.580Z"
   },
   {
    "duration": 3,
    "start_time": "2022-01-25T16:21:22.195Z"
   },
   {
    "duration": 698,
    "start_time": "2022-01-25T16:21:22.474Z"
   },
   {
    "duration": 5,
    "start_time": "2022-01-25T16:22:55.738Z"
   },
   {
    "duration": 686,
    "start_time": "2022-01-25T16:22:56.538Z"
   },
   {
    "duration": 4,
    "start_time": "2022-01-25T16:23:06.243Z"
   },
   {
    "duration": 649,
    "start_time": "2022-01-25T16:23:08.074Z"
   },
   {
    "duration": 5,
    "start_time": "2022-01-25T16:23:55.843Z"
   },
   {
    "duration": 658,
    "start_time": "2022-01-25T16:23:56.154Z"
   },
   {
    "duration": 5,
    "start_time": "2022-01-25T16:54:01.998Z"
   },
   {
    "duration": 685,
    "start_time": "2022-01-25T16:54:03.110Z"
   },
   {
    "duration": 329,
    "start_time": "2022-01-25T17:10:49.247Z"
   },
   {
    "duration": 4,
    "start_time": "2022-01-25T17:11:05.503Z"
   },
   {
    "duration": 5,
    "start_time": "2022-01-25T17:11:12.607Z"
   },
   {
    "duration": 4,
    "start_time": "2022-01-25T17:12:01.551Z"
   },
   {
    "duration": 4,
    "start_time": "2022-01-25T17:12:12.454Z"
   },
   {
    "duration": 6,
    "start_time": "2022-01-25T17:12:16.654Z"
   },
   {
    "duration": 5,
    "start_time": "2022-01-25T17:13:35.791Z"
   },
   {
    "duration": 4,
    "start_time": "2022-01-25T17:14:08.655Z"
   },
   {
    "duration": 4,
    "start_time": "2022-01-25T17:14:49.415Z"
   },
   {
    "duration": 7,
    "start_time": "2022-01-25T17:15:13.302Z"
   },
   {
    "duration": 4,
    "start_time": "2022-01-25T17:15:20.574Z"
   },
   {
    "duration": 2577,
    "start_time": "2022-01-25T17:17:09.612Z"
   },
   {
    "duration": 1299,
    "start_time": "2022-01-25T17:36:19.032Z"
   },
   {
    "duration": 337,
    "start_time": "2022-01-25T17:36:20.334Z"
   },
   {
    "duration": 2524,
    "start_time": "2022-01-25T17:36:20.673Z"
   },
   {
    "duration": 15,
    "start_time": "2022-01-25T17:36:23.199Z"
   },
   {
    "duration": 23,
    "start_time": "2022-01-25T17:36:23.215Z"
   },
   {
    "duration": 88,
    "start_time": "2022-01-25T17:36:23.240Z"
   },
   {
    "duration": 33,
    "start_time": "2022-01-25T17:36:23.330Z"
   },
   {
    "duration": 23,
    "start_time": "2022-01-25T17:36:23.364Z"
   },
   {
    "duration": 8,
    "start_time": "2022-01-25T17:36:23.390Z"
   },
   {
    "duration": 63,
    "start_time": "2022-01-25T17:36:23.400Z"
   },
   {
    "duration": 40,
    "start_time": "2022-01-25T17:36:23.465Z"
   },
   {
    "duration": 4,
    "start_time": "2022-01-25T17:36:23.507Z"
   },
   {
    "duration": 200,
    "start_time": "2022-01-25T17:36:23.528Z"
   },
   {
    "duration": 4,
    "start_time": "2022-01-25T17:36:23.730Z"
   },
   {
    "duration": 98,
    "start_time": "2022-01-25T17:36:23.737Z"
   },
   {
    "duration": 807,
    "start_time": "2022-01-25T17:36:23.837Z"
   },
   {
    "duration": 99,
    "start_time": "2022-01-25T17:36:24.546Z"
   },
   {
    "duration": 79,
    "start_time": "2022-01-25T17:36:24.568Z"
   },
   {
    "duration": 76,
    "start_time": "2022-01-25T17:36:24.572Z"
   },
   {
    "duration": 76,
    "start_time": "2022-01-25T17:36:24.573Z"
   },
   {
    "duration": 75,
    "start_time": "2022-01-25T17:36:24.575Z"
   },
   {
    "duration": 75,
    "start_time": "2022-01-25T17:36:24.576Z"
   },
   {
    "duration": 3,
    "start_time": "2022-01-25T17:44:56.626Z"
   },
   {
    "duration": 3,
    "start_time": "2022-01-25T17:45:30.907Z"
   },
   {
    "duration": 9,
    "start_time": "2022-01-25T17:45:50.698Z"
   },
   {
    "duration": 3,
    "start_time": "2022-01-25T17:46:19.082Z"
   },
   {
    "duration": 10,
    "start_time": "2022-01-25T17:46:19.377Z"
   },
   {
    "duration": 3,
    "start_time": "2022-01-25T17:46:44.506Z"
   },
   {
    "duration": 12,
    "start_time": "2022-01-25T17:46:45.257Z"
   },
   {
    "duration": 9,
    "start_time": "2022-01-25T17:47:15.530Z"
   },
   {
    "duration": 37,
    "start_time": "2022-01-25T17:47:35.393Z"
   },
   {
    "duration": 115,
    "start_time": "2022-01-25T17:47:45.714Z"
   },
   {
    "duration": 1147,
    "start_time": "2022-01-25T17:48:01.840Z"
   },
   {
    "duration": 326,
    "start_time": "2022-01-25T17:48:02.989Z"
   },
   {
    "duration": 2336,
    "start_time": "2022-01-25T17:48:03.317Z"
   },
   {
    "duration": 16,
    "start_time": "2022-01-25T17:48:05.655Z"
   },
   {
    "duration": 16,
    "start_time": "2022-01-25T17:48:05.672Z"
   },
   {
    "duration": 96,
    "start_time": "2022-01-25T17:48:05.689Z"
   },
   {
    "duration": 29,
    "start_time": "2022-01-25T17:48:05.787Z"
   },
   {
    "duration": 25,
    "start_time": "2022-01-25T17:48:05.818Z"
   },
   {
    "duration": 7,
    "start_time": "2022-01-25T17:48:05.846Z"
   },
   {
    "duration": 37,
    "start_time": "2022-01-25T17:48:05.855Z"
   },
   {
    "duration": 56,
    "start_time": "2022-01-25T17:48:05.893Z"
   },
   {
    "duration": 3,
    "start_time": "2022-01-25T17:48:05.950Z"
   },
   {
    "duration": 175,
    "start_time": "2022-01-25T17:48:05.955Z"
   },
   {
    "duration": 94,
    "start_time": "2022-01-25T17:48:06.132Z"
   },
   {
    "duration": 12,
    "start_time": "2022-01-25T17:48:06.228Z"
   },
   {
    "duration": 3,
    "start_time": "2022-01-25T17:48:06.326Z"
   },
   {
    "duration": 197,
    "start_time": "2022-01-25T17:48:06.331Z"
   },
   {
    "duration": 5,
    "start_time": "2022-01-25T17:48:06.531Z"
   },
   {
    "duration": 7,
    "start_time": "2022-01-25T17:48:06.627Z"
   },
   {
    "duration": 6,
    "start_time": "2022-01-25T17:48:06.635Z"
   },
   {
    "duration": 2794,
    "start_time": "2022-01-25T17:48:06.643Z"
   },
   {
    "duration": 2405,
    "start_time": "2022-01-25T17:48:09.439Z"
   },
   {
    "duration": 2260,
    "start_time": "2022-01-25T17:48:11.845Z"
   },
   {
    "duration": 8,
    "start_time": "2022-01-26T12:03:35.615Z"
   },
   {
    "duration": 6,
    "start_time": "2022-01-26T12:44:20.449Z"
   },
   {
    "duration": 1226,
    "start_time": "2022-01-26T12:44:27.484Z"
   },
   {
    "duration": 396,
    "start_time": "2022-01-26T12:44:28.712Z"
   },
   {
    "duration": 2417,
    "start_time": "2022-01-26T12:44:29.110Z"
   },
   {
    "duration": 20,
    "start_time": "2022-01-26T12:44:31.529Z"
   },
   {
    "duration": 18,
    "start_time": "2022-01-26T12:44:31.551Z"
   },
   {
    "duration": 126,
    "start_time": "2022-01-26T12:44:31.571Z"
   },
   {
    "duration": 37,
    "start_time": "2022-01-26T12:44:31.699Z"
   },
   {
    "duration": 25,
    "start_time": "2022-01-26T12:44:31.739Z"
   },
   {
    "duration": 11,
    "start_time": "2022-01-26T12:44:31.766Z"
   },
   {
    "duration": 45,
    "start_time": "2022-01-26T12:44:31.798Z"
   },
   {
    "duration": 64,
    "start_time": "2022-01-26T12:44:31.845Z"
   },
   {
    "duration": 4,
    "start_time": "2022-01-26T12:44:31.910Z"
   },
   {
    "duration": 186,
    "start_time": "2022-01-26T12:44:31.916Z"
   },
   {
    "duration": 96,
    "start_time": "2022-01-26T12:44:32.104Z"
   },
   {
    "duration": 140,
    "start_time": "2022-01-26T12:44:32.202Z"
   },
   {
    "duration": 5,
    "start_time": "2022-01-26T12:44:32.345Z"
   },
   {
    "duration": 149,
    "start_time": "2022-01-26T12:44:32.352Z"
   },
   {
    "duration": 99,
    "start_time": "2022-01-26T12:44:32.503Z"
   },
   {
    "duration": 23,
    "start_time": "2022-01-26T12:44:32.604Z"
   },
   {
    "duration": 67,
    "start_time": "2022-01-26T12:44:32.630Z"
   },
   {
    "duration": 2800,
    "start_time": "2022-01-26T12:44:32.699Z"
   },
   {
    "duration": 2637,
    "start_time": "2022-01-26T12:44:35.501Z"
   },
   {
    "duration": 2480,
    "start_time": "2022-01-26T12:44:38.141Z"
   },
   {
    "duration": 437,
    "start_time": "2022-02-14T16:45:43.407Z"
   }
  ],
  "kernelspec": {
   "display_name": "Python 3 (ipykernel)",
   "language": "python",
   "name": "python3"
  },
  "language_info": {
   "codemirror_mode": {
    "name": "ipython",
    "version": 3
   },
   "file_extension": ".py",
   "mimetype": "text/x-python",
   "name": "python",
   "nbconvert_exporter": "python",
   "pygments_lexer": "ipython3",
   "version": "3.9.7"
  },
  "toc": {
   "base_numbering": 1,
   "nav_menu": {},
   "number_sections": true,
   "sideBar": true,
   "skip_h1_title": true,
   "title_cell": "Table of Contents",
   "title_sidebar": "Contents",
   "toc_cell": false,
   "toc_position": {},
   "toc_section_display": true,
   "toc_window_display": false
  }
 },
 "nbformat": 4,
 "nbformat_minor": 2
}
